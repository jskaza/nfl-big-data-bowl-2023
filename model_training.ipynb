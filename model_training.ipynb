{
 "cells": [
  {
   "cell_type": "code",
   "execution_count": 11,
   "metadata": {},
   "outputs": [
    {
     "name": "stdout",
     "output_type": "stream",
     "text": [
      "The tensorboard extension is already loaded. To reload it, use:\n",
      "  %reload_ext tensorboard\n"
     ]
    }
   ],
   "source": [
    "import numpy as np\n",
    "import pandas as pd\n",
    "import tensorflow as tf\n",
    "from tensorflow.keras.preprocessing.sequence import pad_sequences\n",
    "import math\n",
    "%load_ext tensorboard"
   ]
  },
  {
   "cell_type": "code",
   "execution_count": 12,
   "metadata": {},
   "outputs": [
    {
     "data": {
      "text/html": [
       "<div>\n",
       "<style scoped>\n",
       "    .dataframe tbody tr th:only-of-type {\n",
       "        vertical-align: middle;\n",
       "    }\n",
       "\n",
       "    .dataframe tbody tr th {\n",
       "        vertical-align: top;\n",
       "    }\n",
       "\n",
       "    .dataframe thead th {\n",
       "        text-align: right;\n",
       "    }\n",
       "</style>\n",
       "<table border=\"1\" class=\"dataframe\">\n",
       "  <thead>\n",
       "    <tr style=\"text-align: right;\">\n",
       "      <th></th>\n",
       "      <th>nfl_id</th>\n",
       "      <th>opponent_coords</th>\n",
       "      <th>teammate_coords</th>\n",
       "      <th>ball_coords</th>\n",
       "      <th>game_id</th>\n",
       "      <th>play_id</th>\n",
       "      <th>frame_id</th>\n",
       "      <th>coords</th>\n",
       "      <th>pff_position_lined_up</th>\n",
       "      <th>quarter</th>\n",
       "      <th>down</th>\n",
       "      <th>yards_to_go</th>\n",
       "      <th>absolute_yardline_number</th>\n",
       "      <th>personnel_o</th>\n",
       "      <th>defenders_in_box</th>\n",
       "      <th>offense_formation</th>\n",
       "      <th>score_delta</th>\n",
       "    </tr>\n",
       "  </thead>\n",
       "  <tbody>\n",
       "    <tr>\n",
       "      <th>0</th>\n",
       "      <td>41263</td>\n",
       "      <td>[[-2.61, 0.45], [-1.29, 0.15], [0.1, -0.54], [...</td>\n",
       "      <td>[[-1.99, -2.12], [1.26, -1.79], [2.75, -2.14],...</td>\n",
       "      <td>[0, 0]</td>\n",
       "      <td>2021090900</td>\n",
       "      <td>97</td>\n",
       "      <td>6</td>\n",
       "      <td>[-5.03, -1.74]</td>\n",
       "      <td>LEO</td>\n",
       "      <td>1</td>\n",
       "      <td>3</td>\n",
       "      <td>2</td>\n",
       "      <td>43</td>\n",
       "      <td>1 RB, 1 TE, 3 WR</td>\n",
       "      <td>6.0</td>\n",
       "      <td>SHOTGUN</td>\n",
       "      <td>0</td>\n",
       "    </tr>\n",
       "    <tr>\n",
       "      <th>1</th>\n",
       "      <td>42403</td>\n",
       "      <td>[[3, 0.18], [1.73, -0.37], [0.1, -0.54], [-1.2...</td>\n",
       "      <td>[[2.75, -2.14], [1.26, -1.79], [-1.99, -2.12],...</td>\n",
       "      <td>[0, 0]</td>\n",
       "      <td>2021090900</td>\n",
       "      <td>97</td>\n",
       "      <td>6</td>\n",
       "      <td>[8.71, -2.34]</td>\n",
       "      <td>ROLB</td>\n",
       "      <td>1</td>\n",
       "      <td>3</td>\n",
       "      <td>2</td>\n",
       "      <td>43</td>\n",
       "      <td>1 RB, 1 TE, 3 WR</td>\n",
       "      <td>6.0</td>\n",
       "      <td>SHOTGUN</td>\n",
       "      <td>0</td>\n",
       "    </tr>\n",
       "    <tr>\n",
       "      <th>2</th>\n",
       "      <td>44955</td>\n",
       "      <td>[[1.73, -0.37], [0.1, -0.54], [3, 0.18], [-1.2...</td>\n",
       "      <td>[[2.75, -2.14], [-1.99, -2.12], [-5.03, -1.74]...</td>\n",
       "      <td>[0, 0]</td>\n",
       "      <td>2021090900</td>\n",
       "      <td>97</td>\n",
       "      <td>6</td>\n",
       "      <td>[1.26, -1.79]</td>\n",
       "      <td>DRT</td>\n",
       "      <td>1</td>\n",
       "      <td>3</td>\n",
       "      <td>2</td>\n",
       "      <td>43</td>\n",
       "      <td>1 RB, 1 TE, 3 WR</td>\n",
       "      <td>6.0</td>\n",
       "      <td>SHOTGUN</td>\n",
       "      <td>0</td>\n",
       "    </tr>\n",
       "    <tr>\n",
       "      <th>3</th>\n",
       "      <td>53441</td>\n",
       "      <td>[[-1.29, 0.15], [0.1, -0.54], [-2.61, 0.45], [...</td>\n",
       "      <td>[[-5.03, -1.74], [1.26, -1.79], [2.75, -2.14],...</td>\n",
       "      <td>[0, 0]</td>\n",
       "      <td>2021090900</td>\n",
       "      <td>97</td>\n",
       "      <td>6</td>\n",
       "      <td>[-1.99, -2.12]</td>\n",
       "      <td>LILB</td>\n",
       "      <td>1</td>\n",
       "      <td>3</td>\n",
       "      <td>2</td>\n",
       "      <td>43</td>\n",
       "      <td>1 RB, 1 TE, 3 WR</td>\n",
       "      <td>6.0</td>\n",
       "      <td>SHOTGUN</td>\n",
       "      <td>0</td>\n",
       "    </tr>\n",
       "    <tr>\n",
       "      <th>4</th>\n",
       "      <td>53504</td>\n",
       "      <td>[[1.73, -0.37], [3, 0.18], [0.1, -0.54], [-1.2...</td>\n",
       "      <td>[[1.26, -1.79], [-1.99, -2.12], [8.71, -2.34],...</td>\n",
       "      <td>[0, 0]</td>\n",
       "      <td>2021090900</td>\n",
       "      <td>97</td>\n",
       "      <td>6</td>\n",
       "      <td>[2.75, -2.14]</td>\n",
       "      <td>RE</td>\n",
       "      <td>1</td>\n",
       "      <td>3</td>\n",
       "      <td>2</td>\n",
       "      <td>43</td>\n",
       "      <td>1 RB, 1 TE, 3 WR</td>\n",
       "      <td>6.0</td>\n",
       "      <td>SHOTGUN</td>\n",
       "      <td>0</td>\n",
       "    </tr>\n",
       "  </tbody>\n",
       "</table>\n",
       "</div>"
      ],
      "text/plain": [
       "   nfl_id                                    opponent_coords  \\\n",
       "0   41263  [[-2.61, 0.45], [-1.29, 0.15], [0.1, -0.54], [...   \n",
       "1   42403  [[3, 0.18], [1.73, -0.37], [0.1, -0.54], [-1.2...   \n",
       "2   44955  [[1.73, -0.37], [0.1, -0.54], [3, 0.18], [-1.2...   \n",
       "3   53441  [[-1.29, 0.15], [0.1, -0.54], [-2.61, 0.45], [...   \n",
       "4   53504  [[1.73, -0.37], [3, 0.18], [0.1, -0.54], [-1.2...   \n",
       "\n",
       "                                     teammate_coords ball_coords     game_id  \\\n",
       "0  [[-1.99, -2.12], [1.26, -1.79], [2.75, -2.14],...      [0, 0]  2021090900   \n",
       "1  [[2.75, -2.14], [1.26, -1.79], [-1.99, -2.12],...      [0, 0]  2021090900   \n",
       "2  [[2.75, -2.14], [-1.99, -2.12], [-5.03, -1.74]...      [0, 0]  2021090900   \n",
       "3  [[-5.03, -1.74], [1.26, -1.79], [2.75, -2.14],...      [0, 0]  2021090900   \n",
       "4  [[1.26, -1.79], [-1.99, -2.12], [8.71, -2.34],...      [0, 0]  2021090900   \n",
       "\n",
       "   play_id  frame_id          coords pff_position_lined_up  quarter  down  \\\n",
       "0       97         6  [-5.03, -1.74]                   LEO        1     3   \n",
       "1       97         6   [8.71, -2.34]                  ROLB        1     3   \n",
       "2       97         6   [1.26, -1.79]                   DRT        1     3   \n",
       "3       97         6  [-1.99, -2.12]                  LILB        1     3   \n",
       "4       97         6   [2.75, -2.14]                    RE        1     3   \n",
       "\n",
       "   yards_to_go  absolute_yardline_number       personnel_o  defenders_in_box  \\\n",
       "0            2                        43  1 RB, 1 TE, 3 WR               6.0   \n",
       "1            2                        43  1 RB, 1 TE, 3 WR               6.0   \n",
       "2            2                        43  1 RB, 1 TE, 3 WR               6.0   \n",
       "3            2                        43  1 RB, 1 TE, 3 WR               6.0   \n",
       "4            2                        43  1 RB, 1 TE, 3 WR               6.0   \n",
       "\n",
       "  offense_formation  score_delta  \n",
       "0           SHOTGUN            0  \n",
       "1           SHOTGUN            0  \n",
       "2           SHOTGUN            0  \n",
       "3           SHOTGUN            0  \n",
       "4           SHOTGUN            0  "
      ]
     },
     "execution_count": 12,
     "metadata": {},
     "output_type": "execute_result"
    }
   ],
   "source": [
    "# df loaded from google drive\n",
    "df.head()"
   ]
  },
  {
   "cell_type": "code",
   "execution_count": 13,
   "metadata": {},
   "outputs": [],
   "source": [
    "def split_sequence(sequence, n_steps):\n",
    "    X, y = list(), list()\n",
    "    for i in range(len(sequence)):\n",
    "        end_ix = i + n_steps\n",
    "        if end_ix > len(sequence)-1:\n",
    "            break\n",
    "        seq_x, seq_y = sequence[i:end_ix], sequence[end_ix]\n",
    "        X.append([[c[0] for c in seq_x], [c[1] for c in seq_x]])\n",
    "        y.append(seq_y)\n",
    "    return X, y"
   ]
  },
  {
   "cell_type": "code",
   "execution_count": 14,
   "metadata": {},
   "outputs": [],
   "source": [
    "def make_features(df, n_steps):\n",
    "    X, y  = list(), list()\n",
    "    grouped_df = df.groupby([\"nfl_id\",\"game_id\",\"play_id\"])\n",
    "    for group_name, group_df in grouped_df:\n",
    "        coords = group_df[\"coords\"].tolist()\n",
    "        X1, y1 = split_sequence(coords, n_steps)\n",
    "        X += X1\n",
    "        y += y1\n",
    "    return np.array(X), np.array(y)\n",
    "    # return pad_sequences(X, value = -99, dtype= \"float\"), pad_sequences(y, value = -99, dtype= \"float\")\n"
   ]
  },
  {
   "cell_type": "code",
   "execution_count": 15,
   "metadata": {},
   "outputs": [],
   "source": [
    "# the dataset is as follows\n",
    "\n",
    "# each observation is contains an array of length n_steps*2 containing x and y coords from\n",
    "# the previous n_steps and an array of length 2 containing the current x and y coord pair\n",
    "# thus, we are predicting current frame position based in previous n_steps frame. there is no \n",
    "# separation between videos\n",
    "\n",
    "X, y = make_features(df, 5)\n",
    "\n",
    "# train on 50k frames\n",
    "X_train = X[:50000]\n",
    "y_train = y[:50000]\n",
    "\n",
    "# test on 10k frames\n",
    "X_test = X[-10000:]\n",
    "y_test = y[-10000:]"
   ]
  },
  {
   "cell_type": "code",
   "execution_count": 16,
   "metadata": {},
   "outputs": [
    {
     "name": "stderr",
     "output_type": "stream",
     "text": [
      "2022-12-30 17:52:04.360315: I tensorflow/core/platform/cpu_feature_guard.cc:193] This TensorFlow binary is optimized with oneAPI Deep Neural Network Library (oneDNN) to use the following CPU instructions in performance-critical operations:  AVX2 FMA\n",
      "To enable them in other operations, rebuild TensorFlow with the appropriate compiler flags.\n"
     ]
    },
    {
     "data": {
      "text/plain": [
       "<keras.callbacks.History at 0x7fe7d84c2ce0>"
      ]
     },
     "execution_count": 16,
     "metadata": {},
     "output_type": "execute_result"
    }
   ],
   "source": [
    "# set random seed for reproducibility\n",
    "tf.random.set_seed(42)\n",
    "np.random.seed(42)\n",
    "\n",
    "# create the model\n",
    "model = tf.keras.Sequential()\n",
    "# model.add(tf.keras.layers.TimeDistributed(tf.keras.layers.Flatten(), input_shape=(96, 2, 3)))\n",
    "model.add(tf.keras.layers.LSTM(32, input_shape=(2, 5)))\n",
    "model.add(tf.keras.layers.Dense(2))\n",
    "\n",
    "# compile and fit the model\n",
    "model.compile(loss='mean_squared_error', optimizer='adam')\n",
    "model.fit(X_train, y_train, epochs=100, verbose=0)"
   ]
  },
  {
   "cell_type": "code",
   "execution_count": 18,
   "metadata": {},
   "outputs": [
    {
     "name": "stdout",
     "output_type": "stream",
     "text": [
      "313/313 [==============================] - 1s 3ms/step\n",
      "0.037320989691664724\n"
     ]
    }
   ],
   "source": [
    "err = 0\n",
    "for i,j in zip(model.predict(X_test), y_test):\n",
    "    err += math.dist(i,j)\n",
    "print(err/len(y_test)) # avg prediction error (yards)"
   ]
  },
  {
   "cell_type": "code",
   "execution_count": null,
   "metadata": {},
   "outputs": [],
   "source": []
  }
 ],
 "metadata": {
  "kernelspec": {
   "display_name": "Python 3",
   "language": "python",
   "name": "python3"
  },
  "language_info": {
   "codemirror_mode": {
    "name": "ipython",
    "version": 3
   },
   "file_extension": ".py",
   "mimetype": "text/x-python",
   "name": "python",
   "nbconvert_exporter": "python",
   "pygments_lexer": "ipython3",
   "version": "3.10.8"
  },
  "orig_nbformat": 4,
  "vscode": {
   "interpreter": {
    "hash": "84233dc2148a4ba24349c930a847c50600752012508169725523fba31fb5cdf9"
   }
  }
 },
 "nbformat": 4,
 "nbformat_minor": 2
}
