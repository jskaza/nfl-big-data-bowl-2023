{
 "cells": [
  {
   "cell_type": "code",
   "execution_count": 24,
   "metadata": {},
   "outputs": [],
   "source": [
    "import numpy as np\n",
    "import pandas as pd"
   ]
  },
  {
   "cell_type": "code",
   "execution_count": 22,
   "metadata": {},
   "outputs": [],
   "source": [
    "df = pd.read_json(\"data/dataset.json\")"
   ]
  },
  {
   "cell_type": "code",
   "execution_count": 27,
   "metadata": {},
   "outputs": [
    {
     "data": {
      "text/plain": [
       "array([41263,\n",
       "       list([[41.11, 21.31], [41.41, 22.63], [42.1, 24.02], [41.93, 25.65], [41.38, 26.92]]),\n",
       "       list([[43.68, 21.93], [43.35, 25.18], [43.7, 26.67], [43.9, 32.63]]),\n",
       "       list([41.56, 23.92]), 2021090900, 97, 6, 'DAL', 'right',\n",
       "       'ball_snap', list([43.3, 18.89]), 6, 38, 'Pass Rush', 'LEO', 'TB',\n",
       "       1, 3, 2, '13:33:00', 0, 0, 43, '1 RB, 1 TE, 3 WR', 6, 'SHOTGUN'],\n",
       "      dtype=object)"
      ]
     },
     "execution_count": 27,
     "metadata": {},
     "output_type": "execute_result"
    }
   ],
   "source": [
    "df.to_numpy()"
   ]
  },
  {
   "cell_type": "code",
   "execution_count": null,
   "metadata": {},
   "outputs": [],
   "source": []
  }
 ],
 "metadata": {
  "kernelspec": {
   "display_name": "base",
   "language": "python",
   "name": "python3"
  },
  "language_info": {
   "codemirror_mode": {
    "name": "ipython",
    "version": 3
   },
   "file_extension": ".py",
   "mimetype": "text/x-python",
   "name": "python",
   "nbconvert_exporter": "python",
   "pygments_lexer": "ipython3",
   "version": "3.9.7 (default, Sep 16 2021, 08:50:36) \n[Clang 10.0.0 ]"
  },
  "orig_nbformat": 4,
  "vscode": {
   "interpreter": {
    "hash": "c7a8004d9688a684517bf2d503b99a9e5faefbbd88f7acb2e8eb31051888dc30"
   }
  }
 },
 "nbformat": 4,
 "nbformat_minor": 2
}
