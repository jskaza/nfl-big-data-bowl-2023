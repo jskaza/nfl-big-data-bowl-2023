{
  "nbformat": 4,
  "nbformat_minor": 0,
  "metadata": {
    "colab": {
      "provenance": [],
      "authorship_tag": "ABX9TyOsNOXS4W86frMCKZdaIGXq",
      "include_colab_link": true
    },
    "kernelspec": {
      "name": "python3",
      "display_name": "Python 3"
    },
    "language_info": {
      "name": "python"
    }
  },
  "cells": [
    {
      "cell_type": "markdown",
      "metadata": {
        "id": "view-in-github",
        "colab_type": "text"
      },
      "source": [
        "<a href=\"https://colab.research.google.com/github/jskaza/nfl-big-data-bowl-2023/blob/master/paper_outline.ipynb\" target=\"_parent\"><img src=\"https://colab.research.google.com/assets/colab-badge.svg\" alt=\"Open In Colab\"/></a>"
      ]
    },
    {
      "cell_type": "markdown",
      "source": [
        "# **Re**current **P**ressure **P**robabilities (RePP) to Predict Pass Rusher Impact as Plays Develop\n",
        "\n",
        "**Jon Skaza & Matt Guthrie**"
      ],
      "metadata": {
        "id": "VMqxuZ4Fm7dH"
      }
    },
    {
      "cell_type": "markdown",
      "source": [
        "\n",
        "\n",
        "> A quarterback has never completed a pass when he was flat on his back…Great pass coverage is a direct result of a great pass rush, and a great pass rush is simply a relentless desire to get to the QB        \n",
        "\n",
        "\\- Buddy Ryan<sup>1</sup>"
      ],
      "metadata": {
        "id": "tVy9p3XxFcZZ"
      }
    },
    {
      "cell_type": "markdown",
      "source": [
        "## Introduction\n",
        "\n",
        "Aside from Quarterbacks (QB), elite pass rushers–Defensive Ends (DE), Outside Linebackers (OLB), or, simply, Edge Rushers (EDGE)--are arguably the most coveted talents in the NFL. In fact, in each of the last 9 NFL Drafts, the #1 overall pick has either been a QB (6) or a DE (3). If we instead consider the top 2 overall picks during the same timespan, the breakdown is QB (10) DE (6), LT (1), and RB (1)$.^2$ Simply put, NFL teams place a large amount of stock in finding and evaluating pass rush talent.\n",
        "\n",
        "In this project, we introduce an analytical framework, which we coin *Recurrent Pressure Probabilities (RePP)* that we hope can provide more depth to the often-cited count statistics *Sacks (SK)*, *QB Knockdowns (QBKD)*, *QB Hurries (HRRY)*, or when considered jointly, Pressures (PRSS). Specifically, we aim to provide two novel contributions through our approach:\n",
        "\n",
        "1. Near “real-time” probabilities of getting a *PRSS* for each rusher throughout the course of a play\n",
        "\n",
        "2. Identifying large “probability accelerating moments” (PAM)--moments during a player’s pass rush that led to a significant increase in the probability of obtaining a PRSS"
      ],
      "metadata": {
        "id": "Qv7y2-AJolpf"
      }
    },
    {
      "cell_type": "markdown",
      "source": [
        "## Methods\n",
        "\n",
        "Our motivating factor was to leverage the inherently sequential nature of the Next Gen Stats player tracking data to learn behaviors with predictive power with respect to PRSS$.^3$ We present a long short-term memory (LSTM) artificial neural network (ANN) designed to process and learn from sequences of data via feedback connections. To illustrate the power of leveraging the sequences, we compare the LSTM approach to a “naive” logistic regression model that did not account for temporal relations in the data.\n",
        "\n",
        "### Data\n",
        "\n",
        "Using the player tracking data, Pro Football Focus scouting data, and general NFL game information, we create a feature matrix, $X$, with dimensionality $R \\times T \\times P$, where $R$ represents the number of pass rushes in the dataset at the *player-level*, $T$ represents the number of frames observed in the longest play in the data, and $P$ corresponds to the number of predictors$.^4$ Some predictors vary frame-to-frame (e.g., the pass rusher's $x$ and $y$), while others remain constant throughout the course of the play (e.g., $Quarter$). The outcome, $y$, is a boolean vector indicating a *PRSS* on the pass rush for player $i$ on passing play $s$ in game $g$.\n",
        "\n",
        "$$\n",
        "y = \n",
        "\\begin{bmatrix}\n",
        "y_{1,1,1} \\\\\n",
        "y_{1,1,2} \\\\\n",
        "y_{g,s,i} \\\\\n",
        "\\vdots\n",
        "\\end{bmatrix}\n",
        "\\quad\n",
        "X = \n",
        "\\begin{bmatrix}\n",
        "\\begin{bmatrix}\n",
        "x_{1,1,1} & ... & x_{1,1,P} \\\\\n",
        "& \\vdots & \\\\\n",
        "x_{1,T,1} & ... & x_{1,T,P} \\\\\n",
        "\\end{bmatrix} \\\\\n",
        "\\vdots\\\\\n",
        "\\begin{bmatrix}\n",
        "x_{R,1,1} & ... & x_{R,1,P} \\\\\n",
        "& \\vdots & \\\\\n",
        "x_{R,T,1} & ... & x_{R,T,P} \\\\\n",
        "\\end{bmatrix} \\\\\n",
        "\\end{bmatrix}\n",
        "$$\n",
        "\n",
        "Further, we implement two sampling methods on $X$ and $y$. First, we oversample cases of $PRSS = 1$ to create a balanced dataset. Second, we augment the dataset with random sub-sequences from each play. This reflects both objectives described in the introduction; to provide probabilities of a play's outcome at different stages of a play, we want the model to observe partial plays during training.\n",
        "\n",
        "The table below summarizes the *frame-level* features included for each unique individual pass rush.\n",
        "\n",
        "|Feature Category|Features|\n",
        "--------|-----------|\n",
        "| Coordinates | Pass Rusher, LT, LG, C, RG, RT, QB, Ball |\n",
        "| Situational | Quarter, Down, Yards to Go, Absolute Yard Line, Score Difference |\n",
        "| Speed | Pass Rusher, QB |\n",
        "| Derived | Pass Rusher Dist from QB, QB in Tackle Box, # Blockers \n",
        "\n",
        "\n",
        "### \"Naive\" Logistic Regression\n",
        "\n",
        "As mentioned above, we train a logistic regression as a baseline comparison model that does not accunt for temporality. We thus remove a dimension from $X$. $X_{logistic}$ becomes $R \\times (T*P)$.\n",
        "\n",
        "### LSTM\n",
        "\n",
        "The ANN consists of three layers: a masking layer, a LSTM layer, and a dense, fully-connected layer.\n",
        "\n",
        "The masking layer is used to mask values from time steps in plays with a frame count $< T$.\n",
        "\n",
        "As mentioned. the LSTM layer is useful for processing sequential data, as it is able to retain information about past events and use it to inform processing of subsequent events. The LSTM layer in our model has 64 units and an input shape of $T \\times P$.\n",
        "\n",
        "The final layer is a dense, fully-connected layer with 1 unit and a sigmoid activation function. The sigmoid activation function maps the output to a value between 0 and 1, which can be interpreted as a probability.\n",
        "\n",
        "The model was trained on 80% of the dataset using the Adam optimization algorithm. The remaing 20% was used as a holdout set."
      ],
      "metadata": {
        "id": "cGT8uZEelE-s"
      }
    },
    {
      "cell_type": "markdown",
      "source": [
        "\n",
        "## Results\n",
        "\n",
        "As expected, the LSTM, which was able to learn from sequences of player movement, outperformed the \"naive logistic regression model.\n",
        "\n"
      ],
      "metadata": {
        "id": "Monr25cbgMgt"
      }
    },
    {
      "cell_type": "markdown",
      "source": [
        "## Example Usage\n",
        "\n",
        "We can use the trained LSTM network to output Recurrent Pressure Probabilities (RePP) on select plays.\n",
        "\n",
        "\n",
        "Additionally, we can view a specific play in which the probability of a sack jumped almost instaneously."
      ],
      "metadata": {
        "id": "OAFcQm9omMVs"
      }
    },
    {
      "cell_type": "markdown",
      "source": [
        "## Appendix\n",
        "\n",
        "[1] https://profootballtalk.nbcsports.com/2016/06/29/buddy-ryans-philosophy-quarterbacks-must-be-punished/\n",
        "\n",
        "[2] https://www.pro-football-reference.com/draft/\n",
        "\n",
        "[3] https://nextgenstats.nfl.com/\n",
        "\n",
        "[4] https://www.pff.com/\n",
        "\n",
        "\n",
        "*Code is available on [GitHub](https://github.com/jskaza/nfl-big-data-bowl-2023)*"
      ],
      "metadata": {
        "id": "eo0bUeHRe7nv"
      }
    },
    {
      "cell_type": "markdown",
      "source": [
        " \n",
        "https://openaccess.thecvf.com/content/WACV2021/papers/Hauri_Multi-Modal_Trajectory_Prediction_of_NBA_Players_WACV_2021_paper.pdfOur work methods are loosely based \n",
        "Baseline model\n",
        "Logistic w/ first frame, game state\n",
        "Insights from Tracking data\n",
        "LSTM\n",
        "Transformer\n",
        "- Example Use Cases\n",
        " - Simple examples of progressing through a play (the heating up)\n",
        " - Finding \"inflection points\" - moment when probability jumped, skill expression\n",
        " - Animations and/or annotated videos\n",
        "- Discussion\n"
      ],
      "metadata": {
        "id": "JHSJ1C3Ue_3T"
      }
    },
    {
      "cell_type": "markdown",
      "source": [],
      "metadata": {
        "id": "FLJR-U_-pNiG"
      }
    },
    {
      "cell_type": "code",
      "source": [],
      "metadata": {
        "id": "echrJjKspLcj"
      },
      "execution_count": null,
      "outputs": []
    },
    {
      "cell_type": "code",
      "source": [],
      "metadata": {
        "id": "nEAsFPG9lCoT"
      },
      "execution_count": null,
      "outputs": []
    }
  ]
}