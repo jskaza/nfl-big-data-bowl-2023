{
 "cells": [
  {
   "cell_type": "markdown",
   "metadata": {
    "id": "2Ze7qdhqi4Pk"
   },
   "source": [
    "# Using RePP to Predict Pass Rusher Impact as Plays Develop\n",
    "*RePP: **Re**current **P**ressure **P**robabilities*\n",
    "\n",
    "**Jon Skaza & Matt Guthrie**"
   ]
  },
  {
   "cell_type": "code",
   "execution_count": 1,
   "metadata": {
    "id": "7tFSzTpcXK_m",
    "scrolled": true
   },
   "outputs": [
    {
     "name": "stderr",
     "output_type": "stream",
     "text": [
      "2023-01-06 22:19:24.206402: I tensorflow/core/platform/cpu_feature_guard.cc:193] This TensorFlow binary is optimized with oneAPI Deep Neural Network Library (oneDNN) to use the following CPU instructions in performance-critical operations:  AVX2 FMA\n",
      "To enable them in other operations, rebuild TensorFlow with the appropriate compiler flags.\n",
      "2023-01-06 22:19:24.953579: W tensorflow/compiler/xla/stream_executor/platform/default/dso_loader.cc:64] Could not load dynamic library 'libcudart.so.11.0'; dlerror: libcudart.so.11.0: cannot open shared object file: No such file or directory\n",
      "2023-01-06 22:19:24.953654: I tensorflow/compiler/xla/stream_executor/cuda/cudart_stub.cc:29] Ignore above cudart dlerror if you do not have a GPU set up on your machine.\n",
      "2023-01-06 22:19:26.799916: W tensorflow/compiler/xla/stream_executor/platform/default/dso_loader.cc:64] Could not load dynamic library 'libnvinfer.so.7'; dlerror: libnvinfer.so.7: cannot open shared object file: No such file or directory\n",
      "2023-01-06 22:19:26.800116: W tensorflow/compiler/xla/stream_executor/platform/default/dso_loader.cc:64] Could not load dynamic library 'libnvinfer_plugin.so.7'; dlerror: libnvinfer_plugin.so.7: cannot open shared object file: No such file or directory\n",
      "2023-01-06 22:19:26.800135: W tensorflow/compiler/tf2tensorrt/utils/py_utils.cc:38] TF-TRT Warning: Cannot dlopen some TensorRT libraries. If you would like to use Nvidia GPU with TensorRT, please make sure the missing libraries mentioned above are installed properly.\n"
     ]
    }
   ],
   "source": [
    "import os\n",
    "import numpy as np\n",
    "import pandas as pd\n",
    "import tensorflow as tf\n",
    "from sklearn.linear_model import LogisticRegression\n",
    "from sklearn.metrics import roc_auc_score, roc_curve, RocCurveDisplay, precision_recall_curve, PrecisionRecallDisplay\n",
    "from sklearn.model_selection import train_test_split\n",
    "from imblearn.over_sampling import RandomOverSampler\n",
    "import matplotlib.pyplot as plt\n",
    "try:\n",
    "  from google.colab import drive\n",
    "  in_colab = True\n",
    "except:\n",
    "  in_colab = False\n",
    "seed = 314 # for reproducibility, used in various places\n",
    "np.random.seed(seed)"
   ]
  },
  {
   "cell_type": "markdown",
   "metadata": {
    "id": "LWTFl3HYaciz"
   },
   "source": [
    "## Dataset Preprocessing"
   ]
  },
  {
   "cell_type": "code",
   "execution_count": 2,
   "metadata": {
    "colab": {
     "base_uri": "https://localhost:8080/",
     "height": 253
    },
    "id": "Ox-a-y6_XK_r",
    "outputId": "d57dfbee-4d4a-4336-ebbf-710f7ce1d987",
    "scrolled": false
   },
   "outputs": [
    {
     "ename": "FileNotFoundError",
     "evalue": "[Errno 2] No such file or directory: 'None/data/dataset.csv'",
     "output_type": "error",
     "traceback": [
      "\u001b[0;31m---------------------------------------------------------------------------\u001b[0m",
      "\u001b[0;31mFileNotFoundError\u001b[0m                         Traceback (most recent call last)",
      "Cell \u001b[0;32mIn[2], line 7\u001b[0m\n\u001b[1;32m      4\u001b[0m \u001b[38;5;28;01melse\u001b[39;00m:\n\u001b[1;32m      5\u001b[0m   path \u001b[38;5;241m=\u001b[39m os\u001b[38;5;241m.\u001b[39menviron\u001b[38;5;241m.\u001b[39mget(\u001b[38;5;124m\"\u001b[39m\u001b[38;5;124mBIG_DATA_BOWL\u001b[39m\u001b[38;5;124m\"\u001b[39m)\n\u001b[0;32m----> 7\u001b[0m df \u001b[38;5;241m=\u001b[39m \u001b[43mpd\u001b[49m\u001b[38;5;241;43m.\u001b[39;49m\u001b[43mread_csv\u001b[49m\u001b[43m(\u001b[49m\u001b[38;5;124;43mf\u001b[39;49m\u001b[38;5;124;43m\"\u001b[39;49m\u001b[38;5;132;43;01m{\u001b[39;49;00m\u001b[43mpath\u001b[49m\u001b[38;5;132;43;01m}\u001b[39;49;00m\u001b[38;5;124;43m/data/dataset.csv\u001b[39;49m\u001b[38;5;124;43m\"\u001b[39;49m\u001b[43m,\u001b[49m\u001b[43m \u001b[49m\u001b[43mindex_col\u001b[49m\u001b[38;5;241;43m=\u001b[39;49m\u001b[38;5;241;43m0\u001b[39;49m\u001b[43m)\u001b[49m\n\u001b[1;32m      8\u001b[0m df\u001b[38;5;241m.\u001b[39mhead()\n",
      "File \u001b[0;32m~/nfl/env/lib/python3.9/site-packages/pandas/util/_decorators.py:211\u001b[0m, in \u001b[0;36mdeprecate_kwarg.<locals>._deprecate_kwarg.<locals>.wrapper\u001b[0;34m(*args, **kwargs)\u001b[0m\n\u001b[1;32m    209\u001b[0m     \u001b[38;5;28;01melse\u001b[39;00m:\n\u001b[1;32m    210\u001b[0m         kwargs[new_arg_name] \u001b[38;5;241m=\u001b[39m new_arg_value\n\u001b[0;32m--> 211\u001b[0m \u001b[38;5;28;01mreturn\u001b[39;00m \u001b[43mfunc\u001b[49m\u001b[43m(\u001b[49m\u001b[38;5;241;43m*\u001b[39;49m\u001b[43margs\u001b[49m\u001b[43m,\u001b[49m\u001b[43m \u001b[49m\u001b[38;5;241;43m*\u001b[39;49m\u001b[38;5;241;43m*\u001b[39;49m\u001b[43mkwargs\u001b[49m\u001b[43m)\u001b[49m\n",
      "File \u001b[0;32m~/nfl/env/lib/python3.9/site-packages/pandas/util/_decorators.py:331\u001b[0m, in \u001b[0;36mdeprecate_nonkeyword_arguments.<locals>.decorate.<locals>.wrapper\u001b[0;34m(*args, **kwargs)\u001b[0m\n\u001b[1;32m    325\u001b[0m \u001b[38;5;28;01mif\u001b[39;00m \u001b[38;5;28mlen\u001b[39m(args) \u001b[38;5;241m>\u001b[39m num_allow_args:\n\u001b[1;32m    326\u001b[0m     warnings\u001b[38;5;241m.\u001b[39mwarn(\n\u001b[1;32m    327\u001b[0m         msg\u001b[38;5;241m.\u001b[39mformat(arguments\u001b[38;5;241m=\u001b[39m_format_argument_list(allow_args)),\n\u001b[1;32m    328\u001b[0m         \u001b[38;5;167;01mFutureWarning\u001b[39;00m,\n\u001b[1;32m    329\u001b[0m         stacklevel\u001b[38;5;241m=\u001b[39mfind_stack_level(),\n\u001b[1;32m    330\u001b[0m     )\n\u001b[0;32m--> 331\u001b[0m \u001b[38;5;28;01mreturn\u001b[39;00m \u001b[43mfunc\u001b[49m\u001b[43m(\u001b[49m\u001b[38;5;241;43m*\u001b[39;49m\u001b[43margs\u001b[49m\u001b[43m,\u001b[49m\u001b[43m \u001b[49m\u001b[38;5;241;43m*\u001b[39;49m\u001b[38;5;241;43m*\u001b[39;49m\u001b[43mkwargs\u001b[49m\u001b[43m)\u001b[49m\n",
      "File \u001b[0;32m~/nfl/env/lib/python3.9/site-packages/pandas/io/parsers/readers.py:950\u001b[0m, in \u001b[0;36mread_csv\u001b[0;34m(filepath_or_buffer, sep, delimiter, header, names, index_col, usecols, squeeze, prefix, mangle_dupe_cols, dtype, engine, converters, true_values, false_values, skipinitialspace, skiprows, skipfooter, nrows, na_values, keep_default_na, na_filter, verbose, skip_blank_lines, parse_dates, infer_datetime_format, keep_date_col, date_parser, dayfirst, cache_dates, iterator, chunksize, compression, thousands, decimal, lineterminator, quotechar, quoting, doublequote, escapechar, comment, encoding, encoding_errors, dialect, error_bad_lines, warn_bad_lines, on_bad_lines, delim_whitespace, low_memory, memory_map, float_precision, storage_options)\u001b[0m\n\u001b[1;32m    935\u001b[0m kwds_defaults \u001b[38;5;241m=\u001b[39m _refine_defaults_read(\n\u001b[1;32m    936\u001b[0m     dialect,\n\u001b[1;32m    937\u001b[0m     delimiter,\n\u001b[0;32m   (...)\u001b[0m\n\u001b[1;32m    946\u001b[0m     defaults\u001b[38;5;241m=\u001b[39m{\u001b[38;5;124m\"\u001b[39m\u001b[38;5;124mdelimiter\u001b[39m\u001b[38;5;124m\"\u001b[39m: \u001b[38;5;124m\"\u001b[39m\u001b[38;5;124m,\u001b[39m\u001b[38;5;124m\"\u001b[39m},\n\u001b[1;32m    947\u001b[0m )\n\u001b[1;32m    948\u001b[0m kwds\u001b[38;5;241m.\u001b[39mupdate(kwds_defaults)\n\u001b[0;32m--> 950\u001b[0m \u001b[38;5;28;01mreturn\u001b[39;00m \u001b[43m_read\u001b[49m\u001b[43m(\u001b[49m\u001b[43mfilepath_or_buffer\u001b[49m\u001b[43m,\u001b[49m\u001b[43m \u001b[49m\u001b[43mkwds\u001b[49m\u001b[43m)\u001b[49m\n",
      "File \u001b[0;32m~/nfl/env/lib/python3.9/site-packages/pandas/io/parsers/readers.py:605\u001b[0m, in \u001b[0;36m_read\u001b[0;34m(filepath_or_buffer, kwds)\u001b[0m\n\u001b[1;32m    602\u001b[0m _validate_names(kwds\u001b[38;5;241m.\u001b[39mget(\u001b[38;5;124m\"\u001b[39m\u001b[38;5;124mnames\u001b[39m\u001b[38;5;124m\"\u001b[39m, \u001b[38;5;28;01mNone\u001b[39;00m))\n\u001b[1;32m    604\u001b[0m \u001b[38;5;66;03m# Create the parser.\u001b[39;00m\n\u001b[0;32m--> 605\u001b[0m parser \u001b[38;5;241m=\u001b[39m \u001b[43mTextFileReader\u001b[49m\u001b[43m(\u001b[49m\u001b[43mfilepath_or_buffer\u001b[49m\u001b[43m,\u001b[49m\u001b[43m \u001b[49m\u001b[38;5;241;43m*\u001b[39;49m\u001b[38;5;241;43m*\u001b[39;49m\u001b[43mkwds\u001b[49m\u001b[43m)\u001b[49m\n\u001b[1;32m    607\u001b[0m \u001b[38;5;28;01mif\u001b[39;00m chunksize \u001b[38;5;129;01mor\u001b[39;00m iterator:\n\u001b[1;32m    608\u001b[0m     \u001b[38;5;28;01mreturn\u001b[39;00m parser\n",
      "File \u001b[0;32m~/nfl/env/lib/python3.9/site-packages/pandas/io/parsers/readers.py:1442\u001b[0m, in \u001b[0;36mTextFileReader.__init__\u001b[0;34m(self, f, engine, **kwds)\u001b[0m\n\u001b[1;32m   1439\u001b[0m     \u001b[38;5;28mself\u001b[39m\u001b[38;5;241m.\u001b[39moptions[\u001b[38;5;124m\"\u001b[39m\u001b[38;5;124mhas_index_names\u001b[39m\u001b[38;5;124m\"\u001b[39m] \u001b[38;5;241m=\u001b[39m kwds[\u001b[38;5;124m\"\u001b[39m\u001b[38;5;124mhas_index_names\u001b[39m\u001b[38;5;124m\"\u001b[39m]\n\u001b[1;32m   1441\u001b[0m \u001b[38;5;28mself\u001b[39m\u001b[38;5;241m.\u001b[39mhandles: IOHandles \u001b[38;5;241m|\u001b[39m \u001b[38;5;28;01mNone\u001b[39;00m \u001b[38;5;241m=\u001b[39m \u001b[38;5;28;01mNone\u001b[39;00m\n\u001b[0;32m-> 1442\u001b[0m \u001b[38;5;28mself\u001b[39m\u001b[38;5;241m.\u001b[39m_engine \u001b[38;5;241m=\u001b[39m \u001b[38;5;28;43mself\u001b[39;49m\u001b[38;5;241;43m.\u001b[39;49m\u001b[43m_make_engine\u001b[49m\u001b[43m(\u001b[49m\u001b[43mf\u001b[49m\u001b[43m,\u001b[49m\u001b[43m \u001b[49m\u001b[38;5;28;43mself\u001b[39;49m\u001b[38;5;241;43m.\u001b[39;49m\u001b[43mengine\u001b[49m\u001b[43m)\u001b[49m\n",
      "File \u001b[0;32m~/nfl/env/lib/python3.9/site-packages/pandas/io/parsers/readers.py:1735\u001b[0m, in \u001b[0;36mTextFileReader._make_engine\u001b[0;34m(self, f, engine)\u001b[0m\n\u001b[1;32m   1733\u001b[0m     \u001b[38;5;28;01mif\u001b[39;00m \u001b[38;5;124m\"\u001b[39m\u001b[38;5;124mb\u001b[39m\u001b[38;5;124m\"\u001b[39m \u001b[38;5;129;01mnot\u001b[39;00m \u001b[38;5;129;01min\u001b[39;00m mode:\n\u001b[1;32m   1734\u001b[0m         mode \u001b[38;5;241m+\u001b[39m\u001b[38;5;241m=\u001b[39m \u001b[38;5;124m\"\u001b[39m\u001b[38;5;124mb\u001b[39m\u001b[38;5;124m\"\u001b[39m\n\u001b[0;32m-> 1735\u001b[0m \u001b[38;5;28mself\u001b[39m\u001b[38;5;241m.\u001b[39mhandles \u001b[38;5;241m=\u001b[39m \u001b[43mget_handle\u001b[49m\u001b[43m(\u001b[49m\n\u001b[1;32m   1736\u001b[0m \u001b[43m    \u001b[49m\u001b[43mf\u001b[49m\u001b[43m,\u001b[49m\n\u001b[1;32m   1737\u001b[0m \u001b[43m    \u001b[49m\u001b[43mmode\u001b[49m\u001b[43m,\u001b[49m\n\u001b[1;32m   1738\u001b[0m \u001b[43m    \u001b[49m\u001b[43mencoding\u001b[49m\u001b[38;5;241;43m=\u001b[39;49m\u001b[38;5;28;43mself\u001b[39;49m\u001b[38;5;241;43m.\u001b[39;49m\u001b[43moptions\u001b[49m\u001b[38;5;241;43m.\u001b[39;49m\u001b[43mget\u001b[49m\u001b[43m(\u001b[49m\u001b[38;5;124;43m\"\u001b[39;49m\u001b[38;5;124;43mencoding\u001b[39;49m\u001b[38;5;124;43m\"\u001b[39;49m\u001b[43m,\u001b[49m\u001b[43m \u001b[49m\u001b[38;5;28;43;01mNone\u001b[39;49;00m\u001b[43m)\u001b[49m\u001b[43m,\u001b[49m\n\u001b[1;32m   1739\u001b[0m \u001b[43m    \u001b[49m\u001b[43mcompression\u001b[49m\u001b[38;5;241;43m=\u001b[39;49m\u001b[38;5;28;43mself\u001b[39;49m\u001b[38;5;241;43m.\u001b[39;49m\u001b[43moptions\u001b[49m\u001b[38;5;241;43m.\u001b[39;49m\u001b[43mget\u001b[49m\u001b[43m(\u001b[49m\u001b[38;5;124;43m\"\u001b[39;49m\u001b[38;5;124;43mcompression\u001b[39;49m\u001b[38;5;124;43m\"\u001b[39;49m\u001b[43m,\u001b[49m\u001b[43m \u001b[49m\u001b[38;5;28;43;01mNone\u001b[39;49;00m\u001b[43m)\u001b[49m\u001b[43m,\u001b[49m\n\u001b[1;32m   1740\u001b[0m \u001b[43m    \u001b[49m\u001b[43mmemory_map\u001b[49m\u001b[38;5;241;43m=\u001b[39;49m\u001b[38;5;28;43mself\u001b[39;49m\u001b[38;5;241;43m.\u001b[39;49m\u001b[43moptions\u001b[49m\u001b[38;5;241;43m.\u001b[39;49m\u001b[43mget\u001b[49m\u001b[43m(\u001b[49m\u001b[38;5;124;43m\"\u001b[39;49m\u001b[38;5;124;43mmemory_map\u001b[39;49m\u001b[38;5;124;43m\"\u001b[39;49m\u001b[43m,\u001b[49m\u001b[43m \u001b[49m\u001b[38;5;28;43;01mFalse\u001b[39;49;00m\u001b[43m)\u001b[49m\u001b[43m,\u001b[49m\n\u001b[1;32m   1741\u001b[0m \u001b[43m    \u001b[49m\u001b[43mis_text\u001b[49m\u001b[38;5;241;43m=\u001b[39;49m\u001b[43mis_text\u001b[49m\u001b[43m,\u001b[49m\n\u001b[1;32m   1742\u001b[0m \u001b[43m    \u001b[49m\u001b[43merrors\u001b[49m\u001b[38;5;241;43m=\u001b[39;49m\u001b[38;5;28;43mself\u001b[39;49m\u001b[38;5;241;43m.\u001b[39;49m\u001b[43moptions\u001b[49m\u001b[38;5;241;43m.\u001b[39;49m\u001b[43mget\u001b[49m\u001b[43m(\u001b[49m\u001b[38;5;124;43m\"\u001b[39;49m\u001b[38;5;124;43mencoding_errors\u001b[39;49m\u001b[38;5;124;43m\"\u001b[39;49m\u001b[43m,\u001b[49m\u001b[43m \u001b[49m\u001b[38;5;124;43m\"\u001b[39;49m\u001b[38;5;124;43mstrict\u001b[39;49m\u001b[38;5;124;43m\"\u001b[39;49m\u001b[43m)\u001b[49m\u001b[43m,\u001b[49m\n\u001b[1;32m   1743\u001b[0m \u001b[43m    \u001b[49m\u001b[43mstorage_options\u001b[49m\u001b[38;5;241;43m=\u001b[39;49m\u001b[38;5;28;43mself\u001b[39;49m\u001b[38;5;241;43m.\u001b[39;49m\u001b[43moptions\u001b[49m\u001b[38;5;241;43m.\u001b[39;49m\u001b[43mget\u001b[49m\u001b[43m(\u001b[49m\u001b[38;5;124;43m\"\u001b[39;49m\u001b[38;5;124;43mstorage_options\u001b[39;49m\u001b[38;5;124;43m\"\u001b[39;49m\u001b[43m,\u001b[49m\u001b[43m \u001b[49m\u001b[38;5;28;43;01mNone\u001b[39;49;00m\u001b[43m)\u001b[49m\u001b[43m,\u001b[49m\n\u001b[1;32m   1744\u001b[0m \u001b[43m\u001b[49m\u001b[43m)\u001b[49m\n\u001b[1;32m   1745\u001b[0m \u001b[38;5;28;01massert\u001b[39;00m \u001b[38;5;28mself\u001b[39m\u001b[38;5;241m.\u001b[39mhandles \u001b[38;5;129;01mis\u001b[39;00m \u001b[38;5;129;01mnot\u001b[39;00m \u001b[38;5;28;01mNone\u001b[39;00m\n\u001b[1;32m   1746\u001b[0m f \u001b[38;5;241m=\u001b[39m \u001b[38;5;28mself\u001b[39m\u001b[38;5;241m.\u001b[39mhandles\u001b[38;5;241m.\u001b[39mhandle\n",
      "File \u001b[0;32m~/nfl/env/lib/python3.9/site-packages/pandas/io/common.py:856\u001b[0m, in \u001b[0;36mget_handle\u001b[0;34m(path_or_buf, mode, encoding, compression, memory_map, is_text, errors, storage_options)\u001b[0m\n\u001b[1;32m    851\u001b[0m \u001b[38;5;28;01melif\u001b[39;00m \u001b[38;5;28misinstance\u001b[39m(handle, \u001b[38;5;28mstr\u001b[39m):\n\u001b[1;32m    852\u001b[0m     \u001b[38;5;66;03m# Check whether the filename is to be opened in binary mode.\u001b[39;00m\n\u001b[1;32m    853\u001b[0m     \u001b[38;5;66;03m# Binary mode does not support 'encoding' and 'newline'.\u001b[39;00m\n\u001b[1;32m    854\u001b[0m     \u001b[38;5;28;01mif\u001b[39;00m ioargs\u001b[38;5;241m.\u001b[39mencoding \u001b[38;5;129;01mand\u001b[39;00m \u001b[38;5;124m\"\u001b[39m\u001b[38;5;124mb\u001b[39m\u001b[38;5;124m\"\u001b[39m \u001b[38;5;129;01mnot\u001b[39;00m \u001b[38;5;129;01min\u001b[39;00m ioargs\u001b[38;5;241m.\u001b[39mmode:\n\u001b[1;32m    855\u001b[0m         \u001b[38;5;66;03m# Encoding\u001b[39;00m\n\u001b[0;32m--> 856\u001b[0m         handle \u001b[38;5;241m=\u001b[39m \u001b[38;5;28;43mopen\u001b[39;49m\u001b[43m(\u001b[49m\n\u001b[1;32m    857\u001b[0m \u001b[43m            \u001b[49m\u001b[43mhandle\u001b[49m\u001b[43m,\u001b[49m\n\u001b[1;32m    858\u001b[0m \u001b[43m            \u001b[49m\u001b[43mioargs\u001b[49m\u001b[38;5;241;43m.\u001b[39;49m\u001b[43mmode\u001b[49m\u001b[43m,\u001b[49m\n\u001b[1;32m    859\u001b[0m \u001b[43m            \u001b[49m\u001b[43mencoding\u001b[49m\u001b[38;5;241;43m=\u001b[39;49m\u001b[43mioargs\u001b[49m\u001b[38;5;241;43m.\u001b[39;49m\u001b[43mencoding\u001b[49m\u001b[43m,\u001b[49m\n\u001b[1;32m    860\u001b[0m \u001b[43m            \u001b[49m\u001b[43merrors\u001b[49m\u001b[38;5;241;43m=\u001b[39;49m\u001b[43merrors\u001b[49m\u001b[43m,\u001b[49m\n\u001b[1;32m    861\u001b[0m \u001b[43m            \u001b[49m\u001b[43mnewline\u001b[49m\u001b[38;5;241;43m=\u001b[39;49m\u001b[38;5;124;43m\"\u001b[39;49m\u001b[38;5;124;43m\"\u001b[39;49m\u001b[43m,\u001b[49m\n\u001b[1;32m    862\u001b[0m \u001b[43m        \u001b[49m\u001b[43m)\u001b[49m\n\u001b[1;32m    863\u001b[0m     \u001b[38;5;28;01melse\u001b[39;00m:\n\u001b[1;32m    864\u001b[0m         \u001b[38;5;66;03m# Binary mode\u001b[39;00m\n\u001b[1;32m    865\u001b[0m         handle \u001b[38;5;241m=\u001b[39m \u001b[38;5;28mopen\u001b[39m(handle, ioargs\u001b[38;5;241m.\u001b[39mmode)\n",
      "\u001b[0;31mFileNotFoundError\u001b[0m: [Errno 2] No such file or directory: 'None/data/dataset.csv'"
     ]
    }
   ],
   "source": [
    "if in_colab:\n",
    "  drive.mount(\"/content/drive\")\n",
    "  path = \"/content/drive/MyDrive/nfl-big-data-bowl-2023\"\n",
    "else:\n",
    "  path = os.environ.get(\"BIG_DATA_BOWL\")\n",
    "\n",
    "df = pd.read_csv(f\"{path}/data/dataset.csv\", index_col=0)\n",
    "df.head()"
   ]
  },
  {
   "cell_type": "code",
   "execution_count": 3,
   "metadata": {
    "colab": {
     "base_uri": "https://localhost:8080/"
    },
    "id": "oOD27h-Way_5",
    "outputId": "9920f029-88e6-4558-aae3-4aa11807e832"
   },
   "outputs": [
    {
     "name": "stdout",
     "output_type": "stream",
     "text": [
      "<class 'pandas.core.frame.DataFrame'>\n",
      "Int64Index: 1077605 entries, 1 to 1077605\n",
      "Data columns (total 30 columns):\n",
      " #   Column                    Non-Null Count    Dtype  \n",
      "---  ------                    --------------    -----  \n",
      " 0   game_id                   1077605 non-null  int64  \n",
      " 1   play_id                   1077605 non-null  int64  \n",
      " 2   nfl_id                    1077605 non-null  int64  \n",
      " 3   speed                     1077605 non-null  float64\n",
      " 4   pressure                  1077605 non-null  int64  \n",
      " 5   x                         1077605 non-null  float64\n",
      " 6   y                         1077605 non-null  float64\n",
      " 7   dist_from_qb              1077605 non-null  float64\n",
      " 8   qb_in_tackle_box          1077333 non-null  float64\n",
      " 9   n_blockers                1077605 non-null  int64  \n",
      " 10  x_C                       1077605 non-null  float64\n",
      " 11  x_LT                      1077605 non-null  float64\n",
      " 12  x_LG                      1077605 non-null  float64\n",
      " 13  x_RG                      1077605 non-null  float64\n",
      " 14  x_RT                      1077333 non-null  float64\n",
      " 15  y_C                       1077605 non-null  float64\n",
      " 16  y_LT                      1077605 non-null  float64\n",
      " 17  y_LG                      1077605 non-null  float64\n",
      " 18  y_RG                      1077605 non-null  float64\n",
      " 19  y_RT                      1077333 non-null  float64\n",
      " 20  speed_qb                  1077605 non-null  float64\n",
      " 21  x_qb                      1077605 non-null  float64\n",
      " 22  y_qb                      1077605 non-null  float64\n",
      " 23  x_ball                    1077605 non-null  float64\n",
      " 24  y_ball                    1077605 non-null  float64\n",
      " 25  quarter                   1077605 non-null  int64  \n",
      " 26  down                      1077605 non-null  int64  \n",
      " 27  yards_to_go               1077605 non-null  int64  \n",
      " 28  absolute_yardline_number  1077475 non-null  float64\n",
      " 29  score_delta               1077605 non-null  int64  \n",
      "dtypes: float64(21), int64(9)\n",
      "memory usage: 254.9 MB\n"
     ]
    }
   ],
   "source": [
    "# examine missingness, models will need balanced sequences\n",
    "df.info()"
   ]
  },
  {
   "cell_type": "code",
   "execution_count": 4,
   "metadata": {
    "colab": {
     "base_uri": "https://localhost:8080/"
    },
    "id": "X1MdRyUX5g_q",
    "outputId": "152c52fc-5d83-4614-a7af-861703c5c484"
   },
   "outputs": [
    {
     "name": "stdout",
     "output_type": "stream",
     "text": [
      "<class 'pandas.core.frame.DataFrame'>\n",
      "Int64Index: 1077203 entries, 1 to 1077605\n",
      "Data columns (total 30 columns):\n",
      " #   Column                    Non-Null Count    Dtype  \n",
      "---  ------                    --------------    -----  \n",
      " 0   game_id                   1077203 non-null  int64  \n",
      " 1   play_id                   1077203 non-null  int64  \n",
      " 2   nfl_id                    1077203 non-null  int64  \n",
      " 3   speed                     1077203 non-null  float64\n",
      " 4   pressure                  1077203 non-null  int64  \n",
      " 5   x                         1077203 non-null  float64\n",
      " 6   y                         1077203 non-null  float64\n",
      " 7   dist_from_qb              1077203 non-null  float64\n",
      " 8   qb_in_tackle_box          1077203 non-null  float64\n",
      " 9   n_blockers                1077203 non-null  int64  \n",
      " 10  x_C                       1077203 non-null  float64\n",
      " 11  x_LT                      1077203 non-null  float64\n",
      " 12  x_LG                      1077203 non-null  float64\n",
      " 13  x_RG                      1077203 non-null  float64\n",
      " 14  x_RT                      1077203 non-null  float64\n",
      " 15  y_C                       1077203 non-null  float64\n",
      " 16  y_LT                      1077203 non-null  float64\n",
      " 17  y_LG                      1077203 non-null  float64\n",
      " 18  y_RG                      1077203 non-null  float64\n",
      " 19  y_RT                      1077203 non-null  float64\n",
      " 20  speed_qb                  1077203 non-null  float64\n",
      " 21  x_qb                      1077203 non-null  float64\n",
      " 22  y_qb                      1077203 non-null  float64\n",
      " 23  x_ball                    1077203 non-null  float64\n",
      " 24  y_ball                    1077203 non-null  float64\n",
      " 25  quarter                   1077203 non-null  int64  \n",
      " 26  down                      1077203 non-null  int64  \n",
      " 27  yards_to_go               1077203 non-null  int64  \n",
      " 28  absolute_yardline_number  1077203 non-null  float64\n",
      " 29  score_delta               1077203 non-null  int64  \n",
      "dtypes: float64(21), int64(9)\n",
      "memory usage: 254.8 MB\n"
     ]
    }
   ],
   "source": [
    "df.dropna(axis = 0, how = \"any\", inplace = True)\n",
    "df.info()"
   ]
  },
  {
   "cell_type": "code",
   "execution_count": 9,
   "metadata": {
    "id": "v5mAgPj_XK_u"
   },
   "outputs": [],
   "source": [
    "def make_datasets(df: pd.DataFrame, group_by: list, feats: list, outcome: str, sequences: bool, \n",
    "samples: int, test_size: float, oversample = False):\n",
    "\n",
    "  if oversample:\n",
    "    ros = RandomOverSampler(random_state = seed)\n",
    "    X = df[feats + group_by].to_numpy()\n",
    "    y = df[outcome].to_numpy()\n",
    "    X, y = ros.fit_resample(X, y) \n",
    "    y = y.reshape(y.shape[0], 1)\n",
    "    df = pd.DataFrame(np.append(X, y, axis = 1),  columns = feats + group_by + [outcome])\n",
    "\n",
    "  if sequences or samples > 0:\n",
    "    X, y  = [], []\n",
    "    grouped_df = df.groupby(group_by)\n",
    "    for _, group_df in grouped_df:\n",
    "      f = group_df[feats].to_numpy()\n",
    "      if samples > 0:\n",
    "        sub_seq_lens = np.random.randint(0, len(f), samples)\n",
    "        sub_seq = [f[:n] for n in sub_seq_lens]\n",
    "        X += sub_seq\n",
    "      else: # sequences but no sampling\n",
    "        X.append(group_df[feats].to_numpy())\n",
    "      if sequences:\n",
    "        if samples == 0:\n",
    "          y.append(group_df[[outcome]].to_numpy()[0])\n",
    "        else:\n",
    "          for s in range(samples):\n",
    "            y.append(group_df[[outcome]].to_numpy()[0])\n",
    "      else: # no sequences but multiple samples\n",
    "        y.append(np.repeat(group_df[outcome].values[0], sum(sub_seq_lens)))\n",
    "    if sequences:\n",
    "      X = tf.keras.utils.pad_sequences(X, dtype=\"float\", padding=\"pre\", value = -99)\n",
    "      y = np.stack(y)\n",
    "    else: # no sequences but multiple samples\n",
    "      X = np.concatenate(X)\n",
    "      y = np.concatenate(y).ravel()\n",
    "\n",
    "  else:\n",
    "      X = df[feats].to_numpy()\n",
    "      y = df[outcome].to_numpy()\n",
    "    \n",
    "  return train_test_split(X, y, test_size = test_size, random_state = seed) + [outcome]"
   ]
  },
  {
   "cell_type": "code",
   "execution_count": 5,
   "metadata": {
    "id": "B0CzZJnw5g_t"
   },
   "outputs": [],
   "source": [
    "model_metrics = {}\n",
    "def add_metrics(model, outcome_name: str, model_name: str, X_test: np.ndarray, y_test: np.ndarray):\n",
    "    global model_metrics\n",
    "    model_metrics[outcome_name] = {}\n",
    "    y_pred = model.predict(X_test)\n",
    "    if type(model) == LogisticRegression:\n",
    "        y_score = model.decision_function(X_test)\n",
    "        fpr, tpr, _ = roc_curve(y_test, y_score, pos_label = 1)\n",
    "        roc = RocCurveDisplay(fpr = fpr, tpr = tpr)\n",
    "        prec, recall, _ = precision_recall_curve(y_test, y_score, pos_label= 1)\n",
    "        pr = PrecisionRecallDisplay(precision=prec, recall=recall)\n",
    "        auc = roc_auc_score(y_test, y_score)\n",
    "        model_metrics[outcome_name][model_name] = {\"auc\": auc, \"roc_curve\": roc, \"pr_curve\": pr}\n",
    "    else:\n",
    "        evaluation = model.evaluate(X_test, y_test)\n",
    "        auc = evaluation[1]\n",
    "        acc = evaluation[2]\n",
    "        model_metrics[outcome_name][model_name] = {\"auc\": auc, \"acc\": acc}\n",
    "    print(f\"Added metric for model {model_name} with outcome {outcome_name} to the model_metrics dictionary.\")\n",
    "    for k, v in model_metrics[outcome_name][model_name].items():\n",
    "        print(f\"{k}: {v}\")"
   ]
  },
  {
   "cell_type": "code",
   "execution_count": 6,
   "metadata": {
    "id": "_PqOhi_m5g_u"
   },
   "outputs": [],
   "source": [
    "outcome = \"pressure\"\n",
    "group_by = [\"game_id\", \"play_id\", \"nfl_id\"]\n",
    "feats = [x for x in list(df.columns) if x not in group_by + [outcome]]"
   ]
  },
  {
   "cell_type": "markdown",
   "metadata": {
    "id": "w8DI20Ue5g_v"
   },
   "source": [
    "## ReSaP: **Re**current **Sa**ck **P**robabilities"
   ]
  },
  {
   "cell_type": "markdown",
   "metadata": {
    "id": "xFLw3CeFvYJv"
   },
   "source": [
    "### \"Naive\" Logistic Model"
   ]
  },
  {
   "cell_type": "code",
   "execution_count": 7,
   "metadata": {
    "id": "qJbARXxAvVz4"
   },
   "outputs": [],
   "source": [
    "def model_logistic(data: list, max_iter: int):\n",
    "    mod = LogisticRegression(max_iter = max_iter)\n",
    "    mod.fit(data[0], data[2])\n",
    "    add_metrics(mod, data[4], \"logistic\", data[1], data[3])\n",
    "    return mod"
   ]
  },
  {
   "cell_type": "code",
   "execution_count": 10,
   "metadata": {
    "colab": {
     "base_uri": "https://localhost:8080/"
    },
    "id": "iegwCy795g_w",
    "outputId": "a37e98a4-f6f7-453f-c0e6-685c7912b477"
   },
   "outputs": [
    {
     "name": "stdout",
     "output_type": "stream",
     "text": [
      "Added metric for model logistic with outcome pressure to the model_metrics dictionary.\n",
      "auc: 0.706911237074195\n",
      "roc_curve: <sklearn.metrics._plot.roc_curve.RocCurveDisplay object at 0x7fd157b16130>\n",
      "pr_curve: <sklearn.metrics._plot.precision_recall_curve.PrecisionRecallDisplay object at 0x7fd1569cf640>\n"
     ]
    },
    {
     "data": {
      "text/plain": [
       "LogisticRegression(max_iter=1000)"
      ]
     },
     "execution_count": 10,
     "metadata": {},
     "output_type": "execute_result"
    }
   ],
   "source": [
    "data = make_datasets(df, group_by, feats, outcome, sequences = False, samples = 0, test_size = 0.2, oversample = True)\n",
    "model_logistic(data, 1000)"
   ]
  },
  {
   "cell_type": "code",
   "execution_count": 11,
   "metadata": {
    "colab": {
     "base_uri": "https://localhost:8080/"
    },
    "id": "FA7iTbrg5g_x",
    "outputId": "c7c43b3b-0813-4fb4-91fe-cdf91b9f670c"
   },
   "outputs": [
    {
     "name": "stdout",
     "output_type": "stream",
     "text": [
      "Added metric for model logistic with outcome pressure to the model_metrics dictionary.\n",
      "auc: 0.7553722134066272\n",
      "roc_curve: <sklearn.metrics._plot.roc_curve.RocCurveDisplay object at 0x7fd1cb501fd0>\n",
      "pr_curve: <sklearn.metrics._plot.precision_recall_curve.PrecisionRecallDisplay object at 0x7fd160412220>\n"
     ]
    }
   ],
   "source": [
    "data = make_datasets(df, group_by, feats, outcome, sequences = False, samples = 3, test_size = 0.2, oversample = True)\n",
    "log_model = model_logistic(data, 1000)"
   ]
  },
  {
   "cell_type": "markdown",
   "metadata": {
    "id": "0GJrP2FpMl3X"
   },
   "source": [
    "### Probability Overlay animation"
   ]
  },
  {
   "cell_type": "code",
   "execution_count": 27,
   "metadata": {
    "colab": {
     "base_uri": "https://localhost:8080/"
    },
    "id": "xyx8scpS80cS",
    "outputId": "fafd2773-ca46-41de-f35b-1b866fd15109"
   },
   "outputs": [
    {
     "data": {
      "text/plain": [
       "array([[ 0.58,  1.08, -6.1 , ..., 10.  , 38.  ,  0.  ],\n",
       "       [ 0.8 ,  0.99, -6.09, ..., 10.  , 38.  ,  0.  ],\n",
       "       [ 1.16,  0.88, -6.08, ..., 10.  , 38.  ,  0.  ],\n",
       "       ...,\n",
       "       [ 0.31, -4.66,  1.46, ..., 10.  , 38.  ,  0.  ],\n",
       "       [ 0.32, -4.63,  1.44, ..., 10.  , 38.  ,  0.  ],\n",
       "       [ 0.44, -4.62,  1.41, ..., 10.  , 38.  ,  0.  ]])"
      ]
     },
     "execution_count": 27,
     "metadata": {},
     "output_type": "execute_result"
    }
   ],
   "source": [
    "def make_probs(df, model, full_sequences, game_id, play_id, nfl_id):\n",
    "  X, y  = [], []\n",
    "  grouped_df = df[(df[\"game_id\"]==game_id) & (df[\"play_id\"]==play_id) & (df[\"nfl_id\"]==nfl_id)].groupby(group_by)\n",
    "  for _, group_df in grouped_df:\n",
    "    f = group_df[feats].to_numpy()\n",
    "    if full_sequences:\n",
    "      sub_seq = [f[:n] for n in range(len(f))]\n",
    "      X += sub_seq\n",
    "    else:\n",
    "      X = group_df[feats].to_numpy()\n",
    "\n",
    "  return f, model.predict_proba(X)[:,1]\n",
    "\n",
    "watt_rush , watt_probs = make_probs(df, log_model, False, 2021103103, 1984, 44842)\n",
    "watt_rush"
   ]
  },
  {
   "cell_type": "code",
   "execution_count": 32,
   "metadata": {
    "id": "XnqlM5D7MjLS"
   },
   "outputs": [],
   "source": [
    "import matplotlib.pyplot as plt\n",
    "import matplotlib.animation as animation\n",
    "\n",
    "#plt.ioff()\n",
    "\n",
    "# rush comparison animation \n",
    "fig, ax = plt.subplots()\n",
    "ax.set_xlim(-7.5,7.5)\n",
    "ax.set_ylim(-2,10)\n",
    "ax.set_facecolor('g')\n",
    "\n",
    "\n",
    "\n",
    "line, = ax.plot([],[], 'orange')\n",
    "#line2, = ax.plot([],[], 'cyan')\n",
    "los, = ax.plot([],[], 'w', lw=2)\n",
    "\n",
    "\n",
    "def animate(i):\n",
    "    los.set_data([-10, 10], [0, 0])\n",
    "    \n",
    "    line.set_xdata(watt_rush[:i+1,1])\n",
    "    line.set_ydata(watt_rush[:i+1,2])\n",
    "    \n",
    "\n",
    "        \n",
    "ani = animation.FuncAnimation(fig, animate, frames=len(watt_rush))\n",
    "\n",
    "# ani.save('rush_compare.gif',fps=10)\n",
    "# plt.close(fig)"
   ]
  },
  {
   "cell_type": "code",
   "execution_count": null,
   "metadata": {
    "id": "oiXyxxNRMkBJ"
   },
   "outputs": [],
   "source": [
    "from IPython.display import Image\n",
    "Image('rush_compare.gif')"
   ]
  },
  {
   "cell_type": "markdown",
   "metadata": {
    "id": "nti1gLWph2gp"
   },
   "source": [
    "### LSTM"
   ]
  },
  {
   "cell_type": "code",
   "execution_count": null,
   "metadata": {
    "id": "BoNQq5wg5g_x"
   },
   "outputs": [],
   "source": [
    "def model_lstm(data: list, channels: int, num_epochs: int, val: float, folder: str):\n",
    "    tf.random.set_seed(seed)\n",
    "    np.random.seed(seed)\n",
    "    \n",
    "    mod = tf.keras.Sequential()\n",
    "    mod.add(tf.keras.layers.Masking(mask_value= -99., input_shape= data[0].shape[1:]))\n",
    "    mod.add(tf.keras.layers.LSTM(channels, input_shape = data[0].shape[1:]))\n",
    "    mod.add(tf.keras.layers.Dense(data[2].shape[1], activation=\"sigmoid\"))\n",
    "\n",
    "    mod.compile(loss = \"binary_crossentropy\", optimizer=\"adam\",\n",
    "     metrics = [tf.keras.metrics.AUC(), tf.keras.metrics.BinaryAccuracy()])\n",
    "\n",
    "    # callbacks = [tf.keras.callbacks.EarlyStopping(patience = 5, restore_best_weights=True)]\n",
    "\n",
    "    mod.fit(data[0], data[2], epochs = num_epochs, validation_split = val)\n",
    "    mod.save(folder)\n",
    "    add_metrics(mod, data[4], \"lstm\", data[1], data[3])"
   ]
  },
  {
   "cell_type": "code",
   "execution_count": null,
   "metadata": {
    "id": "fGrDXR7b5g_y",
    "outputId": "e21e1ce6-659a-4f7c-e69a-4f07c43aa55d"
   },
   "outputs": [
    {
     "name": "stdout",
     "output_type": "stream",
     "text": [
      "773/773 [==============================] - 331s 421ms/step - loss: 0.3979 - auc_13: 0.6016 - binary_accuracy: 0.8482 - val_loss: 0.2687 - val_auc_13: 0.8760 - val_binary_accuracy: 0.8952\n"
     ]
    },
    {
     "name": "stderr",
     "output_type": "stream",
     "text": [
      "WARNING:absl:Found untraced functions such as _update_step_xla, lstm_cell_14_layer_call_fn, lstm_cell_14_layer_call_and_return_conditional_losses while saving (showing 3 of 3). These functions will not be directly callable after loading.\n"
     ]
    },
    {
     "name": "stdout",
     "output_type": "stream",
     "text": [
      "INFO:tensorflow:Assets written to: full_seq/assets\n"
     ]
    },
    {
     "name": "stderr",
     "output_type": "stream",
     "text": [
      "INFO:tensorflow:Assets written to: full_seq/assets\n"
     ]
    },
    {
     "name": "stdout",
     "output_type": "stream",
     "text": [
      "215/215 [==============================] - 19s 80ms/step\n",
      "215/215 [==============================] - 18s 86ms/step - loss: 0.2796 - auc_13: 0.8706 - binary_accuracy: 0.8892\n",
      "Added metric for model lstm with outcome pressure to the model_metrics dictionary.\n",
      "auc: 0.8706457614898682\n",
      "acc: 0.889212429523468\n"
     ]
    }
   ],
   "source": [
    "data = make_datasets(df, group_by, feats, outcome, sequences = True, samples = 0, test_size = 0.2, oversample = True)\n",
    "model_lstm(data, 64, 20, 0.1, \"full_seq\")"
   ]
  },
  {
   "cell_type": "code",
   "execution_count": null,
   "metadata": {
    "id": "y_OpqeW75g_y"
   },
   "outputs": [],
   "source": [
    "data = make_datasets(df, group_by, feats, outcome, sequences = True, samples = 3, test_size = 0.2, oversample = True)\n",
    "model_lstm(data, 64, 50, 0.1, \"sub_seq\")"
   ]
  },
  {
   "cell_type": "code",
   "execution_count": null,
   "metadata": {
    "id": "mDf8lkyY5g_y"
   },
   "outputs": [],
   "source": [
    "# train on full sequences\n",
    "# test on subsequences\n",
    "# X_train, _, y_train, _, _ = make_datasets(df, group_by, feats, outcome, sequences = True, samples = 0, test_size = 0.2, oversample = True)\n",
    "# _, X_test, _, y_test, _ = make_datasets(df, group_by, feats, outcome, sequences = True, samples = 5, test_size = 0.2, oversample = True)\n",
    "# data = [X_train, tf.keras.utils.pad_sequences(X_test, dtype=\"float\", padding=\"pre\", value = -99, maxlen = 193), X_test, y_train, y_test, \"sensitivity\"]\n",
    "# model_lstm(data, 128, 50, 0.1)"
   ]
  },
  {
   "cell_type": "markdown",
   "metadata": {
    "id": "7_EiKFYE9qgi"
   },
   "source": [
    "### Transformer"
   ]
  },
  {
   "cell_type": "code",
   "execution_count": null,
   "metadata": {
    "id": "YRjBrCEW-8VU"
   },
   "outputs": [],
   "source": [
    "# def transformer_encoder(inputs, head_size, num_heads, ff_dim, dropout=0):\n",
    "#     # Normalization and Attention\n",
    "#     x = tf.keras.layers.LayerNormalization(epsilon=1e-6)(inputs)\n",
    "#     x = tf.keras.layers.MultiHeadAttention(key_dim=head_size, num_heads=num_heads, dropout=dropout)(x, x)\n",
    "#     x = tf.keras.layers.Dropout(dropout)(x)\n",
    "#     res = x + inputs\n",
    "\n",
    "#     # Feed Forward Part\n",
    "#     x = tf.keras.layers.LayerNormalization(epsilon=1e-6)(res)\n",
    "#     x = tf.keras.layers.Conv1D(filters=ff_dim, kernel_size=1, activation=\"relu\")(x)\n",
    "#     x = tf.keras.layers.Dropout(dropout)(x)\n",
    "#     x = tf.keras.layers.Conv1D(filters=inputs.shape[-1], kernel_size=1)(x)\n",
    "#     return x + res"
   ]
  },
  {
   "cell_type": "code",
   "execution_count": null,
   "metadata": {
    "id": "PUmqUehS5g_z"
   },
   "outputs": [],
   "source": [
    "# def build_model(\n",
    "#     input_shape,\n",
    "#     head_size,\n",
    "#     num_heads,\n",
    "#     ff_dim,\n",
    "#     num_transformer_blocks,\n",
    "#     mlp_units,\n",
    "#     lstm_units,\n",
    "#     dropout=0,\n",
    "#     mlp_dropout=0,\n",
    "# ):\n",
    "#     inputs = tf.keras.Input(shape=input_shape)\n",
    "#     x = inputs\n",
    "#     x = tf.keras.layers.Masking(mask_value=-99.,input_shape= input_shape)(x)\n",
    "#     x = tf.keras.layers.LSTM(lstm_units, input_shape = input_shape, return_sequences=True)(x)\n",
    "\n",
    "#     for _ in range(num_transformer_blocks):\n",
    "#         x = transformer_encoder(x, head_size, num_heads, ff_dim, dropout)\n",
    "\n",
    "#     x = tf.keras.layers.GlobalAveragePooling1D(data_format=\"channels_last\")(x)\n",
    "#     x = tf.keras.layers.Dropout(0.1)(x)\n",
    "    \n",
    "#     for dim in mlp_units:\n",
    "#         x = tf.keras.layers.Dense(dim, activation=\"relu\")(x)\n",
    "#         x = tf.keras.layers.Dropout(mlp_dropout)(x)\n",
    "    \n",
    "#     outputs = tf.keras.layers.Dense(y.shape[1], activation=\"sigmoid\")(x)\n",
    "#     return tf.keras.Model(inputs, outputs)"
   ]
  },
  {
   "cell_type": "code",
   "execution_count": null,
   "metadata": {
    "id": "QlRH9juZ5g_0"
   },
   "outputs": [],
   "source": [
    "# outcomes = [\"pff_sack\", \"havoc\"]\n",
    "# datasets = {}\n",
    "# for o in outcomes:\n",
    "#     group_by = [\"game_id\", \"play_id\", \"nfl_id\"]\n",
    "#     outcome = [o]\n",
    "#     feats = [x for x in list(df.columns) if x not in group_by + outcomes]\n",
    "\n",
    "#     X, y = make_features(df, group_by, feats, outcome)\n",
    "\n",
    "#     X_train, X_test, y_train, y_test = train_test_split(X, y, test_size = 0.2, random_state = seed)\n",
    "\n",
    "#     weight_0 = (1 / sum(y_train == [0])) * (len(y_train) / 2.0)\n",
    "#     weight_1 = (1 / sum(y_train == [1])) * (len(y_train) / 2.0)\n",
    "#     class_weight = {0: weight_0, 1: weight_1}\n",
    "\n",
    "#     num_epochs = 1\n",
    "#     val = 0.2 \n",
    "\n",
    "#     datasets[o] = {\"X_train\": X_train, \"X_test\": X_test,\n",
    "#     \"y_train\": y_train, \"y_test\": y_test, \"class_weight\": class_weight,\n",
    "#     \"num_epochs\": num_epochs, \"val\": val}"
   ]
  },
  {
   "cell_type": "code",
   "execution_count": null,
   "metadata": {
    "id": "oPMZSoN05g_0"
   },
   "outputs": [],
   "source": [
    "# for k, v in datasets.items():\n",
    "#     input_shape = v[\"X_train\"].shape[1:]\n",
    "\n",
    "#     model = build_model(\n",
    "#         input_shape,\n",
    "#         head_size=128,\n",
    "#         num_heads=4,\n",
    "#         ff_dim=4,\n",
    "#         num_transformer_blocks=1,\n",
    "#         mlp_units=[128],\n",
    "#         mlp_dropout=0.2,\n",
    "#         dropout=0.25,\n",
    "#         lstm_units=32\n",
    "#     )\n",
    "\n",
    "#     model.compile(\n",
    "#         loss=\"binary_crossentropy\",\n",
    "#         optimizer=\"adam\",\n",
    "#         #optimizer=keras.optimizers.Adam(learning_rate=1e-4),\n",
    "#         metrics = [tf.keras.metrics.AUC()]\n",
    "#     )\n",
    "#     #model.summary()\n",
    "\n",
    "#     callbacks = [tf.keras.callbacks.EarlyStopping(min_delta=0.01, patience=3, restore_best_weights=True)]\n",
    "\n",
    "#     model.fit(\n",
    "#         v[\"X_train\"],\n",
    "#         v[\"y_train\"],\n",
    "#         validation_split=v[\"val\"],\n",
    "#         epochs=v[\"num_epochs\"],\n",
    "#         #batch_size=64,\n",
    "#         callbacks=callbacks,\n",
    "#         class_weight = v[\"class_weight\"]\n",
    "#     )\n",
    "\n",
    "#     model.evaluate(v[\"X_test\"], v[\"y_test\"], verbose=1)"
   ]
  },
  {
   "cell_type": "code",
   "execution_count": null,
   "metadata": {
    "id": "-4bi64w85g_0"
   },
   "outputs": [],
   "source": []
  }
 ],
 "metadata": {
  "colab": {
   "provenance": []
  },
  "kernelspec": {
   "display_name": "Python 3 (ipykernel)",
   "language": "python",
   "name": "python3"
  },
  "language_info": {
   "codemirror_mode": {
    "name": "ipython",
    "version": 3
   },
   "file_extension": ".py",
   "mimetype": "text/x-python",
   "name": "python",
   "nbconvert_exporter": "python",
   "pygments_lexer": "ipython3",
   "version": "3.9.2"
  },
  "vscode": {
   "interpreter": {
    "hash": "b9a60180a99fe344aad77925bd6d1e82a30f5f9b471f9484bc8285d8d7befe73"
   }
  }
 },
 "nbformat": 4,
 "nbformat_minor": 1
}
