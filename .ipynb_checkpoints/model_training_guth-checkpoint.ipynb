{
 "cells": [
  {
   "cell_type": "code",
   "execution_count": 1,
   "metadata": {
    "scrolled": true
   },
   "outputs": [
    {
     "name": "stderr",
     "output_type": "stream",
     "text": [
      "2022-12-31 12:11:22.472759: I tensorflow/core/platform/cpu_feature_guard.cc:193] This TensorFlow binary is optimized with oneAPI Deep Neural Network Library (oneDNN) to use the following CPU instructions in performance-critical operations:  AVX2 FMA\n",
      "To enable them in other operations, rebuild TensorFlow with the appropriate compiler flags.\n",
      "2022-12-31 12:11:22.833101: W tensorflow/compiler/xla/stream_executor/platform/default/dso_loader.cc:64] Could not load dynamic library 'libcudart.so.11.0'; dlerror: libcudart.so.11.0: cannot open shared object file: No such file or directory\n",
      "2022-12-31 12:11:22.833165: I tensorflow/compiler/xla/stream_executor/cuda/cudart_stub.cc:29] Ignore above cudart dlerror if you do not have a GPU set up on your machine.\n",
      "2022-12-31 12:11:25.265850: W tensorflow/compiler/xla/stream_executor/platform/default/dso_loader.cc:64] Could not load dynamic library 'libnvinfer.so.7'; dlerror: libnvinfer.so.7: cannot open shared object file: No such file or directory\n",
      "2022-12-31 12:11:25.266002: W tensorflow/compiler/xla/stream_executor/platform/default/dso_loader.cc:64] Could not load dynamic library 'libnvinfer_plugin.so.7'; dlerror: libnvinfer_plugin.so.7: cannot open shared object file: No such file or directory\n",
      "2022-12-31 12:11:25.266018: W tensorflow/compiler/tf2tensorrt/utils/py_utils.cc:38] TF-TRT Warning: Cannot dlopen some TensorRT libraries. If you would like to use Nvidia GPU with TensorRT, please make sure the missing libraries mentioned above are installed properly.\n"
     ]
    }
   ],
   "source": [
    "import os\n",
    "import numpy as np\n",
    "import matplotlib.pyplot as plt\n",
    "import matplotlib.animation as animation\n",
    "import pandas as pd\n",
    "import tensorflow as tf\n",
    "from tensorflow.keras.preprocessing.sequence import pad_sequences\n",
    "import math\n",
    "%load_ext tensorboard"
   ]
  },
  {
   "cell_type": "code",
   "execution_count": 10,
   "metadata": {
    "scrolled": false
   },
   "outputs": [
    {
     "data": {
      "text/html": [
       "<div>\n",
       "<style scoped>\n",
       "    .dataframe tbody tr th:only-of-type {\n",
       "        vertical-align: middle;\n",
       "    }\n",
       "\n",
       "    .dataframe tbody tr th {\n",
       "        vertical-align: top;\n",
       "    }\n",
       "\n",
       "    .dataframe thead th {\n",
       "        text-align: right;\n",
       "    }\n",
       "</style>\n",
       "<table border=\"1\" class=\"dataframe\">\n",
       "  <thead>\n",
       "    <tr style=\"text-align: right;\">\n",
       "      <th></th>\n",
       "      <th>nfl_id</th>\n",
       "      <th>opponent_coords</th>\n",
       "      <th>teammate_coords</th>\n",
       "      <th>ball_coords</th>\n",
       "      <th>game_id</th>\n",
       "      <th>play_id</th>\n",
       "      <th>frame_id</th>\n",
       "      <th>coords</th>\n",
       "      <th>pff_position_lined_up</th>\n",
       "      <th>quarter</th>\n",
       "      <th>down</th>\n",
       "      <th>yards_to_go</th>\n",
       "      <th>absolute_yardline_number</th>\n",
       "      <th>personnel_o</th>\n",
       "      <th>defenders_in_box</th>\n",
       "      <th>offense_formation</th>\n",
       "      <th>score_delta</th>\n",
       "    </tr>\n",
       "  </thead>\n",
       "  <tbody>\n",
       "    <tr>\n",
       "      <th>0</th>\n",
       "      <td>41263</td>\n",
       "      <td>[[-2.61, 0.45], [-1.29, 0.15], [0.1, -0.54], [...</td>\n",
       "      <td>[[-1.99, -2.12], [1.26, -1.79], [2.75, -2.14],...</td>\n",
       "      <td>[0, 0]</td>\n",
       "      <td>2021090900</td>\n",
       "      <td>97</td>\n",
       "      <td>6</td>\n",
       "      <td>[-5.03, -1.74]</td>\n",
       "      <td>LEO</td>\n",
       "      <td>1</td>\n",
       "      <td>3</td>\n",
       "      <td>2</td>\n",
       "      <td>43</td>\n",
       "      <td>1 RB, 1 TE, 3 WR</td>\n",
       "      <td>6.0</td>\n",
       "      <td>SHOTGUN</td>\n",
       "      <td>0</td>\n",
       "    </tr>\n",
       "    <tr>\n",
       "      <th>1</th>\n",
       "      <td>42403</td>\n",
       "      <td>[[3, 0.18], [1.73, -0.37], [0.1, -0.54], [-1.2...</td>\n",
       "      <td>[[2.75, -2.14], [1.26, -1.79], [-1.99, -2.12],...</td>\n",
       "      <td>[0, 0]</td>\n",
       "      <td>2021090900</td>\n",
       "      <td>97</td>\n",
       "      <td>6</td>\n",
       "      <td>[8.71, -2.34]</td>\n",
       "      <td>ROLB</td>\n",
       "      <td>1</td>\n",
       "      <td>3</td>\n",
       "      <td>2</td>\n",
       "      <td>43</td>\n",
       "      <td>1 RB, 1 TE, 3 WR</td>\n",
       "      <td>6.0</td>\n",
       "      <td>SHOTGUN</td>\n",
       "      <td>0</td>\n",
       "    </tr>\n",
       "    <tr>\n",
       "      <th>2</th>\n",
       "      <td>44955</td>\n",
       "      <td>[[1.73, -0.37], [0.1, -0.54], [3, 0.18], [-1.2...</td>\n",
       "      <td>[[2.75, -2.14], [-1.99, -2.12], [-5.03, -1.74]...</td>\n",
       "      <td>[0, 0]</td>\n",
       "      <td>2021090900</td>\n",
       "      <td>97</td>\n",
       "      <td>6</td>\n",
       "      <td>[1.26, -1.79]</td>\n",
       "      <td>DRT</td>\n",
       "      <td>1</td>\n",
       "      <td>3</td>\n",
       "      <td>2</td>\n",
       "      <td>43</td>\n",
       "      <td>1 RB, 1 TE, 3 WR</td>\n",
       "      <td>6.0</td>\n",
       "      <td>SHOTGUN</td>\n",
       "      <td>0</td>\n",
       "    </tr>\n",
       "    <tr>\n",
       "      <th>3</th>\n",
       "      <td>53441</td>\n",
       "      <td>[[-1.29, 0.15], [0.1, -0.54], [-2.61, 0.45], [...</td>\n",
       "      <td>[[-5.03, -1.74], [1.26, -1.79], [2.75, -2.14],...</td>\n",
       "      <td>[0, 0]</td>\n",
       "      <td>2021090900</td>\n",
       "      <td>97</td>\n",
       "      <td>6</td>\n",
       "      <td>[-1.99, -2.12]</td>\n",
       "      <td>LILB</td>\n",
       "      <td>1</td>\n",
       "      <td>3</td>\n",
       "      <td>2</td>\n",
       "      <td>43</td>\n",
       "      <td>1 RB, 1 TE, 3 WR</td>\n",
       "      <td>6.0</td>\n",
       "      <td>SHOTGUN</td>\n",
       "      <td>0</td>\n",
       "    </tr>\n",
       "    <tr>\n",
       "      <th>4</th>\n",
       "      <td>53504</td>\n",
       "      <td>[[1.73, -0.37], [3, 0.18], [0.1, -0.54], [-1.2...</td>\n",
       "      <td>[[1.26, -1.79], [-1.99, -2.12], [8.71, -2.34],...</td>\n",
       "      <td>[0, 0]</td>\n",
       "      <td>2021090900</td>\n",
       "      <td>97</td>\n",
       "      <td>6</td>\n",
       "      <td>[2.75, -2.14]</td>\n",
       "      <td>RE</td>\n",
       "      <td>1</td>\n",
       "      <td>3</td>\n",
       "      <td>2</td>\n",
       "      <td>43</td>\n",
       "      <td>1 RB, 1 TE, 3 WR</td>\n",
       "      <td>6.0</td>\n",
       "      <td>SHOTGUN</td>\n",
       "      <td>0</td>\n",
       "    </tr>\n",
       "  </tbody>\n",
       "</table>\n",
       "</div>"
      ],
      "text/plain": [
       "   nfl_id                                    opponent_coords  \\\n",
       "0   41263  [[-2.61, 0.45], [-1.29, 0.15], [0.1, -0.54], [...   \n",
       "1   42403  [[3, 0.18], [1.73, -0.37], [0.1, -0.54], [-1.2...   \n",
       "2   44955  [[1.73, -0.37], [0.1, -0.54], [3, 0.18], [-1.2...   \n",
       "3   53441  [[-1.29, 0.15], [0.1, -0.54], [-2.61, 0.45], [...   \n",
       "4   53504  [[1.73, -0.37], [3, 0.18], [0.1, -0.54], [-1.2...   \n",
       "\n",
       "                                     teammate_coords ball_coords     game_id  \\\n",
       "0  [[-1.99, -2.12], [1.26, -1.79], [2.75, -2.14],...      [0, 0]  2021090900   \n",
       "1  [[2.75, -2.14], [1.26, -1.79], [-1.99, -2.12],...      [0, 0]  2021090900   \n",
       "2  [[2.75, -2.14], [-1.99, -2.12], [-5.03, -1.74]...      [0, 0]  2021090900   \n",
       "3  [[-5.03, -1.74], [1.26, -1.79], [2.75, -2.14],...      [0, 0]  2021090900   \n",
       "4  [[1.26, -1.79], [-1.99, -2.12], [8.71, -2.34],...      [0, 0]  2021090900   \n",
       "\n",
       "   play_id  frame_id          coords pff_position_lined_up  quarter  down  \\\n",
       "0       97         6  [-5.03, -1.74]                   LEO        1     3   \n",
       "1       97         6   [8.71, -2.34]                  ROLB        1     3   \n",
       "2       97         6   [1.26, -1.79]                   DRT        1     3   \n",
       "3       97         6  [-1.99, -2.12]                  LILB        1     3   \n",
       "4       97         6   [2.75, -2.14]                    RE        1     3   \n",
       "\n",
       "   yards_to_go  absolute_yardline_number       personnel_o  defenders_in_box  \\\n",
       "0            2                        43  1 RB, 1 TE, 3 WR               6.0   \n",
       "1            2                        43  1 RB, 1 TE, 3 WR               6.0   \n",
       "2            2                        43  1 RB, 1 TE, 3 WR               6.0   \n",
       "3            2                        43  1 RB, 1 TE, 3 WR               6.0   \n",
       "4            2                        43  1 RB, 1 TE, 3 WR               6.0   \n",
       "\n",
       "  offense_formation  score_delta  \n",
       "0           SHOTGUN            0  \n",
       "1           SHOTGUN            0  \n",
       "2           SHOTGUN            0  \n",
       "3           SHOTGUN            0  \n",
       "4           SHOTGUN            0  "
      ]
     },
     "execution_count": 10,
     "metadata": {},
     "output_type": "execute_result"
    }
   ],
   "source": [
    "input_file_name = 'dataset_week1.json'\n",
    "filepath = os.path.join(os.getenv('NFL_DATA'), input_file_name)\n",
    "df = pd.read_json(filepath)\n",
    "df.head()"
   ]
  },
  {
   "cell_type": "code",
   "execution_count": 11,
   "metadata": {
    "scrolled": true
   },
   "outputs": [
    {
     "name": "stdout",
     "output_type": "stream",
     "text": [
      "The data contains 4764 unique 'Rushes' from 430 players over 979 plays (across 16 games). \n",
      "The shortest play has 10 frames and the longest play has 99 frames\n"
     ]
    }
   ],
   "source": [
    "num_games = df[\"game_id\"].nunique()\n",
    "num_plays = df[\"play_id\"].nunique()\n",
    "num_players = df[\"nfl_id\"].nunique()\n",
    "\n",
    "grouped_df = df.groupby([\"nfl_id\",\"game_id\",\"play_id\"])\n",
    "num_playerPlays = grouped_df.ngroups\n",
    "min_frames = min(grouped_df.count()[\"frame_id\"])\n",
    "max_frames = max(grouped_df.count()[\"frame_id\"])\n",
    "print(f\"The data contains {num_playerPlays} unique 'Rushes' from {num_players} players over {num_plays} plays (across {num_games} games). \\nThe shortest play has {min_frames} frames and the longest play has {max_frames} frames\")"
   ]
  },
  {
   "cell_type": "code",
   "execution_count": 12,
   "metadata": {},
   "outputs": [],
   "source": [
    "def split_sequence(sequence, max_frames):\n",
    "    y = np.array(sequence.pop(-1))\n",
    "    X = np.zeros((max_frames - 1,2))\n",
    "    seq_len = len(sequence)\n",
    "    for i in range(seq_len):\n",
    "        X[(max_frames - 1 - seq_len) + i] = sequence[i]\n",
    "    return X, y"
   ]
  },
  {
   "cell_type": "code",
   "execution_count": 13,
   "metadata": {},
   "outputs": [],
   "source": [
    "def make_features(df, max_frames):\n",
    "    X, y  = list(), list()\n",
    "    grouped_df = df.groupby([\"nfl_id\",\"game_id\",\"play_id\"])\n",
    "    for group_name, group_df in grouped_df:\n",
    "        coords = group_df[\"coords\"].tolist()\n",
    "        X1, y1 = split_sequence(coords, max_frames)\n",
    "        X.append(X1)\n",
    "        y.append(y1)\n",
    "\n",
    "    return np.stack(X), np.stack(y)"
   ]
  },
  {
   "cell_type": "code",
   "execution_count": 14,
   "metadata": {},
   "outputs": [],
   "source": [
    "X, y = make_features(df, max_frames)\n",
    "\n",
    "split = 0.8\n",
    "num_train = round(split * X.shape[0])\n",
    "\n",
    "X_train = X[:num_train]\n",
    "y_train = y[:num_train]\n",
    "\n",
    "X_test = X[num_train:]\n",
    "y_test = y[num_train:]"
   ]
  },
  {
   "cell_type": "code",
   "execution_count": 15,
   "metadata": {
    "scrolled": true
   },
   "outputs": [
    {
     "data": {
      "text/plain": [
       "(4764, 98, 2)"
      ]
     },
     "execution_count": 15,
     "metadata": {},
     "output_type": "execute_result"
    }
   ],
   "source": [
    "X.shape"
   ]
  },
  {
   "cell_type": "code",
   "execution_count": 16,
   "metadata": {
    "scrolled": false
   },
   "outputs": [
    {
     "data": {
      "text/plain": [
       "(4764, 2)"
      ]
     },
     "execution_count": 16,
     "metadata": {},
     "output_type": "execute_result"
    }
   ],
   "source": [
    "y.shape"
   ]
  },
  {
   "cell_type": "markdown",
   "metadata": {},
   "source": [
    "The dataset is as follows:\n",
    "\n",
    "`X` is a 3D tensor with shape (`num_rushes`, `max_frame - 1`, 2). In other words, it is a stack of 2D \"rush\" tensors with shape (`max_frame - 1`, 2), where `max_frame` is the max number of frames across all rushes in the data (e.g. 99 frames or 9.9 seconds). The last dimension has a value of 2 because of the x and y coordinates we are tracking. We can add more features in that dimension.\n",
    "\n",
    "The Y matrix is a 2D tensor with shape (`num_rushes`, 2)"
   ]
  },
  {
   "cell_type": "code",
   "execution_count": 17,
   "metadata": {
    "scrolled": false
   },
   "outputs": [
    {
     "name": "stderr",
     "output_type": "stream",
     "text": [
      "2022-12-31 12:43:15.389517: W tensorflow/compiler/xla/stream_executor/platform/default/dso_loader.cc:64] Could not load dynamic library 'libcuda.so.1'; dlerror: libcuda.so.1: cannot open shared object file: No such file or directory\n",
      "2022-12-31 12:43:15.389965: W tensorflow/compiler/xla/stream_executor/cuda/cuda_driver.cc:265] failed call to cuInit: UNKNOWN ERROR (303)\n",
      "2022-12-31 12:43:15.390178: I tensorflow/compiler/xla/stream_executor/cuda/cuda_diagnostics.cc:156] kernel driver does not appear to be running on this host (penguin): /proc/driver/nvidia/version does not exist\n",
      "2022-12-31 12:43:15.407314: I tensorflow/core/platform/cpu_feature_guard.cc:193] This TensorFlow binary is optimized with oneAPI Deep Neural Network Library (oneDNN) to use the following CPU instructions in performance-critical operations:  AVX2 FMA\n",
      "To enable them in other operations, rebuild TensorFlow with the appropriate compiler flags.\n"
     ]
    },
    {
     "data": {
      "text/plain": [
       "<keras.callbacks.History at 0x796a711d03d0>"
      ]
     },
     "execution_count": 17,
     "metadata": {},
     "output_type": "execute_result"
    }
   ],
   "source": [
    "# set random seed for reproducibility\n",
    "tf.random.set_seed(42)\n",
    "np.random.seed(42)\n",
    "NUM_EPOCHS = 10\n",
    "\n",
    "# create the model\n",
    "model = tf.keras.Sequential()\n",
    "# model.add(tf.keras.layers.TimeDistributed(tf.keras.layers.Flatten(), input_shape=(96, 2, 3)))\n",
    "model.add(tf.keras.layers.LSTM(32, input_shape = X.shape[1:]))\n",
    "model.add(tf.keras.layers.Dense(2))\n",
    "\n",
    "# compile and fit the model\n",
    "model.compile(loss='mean_squared_error', optimizer='adam')\n",
    "#model.fit(X_train, y_train, epochs=100, verbose=0)\n",
    "model.fit(X_train, y_train, epochs=NUM_EPOCHS, verbose=0)"
   ]
  },
  {
   "cell_type": "code",
   "execution_count": 18,
   "metadata": {
    "scrolled": true
   },
   "outputs": [
    {
     "name": "stdout",
     "output_type": "stream",
     "text": [
      "30/30 [==============================] - 1s 23ms/step\n",
      "0.23039008398674404\n"
     ]
    }
   ],
   "source": [
    "err = 0\n",
    "for i,j in zip(model.predict(X_test), y_test):\n",
    "    err += math.dist(i,j)\n",
    "print(err/len(y_test)) # avg prediction error (yards)"
   ]
  },
  {
   "cell_type": "code",
   "execution_count": 180,
   "metadata": {},
   "outputs": [
    {
     "name": "stdout",
     "output_type": "stream",
     "text": [
      "1/1 [==============================] - 0s 67ms/step\n"
     ]
    }
   ],
   "source": [
    "#set up real coordinates and predicted coordinates for a single rush\n",
    "rush_num = 5\n",
    "\n",
    "true_rush = np.concatenate((X_train[rush_num],y_train[rush_num].reshape((1,2))), axis=0)\n",
    "true_rush = true_rush[true_rush != [0,0]]\n",
    "true_rush = true_rush.reshape((len(true_rush)//2,2))\n",
    "\n",
    "\n",
    "predict_input = X_train[rush_num]\n",
    "predict_input = predict_input[predict_input != [0,0]]\n",
    "predict_input = predict_input.reshape((len(predict_input)//2,2))\n",
    "\n",
    "predicted_rush = list()\n",
    "for i in range(len(predict_input)):\n",
    "    zeros = np.zeros((max_frames - 1 - (i + 1),2))\n",
    "    rush_subset = predict_input[0:i + 1]\n",
    "    X = np.concatenate((zeros,rush_subset))\n",
    "    predicted_rush.append(X)\n",
    "\n",
    "predicted_rush = model.predict(np.stack(predicted_rush))\n",
    "predicted_rush = np.concatenate((true_rush[0].reshape((1,2)), predicted_rush))\n"
   ]
  },
  {
   "cell_type": "code",
   "execution_count": 181,
   "metadata": {
    "scrolled": true
   },
   "outputs": [
    {
     "name": "stderr",
     "output_type": "stream",
     "text": [
      "MovieWriter ffmpeg unavailable; using Pillow instead.\n"
     ]
    }
   ],
   "source": [
    "plt.ioff()\n",
    "\n",
    "# rush comparison animation \n",
    "fig, ax = plt.subplots()\n",
    "ax.set_xlim(-7.5,7.5)\n",
    "ax.set_ylim(-2,10)\n",
    "ax.set_facecolor('g')\n",
    "\n",
    "\n",
    "\n",
    "line, = ax.plot([],[], 'orange')\n",
    "line2, = ax.plot([],[], 'cyan')\n",
    "los, = ax.plot([],[], 'w', lw=2)\n",
    "\n",
    "\n",
    "def animate(i):\n",
    "    los.set_data([-10, 10], [0, 0])\n",
    "    \n",
    "    line.set_xdata(true_rush[:i+1,0])\n",
    "    line.set_ydata(true_rush[:i+1,1])\n",
    "    \n",
    "    line2.set_xdata(predicted_rush[:i+1,0])\n",
    "    line2.set_ydata(predicted_rush[:i+1,1])\n",
    "        \n",
    "ani = animation.FuncAnimation(fig, animate, frames=len(true_rush))\n",
    "\n",
    "ani.save('rush_compare.gif',fps=10)\n",
    "plt.close(fig)\n"
   ]
  },
  {
   "cell_type": "code",
   "execution_count": 182,
   "metadata": {
    "scrolled": false
   },
   "outputs": [
    {
     "data": {
      "image/gif": "[encoded data removed]",
      "text/plain": [
       "<IPython.core.display.Image object>"
      ]
     },
     "execution_count": 182,
     "metadata": {},
     "output_type": "execute_result"
    }
   ],
   "source": [
    "from IPython.display import Image\n",
    "Image('rush_compare.gif')"
   ]
  },
  {
   "cell_type": "code",
   "execution_count": null,
   "metadata": {},
   "outputs": [],
   "source": []
  }
 ],
 "metadata": {
  "kernelspec": {
   "display_name": "Python 3 (ipykernel)",
   "language": "python",
   "name": "python3"
  },
  "language_info": {
   "codemirror_mode": {
    "name": "ipython",
    "version": 3
   },
   "file_extension": ".py",
   "mimetype": "text/x-python",
   "name": "python",
   "nbconvert_exporter": "python",
   "pygments_lexer": "ipython3",
   "version": "3.9.2"
  },
  "vscode": {
   "interpreter": {
    "hash": "84233dc2148a4ba24349c930a847c50600752012508169725523fba31fb5cdf9"
   }
  }
 },
 "nbformat": 4,
 "nbformat_minor": 2
}
