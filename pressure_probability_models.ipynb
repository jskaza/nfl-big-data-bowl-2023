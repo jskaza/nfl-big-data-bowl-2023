{
  "cells": [
    {
      "cell_type": "markdown",
      "metadata": {
        "id": "view-in-github",
        "colab_type": "text"
      },
      "source": [
        "<a href=\"https://colab.research.google.com/github/jskaza/nfl-big-data-bowl-2023/blob/results-viz/pressure_probability_models.ipynb\" target=\"_parent\"><img src=\"https://colab.research.google.com/assets/colab-badge.svg\" alt=\"Open In Colab\"/></a>"
      ]
    },
    {
      "cell_type": "markdown",
      "metadata": {
        "id": "2Ze7qdhqi4Pk"
      },
      "source": [
        "# Using RePP to Predict Pass Rusher Impact as Plays Develop\n",
        "*RePP: **Re**current **P**ressure **P**robabilities*\n",
        "\n",
        "**Jon Skaza & Matt Guthrie**"
      ]
    },
    {
      "cell_type": "code",
      "execution_count": 1,
      "metadata": {
        "id": "7tFSzTpcXK_m",
        "scrolled": true
      },
      "outputs": [],
      "source": [
        "import os\n",
        "import numpy as np\n",
        "import pandas as pd\n",
        "import tensorflow as tf\n",
        "from sklearn.linear_model import LogisticRegression\n",
        "from sklearn.metrics import roc_auc_score, roc_curve, RocCurveDisplay, precision_recall_curve, PrecisionRecallDisplay\n",
        "from sklearn.model_selection import train_test_split\n",
        "import matplotlib.pyplot as plt\n",
        "import random\n",
        "import pickle\n",
        "seed = 314 # for reproducibility, used in various places\n",
        "np.random.seed(seed)\n",
        "random.seed(seed)\n",
        "try:\n",
        "  from google.colab import drive\n",
        "  in_colab = True\n",
        "  resolver = tf.distribute.cluster_resolver.TPUClusterResolver(tpu='grpc://' + os.environ['COLAB_TPU_ADDR'])\n",
        "  tf.config.experimental_connect_to_cluster(resolver)\n",
        "  tf.tpu.experimental.initialize_tpu_system(resolver)\n",
        "except:\n",
        "  in_colab = False"
      ]
    },
    {
      "cell_type": "markdown",
      "metadata": {
        "id": "LWTFl3HYaciz"
      },
      "source": [
        "## Dataset Preprocessing"
      ]
    },
    {
      "cell_type": "code",
      "execution_count": 2,
      "metadata": {
        "colab": {
          "base_uri": "https://localhost:8080/",
          "height": 317
        },
        "id": "Ox-a-y6_XK_r",
        "outputId": "a27f22d1-3103-4606-d4cd-cc40c2189308",
        "scrolled": false
      },
      "outputs": [
        {
          "output_type": "stream",
          "name": "stdout",
          "text": [
            "Drive already mounted at /content/drive; to attempt to forcibly remount, call drive.mount(\"/content/drive\", force_remount=True).\n"
          ]
        },
        {
          "output_type": "execute_result",
          "data": {
            "text/plain": [
              "      game_id  play_id  nfl_id  speed  pressure     x     y  dist_from_qb  \\\n",
              "1  2021090900       97   41263   0.96         1  1.74 -5.03      7.802083   \n",
              "2  2021090900       97   41263   1.08         1  1.63 -5.01      7.766557   \n",
              "3  2021090900       97   41263   1.30         1  1.47 -4.99      7.695193   \n",
              "4  2021090900       97   41263   1.48         1  1.31 -4.94      7.603138   \n",
              "5  2021090900       97   41263   2.16         1  1.04 -4.83      7.404627   \n",
              "\n",
              "   qb_in_tackle_box  n_blockers  ...  speed_qb  x_qb  y_qb  x_ball  y_ball  \\\n",
              "1               1.0           5  ...      0.35 -3.92  0.34    0.00    0.00   \n",
              "2               1.0           5  ...      0.54 -4.00  0.34   -0.49    0.02   \n",
              "3               1.0           5  ...      0.80 -4.09  0.33   -0.85    0.03   \n",
              "4               1.0           5  ...      0.99 -4.18  0.32   -1.29    0.05   \n",
              "5               1.0           5  ...      1.19 -4.29  0.31   -1.77    0.06   \n",
              "\n",
              "   quarter  down  yards_to_go  absolute_yardline_number  score_delta  \n",
              "1        1     3            2                      43.0            0  \n",
              "2        1     3            2                      43.0            0  \n",
              "3        1     3            2                      43.0            0  \n",
              "4        1     3            2                      43.0            0  \n",
              "5        1     3            2                      43.0            0  \n",
              "\n",
              "[5 rows x 30 columns]"
            ],
            "text/html": [
              "\n",
              "  <div id=\"df-172f1225-b454-4c9f-aeb0-1d803cbe9477\">\n",
              "    <div class=\"colab-df-container\">\n",
              "      <div>\n",
              "<style scoped>\n",
              "    .dataframe tbody tr th:only-of-type {\n",
              "        vertical-align: middle;\n",
              "    }\n",
              "\n",
              "    .dataframe tbody tr th {\n",
              "        vertical-align: top;\n",
              "    }\n",
              "\n",
              "    .dataframe thead th {\n",
              "        text-align: right;\n",
              "    }\n",
              "</style>\n",
              "<table border=\"1\" class=\"dataframe\">\n",
              "  <thead>\n",
              "    <tr style=\"text-align: right;\">\n",
              "      <th></th>\n",
              "      <th>game_id</th>\n",
              "      <th>play_id</th>\n",
              "      <th>nfl_id</th>\n",
              "      <th>speed</th>\n",
              "      <th>pressure</th>\n",
              "      <th>x</th>\n",
              "      <th>y</th>\n",
              "      <th>dist_from_qb</th>\n",
              "      <th>qb_in_tackle_box</th>\n",
              "      <th>n_blockers</th>\n",
              "      <th>...</th>\n",
              "      <th>speed_qb</th>\n",
              "      <th>x_qb</th>\n",
              "      <th>y_qb</th>\n",
              "      <th>x_ball</th>\n",
              "      <th>y_ball</th>\n",
              "      <th>quarter</th>\n",
              "      <th>down</th>\n",
              "      <th>yards_to_go</th>\n",
              "      <th>absolute_yardline_number</th>\n",
              "      <th>score_delta</th>\n",
              "    </tr>\n",
              "  </thead>\n",
              "  <tbody>\n",
              "    <tr>\n",
              "      <th>1</th>\n",
              "      <td>2021090900</td>\n",
              "      <td>97</td>\n",
              "      <td>41263</td>\n",
              "      <td>0.96</td>\n",
              "      <td>1</td>\n",
              "      <td>1.74</td>\n",
              "      <td>-5.03</td>\n",
              "      <td>7.802083</td>\n",
              "      <td>1.0</td>\n",
              "      <td>5</td>\n",
              "      <td>...</td>\n",
              "      <td>0.35</td>\n",
              "      <td>-3.92</td>\n",
              "      <td>0.34</td>\n",
              "      <td>0.00</td>\n",
              "      <td>0.00</td>\n",
              "      <td>1</td>\n",
              "      <td>3</td>\n",
              "      <td>2</td>\n",
              "      <td>43.0</td>\n",
              "      <td>0</td>\n",
              "    </tr>\n",
              "    <tr>\n",
              "      <th>2</th>\n",
              "      <td>2021090900</td>\n",
              "      <td>97</td>\n",
              "      <td>41263</td>\n",
              "      <td>1.08</td>\n",
              "      <td>1</td>\n",
              "      <td>1.63</td>\n",
              "      <td>-5.01</td>\n",
              "      <td>7.766557</td>\n",
              "      <td>1.0</td>\n",
              "      <td>5</td>\n",
              "      <td>...</td>\n",
              "      <td>0.54</td>\n",
              "      <td>-4.00</td>\n",
              "      <td>0.34</td>\n",
              "      <td>-0.49</td>\n",
              "      <td>0.02</td>\n",
              "      <td>1</td>\n",
              "      <td>3</td>\n",
              "      <td>2</td>\n",
              "      <td>43.0</td>\n",
              "      <td>0</td>\n",
              "    </tr>\n",
              "    <tr>\n",
              "      <th>3</th>\n",
              "      <td>2021090900</td>\n",
              "      <td>97</td>\n",
              "      <td>41263</td>\n",
              "      <td>1.30</td>\n",
              "      <td>1</td>\n",
              "      <td>1.47</td>\n",
              "      <td>-4.99</td>\n",
              "      <td>7.695193</td>\n",
              "      <td>1.0</td>\n",
              "      <td>5</td>\n",
              "      <td>...</td>\n",
              "      <td>0.80</td>\n",
              "      <td>-4.09</td>\n",
              "      <td>0.33</td>\n",
              "      <td>-0.85</td>\n",
              "      <td>0.03</td>\n",
              "      <td>1</td>\n",
              "      <td>3</td>\n",
              "      <td>2</td>\n",
              "      <td>43.0</td>\n",
              "      <td>0</td>\n",
              "    </tr>\n",
              "    <tr>\n",
              "      <th>4</th>\n",
              "      <td>2021090900</td>\n",
              "      <td>97</td>\n",
              "      <td>41263</td>\n",
              "      <td>1.48</td>\n",
              "      <td>1</td>\n",
              "      <td>1.31</td>\n",
              "      <td>-4.94</td>\n",
              "      <td>7.603138</td>\n",
              "      <td>1.0</td>\n",
              "      <td>5</td>\n",
              "      <td>...</td>\n",
              "      <td>0.99</td>\n",
              "      <td>-4.18</td>\n",
              "      <td>0.32</td>\n",
              "      <td>-1.29</td>\n",
              "      <td>0.05</td>\n",
              "      <td>1</td>\n",
              "      <td>3</td>\n",
              "      <td>2</td>\n",
              "      <td>43.0</td>\n",
              "      <td>0</td>\n",
              "    </tr>\n",
              "    <tr>\n",
              "      <th>5</th>\n",
              "      <td>2021090900</td>\n",
              "      <td>97</td>\n",
              "      <td>41263</td>\n",
              "      <td>2.16</td>\n",
              "      <td>1</td>\n",
              "      <td>1.04</td>\n",
              "      <td>-4.83</td>\n",
              "      <td>7.404627</td>\n",
              "      <td>1.0</td>\n",
              "      <td>5</td>\n",
              "      <td>...</td>\n",
              "      <td>1.19</td>\n",
              "      <td>-4.29</td>\n",
              "      <td>0.31</td>\n",
              "      <td>-1.77</td>\n",
              "      <td>0.06</td>\n",
              "      <td>1</td>\n",
              "      <td>3</td>\n",
              "      <td>2</td>\n",
              "      <td>43.0</td>\n",
              "      <td>0</td>\n",
              "    </tr>\n",
              "  </tbody>\n",
              "</table>\n",
              "<p>5 rows × 30 columns</p>\n",
              "</div>\n",
              "      <button class=\"colab-df-convert\" onclick=\"convertToInteractive('df-172f1225-b454-4c9f-aeb0-1d803cbe9477')\"\n",
              "              title=\"Convert this dataframe to an interactive table.\"\n",
              "              style=\"display:none;\">\n",
              "        \n",
              "  <svg xmlns=\"http://www.w3.org/2000/svg\" height=\"24px\"viewBox=\"0 0 24 24\"\n",
              "       width=\"24px\">\n",
              "    <path d=\"M0 0h24v24H0V0z\" fill=\"none\"/>\n",
              "    <path d=\"M18.56 5.44l.94 2.06.94-2.06 2.06-.94-2.06-.94-.94-2.06-.94 2.06-2.06.94zm-11 1L8.5 8.5l.94-2.06 2.06-.94-2.06-.94L8.5 2.5l-.94 2.06-2.06.94zm10 10l.94 2.06.94-2.06 2.06-.94-2.06-.94-.94-2.06-.94 2.06-2.06.94z\"/><path d=\"M17.41 7.96l-1.37-1.37c-.4-.4-.92-.59-1.43-.59-.52 0-1.04.2-1.43.59L10.3 9.45l-7.72 7.72c-.78.78-.78 2.05 0 2.83L4 21.41c.39.39.9.59 1.41.59.51 0 1.02-.2 1.41-.59l7.78-7.78 2.81-2.81c.8-.78.8-2.07 0-2.86zM5.41 20L4 18.59l7.72-7.72 1.47 1.35L5.41 20z\"/>\n",
              "  </svg>\n",
              "      </button>\n",
              "      \n",
              "  <style>\n",
              "    .colab-df-container {\n",
              "      display:flex;\n",
              "      flex-wrap:wrap;\n",
              "      gap: 12px;\n",
              "    }\n",
              "\n",
              "    .colab-df-convert {\n",
              "      background-color: #E8F0FE;\n",
              "      border: none;\n",
              "      border-radius: 50%;\n",
              "      cursor: pointer;\n",
              "      display: none;\n",
              "      fill: #1967D2;\n",
              "      height: 32px;\n",
              "      padding: 0 0 0 0;\n",
              "      width: 32px;\n",
              "    }\n",
              "\n",
              "    .colab-df-convert:hover {\n",
              "      background-color: #E2EBFA;\n",
              "      box-shadow: 0px 1px 2px rgba(60, 64, 67, 0.3), 0px 1px 3px 1px rgba(60, 64, 67, 0.15);\n",
              "      fill: #174EA6;\n",
              "    }\n",
              "\n",
              "    [theme=dark] .colab-df-convert {\n",
              "      background-color: #3B4455;\n",
              "      fill: #D2E3FC;\n",
              "    }\n",
              "\n",
              "    [theme=dark] .colab-df-convert:hover {\n",
              "      background-color: #434B5C;\n",
              "      box-shadow: 0px 1px 3px 1px rgba(0, 0, 0, 0.15);\n",
              "      filter: drop-shadow(0px 1px 2px rgba(0, 0, 0, 0.3));\n",
              "      fill: #FFFFFF;\n",
              "    }\n",
              "  </style>\n",
              "\n",
              "      <script>\n",
              "        const buttonEl =\n",
              "          document.querySelector('#df-172f1225-b454-4c9f-aeb0-1d803cbe9477 button.colab-df-convert');\n",
              "        buttonEl.style.display =\n",
              "          google.colab.kernel.accessAllowed ? 'block' : 'none';\n",
              "\n",
              "        async function convertToInteractive(key) {\n",
              "          const element = document.querySelector('#df-172f1225-b454-4c9f-aeb0-1d803cbe9477');\n",
              "          const dataTable =\n",
              "            await google.colab.kernel.invokeFunction('convertToInteractive',\n",
              "                                                     [key], {});\n",
              "          if (!dataTable) return;\n",
              "\n",
              "          const docLinkHtml = 'Like what you see? Visit the ' +\n",
              "            '<a target=\"_blank\" href=https://colab.research.google.com/notebooks/data_table.ipynb>data table notebook</a>'\n",
              "            + ' to learn more about interactive tables.';\n",
              "          element.innerHTML = '';\n",
              "          dataTable['output_type'] = 'display_data';\n",
              "          await google.colab.output.renderOutput(dataTable, element);\n",
              "          const docLink = document.createElement('div');\n",
              "          docLink.innerHTML = docLinkHtml;\n",
              "          element.appendChild(docLink);\n",
              "        }\n",
              "      </script>\n",
              "    </div>\n",
              "  </div>\n",
              "  "
            ]
          },
          "metadata": {},
          "execution_count": 2
        }
      ],
      "source": [
        "if in_colab:\n",
        "  drive.mount(\"/content/drive\")\n",
        "  path = \"/content/drive/MyDrive/nfl-big-data-bowl-2023\"\n",
        "else:\n",
        "  path = os.environ.get(\"BIG_DATA_BOWL\")\n",
        "\n",
        "df = pd.read_csv(f\"{path}/data/dataset.csv\", index_col=0)\n",
        "df.head()"
      ]
    },
    {
      "cell_type": "code",
      "execution_count": 3,
      "metadata": {
        "colab": {
          "base_uri": "https://localhost:8080/"
        },
        "id": "oOD27h-Way_5",
        "outputId": "be218eff-6ffd-4f29-e431-7f60ed6da09c"
      },
      "outputs": [
        {
          "output_type": "stream",
          "name": "stdout",
          "text": [
            "<class 'pandas.core.frame.DataFrame'>\n",
            "Int64Index: 1077605 entries, 1 to 1077605\n",
            "Data columns (total 30 columns):\n",
            " #   Column                    Non-Null Count    Dtype  \n",
            "---  ------                    --------------    -----  \n",
            " 0   game_id                   1077605 non-null  int64  \n",
            " 1   play_id                   1077605 non-null  int64  \n",
            " 2   nfl_id                    1077605 non-null  int64  \n",
            " 3   speed                     1077605 non-null  float64\n",
            " 4   pressure                  1077605 non-null  int64  \n",
            " 5   x                         1077605 non-null  float64\n",
            " 6   y                         1077605 non-null  float64\n",
            " 7   dist_from_qb              1077605 non-null  float64\n",
            " 8   qb_in_tackle_box          1077333 non-null  float64\n",
            " 9   n_blockers                1077605 non-null  int64  \n",
            " 10  x_C                       1077605 non-null  float64\n",
            " 11  x_LT                      1077605 non-null  float64\n",
            " 12  x_LG                      1077605 non-null  float64\n",
            " 13  x_RG                      1077605 non-null  float64\n",
            " 14  x_RT                      1077333 non-null  float64\n",
            " 15  y_C                       1077605 non-null  float64\n",
            " 16  y_LT                      1077605 non-null  float64\n",
            " 17  y_LG                      1077605 non-null  float64\n",
            " 18  y_RG                      1077605 non-null  float64\n",
            " 19  y_RT                      1077333 non-null  float64\n",
            " 20  speed_qb                  1077605 non-null  float64\n",
            " 21  x_qb                      1077605 non-null  float64\n",
            " 22  y_qb                      1077605 non-null  float64\n",
            " 23  x_ball                    1077605 non-null  float64\n",
            " 24  y_ball                    1077605 non-null  float64\n",
            " 25  quarter                   1077605 non-null  int64  \n",
            " 26  down                      1077605 non-null  int64  \n",
            " 27  yards_to_go               1077605 non-null  int64  \n",
            " 28  absolute_yardline_number  1077475 non-null  float64\n",
            " 29  score_delta               1077605 non-null  int64  \n",
            "dtypes: float64(21), int64(9)\n",
            "memory usage: 254.9 MB\n"
          ]
        }
      ],
      "source": [
        "# examine missingness, models will need balanced sequences\n",
        "df.info()"
      ]
    },
    {
      "cell_type": "code",
      "execution_count": 4,
      "metadata": {
        "colab": {
          "base_uri": "https://localhost:8080/"
        },
        "id": "jsyeXhPWz_Ji",
        "outputId": "16afcd8c-5996-4fa9-f550-d2e3a48b1fea"
      },
      "outputs": [
        {
          "output_type": "stream",
          "name": "stdout",
          "text": [
            "<class 'pandas.core.frame.DataFrame'>\n",
            "Int64Index: 1077203 entries, 1 to 1077605\n",
            "Data columns (total 30 columns):\n",
            " #   Column                    Non-Null Count    Dtype  \n",
            "---  ------                    --------------    -----  \n",
            " 0   game_id                   1077203 non-null  int64  \n",
            " 1   play_id                   1077203 non-null  int64  \n",
            " 2   nfl_id                    1077203 non-null  int64  \n",
            " 3   speed                     1077203 non-null  float64\n",
            " 4   pressure                  1077203 non-null  int64  \n",
            " 5   x                         1077203 non-null  float64\n",
            " 6   y                         1077203 non-null  float64\n",
            " 7   dist_from_qb              1077203 non-null  float64\n",
            " 8   qb_in_tackle_box          1077203 non-null  float64\n",
            " 9   n_blockers                1077203 non-null  int64  \n",
            " 10  x_C                       1077203 non-null  float64\n",
            " 11  x_LT                      1077203 non-null  float64\n",
            " 12  x_LG                      1077203 non-null  float64\n",
            " 13  x_RG                      1077203 non-null  float64\n",
            " 14  x_RT                      1077203 non-null  float64\n",
            " 15  y_C                       1077203 non-null  float64\n",
            " 16  y_LT                      1077203 non-null  float64\n",
            " 17  y_LG                      1077203 non-null  float64\n",
            " 18  y_RG                      1077203 non-null  float64\n",
            " 19  y_RT                      1077203 non-null  float64\n",
            " 20  speed_qb                  1077203 non-null  float64\n",
            " 21  x_qb                      1077203 non-null  float64\n",
            " 22  y_qb                      1077203 non-null  float64\n",
            " 23  x_ball                    1077203 non-null  float64\n",
            " 24  y_ball                    1077203 non-null  float64\n",
            " 25  quarter                   1077203 non-null  int64  \n",
            " 26  down                      1077203 non-null  int64  \n",
            " 27  yards_to_go               1077203 non-null  int64  \n",
            " 28  absolute_yardline_number  1077203 non-null  float64\n",
            " 29  score_delta               1077203 non-null  int64  \n",
            "dtypes: float64(21), int64(9)\n",
            "memory usage: 254.8 MB\n"
          ]
        }
      ],
      "source": [
        "df.dropna(axis = 0, how = \"any\", inplace = True)\n",
        "df.info()"
      ]
    },
    {
      "cell_type": "code",
      "execution_count": 5,
      "metadata": {
        "id": "s7cD_sIvz_Jj"
      },
      "outputs": [],
      "source": [
        "def oversampler(df: pd.DataFrame, group_by: list, feats: list, outcome: str) -> pd.DataFrame:\n",
        "    grouped_df = df.copy().groupby(group_by)\n",
        "    group_labels = grouped_df.first()[outcome]\n",
        "    vals = group_labels.value_counts()\n",
        "    n_to_add = vals[0] - vals[1]\n",
        "    minority_lab = vals.index[1]\n",
        "    groups_to_sample = list(group_labels[group_labels == minority_lab].index)\n",
        "    choices = [random.choice(groups_to_sample) for _ in range(n_to_add)]\n",
        "    unique_key_counter = -1 # new \"keys\" will be negative so as not to duplicate groups which are all positive\n",
        "    samples = []\n",
        "    for i in choices:\n",
        "        to_add = grouped_df.get_group(i).copy()\n",
        "        for j in group_by:\n",
        "            to_add[j] = unique_key_counter\n",
        "        samples.append(to_add)\n",
        "        unique_key_counter += -1\n",
        "    return pd.concat([df] + samples, axis = 0)"
      ]
    },
    {
      "cell_type": "code",
      "execution_count": 6,
      "metadata": {
        "id": "v5mAgPj_XK_u"
      },
      "outputs": [],
      "source": [
        "def make_datasets(df: pd.DataFrame, group_by: list, feats: list, outcome: str, sequences: bool, \n",
        "samples: int, test_size: float, oversample = False):\n",
        "\n",
        "  if oversample:\n",
        "    df = oversampler(df, group_by, feats, outcome)\n",
        "\n",
        "  if sequences or samples > 0:\n",
        "    X, y  = [], []\n",
        "    grouped_df = df.groupby(group_by)\n",
        "    for _, group_df in grouped_df:\n",
        "      f = group_df[feats].to_numpy()\n",
        "      if samples > 0:\n",
        "        sub_seq_lens = np.random.randint(0, len(f), samples)\n",
        "        sub_seq = [f[:n] for n in sub_seq_lens]\n",
        "        X += sub_seq\n",
        "      else: # sequences but no sampling\n",
        "        X.append(group_df[feats].to_numpy())\n",
        "      if sequences:\n",
        "        if samples == 0:\n",
        "          y.append(group_df[[outcome]].to_numpy()[0])\n",
        "        else:\n",
        "          for s in range(samples):\n",
        "            y.append(group_df[[outcome]].to_numpy()[0])\n",
        "      else: # no sequences but multiple samples\n",
        "        y.append(np.repeat(group_df[outcome].values[0], sum(sub_seq_lens)))\n",
        "    if sequences:\n",
        "      X = tf.keras.utils.pad_sequences(X, dtype=\"float\", padding=\"pre\", value = -99)\n",
        "      y = np.stack(y)\n",
        "    else: # no sequences but multiple samples\n",
        "      X = np.concatenate(X)\n",
        "      y = np.concatenate(y).ravel()\n",
        "\n",
        "  else:\n",
        "      X = df[feats].to_numpy()\n",
        "      y = df[outcome].to_numpy()\n",
        "    \n",
        "  return train_test_split(X, y, test_size = test_size, random_state = seed) + [outcome]"
      ]
    },
    {
      "cell_type": "code",
      "execution_count": 7,
      "metadata": {
        "id": "1o8cDwmaz_Jl"
      },
      "outputs": [],
      "source": [
        "model_metrics = {}\n",
        "def add_metrics(model, outcome_name: str, model_name: str, X_test: np.ndarray, y_test: np.ndarray):\n",
        "    global model_metrics\n",
        "    model_metrics[outcome_name] = {}\n",
        "    y_pred = model.predict(X_test)\n",
        "    if type(model) == LogisticRegression:\n",
        "        y_score = model.decision_function(X_test)\n",
        "        fpr, tpr, _ = roc_curve(y_test, y_score, pos_label = 1)\n",
        "        roc = RocCurveDisplay(fpr = fpr, tpr = tpr)\n",
        "        prec, recall, _ = precision_recall_curve(y_test, y_score, pos_label= 1)\n",
        "        pr = PrecisionRecallDisplay(precision=prec, recall=recall)\n",
        "        auc = roc_auc_score(y_test, y_score)\n",
        "        model_metrics[outcome_name][model_name] = {\"auc\": auc, \"roc_curve\": roc, \"pr_curve\": pr}\n",
        "    else:\n",
        "        evaluation = model.evaluate(X_test, y_test)\n",
        "        auc = evaluation[1]\n",
        "        acc = evaluation[2]\n",
        "        model_metrics[outcome_name][model_name] = {\"auc\": auc, \"acc\": acc}\n",
        "    print(f\"Added metric for model {model_name} with outcome {outcome_name} to the model_metrics dictionary.\")\n",
        "    for k, v in model_metrics[outcome_name][model_name].items():\n",
        "        print(f\"{k}: {v}\")"
      ]
    },
    {
      "cell_type": "code",
      "execution_count": 8,
      "metadata": {
        "id": "ULQEKVU3z_Jl"
      },
      "outputs": [],
      "source": [
        "outcome = \"pressure\"\n",
        "group_by = [\"game_id\", \"play_id\", \"nfl_id\"]\n",
        "feats = [x for x in list(df.columns) if x not in group_by + [outcome]]"
      ]
    },
    {
      "cell_type": "markdown",
      "metadata": {
        "id": "VZRTc6nLz_Jm"
      },
      "source": [
        "## ReSaP: **Re**current **Sa**ck **P**robabilities"
      ]
    },
    {
      "cell_type": "markdown",
      "metadata": {
        "id": "xFLw3CeFvYJv"
      },
      "source": [
        "### \"Naive\" Logistic Model"
      ]
    },
    {
      "cell_type": "code",
      "execution_count": null,
      "metadata": {
        "id": "qJbARXxAvVz4"
      },
      "outputs": [],
      "source": [
        "def model_logistic(data: list, max_iter: int, file: str):\n",
        "    mod = LogisticRegression(max_iter = max_iter)\n",
        "    mod.fit(data[0], data[2])\n",
        "    add_metrics(mod, data[4], \"logistic\", data[1], data[3])\n",
        "    pickle.dump(mod, open(f\"{path}/{file}\", \"wb\"))\n",
        "    return mod"
      ]
    },
    {
      "cell_type": "code",
      "execution_count": null,
      "metadata": {
        "id": "E4aN4x2Kz_Jq"
      },
      "outputs": [],
      "source": [
        "data = make_datasets(df, group_by, feats, outcome, sequences = False, samples = 2, test_size = 0.2, oversample = True)\n",
        "mod1 = model_logistic(data, 1000, \"mod1.sav\")"
      ]
    },
    {
      "cell_type": "markdown",
      "metadata": {
        "id": "nti1gLWph2gp"
      },
      "source": [
        "### LSTM"
      ]
    },
    {
      "cell_type": "code",
      "execution_count": 9,
      "metadata": {
        "id": "Gifbc2ONz_Jq"
      },
      "outputs": [],
      "source": [
        "def model_lstm(data: list, units: int, num_epochs: int, val: float, folder: str):\n",
        "    tf.random.set_seed(seed)\n",
        "    np.random.seed(seed)\n",
        "    def build_model():\n",
        "      mod = tf.keras.Sequential()\n",
        "      mod.add(tf.keras.layers.Masking(mask_value= -99., input_shape= data[0].shape[1:]))\n",
        "      mod.add(tf.keras.layers.LSTM(units, input_shape = data[0].shape[1:]))\n",
        "      mod.add(tf.keras.layers.Dense(data[2].shape[1], activation=\"sigmoid\"))\n",
        "\n",
        "      mod.compile(loss = \"binary_crossentropy\", optimizer=\"adam\",\n",
        "      metrics = [tf.keras.metrics.AUC(), tf.keras.metrics.BinaryAccuracy()])\n",
        "      return mod\n",
        "    if in_colab:\n",
        "      strategy = tf.distribute.TPUStrategy(resolver)\n",
        "      with strategy.scope():\n",
        "        mod = build_model()\n",
        "    else:\n",
        "      mod = build_model()\n",
        "      \n",
        "    # callbacks = [tf.keras.callbacks.EarlyStopping(patience = 5, restore_best_weights=True)]\n",
        "\n",
        "    mod.fit(data[0], data[2], epochs = num_epochs, validation_split = val, verbose = 1)\n",
        "    mod.save(f\"{path}/{folder}\")\n",
        "    add_metrics(mod, data[4], \"lstm\", data[1], data[3])\n",
        "    return mod"
      ]
    },
    {
      "cell_type": "code",
      "execution_count": null,
      "metadata": {
        "colab": {
          "base_uri": "https://localhost:8080/"
        },
        "id": "lhxA9YI4z_Jr",
        "outputId": "980a7653-33b1-4135-d65f-e9428b91df5d"
      },
      "outputs": [
        {
          "output_type": "stream",
          "name": "stdout",
          "text": [
            "Epoch 1/50\n",
            "2744/2744 [==============================] - 89s 30ms/step - loss: 0.6103 - auc: 0.7093 - binary_accuracy: 0.6478 - val_loss: 0.5845 - val_auc: 0.7499 - val_binary_accuracy: 0.6804\n",
            "Epoch 2/50\n",
            "2744/2744 [==============================] - 76s 28ms/step - loss: 0.5820 - auc: 0.7456 - binary_accuracy: 0.6749 - val_loss: 0.5722 - val_auc: 0.7648 - val_binary_accuracy: 0.6873\n",
            "Epoch 3/50\n",
            "2744/2744 [==============================] - 76s 28ms/step - loss: 0.5732 - auc: 0.7556 - binary_accuracy: 0.6810 - val_loss: 0.5710 - val_auc: 0.7668 - val_binary_accuracy: 0.6866\n",
            "Epoch 4/50\n",
            "2744/2744 [==============================] - 76s 28ms/step - loss: 0.5669 - auc: 0.7619 - binary_accuracy: 0.6868 - val_loss: 0.5673 - val_auc: 0.7723 - val_binary_accuracy: 0.6864\n",
            "Epoch 5/50\n",
            "2744/2744 [==============================] - 76s 28ms/step - loss: 0.5611 - auc: 0.7682 - binary_accuracy: 0.6906 - val_loss: 0.5604 - val_auc: 0.7789 - val_binary_accuracy: 0.6941\n",
            "Epoch 6/50\n",
            "2414/2744 [=========================>....] - ETA: 8s - loss: 0.5561 - auc: 0.7741 - binary_accuracy: 0.6950"
          ]
        }
      ],
      "source": [
        "data = make_datasets(df, group_by, feats, outcome, sequences = True, samples = 2, test_size = 0.2, oversample = True)\n",
        "mod2 = model_lstm(data, 64, 50, 0.1, \"mod2\")"
      ]
    },
    {
      "cell_type": "markdown",
      "metadata": {
        "id": "7_EiKFYE9qgi"
      },
      "source": [
        "\n",
        "\n",
        "\n",
        "\n",
        "\n",
        "\n",
        "\n",
        "\n",
        "\n",
        "\n",
        "### LSTM + Transformer"
      ]
    },
    {
      "cell_type": "code",
      "execution_count": null,
      "metadata": {
        "id": "YRjBrCEW-8VU"
      },
      "outputs": [],
      "source": [
        "def transformer_encoder(inputs, head_size, num_heads, ff_dim, dropout=0):\n",
        "    # Normalization and Attention\n",
        "    x = tf.keras.layers.LayerNormalization(epsilon=1e-6)(inputs)\n",
        "    x = tf.keras.layers.MultiHeadAttention(key_dim=head_size, num_heads=num_heads, dropout=dropout)(x, x)\n",
        "    x = tf.keras.layers.Dropout(dropout)(x)\n",
        "    res = x + inputs\n",
        "\n",
        "    # Feed Forward Part\n",
        "    x = tf.keras.layers.LayerNormalization(epsilon=1e-6)(res)\n",
        "    x = tf.keras.layers.Conv1D(filters=ff_dim, kernel_size=1, activation=\"relu\")(x)\n",
        "    x = tf.keras.layers.Dropout(dropout)(x)\n",
        "    x = tf.keras.layers.Conv1D(filters=inputs.shape[-1], kernel_size=1)(x)\n",
        "    return x + res"
      ]
    },
    {
      "cell_type": "code",
      "execution_count": null,
      "metadata": {
        "id": "HVahl-xVz_Js"
      },
      "outputs": [],
      "source": [
        "def model_transformer(data: list, head_size: int, num_heads: int, ff_dim: int, num_transformer_blocks: int, mlp_units: list,\n",
        " mlp_dropout: float, dropout: float, lstm_units: int, num_epochs: int, val: float, folder: str):\n",
        "  def build_model():\n",
        "    inputs = tf.keras.Input(shape=data[0].shape[1:])\n",
        "    x = inputs\n",
        "    x = tf.keras.layers.Masking(mask_value = -99.,input_shape = data[0].shape[1:])(x)\n",
        "    x = tf.keras.layers.LSTM(lstm_units, input_shape = data[0].shape[1:], return_sequences = True)(x)\n",
        "\n",
        "    for _ in range(num_transformer_blocks):\n",
        "        x = transformer_encoder(x, head_size, num_heads, ff_dim, dropout)\n",
        "\n",
        "    x = tf.keras.layers.GlobalAveragePooling1D(data_format = \"channels_last\")(x)\n",
        "    x = tf.keras.layers.Dropout(0.1)(x)\n",
        "\n",
        "    for dim in mlp_units:\n",
        "        x = tf.keras.layers.Dense(dim, activation=\"relu\")(x)\n",
        "        x = tf.keras.layers.Dropout(mlp_dropout)(x)\n",
        "\n",
        "    outputs = tf.keras.layers.Dense(data[2].shape[1], activation = \"sigmoid\")(x)\n",
        "    mod = tf.keras.Model(inputs, outputs)\n",
        "\n",
        "    mod.compile(\n",
        "        loss = \"binary_crossentropy\",\n",
        "        optimizer = \"adam\",\n",
        "        metrics = [tf.keras.metrics.AUC(), tf.keras.metrics.BinaryAccuracy()]\n",
        "    )\n",
        "    return mod\n",
        "\n",
        "    # callbacks = [tf.keras.callbacks.EarlyStopping(min_delta=0.01, patience=3, restore_best_weights=True)]\n",
        "  if in_colab:\n",
        "    strategy = tf.distribute.TPUStrategy(resolver)\n",
        "    with strategy.scope():\n",
        "      mod = build_model()\n",
        "  else:\n",
        "    mod = build_model()\n",
        "  mod.fit(data[0], data[2], epochs= num_epochs, validation_split = val, verbose = 1)\n",
        "\n",
        "  mod.save(f\"{path}/{folder}\")\n",
        "  add_metrics(mod, data[4], \"lstm-transformer\", data[1], data[3])\n",
        "  return mod"
      ]
    },
    {
      "cell_type": "code",
      "execution_count": null,
      "metadata": {
        "id": "kOmaFdO9z_Js"
      },
      "outputs": [],
      "source": [
        "mod3 = model_transformer(data, 128, 4, 4, 1, [128], 0.2, 0.25, 64, 50, 0.1, \"mod3\")"
      ]
    }
  ],
  "metadata": {
    "colab": {
      "provenance": [],
      "machine_shape": "hm",
      "include_colab_link": true
    },
    "kernelspec": {
      "display_name": "Python 3",
      "language": "python",
      "name": "python3"
    },
    "language_info": {
      "codemirror_mode": {
        "name": "ipython",
        "version": 3
      },
      "file_extension": ".py",
      "mimetype": "text/x-python",
      "name": "python",
      "nbconvert_exporter": "python",
      "pygments_lexer": "ipython3",
      "version": "3.10.8 (main, Nov 24 2022, 08:09:04) [Clang 14.0.6 ]"
    },
    "vscode": {
      "interpreter": {
        "hash": "84233dc2148a4ba24349c930a847c50600752012508169725523fba31fb5cdf9"
      }
    },
    "accelerator": "TPU",
    "gpuClass": "standard"
  },
  "nbformat": 4,
  "nbformat_minor": 0
}