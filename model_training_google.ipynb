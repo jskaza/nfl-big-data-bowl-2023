{
  "cells": [
    {
      "cell_type": "markdown",
      "metadata": {
        "id": "view-in-github",
        "colab_type": "text"
      },
      "source": [
        "<a href=\"https://colab.research.google.com/github/jskaza/nfl-big-data-bowl-2023/blob/master/model_training_google.ipynb\" target=\"_parent\"><img src=\"https://colab.research.google.com/assets/colab-badge.svg\" alt=\"Open In Colab\"/></a>"
      ]
    },
    {
      "cell_type": "code",
      "execution_count": null,
      "metadata": {
        "colab": {
          "base_uri": "https://localhost:8080/"
        },
        "id": "I9c-Iuz6V_r_",
        "outputId": "81d2e2ff-76e5-46e2-cfd5-f837fd4c77a9"
      },
      "outputs": [
        {
          "output_type": "stream",
          "name": "stdout",
          "text": [
            "Mounted at /content/drive\n"
          ]
        }
      ],
      "source": [
        "import numpy as np\n",
        "import pandas as pd\n",
        "import tensorflow as tf\n",
        "from tensorflow.keras.preprocessing.sequence import pad_sequences\n",
        "import math\n",
        "from google.colab import drive\n",
        "drive.mount(\"/content/drive\")"
      ]
    },
    {
      "cell_type": "code",
      "execution_count": null,
      "metadata": {
        "id": "VFt-zLJ9WOq8"
      },
      "outputs": [],
      "source": [
        "df = pd.read_json(\"/content/drive/MyDrive/nfl-big-data-bowl-2023/data/dataset.json\")"
      ]
    },
    {
      "cell_type": "code",
      "execution_count": null,
      "metadata": {
        "id": "7rsPva6BWwGi"
      },
      "outputs": [],
      "source": [
        "def split_sequence(sequence, n_steps):\n",
        "    X, y = list(), list()\n",
        "    for i in range(len(sequence)):\n",
        "        end_ix = i + n_steps\n",
        "        if end_ix > len(sequence)-1:\n",
        "            break\n",
        "        seq_x, seq_y = sequence[i:end_ix], sequence[end_ix]\n",
        "        X.append([[c[0] for c in seq_x], [c[1] for c in seq_x]])\n",
        "        y.append(seq_y)\n",
        "    return X, y"
      ]
    },
    {
      "cell_type": "code",
      "execution_count": null,
      "metadata": {
        "id": "0-ghRfaMXkJa"
      },
      "outputs": [],
      "source": [
        "def make_features(df, n_steps):\n",
        "    X, y  = list(), list()\n",
        "    grouped_df = df.groupby([\"nfl_id\",\"game_id\",\"play_id\"])\n",
        "    for group_name, group_df in grouped_df:\n",
        "        coords = group_df[\"coords\"].tolist()\n",
        "        X1, y1 = split_sequence(coords, n_steps)\n",
        "        X += X1\n",
        "        y += y1\n",
        "    return np.array(X), np.array(y)\n",
        "    # return pad_sequences(X, value = -99, dtype= \"float\"), pad_sequences(y, value = -99, dtype= \"float\")"
      ]
    },
    {
      "cell_type": "code",
      "execution_count": null,
      "metadata": {
        "id": "yQFyGpWmXmuP"
      },
      "outputs": [],
      "source": [
        "# the dataset is as follows\n",
        "\n",
        "# each observation is contains an array of length n_steps*2 containing x and y coords from\n",
        "# the previous n_steps and an array of length 2 containing the current x and y coord pair\n",
        "# thus, we are predicting current frame position based in previous n_steps frame. there is no \n",
        "# separation between videos\n",
        "\n",
        "X, y = make_features(df, 5)\n",
        "\n",
        "# train on 1mil frames\n",
        "X_train = X[:1000000]\n",
        "y_train = y[:1000000]\n",
        "\n",
        "# test on 100k frames\n",
        "X_test = X[-100000:]\n",
        "y_test = y[-100000:]\n",
        "\n",
        "del df"
      ]
    },
    {
      "cell_type": "code",
      "execution_count": null,
      "metadata": {
        "colab": {
          "background_save": true
        },
        "id": "j4kQDESwXqM4",
        "outputId": "a0a4e3c1-3952-486c-aaee-7eb26fb2b353"
      },
      "outputs": [
        {
          "data": {
            "text/plain": [
              "<keras.callbacks.History at 0x7f6ab5d6d970>"
            ]
          },
          "execution_count": 6,
          "metadata": {},
          "output_type": "execute_result"
        }
      ],
      "source": [
        "# set random seed for reproducibility\n",
        "tf.random.set_seed(42)\n",
        "np.random.seed(42)\n",
        "\n",
        "# create the model\n",
        "model = tf.keras.Sequential()\n",
        "# model.add(tf.keras.layers.TimeDistributed(tf.keras.layers.Flatten(), input_shape=(96, 2, 3)))\n",
        "model.add(tf.keras.layers.LSTM(32, input_shape=(2, 5)))\n",
        "model.add(tf.keras.layers.Dense(2))\n",
        "\n",
        "# compile and fit the model\n",
        "model.compile(loss='mean_squared_error', optimizer='adam')\n",
        "model.fit(X_train, y_train, epochs=100, verbose=0)"
      ]
    },
    {
      "cell_type": "code",
      "execution_count": null,
      "metadata": {
        "colab": {
          "background_save": true
        },
        "id": "EptzO1i5XsHj",
        "outputId": "cb249ec4-2c82-4acd-b0eb-1e9d68229e86"
      },
      "outputs": [
        {
          "name": "stdout",
          "output_type": "stream",
          "text": [
            "3125/3125 [==============================] - 6s 2ms/step\n",
            "0.02592587260091053\n"
          ]
        }
      ],
      "source": [
        "err = 0\n",
        "for i,j in zip(model.predict(X_test), y_test):\n",
        "    err += math.dist(i,j)\n",
        "print(err/len(y_test)) # avg prediction error (yards)"
      ]
    },
    {
      "cell_type": "code",
      "execution_count": null,
      "metadata": {
        "colab": {
          "background_save": true
        },
        "id": "kBhLtNVOXs0W",
        "outputId": "c57cb360-84dd-4494-aec5-0abf6a0c47ae"
      },
      "outputs": [
        {
          "name": "stdout",
          "output_type": "stream",
          "text": [
            "0.303620646639027\n"
          ]
        }
      ],
      "source": [
        "# as an exercise, let's suppose we predicted frame position simply as previous position\n",
        "err = 0\n",
        "for i,j in zip(X_test, y_test):\n",
        "    err += math.dist([i[0][4], i[1][4]],j)\n",
        "print(err/len(y_test)) # avg prediction error (yards)"
      ]
    },
    {
      "cell_type": "code",
      "execution_count": null,
      "metadata": {
        "colab": {
          "background_save": true
        },
        "id": "hiFMRAJla5Fa"
      },
      "outputs": [],
      "source": []
    }
  ],
  "metadata": {
    "colab": {
      "provenance": [],
      "toc_visible": true,
      "authorship_tag": "ABX9TyMNSZXyQ9uxPLuyASCJH54/",
      "include_colab_link": true
    },
    "kernelspec": {
      "display_name": "Python 3",
      "name": "python3"
    },
    "language_info": {
      "name": "python"
    }
  },
  "nbformat": 4,
  "nbformat_minor": 0
}