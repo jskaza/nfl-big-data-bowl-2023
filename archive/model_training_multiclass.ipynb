{
  "cells": [
    {
      "cell_type": "markdown",
      "metadata": {
        "id": "view-in-github",
        "colab_type": "text"
      },
      "source": [
        "<a href=\"https://colab.research.google.com/github/jskaza/nfl-big-data-bowl-2023/blob/master/model_training_multiclass.ipynb\" target=\"_parent\"><img src=\"https://colab.research.google.com/assets/colab-badge.svg\" alt=\"Open In Colab\"/></a>"
      ]
    },
    {
      "cell_type": "code",
      "execution_count": 107,
      "metadata": {
        "scrolled": true,
        "colab": {
          "base_uri": "https://localhost:8080/"
        },
        "id": "7tFSzTpcXK_m",
        "outputId": "dc39d051-811e-4715-d66f-75f92a0f9f91"
      },
      "outputs": [
        {
          "output_type": "stream",
          "name": "stdout",
          "text": [
            "Drive already mounted at /content/drive; to attempt to forcibly remount, call drive.mount(\"/content/drive\", force_remount=True).\n",
            "The tensorboard extension is already loaded. To reload it, use:\n",
            "  %reload_ext tensorboard\n"
          ]
        }
      ],
      "source": [
        "import os\n",
        "import datetime\n",
        "import numpy as np\n",
        "import matplotlib.pyplot as plt\n",
        "import matplotlib.animation as animation\n",
        "import pandas as pd\n",
        "import tensorflow as tf\n",
        "import math\n",
        "from google.colab import drive\n",
        "from sklearn.linear_model import LogisticRegression\n",
        "from sklearn import metrics\n",
        "drive.mount(\"/content/drive\")\n",
        "%load_ext tensorboard"
      ]
    },
    {
      "cell_type": "code",
      "execution_count": 108,
      "metadata": {
        "scrolled": false,
        "colab": {
          "base_uri": "https://localhost:8080/",
          "height": 300
        },
        "id": "Ox-a-y6_XK_r",
        "outputId": "3030d17a-8b7f-4a8b-b6ea-fcd70bff8cd3"
      },
      "outputs": [
        {
          "output_type": "execute_result",
          "data": {
            "text/plain": [
              "   nfl_id  ball_x  ball_y  opponent_x_1  opponent_x_2  opponent_x_3  \\\n",
              "0   41263     0.0     0.0         -7.72         -2.61         -1.29   \n",
              "1   42403     0.0     0.0          5.42         11.17         12.85   \n",
              "2   44955     0.0     0.0          1.73          0.10          3.00   \n",
              "3   53441     0.0     0.0         -1.29          0.10         -2.61   \n",
              "4   53504     0.0     0.0          1.73          3.00          0.10   \n",
              "\n",
              "   opponent_x_4  opponent_x_5  opponent_x_6  opponent_x_7  ...     x  \\\n",
              "0          0.10         -1.65          1.73          0.34  ... -5.03   \n",
              "1          3.00          1.73          0.10         -1.29  ...  8.71   \n",
              "2         -1.29         -2.61          5.42          0.34  ...  1.26   \n",
              "3          1.73          3.00         -7.72         -1.65  ... -1.99   \n",
              "4          5.42         -1.29         -2.61          0.34  ...  2.75   \n",
              "\n",
              "   pff_hurry  pff_hit  pff_sack  pff_no_impact  quarter  down  yards_to_go  \\\n",
              "0          1        0         0              0        1     3            2   \n",
              "1          1        0         0              0        1     3            2   \n",
              "2          0        0         0              1        1     3            2   \n",
              "3          1        0         0              0        1     3            2   \n",
              "4          1        0         0              0        1     3            2   \n",
              "\n",
              "   absolute_yardline_number  score_delta  \n",
              "0                        43            0  \n",
              "1                        43            0  \n",
              "2                        43            0  \n",
              "3                        43            0  \n",
              "4                        43            0  \n",
              "\n",
              "[5 rows x 59 columns]"
            ],
            "text/html": [
              "\n",
              "  <div id=\"df-928ef028-d2d9-45db-9531-81bf80130f49\">\n",
              "    <div class=\"colab-df-container\">\n",
              "      <div>\n",
              "<style scoped>\n",
              "    .dataframe tbody tr th:only-of-type {\n",
              "        vertical-align: middle;\n",
              "    }\n",
              "\n",
              "    .dataframe tbody tr th {\n",
              "        vertical-align: top;\n",
              "    }\n",
              "\n",
              "    .dataframe thead th {\n",
              "        text-align: right;\n",
              "    }\n",
              "</style>\n",
              "<table border=\"1\" class=\"dataframe\">\n",
              "  <thead>\n",
              "    <tr style=\"text-align: right;\">\n",
              "      <th></th>\n",
              "      <th>nfl_id</th>\n",
              "      <th>ball_x</th>\n",
              "      <th>ball_y</th>\n",
              "      <th>opponent_x_1</th>\n",
              "      <th>opponent_x_2</th>\n",
              "      <th>opponent_x_3</th>\n",
              "      <th>opponent_x_4</th>\n",
              "      <th>opponent_x_5</th>\n",
              "      <th>opponent_x_6</th>\n",
              "      <th>opponent_x_7</th>\n",
              "      <th>...</th>\n",
              "      <th>x</th>\n",
              "      <th>pff_hurry</th>\n",
              "      <th>pff_hit</th>\n",
              "      <th>pff_sack</th>\n",
              "      <th>pff_no_impact</th>\n",
              "      <th>quarter</th>\n",
              "      <th>down</th>\n",
              "      <th>yards_to_go</th>\n",
              "      <th>absolute_yardline_number</th>\n",
              "      <th>score_delta</th>\n",
              "    </tr>\n",
              "  </thead>\n",
              "  <tbody>\n",
              "    <tr>\n",
              "      <th>0</th>\n",
              "      <td>41263</td>\n",
              "      <td>0.0</td>\n",
              "      <td>0.0</td>\n",
              "      <td>-7.72</td>\n",
              "      <td>-2.61</td>\n",
              "      <td>-1.29</td>\n",
              "      <td>0.10</td>\n",
              "      <td>-1.65</td>\n",
              "      <td>1.73</td>\n",
              "      <td>0.34</td>\n",
              "      <td>...</td>\n",
              "      <td>-5.03</td>\n",
              "      <td>1</td>\n",
              "      <td>0</td>\n",
              "      <td>0</td>\n",
              "      <td>0</td>\n",
              "      <td>1</td>\n",
              "      <td>3</td>\n",
              "      <td>2</td>\n",
              "      <td>43</td>\n",
              "      <td>0</td>\n",
              "    </tr>\n",
              "    <tr>\n",
              "      <th>1</th>\n",
              "      <td>42403</td>\n",
              "      <td>0.0</td>\n",
              "      <td>0.0</td>\n",
              "      <td>5.42</td>\n",
              "      <td>11.17</td>\n",
              "      <td>12.85</td>\n",
              "      <td>3.00</td>\n",
              "      <td>1.73</td>\n",
              "      <td>0.10</td>\n",
              "      <td>-1.29</td>\n",
              "      <td>...</td>\n",
              "      <td>8.71</td>\n",
              "      <td>1</td>\n",
              "      <td>0</td>\n",
              "      <td>0</td>\n",
              "      <td>0</td>\n",
              "      <td>1</td>\n",
              "      <td>3</td>\n",
              "      <td>2</td>\n",
              "      <td>43</td>\n",
              "      <td>0</td>\n",
              "    </tr>\n",
              "    <tr>\n",
              "      <th>2</th>\n",
              "      <td>44955</td>\n",
              "      <td>0.0</td>\n",
              "      <td>0.0</td>\n",
              "      <td>1.73</td>\n",
              "      <td>0.10</td>\n",
              "      <td>3.00</td>\n",
              "      <td>-1.29</td>\n",
              "      <td>-2.61</td>\n",
              "      <td>5.42</td>\n",
              "      <td>0.34</td>\n",
              "      <td>...</td>\n",
              "      <td>1.26</td>\n",
              "      <td>0</td>\n",
              "      <td>0</td>\n",
              "      <td>0</td>\n",
              "      <td>1</td>\n",
              "      <td>1</td>\n",
              "      <td>3</td>\n",
              "      <td>2</td>\n",
              "      <td>43</td>\n",
              "      <td>0</td>\n",
              "    </tr>\n",
              "    <tr>\n",
              "      <th>3</th>\n",
              "      <td>53441</td>\n",
              "      <td>0.0</td>\n",
              "      <td>0.0</td>\n",
              "      <td>-1.29</td>\n",
              "      <td>0.10</td>\n",
              "      <td>-2.61</td>\n",
              "      <td>1.73</td>\n",
              "      <td>3.00</td>\n",
              "      <td>-7.72</td>\n",
              "      <td>-1.65</td>\n",
              "      <td>...</td>\n",
              "      <td>-1.99</td>\n",
              "      <td>1</td>\n",
              "      <td>0</td>\n",
              "      <td>0</td>\n",
              "      <td>0</td>\n",
              "      <td>1</td>\n",
              "      <td>3</td>\n",
              "      <td>2</td>\n",
              "      <td>43</td>\n",
              "      <td>0</td>\n",
              "    </tr>\n",
              "    <tr>\n",
              "      <th>4</th>\n",
              "      <td>53504</td>\n",
              "      <td>0.0</td>\n",
              "      <td>0.0</td>\n",
              "      <td>1.73</td>\n",
              "      <td>3.00</td>\n",
              "      <td>0.10</td>\n",
              "      <td>5.42</td>\n",
              "      <td>-1.29</td>\n",
              "      <td>-2.61</td>\n",
              "      <td>0.34</td>\n",
              "      <td>...</td>\n",
              "      <td>2.75</td>\n",
              "      <td>1</td>\n",
              "      <td>0</td>\n",
              "      <td>0</td>\n",
              "      <td>0</td>\n",
              "      <td>1</td>\n",
              "      <td>3</td>\n",
              "      <td>2</td>\n",
              "      <td>43</td>\n",
              "      <td>0</td>\n",
              "    </tr>\n",
              "  </tbody>\n",
              "</table>\n",
              "<p>5 rows × 59 columns</p>\n",
              "</div>\n",
              "      <button class=\"colab-df-convert\" onclick=\"convertToInteractive('df-928ef028-d2d9-45db-9531-81bf80130f49')\"\n",
              "              title=\"Convert this dataframe to an interactive table.\"\n",
              "              style=\"display:none;\">\n",
              "        \n",
              "  <svg xmlns=\"http://www.w3.org/2000/svg\" height=\"24px\"viewBox=\"0 0 24 24\"\n",
              "       width=\"24px\">\n",
              "    <path d=\"M0 0h24v24H0V0z\" fill=\"none\"/>\n",
              "    <path d=\"M18.56 5.44l.94 2.06.94-2.06 2.06-.94-2.06-.94-.94-2.06-.94 2.06-2.06.94zm-11 1L8.5 8.5l.94-2.06 2.06-.94-2.06-.94L8.5 2.5l-.94 2.06-2.06.94zm10 10l.94 2.06.94-2.06 2.06-.94-2.06-.94-.94-2.06-.94 2.06-2.06.94z\"/><path d=\"M17.41 7.96l-1.37-1.37c-.4-.4-.92-.59-1.43-.59-.52 0-1.04.2-1.43.59L10.3 9.45l-7.72 7.72c-.78.78-.78 2.05 0 2.83L4 21.41c.39.39.9.59 1.41.59.51 0 1.02-.2 1.41-.59l7.78-7.78 2.81-2.81c.8-.78.8-2.07 0-2.86zM5.41 20L4 18.59l7.72-7.72 1.47 1.35L5.41 20z\"/>\n",
              "  </svg>\n",
              "      </button>\n",
              "      \n",
              "  <style>\n",
              "    .colab-df-container {\n",
              "      display:flex;\n",
              "      flex-wrap:wrap;\n",
              "      gap: 12px;\n",
              "    }\n",
              "\n",
              "    .colab-df-convert {\n",
              "      background-color: #E8F0FE;\n",
              "      border: none;\n",
              "      border-radius: 50%;\n",
              "      cursor: pointer;\n",
              "      display: none;\n",
              "      fill: #1967D2;\n",
              "      height: 32px;\n",
              "      padding: 0 0 0 0;\n",
              "      width: 32px;\n",
              "    }\n",
              "\n",
              "    .colab-df-convert:hover {\n",
              "      background-color: #E2EBFA;\n",
              "      box-shadow: 0px 1px 2px rgba(60, 64, 67, 0.3), 0px 1px 3px 1px rgba(60, 64, 67, 0.15);\n",
              "      fill: #174EA6;\n",
              "    }\n",
              "\n",
              "    [theme=dark] .colab-df-convert {\n",
              "      background-color: #3B4455;\n",
              "      fill: #D2E3FC;\n",
              "    }\n",
              "\n",
              "    [theme=dark] .colab-df-convert:hover {\n",
              "      background-color: #434B5C;\n",
              "      box-shadow: 0px 1px 3px 1px rgba(0, 0, 0, 0.15);\n",
              "      filter: drop-shadow(0px 1px 2px rgba(0, 0, 0, 0.3));\n",
              "      fill: #FFFFFF;\n",
              "    }\n",
              "  </style>\n",
              "\n",
              "      <script>\n",
              "        const buttonEl =\n",
              "          document.querySelector('#df-928ef028-d2d9-45db-9531-81bf80130f49 button.colab-df-convert');\n",
              "        buttonEl.style.display =\n",
              "          google.colab.kernel.accessAllowed ? 'block' : 'none';\n",
              "\n",
              "        async function convertToInteractive(key) {\n",
              "          const element = document.querySelector('#df-928ef028-d2d9-45db-9531-81bf80130f49');\n",
              "          const dataTable =\n",
              "            await google.colab.kernel.invokeFunction('convertToInteractive',\n",
              "                                                     [key], {});\n",
              "          if (!dataTable) return;\n",
              "\n",
              "          const docLinkHtml = 'Like what you see? Visit the ' +\n",
              "            '<a target=\"_blank\" href=https://colab.research.google.com/notebooks/data_table.ipynb>data table notebook</a>'\n",
              "            + ' to learn more about interactive tables.';\n",
              "          element.innerHTML = '';\n",
              "          dataTable['output_type'] = 'display_data';\n",
              "          await google.colab.output.renderOutput(dataTable, element);\n",
              "          const docLink = document.createElement('div');\n",
              "          docLink.innerHTML = docLinkHtml;\n",
              "          element.appendChild(docLink);\n",
              "        }\n",
              "      </script>\n",
              "    </div>\n",
              "  </div>\n",
              "  "
            ]
          },
          "metadata": {},
          "execution_count": 108
        }
      ],
      "source": [
        "df = pd.read_json(\"/content/drive/MyDrive/nfl-big-data-bowl-2023/data/dataset_week1.json\")\n",
        "df.head()"
      ]
    },
    {
      "cell_type": "code",
      "execution_count": 109,
      "metadata": {
        "id": "v5mAgPj_XK_u"
      },
      "outputs": [],
      "source": [
        "def make_features(df: pd.DataFrame, feats: list, outcomes: list):\n",
        "    X, y  = [], []\n",
        "    grouped_df = df.groupby([\"nfl_id\",\"game_id\",\"play_id\"])\n",
        "    for group_name, group_df in grouped_df:\n",
        "      X.append(group_df[feats].to_numpy())\n",
        "      y.append(group_df[outcomes].to_numpy()[0])\n",
        "    \n",
        "    X = tf.keras.utils.pad_sequences(X ,dtype=\"float\", padding=\"pre\", value= -99)\n",
        "    y = tf.keras.utils.pad_sequences(y ,dtype=\"float\", padding=\"pre\", value= -99)\n",
        "    return X, y"
      ]
    },
    {
      "cell_type": "code",
      "execution_count": 110,
      "metadata": {
        "id": "DXbgn_9uXK_v"
      },
      "outputs": [],
      "source": [
        "feats = [\"x\",\"y\",\"ball_x\",\"ball_y\", \"score_delta\", \"absolute_yardline_number\", \"quarter\", \"down\", \"yards_to_go\"] + [c for c in list(df.columns) if \"opponent_\" in c or \"teammate_\" in c]\n",
        "outcomes = [\"pff_hurry\" ,\"pff_hit\", \"pff_sack\", \"pff_no_impact\"]\n",
        "# outcomes = [\"pff_sack\"]\n",
        "\n",
        "X, y = make_features(df, feats, outcomes)\n",
        "\n",
        "split = 0.8\n",
        "num_train = round(split * X.shape[0])\n",
        "\n",
        "X_train = X[:num_train]\n",
        "y_train = y[:num_train]\n",
        "\n",
        "X_test = X[num_train:]\n",
        "y_test = y[num_train:]\n",
        "\n",
        "# del df # free up some mem"
      ]
    },
    {
      "cell_type": "code",
      "source": [
        "# set random seed for reproducibility\n",
        "\n",
        "tf.random.set_seed(42)\n",
        "np.random.seed(42)\n",
        "num_epochs = 50\n",
        "\n",
        "# create the model\n",
        "model = tf.keras.Sequential()\n",
        "model.add(tf.keras.layers.Masking(mask_value=-99.,\n",
        "                                  input_shape= X.shape[1:]))\n",
        "model.add(tf.keras.layers.LSTM(32, input_shape = X.shape[1:]))\n",
        "model.add(tf.keras.layers.Dense(y.shape[1], activation=\"softmax\"))\n",
        "\n",
        "# compile and fit the model\n",
        "model.compile(loss=\"categorical_crossentropy\", optimizer=\"adam\", metrics = [\"accuracy\"])\n",
        "\n",
        "model.fit(X_train, y_train, epochs = num_epochs, verbose=0)\n",
        "model.evaluate(X_test, y_test)"
      ],
      "metadata": {
        "id": "qcQVj0YNcu8I",
        "colab": {
          "base_uri": "https://localhost:8080/"
        },
        "outputId": "36531838-ebb1-4886-8f16-efaf3288b14a"
      },
      "execution_count": 111,
      "outputs": [
        {
          "output_type": "stream",
          "name": "stdout",
          "text": [
            "30/30 [==============================] - 1s 11ms/step - loss: 0.5024 - accuracy: 0.8699\n"
          ]
        },
        {
          "output_type": "execute_result",
          "data": {
            "text/plain": [
              "[0.5023863315582275, 0.8698845505714417]"
            ]
          },
          "metadata": {},
          "execution_count": 111
        }
      ]
    },
    {
      "cell_type": "code",
      "source": [
        "for i,j in zip(model.predict(X_test[100:125]), y_test[100:125]):\n",
        "  print(i,j)"
      ],
      "metadata": {
        "id": "AOtiuCK0thqX",
        "colab": {
          "base_uri": "https://localhost:8080/"
        },
        "outputId": "1f081f6b-d142-48b7-ebb1-eeb1abb75d6b"
      },
      "execution_count": 112,
      "outputs": [
        {
          "output_type": "stream",
          "name": "stdout",
          "text": [
            "1/1 [==============================] - 1s 1s/step\n",
            "[0.03396212 0.00225544 0.00510459 0.95867795] [0. 0. 0. 1.]\n",
            "[1.0307083e-05 4.7134372e-04 1.6471419e-06 9.9951673e-01] [0. 0. 0. 1.]\n",
            "[0.00723533 0.00273429 0.0045269  0.9855035 ] [0. 0. 0. 1.]\n",
            "[0.1323409  0.00866639 0.08384424 0.7751485 ] [0. 0. 0. 1.]\n",
            "[7.2882761e-04 1.2832174e-04 1.4001319e-05 9.9912882e-01] [0. 0. 0. 1.]\n",
            "[6.0066279e-05 4.6702055e-05 4.7518603e-05 9.9984574e-01] [0. 0. 0. 1.]\n",
            "[5.2289529e-06 2.6198813e-06 5.3819645e-07 9.9999160e-01] [0. 0. 0. 1.]\n",
            "[0.00212622 0.06397607 0.00099435 0.93290335] [0. 1. 0. 0.]\n",
            "[1.3189148e-03 4.4264612e-03 1.0472942e-04 9.9414986e-01] [0. 0. 0. 1.]\n",
            "[0.00790045 0.05725579 0.00219561 0.9326482 ] [0. 0. 0. 1.]\n",
            "[2.9907972e-03 4.9779592e-03 2.5778891e-05 9.9200553e-01] [0. 0. 0. 1.]\n",
            "[0.04120376 0.00591319 0.00415257 0.94873047] [0. 0. 0. 1.]\n",
            "[0.20256712 0.05397035 0.6372721  0.10619043] [0. 0. 0. 1.]\n",
            "[9.1743737e-04 9.9804802e-03 4.3335538e-03 9.8476857e-01] [0. 0. 0. 1.]\n",
            "[5.7796369e-05 6.8122626e-04 2.2912009e-04 9.9903190e-01] [0. 0. 0. 1.]\n",
            "[0.00384397 0.00897621 0.00260017 0.9845797 ] [1. 0. 0. 0.]\n",
            "[0.0065184  0.02041904 0.0070547  0.96600777] [0. 0. 0. 1.]\n",
            "[0.7921287  0.01293346 0.01709586 0.17784202] [0. 0. 0. 1.]\n",
            "[3.2684763e-04 5.3614023e-04 4.6705527e-06 9.9913228e-01] [0. 0. 0. 1.]\n",
            "[5.630204e-05 1.617480e-05 7.847841e-06 9.999196e-01] [0. 0. 0. 1.]\n",
            "[0.00688114 0.00520333 0.00815413 0.9797613 ] [0. 0. 0. 1.]\n",
            "[0.02557137 0.03400265 0.00216965 0.93825626] [0. 0. 0. 1.]\n",
            "[1.1881285e-03 2.5694908e-04 2.1190741e-05 9.9853379e-01] [0. 0. 0. 1.]\n",
            "[0.01158461 0.01641931 0.00106411 0.97093207] [0. 0. 0. 1.]\n",
            "[1.5418092e-04 1.3348630e-03 8.1417384e-06 9.9850285e-01] [0. 0. 0. 1.]\n"
          ]
        }
      ]
    },
    {
      "cell_type": "code",
      "source": [
        "feats = [\"x\",\"y\",\"ball_x\",\"ball_y\", \"score_delta\", \"absolute_yardline_number\", \"quarter\", \"down\", \"yards_to_go\"] + [c for c in list(df.columns) if \"opponent_\" in c or \"teammate_\" in c]\n",
        "# outcomes = [\"pff_hurry\" ,\"pff_hit\", \"pff_sack\", \"pff_no_impact\"]\n",
        "outcomes = [\"pff_sack\"]\n",
        "\n",
        "X, y = make_features(df, feats, outcomes)\n",
        "\n",
        "split = 0.8\n",
        "num_train = round(split * X.shape[0])\n",
        "\n",
        "X_train = X[:num_train]\n",
        "y_train = y[:num_train].flatten()\n",
        "\n",
        "weight_for_0 = (1 / sum(y_train==[0])) * (len(y_train) / 2.0)\n",
        "weight_for_1 = (1 / sum(y_train==[1])) * (len(y_train) / 2.0)\n",
        "\n",
        "class_weight = {0: weight_for_0, 1: weight_for_1}\n",
        "\n",
        "class_weight\n",
        "\n",
        "X_test = X[num_train:]\n",
        "y_test = y[num_train:].flatten()\n",
        "\n",
        "# del df # free up some mem"
      ],
      "metadata": {
        "id": "6kh7v782vkNu"
      },
      "execution_count": 113,
      "outputs": []
    },
    {
      "cell_type": "code",
      "source": [
        "# set random seed for reproducibility\n",
        "\n",
        "tf.random.set_seed(42)\n",
        "np.random.seed(42)\n",
        "num_epochs = 1000\n",
        "\n",
        "# create the model\n",
        "model = tf.keras.Sequential()\n",
        "model.add(tf.keras.layers.Masking(mask_value=-99.,\n",
        "                                  input_shape= X.shape[1:]))\n",
        "model.add(tf.keras.layers.LSTM(32, input_shape = X.shape[1:]))\n",
        "model.add(tf.keras.layers.Dense(y.shape[1], activation=\"sigmoid\"))\n",
        "\n",
        "# compile and fit the model\n",
        "model.compile(loss=\"binary_crossentropy\", optimizer=\"adam\", metrics = [tf.keras.metrics.AUC()])\n",
        "\n",
        "model.fit(X_train, y_train, epochs = num_epochs, class_weight=class_weight, verbose=0)\n",
        "model.evaluate(X_test, y_test)"
      ],
      "metadata": {
        "id": "5_mWkKwjuin3",
        "colab": {
          "base_uri": "https://localhost:8080/"
        },
        "outputId": "d2455340-17e9-4715-f05a-0a65421c1245"
      },
      "execution_count": 114,
      "outputs": [
        {
          "output_type": "stream",
          "name": "stdout",
          "text": [
            "30/30 [==============================] - 2s 11ms/step - loss: 0.0911 - auc_2: 0.7212\n"
          ]
        },
        {
          "output_type": "execute_result",
          "data": {
            "text/plain": [
              "[0.0911240428686142, 0.7212216854095459]"
            ]
          },
          "metadata": {},
          "execution_count": 114
        }
      ]
    },
    {
      "cell_type": "code",
      "source": [
        "for i,j in zip(model.predict(X_test), y_test):\n",
        "  if j == [1]:\n",
        "    print(i,j)"
      ],
      "metadata": {
        "id": "9TS6J035vn-6",
        "colab": {
          "base_uri": "https://localhost:8080/"
        },
        "outputId": "4fd8fd47-5a0f-40e2-9d51-b1e7d8b5d68b"
      },
      "execution_count": 115,
      "outputs": [
        {
          "output_type": "stream",
          "name": "stdout",
          "text": [
            "30/30 [==============================] - 1s 11ms/step\n",
            "[8.067905e-06] 1.0\n",
            "[0.00168219] 1.0\n",
            "[0.01676147] 1.0\n",
            "[0.02591879] 1.0\n",
            "[0.5811265] 1.0\n",
            "[1.3351973e-05] 1.0\n",
            "[0.01554512] 1.0\n",
            "[2.2134785e-05] 1.0\n",
            "[0.91253096] 1.0\n"
          ]
        }
      ]
    },
    {
      "cell_type": "code",
      "execution_count": 116,
      "metadata": {
        "scrolled": false,
        "id": "7UeH5LZUXK_z"
      },
      "outputs": [],
      "source": [
        "# # set random seed for reproducibility\n",
        "\n",
        "# tf.random.set_seed(42)\n",
        "# np.random.seed(42)\n",
        "# NUM_EPOCHS = 50\n",
        "\n",
        "# # create the model\n",
        "# model = tf.keras.Sequential()\n",
        "# model.add(tf.keras.layers.Masking(mask_value=-99.,\n",
        "#                                   input_shape= X.shape[1:]))\n",
        "# model.add(tf.keras.layers.LSTM(32, input_shape = X.shape[1:]))\n",
        "# model.add(tf.keras.layers.Dense(y.shape[1], activation=\"sigmoid\"))\n",
        "\n",
        "# # compile and fit the model\n",
        "# model.compile(loss=\"binary_crossentropy\", optimizer=\"adam\", metrics = [tf.keras.metrics.AUC(), tf.keras.metrics.Precision(), tf.keras.metrics.Recall(),\n",
        "#                                                                        tf.keras.metrics.TruePositives(), tf.keras.metrics.TrueNegatives(), tf.keras.metrics.FalsePositives(),\n",
        "#                                                                        tf.keras.metrics.FalseNegatives()])\n",
        "\n",
        "# logdir = os.path.join(\"/content/drive/MyDrive/nfl-big-data-bowl-2023/logs\", datetime.datetime.now().strftime(\"%Y%m%d-%H%M%S\"))\n",
        "# tensorboard_callback = tf.keras.callbacks.TensorBoard(logdir, histogram_freq=1)\n",
        "\n",
        "# model.fit(X_train, y_train, epochs=NUM_EPOCHS, verbose=0, callbacks=[tensorboard_callback])\n",
        "# model.evaluate(X_test, y_test)"
      ]
    },
    {
      "cell_type": "code",
      "source": [
        "# X2, y2  = [], []\n",
        "# grouped_df = df.groupby([\"nfl_id\",\"game_id\",\"play_id\"])\n",
        "# for group_name, group_df in grouped_df:\n",
        "#   X2.append(group_df[[\"x\",\"y\",\"ball_x\",\"ball_y\"]].to_numpy()[-1])\n",
        "#   y2.append(group_df[outcomes].to_numpy()[-1])\n",
        "# X2 = np.asmatrix(X2)\n",
        "# y2 = np.array(y2).flatten()\n",
        "# split = 0.8\n",
        "# num_train = round(split * X2.shape[0])\n",
        "\n",
        "# X2_train = np.stack(X2[:num_train])\n",
        "# y2_train = np.stack(y2[:num_train])\n",
        "\n",
        "# X2_test = np.stack(X2[num_train:])\n",
        "# y2_test = np.stack(y2[num_train:])\n",
        "\n",
        "# mod = LogisticRegression()\n",
        "# mod.fit(X2_train, y2_train)\n",
        "# preds = mod.predict_proba(X2_test)[:,1]\n",
        "# fpr, tpr, thresholds = metrics.roc_curve(y2_test, preds)\n",
        "# metrics.auc(fpr, tpr)"
      ],
      "metadata": {
        "id": "YtV0PLWuCAUl"
      },
      "execution_count": 117,
      "outputs": []
    },
    {
      "cell_type": "code",
      "source": [
        "# %tensorboard --logdir /content/drive/MyDrive/nfl-big-data-bowl-2023/logs"
      ],
      "metadata": {
        "id": "gBrZhcbpyd2b"
      },
      "execution_count": 118,
      "outputs": []
    },
    {
      "cell_type": "code",
      "source": [],
      "metadata": {
        "id": "Zp39jl0OG6a8"
      },
      "execution_count": 118,
      "outputs": []
    }
  ],
  "metadata": {
    "kernelspec": {
      "display_name": "Python 3 (ipykernel)",
      "language": "python",
      "name": "python3"
    },
    "language_info": {
      "codemirror_mode": {
        "name": "ipython",
        "version": 3
      },
      "file_extension": ".py",
      "mimetype": "text/x-python",
      "name": "python",
      "nbconvert_exporter": "python",
      "pygments_lexer": "ipython3",
      "version": "3.9.2"
    },
    "vscode": {
      "interpreter": {
        "hash": "84233dc2148a4ba24349c930a847c50600752012508169725523fba31fb5cdf9"
      }
    },
    "colab": {
      "provenance": [],
      "include_colab_link": true
    }
  },
  "nbformat": 4,
  "nbformat_minor": 0
}