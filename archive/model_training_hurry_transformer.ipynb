{
 "cells": [
  {
   "cell_type": "markdown",
   "metadata": {
    "colab_type": "text",
    "id": "view-in-github"
   },
   "source": [
    "<a href=\"https://colab.research.google.com/github/jskaza/nfl-big-data-bowl-2023/blob/master/model_training_multiclass.ipynb\" target=\"_parent\"><img src=\"https://colab.research.google.com/assets/colab-badge.svg\" alt=\"Open In Colab\"/></a>"
   ]
  },
  {
   "cell_type": "code",
   "execution_count": 1,
   "metadata": {
    "colab": {
     "base_uri": "https://localhost:8080/"
    },
    "id": "7tFSzTpcXK_m",
    "outputId": "c694a464-d729-4c35-f3bc-6b4d1affedf6",
    "scrolled": false
   },
   "outputs": [
    {
     "name": "stderr",
     "output_type": "stream",
     "text": [
      "2023-01-03 21:01:44.548918: I tensorflow/core/platform/cpu_feature_guard.cc:193] This TensorFlow binary is optimized with oneAPI Deep Neural Network Library (oneDNN) to use the following CPU instructions in performance-critical operations:  AVX2 FMA\n",
      "To enable them in other operations, rebuild TensorFlow with the appropriate compiler flags.\n",
      "2023-01-03 21:01:45.286759: W tensorflow/compiler/xla/stream_executor/platform/default/dso_loader.cc:64] Could not load dynamic library 'libcudart.so.11.0'; dlerror: libcudart.so.11.0: cannot open shared object file: No such file or directory\n",
      "2023-01-03 21:01:45.286840: I tensorflow/compiler/xla/stream_executor/cuda/cudart_stub.cc:29] Ignore above cudart dlerror if you do not have a GPU set up on your machine.\n",
      "2023-01-03 21:01:48.428889: W tensorflow/compiler/xla/stream_executor/platform/default/dso_loader.cc:64] Could not load dynamic library 'libnvinfer.so.7'; dlerror: libnvinfer.so.7: cannot open shared object file: No such file or directory\n",
      "2023-01-03 21:01:48.430225: W tensorflow/compiler/xla/stream_executor/platform/default/dso_loader.cc:64] Could not load dynamic library 'libnvinfer_plugin.so.7'; dlerror: libnvinfer_plugin.so.7: cannot open shared object file: No such file or directory\n",
      "2023-01-03 21:01:48.430263: W tensorflow/compiler/tf2tensorrt/utils/py_utils.cc:38] TF-TRT Warning: Cannot dlopen some TensorRT libraries. If you would like to use Nvidia GPU with TensorRT, please make sure the missing libraries mentioned above are installed properly.\n"
     ]
    }
   ],
   "source": [
    "import os\n",
    "import datetime\n",
    "import numpy as np\n",
    "import matplotlib.pyplot as plt\n",
    "import matplotlib.animation as animation\n",
    "import pandas as pd\n",
    "import tensorflow as tf\n",
    "from tensorflow import keras\n",
    "from tensorflow.keras import layers\n",
    "import math\n",
    "from sklearn.linear_model import LogisticRegression"
   ]
  },
  {
   "cell_type": "code",
   "execution_count": 2,
   "metadata": {
    "colab": {
     "base_uri": "https://localhost:8080/",
     "height": 473
    },
    "id": "Ox-a-y6_XK_r",
    "outputId": "487f4bfa-dd81-49d7-f7ae-697f26016307",
    "scrolled": true
   },
   "outputs": [
    {
     "data": {
      "text/html": [
       "<div>\n",
       "<style scoped>\n",
       "    .dataframe tbody tr th:only-of-type {\n",
       "        vertical-align: middle;\n",
       "    }\n",
       "\n",
       "    .dataframe tbody tr th {\n",
       "        vertical-align: top;\n",
       "    }\n",
       "\n",
       "    .dataframe thead th {\n",
       "        text-align: right;\n",
       "    }\n",
       "</style>\n",
       "<table border=\"1\" class=\"dataframe\">\n",
       "  <thead>\n",
       "    <tr style=\"text-align: right;\">\n",
       "      <th></th>\n",
       "      <th>nfl_id</th>\n",
       "      <th>opponent_x</th>\n",
       "      <th>opponent_y</th>\n",
       "      <th>teammate_x</th>\n",
       "      <th>teammate_y</th>\n",
       "      <th>ball_x</th>\n",
       "      <th>ball_y</th>\n",
       "      <th>game_id</th>\n",
       "      <th>play_id</th>\n",
       "      <th>frame_id</th>\n",
       "      <th>...</th>\n",
       "      <th>pff_sack</th>\n",
       "      <th>pff_position_lined_up</th>\n",
       "      <th>quarter</th>\n",
       "      <th>down</th>\n",
       "      <th>yards_to_go</th>\n",
       "      <th>absolute_yardline_number</th>\n",
       "      <th>personnel_o</th>\n",
       "      <th>defenders_in_box</th>\n",
       "      <th>offense_formation</th>\n",
       "      <th>score_delta</th>\n",
       "    </tr>\n",
       "  </thead>\n",
       "  <tbody>\n",
       "    <tr>\n",
       "      <th>0</th>\n",
       "      <td>41263</td>\n",
       "      <td>[-2.61, -1.29, 0.1, 1.73, 3]</td>\n",
       "      <td>[0.45, 0.15, -0.54, -0.37, 0.18]</td>\n",
       "      <td>[-1.99, 1.26, 2.75, 8.71]</td>\n",
       "      <td>[-2.12, -1.79, -2.14, -2.34]</td>\n",
       "      <td>0.0</td>\n",
       "      <td>0.0</td>\n",
       "      <td>2021090900</td>\n",
       "      <td>97</td>\n",
       "      <td>6</td>\n",
       "      <td>...</td>\n",
       "      <td>0</td>\n",
       "      <td>LEO</td>\n",
       "      <td>1</td>\n",
       "      <td>3</td>\n",
       "      <td>2</td>\n",
       "      <td>43</td>\n",
       "      <td>1 RB, 1 TE, 3 WR</td>\n",
       "      <td>6.0</td>\n",
       "      <td>SHOTGUN</td>\n",
       "      <td>0</td>\n",
       "    </tr>\n",
       "    <tr>\n",
       "      <th>1</th>\n",
       "      <td>42403</td>\n",
       "      <td>[3, 1.73, 0.1, -1.29, -2.61]</td>\n",
       "      <td>[0.18, -0.37, -0.54, 0.15, 0.45]</td>\n",
       "      <td>[2.75, 1.26, -1.99, -5.03]</td>\n",
       "      <td>[-2.14, -1.79, -2.12, -1.74]</td>\n",
       "      <td>0.0</td>\n",
       "      <td>0.0</td>\n",
       "      <td>2021090900</td>\n",
       "      <td>97</td>\n",
       "      <td>6</td>\n",
       "      <td>...</td>\n",
       "      <td>0</td>\n",
       "      <td>ROLB</td>\n",
       "      <td>1</td>\n",
       "      <td>3</td>\n",
       "      <td>2</td>\n",
       "      <td>43</td>\n",
       "      <td>1 RB, 1 TE, 3 WR</td>\n",
       "      <td>6.0</td>\n",
       "      <td>SHOTGUN</td>\n",
       "      <td>0</td>\n",
       "    </tr>\n",
       "    <tr>\n",
       "      <th>2</th>\n",
       "      <td>44955</td>\n",
       "      <td>[1.73, 0.1, 3, -1.29, -2.61]</td>\n",
       "      <td>[-0.37, -0.54, 0.18, 0.15, 0.45]</td>\n",
       "      <td>[2.75, -1.99, -5.03, 8.71]</td>\n",
       "      <td>[-2.14, -2.12, -1.74, -2.34]</td>\n",
       "      <td>0.0</td>\n",
       "      <td>0.0</td>\n",
       "      <td>2021090900</td>\n",
       "      <td>97</td>\n",
       "      <td>6</td>\n",
       "      <td>...</td>\n",
       "      <td>0</td>\n",
       "      <td>DRT</td>\n",
       "      <td>1</td>\n",
       "      <td>3</td>\n",
       "      <td>2</td>\n",
       "      <td>43</td>\n",
       "      <td>1 RB, 1 TE, 3 WR</td>\n",
       "      <td>6.0</td>\n",
       "      <td>SHOTGUN</td>\n",
       "      <td>0</td>\n",
       "    </tr>\n",
       "    <tr>\n",
       "      <th>3</th>\n",
       "      <td>53441</td>\n",
       "      <td>[-1.29, 0.1, -2.61, 1.73, 3]</td>\n",
       "      <td>[0.15, -0.54, 0.45, -0.37, 0.18]</td>\n",
       "      <td>[-5.03, 1.26, 2.75, 8.71]</td>\n",
       "      <td>[-1.74, -1.79, -2.14, -2.34]</td>\n",
       "      <td>0.0</td>\n",
       "      <td>0.0</td>\n",
       "      <td>2021090900</td>\n",
       "      <td>97</td>\n",
       "      <td>6</td>\n",
       "      <td>...</td>\n",
       "      <td>0</td>\n",
       "      <td>LILB</td>\n",
       "      <td>1</td>\n",
       "      <td>3</td>\n",
       "      <td>2</td>\n",
       "      <td>43</td>\n",
       "      <td>1 RB, 1 TE, 3 WR</td>\n",
       "      <td>6.0</td>\n",
       "      <td>SHOTGUN</td>\n",
       "      <td>0</td>\n",
       "    </tr>\n",
       "    <tr>\n",
       "      <th>4</th>\n",
       "      <td>53504</td>\n",
       "      <td>[1.73, 3, 0.1, -1.29, -2.61]</td>\n",
       "      <td>[-0.37, 0.18, -0.54, 0.15, 0.45]</td>\n",
       "      <td>[1.26, -1.99, 8.71, -5.03]</td>\n",
       "      <td>[-1.79, -2.12, -2.34, -1.74]</td>\n",
       "      <td>0.0</td>\n",
       "      <td>0.0</td>\n",
       "      <td>2021090900</td>\n",
       "      <td>97</td>\n",
       "      <td>6</td>\n",
       "      <td>...</td>\n",
       "      <td>0</td>\n",
       "      <td>RE</td>\n",
       "      <td>1</td>\n",
       "      <td>3</td>\n",
       "      <td>2</td>\n",
       "      <td>43</td>\n",
       "      <td>1 RB, 1 TE, 3 WR</td>\n",
       "      <td>6.0</td>\n",
       "      <td>SHOTGUN</td>\n",
       "      <td>0</td>\n",
       "    </tr>\n",
       "  </tbody>\n",
       "</table>\n",
       "<p>5 rows × 24 columns</p>\n",
       "</div>"
      ],
      "text/plain": [
       "   nfl_id                    opponent_x                        opponent_y  \\\n",
       "0   41263  [-2.61, -1.29, 0.1, 1.73, 3]  [0.45, 0.15, -0.54, -0.37, 0.18]   \n",
       "1   42403  [3, 1.73, 0.1, -1.29, -2.61]  [0.18, -0.37, -0.54, 0.15, 0.45]   \n",
       "2   44955  [1.73, 0.1, 3, -1.29, -2.61]  [-0.37, -0.54, 0.18, 0.15, 0.45]   \n",
       "3   53441  [-1.29, 0.1, -2.61, 1.73, 3]  [0.15, -0.54, 0.45, -0.37, 0.18]   \n",
       "4   53504  [1.73, 3, 0.1, -1.29, -2.61]  [-0.37, 0.18, -0.54, 0.15, 0.45]   \n",
       "\n",
       "                   teammate_x                    teammate_y  ball_x  ball_y  \\\n",
       "0   [-1.99, 1.26, 2.75, 8.71]  [-2.12, -1.79, -2.14, -2.34]     0.0     0.0   \n",
       "1  [2.75, 1.26, -1.99, -5.03]  [-2.14, -1.79, -2.12, -1.74]     0.0     0.0   \n",
       "2  [2.75, -1.99, -5.03, 8.71]  [-2.14, -2.12, -1.74, -2.34]     0.0     0.0   \n",
       "3   [-5.03, 1.26, 2.75, 8.71]  [-1.74, -1.79, -2.14, -2.34]     0.0     0.0   \n",
       "4  [1.26, -1.99, 8.71, -5.03]  [-1.79, -2.12, -2.34, -1.74]     0.0     0.0   \n",
       "\n",
       "      game_id  play_id  frame_id  ...  pff_sack  pff_position_lined_up  \\\n",
       "0  2021090900       97         6  ...         0                    LEO   \n",
       "1  2021090900       97         6  ...         0                   ROLB   \n",
       "2  2021090900       97         6  ...         0                    DRT   \n",
       "3  2021090900       97         6  ...         0                   LILB   \n",
       "4  2021090900       97         6  ...         0                     RE   \n",
       "\n",
       "   quarter  down  yards_to_go absolute_yardline_number       personnel_o  \\\n",
       "0        1     3            2                       43  1 RB, 1 TE, 3 WR   \n",
       "1        1     3            2                       43  1 RB, 1 TE, 3 WR   \n",
       "2        1     3            2                       43  1 RB, 1 TE, 3 WR   \n",
       "3        1     3            2                       43  1 RB, 1 TE, 3 WR   \n",
       "4        1     3            2                       43  1 RB, 1 TE, 3 WR   \n",
       "\n",
       "   defenders_in_box  offense_formation  score_delta  \n",
       "0               6.0            SHOTGUN            0  \n",
       "1               6.0            SHOTGUN            0  \n",
       "2               6.0            SHOTGUN            0  \n",
       "3               6.0            SHOTGUN            0  \n",
       "4               6.0            SHOTGUN            0  \n",
       "\n",
       "[5 rows x 24 columns]"
      ]
     },
     "execution_count": 2,
     "metadata": {},
     "output_type": "execute_result"
    }
   ],
   "source": [
    "input_file_name = 'dataset_week1.json'\n",
    "filepath = os.path.join(os.getenv('NFL_DATA'), input_file_name)\n",
    "df = pd.read_json(filepath)\n",
    "\n",
    "#df = pd.read_json(\"/content/drive/MyDrive/nfl-big-data-bowl-2023/data/dataset_week1.json\")\n",
    "df.head()"
   ]
  },
  {
   "cell_type": "code",
   "execution_count": 3,
   "metadata": {
    "id": "v5mAgPj_XK_u"
   },
   "outputs": [],
   "source": [
    "def make_features(df: pd.DataFrame, feats: list, outcomes: list):\n",
    "    X, y  = [], []\n",
    "    grouped_df = df.groupby([\"nfl_id\",\"game_id\",\"play_id\"])\n",
    "    for group_name, group_df in grouped_df:\n",
    "      X.append(group_df[feats].to_numpy())\n",
    "      y.append(group_df[outcomes].to_numpy()[0])\n",
    "    \n",
    "    X = tf.keras.utils.pad_sequences(X ,dtype=\"float\", padding=\"pre\", value= -99)\n",
    "    y = tf.keras.utils.pad_sequences(y ,dtype=\"float\", padding=\"pre\", value= -99)\n",
    "    return X, y"
   ]
  },
  {
   "cell_type": "code",
   "execution_count": 4,
   "metadata": {
    "id": "DXbgn_9uXK_v"
   },
   "outputs": [],
   "source": [
    "feats = [\"x\",\"y\",\"ball_x\",\"ball_y\"]\n",
    "outcomes = [\"pff_hurry\"]\n",
    "X, y = make_features(df, feats, outcomes)\n",
    "\n",
    "split = 0.8\n",
    "num_train = round(split * X.shape[0])\n",
    "\n",
    "X_train = X[:num_train]\n",
    "y_train = y[:num_train]\n",
    "\n",
    "X_test = X[num_train:]\n",
    "y_test = y[num_train:]\n"
   ]
  },
  {
   "cell_type": "code",
   "execution_count": 5,
   "metadata": {},
   "outputs": [],
   "source": [
    "# set random seed for reproducibility\n",
    "\n",
    "tf.random.set_seed(42)\n",
    "np.random.seed(42)\n",
    "NUM_EPOCHS = 10"
   ]
  },
  {
   "cell_type": "markdown",
   "metadata": {},
   "source": [
    "# Our Model"
   ]
  },
  {
   "cell_type": "code",
   "execution_count": 6,
   "metadata": {
    "colab": {
     "base_uri": "https://localhost:8080/"
    },
    "id": "7UeH5LZUXK_z",
    "outputId": "080027ec-8f0a-4e30-b8fb-1209e243dc37",
    "scrolled": false
   },
   "outputs": [
    {
     "name": "stderr",
     "output_type": "stream",
     "text": [
      "2023-01-03 17:14:03.788249: W tensorflow/compiler/xla/stream_executor/platform/default/dso_loader.cc:64] Could not load dynamic library 'libcuda.so.1'; dlerror: libcuda.so.1: cannot open shared object file: No such file or directory\n",
      "2023-01-03 17:14:03.788785: W tensorflow/compiler/xla/stream_executor/cuda/cuda_driver.cc:265] failed call to cuInit: UNKNOWN ERROR (303)\n",
      "2023-01-03 17:14:03.789074: I tensorflow/compiler/xla/stream_executor/cuda/cuda_diagnostics.cc:156] kernel driver does not appear to be running on this host (penguin): /proc/driver/nvidia/version does not exist\n",
      "2023-01-03 17:14:04.091676: I tensorflow/core/platform/cpu_feature_guard.cc:193] This TensorFlow binary is optimized with oneAPI Deep Neural Network Library (oneDNN) to use the following CPU instructions in performance-critical operations:  AVX2 FMA\n",
      "To enable them in other operations, rebuild TensorFlow with the appropriate compiler flags.\n"
     ]
    },
    {
     "name": "stdout",
     "output_type": "stream",
     "text": [
      "Epoch 1/10\n",
      "102/102 [==============================] - 16s 108ms/step - loss: 0.3947 - auc: 0.5693 - val_loss: 0.2418 - val_auc: 0.7688\n",
      "Epoch 2/10\n",
      "102/102 [==============================] - 9s 85ms/step - loss: 0.2367 - auc: 0.7946 - val_loss: 0.2204 - val_auc: 0.8352\n",
      "Epoch 3/10\n",
      "102/102 [==============================] - 11s 108ms/step - loss: 0.2200 - auc: 0.8309 - val_loss: 0.2212 - val_auc: 0.8433\n",
      "Epoch 4/10\n",
      "102/102 [==============================] - 13s 128ms/step - loss: 0.2127 - auc: 0.8483 - val_loss: 0.2021 - val_auc: 0.8518\n",
      "Epoch 5/10\n",
      "102/102 [==============================] - 9s 86ms/step - loss: 0.2070 - auc: 0.8599 - val_loss: 0.2031 - val_auc: 0.8564\n",
      "Epoch 6/10\n",
      "102/102 [==============================] - 10s 98ms/step - loss: 0.2012 - auc: 0.8720 - val_loss: 0.2045 - val_auc: 0.8697\n",
      "Epoch 7/10\n",
      "102/102 [==============================] - 10s 95ms/step - loss: 0.1952 - auc: 0.8852 - val_loss: 0.2008 - val_auc: 0.8723\n",
      "Epoch 8/10\n",
      "102/102 [==============================] - 9s 84ms/step - loss: 0.1907 - auc: 0.8930 - val_loss: 0.1914 - val_auc: 0.8763\n",
      "Epoch 9/10\n",
      "102/102 [==============================] - 9s 86ms/step - loss: 0.1849 - auc: 0.9019 - val_loss: 0.1835 - val_auc: 0.8914\n",
      "Epoch 10/10\n",
      "102/102 [==============================] - 9s 83ms/step - loss: 0.1821 - auc: 0.9065 - val_loss: 0.1836 - val_auc: 0.8896\n",
      "30/30 [==============================] - 1s 22ms/step - loss: 0.1604 - auc: 0.9069\n"
     ]
    },
    {
     "data": {
      "text/plain": [
       "[0.16040872037410736, 0.9069408178329468]"
      ]
     },
     "execution_count": 6,
     "metadata": {},
     "output_type": "execute_result"
    }
   ],
   "source": [
    "# create the model\n",
    "model = tf.keras.Sequential()\n",
    "model.add(tf.keras.layers.Masking(mask_value=-99.,input_shape= X.shape[1:]))\n",
    "model.add(tf.keras.layers.LSTM(32, input_shape = X.shape[1:]))\n",
    "model.add(tf.keras.layers.Dense(y.shape[1], activation=\"sigmoid\"))\n",
    "\n",
    "# compile and fit the model\n",
    "model.compile(loss=\"binary_crossentropy\", optimizer=\"adam\", metrics = [tf.keras.metrics.AUC()])\n",
    "\n",
    "callbacks = [keras.callbacks.EarlyStopping(patience=10, \\\n",
    "    restore_best_weights=True)]\n",
    "\n",
    "model.fit(\n",
    "    X_train,\n",
    "    y_train,\n",
    "    validation_split=0.15,\n",
    "    epochs=NUM_EPOCHS,\n",
    "    #batch_size=64,\n",
    "    callbacks=callbacks,\n",
    ")\n",
    "\n",
    "model.evaluate(X_test, y_test, verbose=1)"
   ]
  },
  {
   "cell_type": "markdown",
   "metadata": {},
   "source": [
    "# Modified Transformer Example"
   ]
  },
  {
   "cell_type": "code",
   "execution_count": 9,
   "metadata": {},
   "outputs": [],
   "source": [
    "def transformer_encoder(inputs, head_size, num_heads, ff_dim, dropout=0):\n",
    "    # Normalization and Attention\n",
    "    x = layers.LayerNormalization(epsilon=1e-6)(inputs)\n",
    "    x = layers.MultiHeadAttention(key_dim=head_size, num_heads=num_heads, dropout=dropout)(x, x)\n",
    "    x = layers.Dropout(dropout)(x)\n",
    "    res = x + inputs\n",
    "\n",
    "    # Feed Forward Part\n",
    "    x = layers.LayerNormalization(epsilon=1e-6)(res)\n",
    "    x = layers.Conv1D(filters=ff_dim, kernel_size=1, activation=\"relu\")(x)\n",
    "    x = layers.Dropout(dropout)(x)\n",
    "    x = layers.Conv1D(filters=inputs.shape[-1], kernel_size=1)(x)\n",
    "    return x + res"
   ]
  },
  {
   "cell_type": "code",
   "execution_count": 18,
   "metadata": {},
   "outputs": [],
   "source": [
    "def build_model(\n",
    "    input_shape,\n",
    "    head_size,\n",
    "    num_heads,\n",
    "    ff_dim,\n",
    "    num_transformer_blocks,\n",
    "    mlp_units,\n",
    "    lstm_units,\n",
    "    dropout=0,\n",
    "    mlp_dropout=0,\n",
    "):\n",
    "    inputs = keras.Input(shape=input_shape)\n",
    "    x = inputs\n",
    "    x = layers.Masking(mask_value=-99.,input_shape= input_shape)(x)\n",
    "    x = layers.LSTM(lstm_units, input_shape = input_shape, return_sequences=True)(x)\n",
    "\n",
    "    for _ in range(num_transformer_blocks):\n",
    "        x = transformer_encoder(x, head_size, num_heads, ff_dim, dropout)\n",
    "\n",
    "    x = layers.GlobalAveragePooling1D(data_format=\"channels_last\")(x)\n",
    "    x = layers.Dropout(0.1)(x)\n",
    "    \n",
    "    for dim in mlp_units:\n",
    "        x = layers.Dense(dim, activation=\"relu\")(x)\n",
    "        x = layers.Dropout(mlp_dropout)(x)\n",
    "    \n",
    "    outputs = layers.Dense(y.shape[1], activation=\"sigmoid\")(x)\n",
    "    return keras.Model(inputs, outputs)"
   ]
  },
  {
   "cell_type": "code",
   "execution_count": 15,
   "metadata": {},
   "outputs": [
    {
     "name": "stdout",
     "output_type": "stream",
     "text": [
      "Epoch 1/10\n",
      "102/102 [==============================] - 107s 826ms/step - loss: 0.3208 - auc_1: 0.5175 - val_loss: 0.2355 - val_auc_1: 0.7411\n",
      "Epoch 2/10\n",
      "102/102 [==============================] - 83s 818ms/step - loss: 0.2544 - auc_1: 0.7471 - val_loss: 0.2508 - val_auc_1: 0.8218\n",
      "Epoch 3/10\n",
      "102/102 [==============================] - 84s 827ms/step - loss: 0.2213 - auc_1: 0.8342 - val_loss: 0.1983 - val_auc_1: 0.8801\n",
      "Epoch 4/10\n",
      "102/102 [==============================] - 83s 810ms/step - loss: 0.2090 - auc_1: 0.8628 - val_loss: 0.1821 - val_auc_1: 0.8943\n",
      "Epoch 5/10\n",
      "102/102 [==============================] - 87s 855ms/step - loss: 0.1912 - auc_1: 0.8883 - val_loss: 0.1951 - val_auc_1: 0.9010\n",
      "Epoch 6/10\n",
      "102/102 [==============================] - 91s 892ms/step - loss: 0.1848 - auc_1: 0.9013 - val_loss: 0.2036 - val_auc_1: 0.8972\n",
      "Epoch 7/10\n",
      "102/102 [==============================] - 93s 911ms/step - loss: 0.1839 - auc_1: 0.8998 - val_loss: 0.1945 - val_auc_1: 0.8814\n",
      "Epoch 8/10\n",
      "102/102 [==============================] - 90s 879ms/step - loss: 0.1811 - auc_1: 0.9041 - val_loss: 0.1821 - val_auc_1: 0.8884\n",
      "Epoch 9/10\n",
      "102/102 [==============================] - 90s 882ms/step - loss: 0.1769 - auc_1: 0.9113 - val_loss: 0.1775 - val_auc_1: 0.9011\n",
      "Epoch 10/10\n",
      "102/102 [==============================] - 91s 893ms/step - loss: 0.1704 - auc_1: 0.9187 - val_loss: 0.2003 - val_auc_1: 0.8799\n",
      "30/30 [==============================] - 8s 271ms/step - loss: 0.1416 - auc_1: 0.9273\n"
     ]
    },
    {
     "data": {
      "text/plain": [
       "[0.14161059260368347, 0.9273214340209961]"
      ]
     },
     "execution_count": 15,
     "metadata": {},
     "output_type": "execute_result"
    }
   ],
   "source": [
    "input_shape = X_train.shape[1:]\n",
    "\n",
    "model = build_model(\n",
    "    input_shape,\n",
    "    head_size=64,\n",
    "    num_heads=4,\n",
    "    ff_dim=32,\n",
    "    num_transformer_blocks=8,\n",
    "    mlp_units=[64],\n",
    "    mlp_dropout=0.2,\n",
    "    dropout=0.1,\n",
    "    \n",
    ")\n",
    "\n",
    "model.compile(\n",
    "    loss=\"binary_crossentropy\",\n",
    "    optimizer=\"adam\",\n",
    "    #optimizer=keras.optimizers.Adam(learning_rate=1e-4),\n",
    "    metrics = [tf.keras.metrics.AUC()]\n",
    ")\n",
    "#model.summary()\n",
    "\n",
    "callbacks = [keras.callbacks.EarlyStopping(patience=10, \\\n",
    "    restore_best_weights=True)]\n",
    "\n",
    "model.fit(\n",
    "    X_train,\n",
    "    y_train,\n",
    "    validation_split=0.15,\n",
    "    epochs=NUM_EPOCHS,\n",
    "    #batch_size=64,\n",
    "    callbacks=callbacks,\n",
    ")\n",
    "\n",
    "model.evaluate(X_test, y_test, verbose=1)"
   ]
  },
  {
   "cell_type": "code",
   "execution_count": null,
   "metadata": {},
   "outputs": [],
   "source": []
  },
  {
   "cell_type": "code",
   "execution_count": 16,
   "metadata": {},
   "outputs": [
    {
     "name": "stdout",
     "output_type": "stream",
     "text": [
      "Epoch 1/10\n",
      "102/102 [==============================] - 59s 457ms/step - loss: 0.2956 - auc_2: 0.6103 - val_loss: 0.2804 - val_auc_2: 0.7631\n",
      "Epoch 2/10\n",
      "102/102 [==============================] - 45s 445ms/step - loss: 0.2638 - auc_2: 0.7165 - val_loss: 0.2290 - val_auc_2: 0.8386\n",
      "Epoch 3/10\n",
      "102/102 [==============================] - 46s 449ms/step - loss: 0.2251 - auc_2: 0.8332 - val_loss: 0.1888 - val_auc_2: 0.8784\n",
      "Epoch 4/10\n",
      "102/102 [==============================] - 46s 455ms/step - loss: 0.1971 - auc_2: 0.8769 - val_loss: 0.1840 - val_auc_2: 0.8820\n",
      "Epoch 5/10\n",
      "102/102 [==============================] - 46s 449ms/step - loss: 0.2041 - auc_2: 0.8680 - val_loss: 0.1936 - val_auc_2: 0.8875\n",
      "Epoch 6/10\n",
      "102/102 [==============================] - 46s 451ms/step - loss: 0.1904 - auc_2: 0.8898 - val_loss: 0.2076 - val_auc_2: 0.8790\n",
      "Epoch 7/10\n",
      "102/102 [==============================] - 48s 471ms/step - loss: 0.1880 - auc_2: 0.8937 - val_loss: 0.1861 - val_auc_2: 0.8938\n",
      "Epoch 8/10\n",
      "102/102 [==============================] - 52s 513ms/step - loss: 0.1760 - auc_2: 0.9121 - val_loss: 0.1868 - val_auc_2: 0.8927\n",
      "Epoch 9/10\n",
      "102/102 [==============================] - 50s 487ms/step - loss: 0.1767 - auc_2: 0.9118 - val_loss: 0.1818 - val_auc_2: 0.8946\n",
      "Epoch 10/10\n",
      "102/102 [==============================] - 50s 491ms/step - loss: 0.1685 - auc_2: 0.9208 - val_loss: 0.1875 - val_auc_2: 0.8920\n",
      "30/30 [==============================] - 5s 161ms/step - loss: 0.1478 - auc_2: 0.9159\n"
     ]
    },
    {
     "data": {
      "text/plain": [
       "[0.14775151014328003, 0.9158893823623657]"
      ]
     },
     "execution_count": 16,
     "metadata": {},
     "output_type": "execute_result"
    }
   ],
   "source": [
    "model = build_model(\n",
    "    input_shape,\n",
    "    head_size=64,\n",
    "    num_heads=4,\n",
    "    ff_dim=32,\n",
    "    num_transformer_blocks=4,\n",
    "    mlp_units=[32],\n",
    "    mlp_dropout=0.2,\n",
    "    dropout=0.2,\n",
    ")\n",
    "\n",
    "model.compile(\n",
    "    loss=\"binary_crossentropy\",\n",
    "    optimizer=\"adam\",\n",
    "    #optimizer=keras.optimizers.Adam(learning_rate=1e-4),\n",
    "    metrics = [tf.keras.metrics.AUC()]\n",
    ")\n",
    "#model.summary()\n",
    "\n",
    "callbacks = [keras.callbacks.EarlyStopping(patience=10, \\\n",
    "    restore_best_weights=True)]\n",
    "\n",
    "model.fit(\n",
    "    X_train,\n",
    "    y_train,\n",
    "    validation_split=0.15,\n",
    "    epochs=NUM_EPOCHS,\n",
    "    #batch_size=64,\n",
    "    callbacks=callbacks,\n",
    ")\n",
    "\n",
    "model.evaluate(X_test, y_test, verbose=1)"
   ]
  },
  {
   "cell_type": "code",
   "execution_count": 20,
   "metadata": {},
   "outputs": [
    {
     "name": "stdout",
     "output_type": "stream",
     "text": [
      "Epoch 1/10\n",
      "102/102 [==============================] - 37s 281ms/step - loss: 0.2783 - auc_4: 0.6410 - val_loss: 0.2561 - val_auc_4: 0.7875\n",
      "Epoch 2/10\n",
      "102/102 [==============================] - 27s 261ms/step - loss: 0.2400 - auc_4: 0.7796 - val_loss: 0.2303 - val_auc_4: 0.8531\n",
      "Epoch 3/10\n",
      "102/102 [==============================] - 27s 267ms/step - loss: 0.2097 - auc_4: 0.8570 - val_loss: 0.1871 - val_auc_4: 0.8821\n",
      "Epoch 4/10\n",
      "102/102 [==============================] - 27s 267ms/step - loss: 0.1965 - auc_4: 0.8801 - val_loss: 0.1842 - val_auc_4: 0.8823\n",
      "Epoch 5/10\n",
      "102/102 [==============================] - 27s 266ms/step - loss: 0.1983 - auc_4: 0.8794 - val_loss: 0.1992 - val_auc_4: 0.8778\n",
      "Epoch 6/10\n",
      "102/102 [==============================] - 27s 263ms/step - loss: 0.1842 - auc_4: 0.9008 - val_loss: 0.2054 - val_auc_4: 0.8757\n",
      "Epoch 7/10\n",
      "102/102 [==============================] - 27s 265ms/step - loss: 0.1829 - auc_4: 0.9018 - val_loss: 0.1910 - val_auc_4: 0.8808\n",
      "Epoch 8/10\n",
      "102/102 [==============================] - 27s 268ms/step - loss: 0.1754 - auc_4: 0.9104 - val_loss: 0.1891 - val_auc_4: 0.8914\n",
      "Epoch 9/10\n",
      "102/102 [==============================] - 28s 273ms/step - loss: 0.1720 - auc_4: 0.9139 - val_loss: 0.1915 - val_auc_4: 0.8935\n",
      "Epoch 10/10\n",
      "102/102 [==============================] - 27s 264ms/step - loss: 0.1691 - auc_4: 0.9169 - val_loss: 0.1943 - val_auc_4: 0.8880\n",
      "30/30 [==============================] - 3s 88ms/step - loss: 0.1453 - auc_4: 0.9244\n"
     ]
    },
    {
     "data": {
      "text/plain": [
       "[0.1453460156917572, 0.9244112968444824]"
      ]
     },
     "execution_count": 20,
     "metadata": {},
     "output_type": "execute_result"
    }
   ],
   "source": [
    "model = build_model(\n",
    "    input_shape,\n",
    "    head_size=64,\n",
    "    num_heads=4,\n",
    "    ff_dim=4,\n",
    "    num_transformer_blocks=2,\n",
    "    mlp_units=[32],\n",
    "    mlp_dropout=0.2,\n",
    "    dropout=0.2,\n",
    "    lstm_units=32\n",
    ")\n",
    "\n",
    "model.compile(\n",
    "    loss=\"binary_crossentropy\",\n",
    "    optimizer=\"adam\",\n",
    "    #optimizer=keras.optimizers.Adam(learning_rate=1e-4),\n",
    "    metrics = [tf.keras.metrics.AUC()]\n",
    ")\n",
    "#model.summary()\n",
    "\n",
    "callbacks = [keras.callbacks.EarlyStopping(patience=10, \\\n",
    "    restore_best_weights=True)]\n",
    "\n",
    "model.fit(\n",
    "    X_train,\n",
    "    y_train,\n",
    "    validation_split=0.15,\n",
    "    epochs=NUM_EPOCHS,\n",
    "    #batch_size=64,\n",
    "    callbacks=callbacks,\n",
    ")\n",
    "\n",
    "model.evaluate(X_test, y_test, verbose=1)"
   ]
  },
  {
   "cell_type": "code",
   "execution_count": 22,
   "metadata": {},
   "outputs": [
    {
     "name": "stdout",
     "output_type": "stream",
     "text": [
      "Epoch 1/10\n",
      "102/102 [==============================] - 30s 234ms/step - loss: 0.2757 - auc_6: 0.6464 - val_loss: 0.2459 - val_auc_6: 0.7897\n",
      "Epoch 2/10\n",
      "102/102 [==============================] - 21s 209ms/step - loss: 0.2297 - auc_6: 0.8012 - val_loss: 0.2065 - val_auc_6: 0.8761\n",
      "Epoch 3/10\n",
      "102/102 [==============================] - 22s 215ms/step - loss: 0.2017 - auc_6: 0.8708 - val_loss: 0.1864 - val_auc_6: 0.8865\n",
      "Epoch 4/10\n",
      "102/102 [==============================] - 23s 227ms/step - loss: 0.1953 - auc_6: 0.8836 - val_loss: 0.1905 - val_auc_6: 0.8746\n",
      "Epoch 5/10\n",
      "102/102 [==============================] - 23s 221ms/step - loss: 0.1889 - auc_6: 0.8897 - val_loss: 0.1856 - val_auc_6: 0.8827\n",
      "Epoch 6/10\n",
      "102/102 [==============================] - 22s 218ms/step - loss: 0.1750 - auc_6: 0.9128 - val_loss: 0.1976 - val_auc_6: 0.8949\n",
      "Epoch 7/10\n",
      "102/102 [==============================] - 23s 225ms/step - loss: 0.1713 - auc_6: 0.9177 - val_loss: 0.1906 - val_auc_6: 0.8891\n",
      "Epoch 8/10\n",
      "102/102 [==============================] - 23s 223ms/step - loss: 0.1688 - auc_6: 0.9206 - val_loss: 0.1770 - val_auc_6: 0.9050\n",
      "Epoch 9/10\n",
      "102/102 [==============================] - 22s 218ms/step - loss: 0.1652 - auc_6: 0.9250 - val_loss: 0.1711 - val_auc_6: 0.9106\n",
      "Epoch 10/10\n",
      "102/102 [==============================] - 23s 222ms/step - loss: 0.1599 - auc_6: 0.9288 - val_loss: 0.1849 - val_auc_6: 0.8971\n",
      "30/30 [==============================] - 2s 73ms/step - loss: 0.1477 - auc_6: 0.9221\n"
     ]
    },
    {
     "data": {
      "text/plain": [
       "[0.1477433741092682, 0.922060489654541]"
      ]
     },
     "execution_count": 22,
     "metadata": {},
     "output_type": "execute_result"
    }
   ],
   "source": [
    "model = build_model(\n",
    "    input_shape,\n",
    "    head_size=128,\n",
    "    num_heads=4,\n",
    "    ff_dim=4,\n",
    "    num_transformer_blocks=1,\n",
    "    mlp_units=[64],\n",
    "    mlp_dropout=0.2,\n",
    "    dropout=0.2,\n",
    "    lstm_units=32\n",
    ")\n",
    "\n",
    "model.compile(\n",
    "    loss=\"binary_crossentropy\",\n",
    "    optimizer=\"adam\",\n",
    "    #optimizer=keras.optimizers.Adam(learning_rate=1e-4),\n",
    "    metrics = [tf.keras.metrics.AUC()]\n",
    ")\n",
    "#model.summary()\n",
    "\n",
    "callbacks = [keras.callbacks.EarlyStopping(patience=10, \\\n",
    "    restore_best_weights=True)]\n",
    "\n",
    "model.fit(\n",
    "    X_train,\n",
    "    y_train,\n",
    "    validation_split=0.15,\n",
    "    epochs=NUM_EPOCHS,\n",
    "    #batch_size=64,\n",
    "    callbacks=callbacks,\n",
    ")\n",
    "\n",
    "model.evaluate(X_test, y_test, verbose=1)"
   ]
  },
  {
   "cell_type": "code",
   "execution_count": 23,
   "metadata": {},
   "outputs": [
    {
     "name": "stdout",
     "output_type": "stream",
     "text": [
      "Epoch 1/10\n",
      "102/102 [==============================] - 30s 235ms/step - loss: 0.2813 - auc_7: 0.6264 - val_loss: 0.2547 - val_auc_7: 0.7755\n",
      "Epoch 2/10\n",
      "102/102 [==============================] - 22s 211ms/step - loss: 0.2395 - auc_7: 0.7681 - val_loss: 0.1984 - val_auc_7: 0.8617\n",
      "Epoch 3/10\n",
      "102/102 [==============================] - 22s 218ms/step - loss: 0.2183 - auc_7: 0.8290 - val_loss: 0.1951 - val_auc_7: 0.8771\n",
      "Epoch 4/10\n",
      "102/102 [==============================] - 23s 222ms/step - loss: 0.2150 - auc_7: 0.8477 - val_loss: 0.1906 - val_auc_7: 0.8814\n",
      "Epoch 5/10\n",
      "102/102 [==============================] - 23s 221ms/step - loss: 0.2045 - auc_7: 0.8663 - val_loss: 0.1919 - val_auc_7: 0.8705\n",
      "Epoch 6/10\n",
      "102/102 [==============================] - 23s 225ms/step - loss: 0.1909 - auc_7: 0.8896 - val_loss: 0.1756 - val_auc_7: 0.9037\n",
      "Epoch 7/10\n",
      "102/102 [==============================] - 25s 244ms/step - loss: 0.1868 - auc_7: 0.8965 - val_loss: 0.1815 - val_auc_7: 0.8883\n",
      "Epoch 8/10\n",
      "102/102 [==============================] - 26s 251ms/step - loss: 0.1779 - auc_7: 0.9068 - val_loss: 0.1806 - val_auc_7: 0.8938\n",
      "Epoch 9/10\n",
      "102/102 [==============================] - 24s 236ms/step - loss: 0.1693 - auc_7: 0.9215 - val_loss: 0.1765 - val_auc_7: 0.9070\n",
      "Epoch 10/10\n",
      "102/102 [==============================] - 24s 239ms/step - loss: 0.1691 - auc_7: 0.9213 - val_loss: 0.1820 - val_auc_7: 0.8935\n",
      "30/30 [==============================] - 2s 78ms/step - loss: 0.1385 - auc_7: 0.9286\n"
     ]
    },
    {
     "data": {
      "text/plain": [
       "[0.1385122388601303, 0.9286485314369202]"
      ]
     },
     "execution_count": 23,
     "metadata": {},
     "output_type": "execute_result"
    }
   ],
   "source": [
    "model = build_model(\n",
    "    input_shape,\n",
    "    head_size=128,\n",
    "    num_heads=4,\n",
    "    ff_dim=4,\n",
    "    num_transformer_blocks=1,\n",
    "    mlp_units=[128],\n",
    "    mlp_dropout=0.2,\n",
    "    dropout=0.4,\n",
    "    lstm_units=32\n",
    ")\n",
    "\n",
    "model.compile(\n",
    "    loss=\"binary_crossentropy\",\n",
    "    optimizer=\"adam\",\n",
    "    #optimizer=keras.optimizers.Adam(learning_rate=1e-4),\n",
    "    metrics = [tf.keras.metrics.AUC()]\n",
    ")\n",
    "#model.summary()\n",
    "\n",
    "callbacks = [keras.callbacks.EarlyStopping(min_delta=0.01, patience=3, restore_best_weights=True)]\n",
    "\n",
    "model.fit(\n",
    "    X_train,\n",
    "    y_train,\n",
    "    validation_split=0.15,\n",
    "    epochs=NUM_EPOCHS,\n",
    "    #batch_size=64,\n",
    "    callbacks=callbacks,\n",
    ")\n",
    "\n",
    "model.evaluate(X_test, y_test, verbose=1)"
   ]
  },
  {
   "cell_type": "code",
   "execution_count": 24,
   "metadata": {
    "scrolled": true
   },
   "outputs": [
    {
     "name": "stdout",
     "output_type": "stream",
     "text": [
      "Epoch 1/10\n",
      "102/102 [==============================] - 36s 242ms/step - loss: 0.2759 - auc_8: 0.6545 - val_loss: 0.2334 - val_auc_8: 0.8179\n",
      "Epoch 2/10\n",
      "102/102 [==============================] - 22s 216ms/step - loss: 0.2262 - auc_8: 0.8084 - val_loss: 0.2067 - val_auc_8: 0.8731\n",
      "Epoch 3/10\n",
      "102/102 [==============================] - 23s 224ms/step - loss: 0.2040 - auc_8: 0.8666 - val_loss: 0.1905 - val_auc_8: 0.8834\n",
      "Epoch 4/10\n",
      "102/102 [==============================] - 23s 224ms/step - loss: 0.2007 - auc_8: 0.8746 - val_loss: 0.1896 - val_auc_8: 0.8775\n",
      "Epoch 5/10\n",
      "102/102 [==============================] - 25s 249ms/step - loss: 0.1901 - auc_8: 0.8892 - val_loss: 0.1849 - val_auc_8: 0.8851\n",
      "Epoch 6/10\n",
      "102/102 [==============================] - 24s 238ms/step - loss: 0.1757 - auc_8: 0.9115 - val_loss: 0.1717 - val_auc_8: 0.9095\n",
      "Epoch 7/10\n",
      "102/102 [==============================] - 26s 252ms/step - loss: 0.1745 - auc_8: 0.9121 - val_loss: 0.1812 - val_auc_8: 0.8888\n",
      "Epoch 8/10\n",
      "102/102 [==============================] - 25s 245ms/step - loss: 0.1698 - auc_8: 0.9213 - val_loss: 0.1723 - val_auc_8: 0.9113\n",
      "Epoch 9/10\n",
      "102/102 [==============================] - 25s 242ms/step - loss: 0.1637 - auc_8: 0.9270 - val_loss: 0.1829 - val_auc_8: 0.8814\n",
      "30/30 [==============================] - 2s 81ms/step - loss: 0.1381 - auc_8: 0.9325\n"
     ]
    },
    {
     "data": {
      "text/plain": [
       "[0.13807593286037445, 0.9324971437454224]"
      ]
     },
     "execution_count": 24,
     "metadata": {},
     "output_type": "execute_result"
    }
   ],
   "source": [
    "model = build_model(\n",
    "    input_shape,\n",
    "    head_size=128,\n",
    "    num_heads=4,\n",
    "    ff_dim=4,\n",
    "    num_transformer_blocks=1,\n",
    "    mlp_units=[128],\n",
    "    mlp_dropout=0.2,\n",
    "    dropout=0.25,\n",
    "    lstm_units=32\n",
    ")\n",
    "\n",
    "model.compile(\n",
    "    loss=\"binary_crossentropy\",\n",
    "    optimizer=\"adam\",\n",
    "    #optimizer=keras.optimizers.Adam(learning_rate=1e-4),\n",
    "    metrics = [tf.keras.metrics.AUC()]\n",
    ")\n",
    "#model.summary()\n",
    "\n",
    "callbacks = [keras.callbacks.EarlyStopping(min_delta=0.01, patience=3, restore_best_weights=True)]\n",
    "\n",
    "model.fit(\n",
    "    X_train,\n",
    "    y_train,\n",
    "    validation_split=0.15,\n",
    "    epochs=NUM_EPOCHS,\n",
    "    #batch_size=64,\n",
    "    callbacks=callbacks,\n",
    ")\n",
    "\n",
    "model.evaluate(X_test, y_test, verbose=1)"
   ]
  },
  {
   "cell_type": "code",
   "execution_count": null,
   "metadata": {},
   "outputs": [],
   "source": []
  }
 ],
 "metadata": {
  "colab": {
   "include_colab_link": true,
   "provenance": []
  },
  "kernelspec": {
   "display_name": "Python 3 (ipykernel)",
   "language": "python",
   "name": "python3"
  },
  "language_info": {
   "codemirror_mode": {
    "name": "ipython",
    "version": 3
   },
   "file_extension": ".py",
   "mimetype": "text/x-python",
   "name": "python",
   "nbconvert_exporter": "python",
   "pygments_lexer": "ipython3",
   "version": "3.9.2"
  },
  "vscode": {
   "interpreter": {
    "hash": "84233dc2148a4ba24349c930a847c50600752012508169725523fba31fb5cdf9"
   }
  }
 },
 "nbformat": 4,
 "nbformat_minor": 1
}
