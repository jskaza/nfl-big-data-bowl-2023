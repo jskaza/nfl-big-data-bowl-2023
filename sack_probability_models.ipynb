{
  "cells": [
    {
      "cell_type": "markdown",
      "metadata": {
        "id": "view-in-github",
        "colab_type": "text"
      },
      "source": [
        "<a href=\"https://colab.research.google.com/github/jskaza/nfl-big-data-bowl-2023/blob/master/sack_probability_models.ipynb\" target=\"_parent\"><img src=\"https://colab.research.google.com/assets/colab-badge.svg\" alt=\"Open In Colab\"/></a>"
      ]
    },
    {
      "cell_type": "markdown",
      "source": [
        "# Using ReSaP and ReHaP to Predict Pass Rusher Impact as Plays Develop\n",
        "*ReSaP: **Re**current **Sa**ck **P**robabilities*\n",
        "\n",
        "*ReHaP: **Re**current **Ha**voc **P**robabilities*\n",
        "\n",
        "### Jon Skaza & Matt Guthrie"
      ],
      "metadata": {
        "id": "2Ze7qdhqi4Pk"
      }
    },
    {
      "cell_type": "code",
      "execution_count": 17,
      "metadata": {
        "scrolled": true,
        "colab": {
          "base_uri": "https://localhost:8080/"
        },
        "id": "7tFSzTpcXK_m",
        "outputId": "429581d1-38e2-4805-ed06-f12f6bbbda21"
      },
      "outputs": [
        {
          "output_type": "stream",
          "name": "stdout",
          "text": [
            "Drive already mounted at /content/drive; to attempt to forcibly remount, call drive.mount(\"/content/drive\", force_remount=True).\n"
          ]
        }
      ],
      "source": [
        "import numpy as np\n",
        "import pandas as pd\n",
        "import tensorflow as tf\n",
        "from google.colab import drive\n",
        "from sklearn.linear_model import LogisticRegression\n",
        "from sklearn import metrics\n",
        "from sklearn.model_selection import train_test_split\n",
        "drive.mount(\"/content/drive\")\n",
        "seed = 314 # for reproducibility, used in various places"
      ]
    },
    {
      "cell_type": "markdown",
      "source": [
        "# Dataset Preprocessing"
      ],
      "metadata": {
        "id": "LWTFl3HYaciz"
      }
    },
    {
      "cell_type": "code",
      "execution_count": 18,
      "metadata": {
        "scrolled": false,
        "colab": {
          "base_uri": "https://localhost:8080/",
          "height": 335
        },
        "id": "Ox-a-y6_XK_r",
        "outputId": "0a4150ab-2b1d-4839-c155-bab7abcd3b80"
      },
      "outputs": [
        {
          "output_type": "stream",
          "name": "stderr",
          "text": [
            "/usr/local/lib/python3.8/dist-packages/IPython/core/interactiveshell.py:3326: DtypeWarning: Columns (9) have mixed types.Specify dtype option on import or set low_memory=False.\n",
            "  exec(code_obj, self.user_global_ns, self.user_ns)\n"
          ]
        },
        {
          "output_type": "execute_result",
          "data": {
            "text/plain": [
              "      game_id  play_id  nfl_id  speed  pff_sack     x     y  dist_from_qb  \\\n",
              "1  2021090900       97   41263   0.96         0  1.74 -5.03      7.802083   \n",
              "2  2021090900       97   41263   1.08         0  1.63 -5.01      7.766557   \n",
              "3  2021090900       97   41263   1.30         0  1.47 -4.99      7.695193   \n",
              "4  2021090900       97   41263   1.48         0  1.31 -4.94      7.603138   \n",
              "5  2021090900       97   41263   2.16         0  1.04 -4.83      7.404627   \n",
              "\n",
              "  qb_in_tackle_box  x_blocker_1  ...  receiver_sep_1  receiver_sep_2  \\\n",
              "1             True         0.54  ...        3.030017        2.706917   \n",
              "2             True         0.47  ...        2.961689        2.659568   \n",
              "3             True         0.39  ...        2.859266        2.607221   \n",
              "4             True         0.30  ...        2.719577        2.452305   \n",
              "5             True         0.18  ...        2.612279        2.297325   \n",
              "\n",
              "   receiver_sep_3  receiver_sep_4  receiver_sep_5  quarter  down  yards_to_go  \\\n",
              "1        6.139422        1.377679        4.278247        1     3            2   \n",
              "2        6.040149        1.369708        4.222345        1     3            2   \n",
              "3        5.928642        1.388416        3.898166        1     3            2   \n",
              "4        5.756813        1.424430        3.516049        1     3            2   \n",
              "5        5.472961        1.480034        3.040066        1     3            2   \n",
              "\n",
              "   absolute_yardline_number  score_delta  \n",
              "1                      43.0            0  \n",
              "2                      43.0            0  \n",
              "3                      43.0            0  \n",
              "4                      43.0            0  \n",
              "5                      43.0            0  \n",
              "\n",
              "[5 rows x 42 columns]"
            ],
            "text/html": [
              "\n",
              "  <div id=\"df-f93ae003-5690-476b-8017-690ae714a195\">\n",
              "    <div class=\"colab-df-container\">\n",
              "      <div>\n",
              "<style scoped>\n",
              "    .dataframe tbody tr th:only-of-type {\n",
              "        vertical-align: middle;\n",
              "    }\n",
              "\n",
              "    .dataframe tbody tr th {\n",
              "        vertical-align: top;\n",
              "    }\n",
              "\n",
              "    .dataframe thead th {\n",
              "        text-align: right;\n",
              "    }\n",
              "</style>\n",
              "<table border=\"1\" class=\"dataframe\">\n",
              "  <thead>\n",
              "    <tr style=\"text-align: right;\">\n",
              "      <th></th>\n",
              "      <th>game_id</th>\n",
              "      <th>play_id</th>\n",
              "      <th>nfl_id</th>\n",
              "      <th>speed</th>\n",
              "      <th>pff_sack</th>\n",
              "      <th>x</th>\n",
              "      <th>y</th>\n",
              "      <th>dist_from_qb</th>\n",
              "      <th>qb_in_tackle_box</th>\n",
              "      <th>x_blocker_1</th>\n",
              "      <th>...</th>\n",
              "      <th>receiver_sep_1</th>\n",
              "      <th>receiver_sep_2</th>\n",
              "      <th>receiver_sep_3</th>\n",
              "      <th>receiver_sep_4</th>\n",
              "      <th>receiver_sep_5</th>\n",
              "      <th>quarter</th>\n",
              "      <th>down</th>\n",
              "      <th>yards_to_go</th>\n",
              "      <th>absolute_yardline_number</th>\n",
              "      <th>score_delta</th>\n",
              "    </tr>\n",
              "  </thead>\n",
              "  <tbody>\n",
              "    <tr>\n",
              "      <th>1</th>\n",
              "      <td>2021090900</td>\n",
              "      <td>97</td>\n",
              "      <td>41263</td>\n",
              "      <td>0.96</td>\n",
              "      <td>0</td>\n",
              "      <td>1.74</td>\n",
              "      <td>-5.03</td>\n",
              "      <td>7.802083</td>\n",
              "      <td>True</td>\n",
              "      <td>0.54</td>\n",
              "      <td>...</td>\n",
              "      <td>3.030017</td>\n",
              "      <td>2.706917</td>\n",
              "      <td>6.139422</td>\n",
              "      <td>1.377679</td>\n",
              "      <td>4.278247</td>\n",
              "      <td>1</td>\n",
              "      <td>3</td>\n",
              "      <td>2</td>\n",
              "      <td>43.0</td>\n",
              "      <td>0</td>\n",
              "    </tr>\n",
              "    <tr>\n",
              "      <th>2</th>\n",
              "      <td>2021090900</td>\n",
              "      <td>97</td>\n",
              "      <td>41263</td>\n",
              "      <td>1.08</td>\n",
              "      <td>0</td>\n",
              "      <td>1.63</td>\n",
              "      <td>-5.01</td>\n",
              "      <td>7.766557</td>\n",
              "      <td>True</td>\n",
              "      <td>0.47</td>\n",
              "      <td>...</td>\n",
              "      <td>2.961689</td>\n",
              "      <td>2.659568</td>\n",
              "      <td>6.040149</td>\n",
              "      <td>1.369708</td>\n",
              "      <td>4.222345</td>\n",
              "      <td>1</td>\n",
              "      <td>3</td>\n",
              "      <td>2</td>\n",
              "      <td>43.0</td>\n",
              "      <td>0</td>\n",
              "    </tr>\n",
              "    <tr>\n",
              "      <th>3</th>\n",
              "      <td>2021090900</td>\n",
              "      <td>97</td>\n",
              "      <td>41263</td>\n",
              "      <td>1.30</td>\n",
              "      <td>0</td>\n",
              "      <td>1.47</td>\n",
              "      <td>-4.99</td>\n",
              "      <td>7.695193</td>\n",
              "      <td>True</td>\n",
              "      <td>0.39</td>\n",
              "      <td>...</td>\n",
              "      <td>2.859266</td>\n",
              "      <td>2.607221</td>\n",
              "      <td>5.928642</td>\n",
              "      <td>1.388416</td>\n",
              "      <td>3.898166</td>\n",
              "      <td>1</td>\n",
              "      <td>3</td>\n",
              "      <td>2</td>\n",
              "      <td>43.0</td>\n",
              "      <td>0</td>\n",
              "    </tr>\n",
              "    <tr>\n",
              "      <th>4</th>\n",
              "      <td>2021090900</td>\n",
              "      <td>97</td>\n",
              "      <td>41263</td>\n",
              "      <td>1.48</td>\n",
              "      <td>0</td>\n",
              "      <td>1.31</td>\n",
              "      <td>-4.94</td>\n",
              "      <td>7.603138</td>\n",
              "      <td>True</td>\n",
              "      <td>0.30</td>\n",
              "      <td>...</td>\n",
              "      <td>2.719577</td>\n",
              "      <td>2.452305</td>\n",
              "      <td>5.756813</td>\n",
              "      <td>1.424430</td>\n",
              "      <td>3.516049</td>\n",
              "      <td>1</td>\n",
              "      <td>3</td>\n",
              "      <td>2</td>\n",
              "      <td>43.0</td>\n",
              "      <td>0</td>\n",
              "    </tr>\n",
              "    <tr>\n",
              "      <th>5</th>\n",
              "      <td>2021090900</td>\n",
              "      <td>97</td>\n",
              "      <td>41263</td>\n",
              "      <td>2.16</td>\n",
              "      <td>0</td>\n",
              "      <td>1.04</td>\n",
              "      <td>-4.83</td>\n",
              "      <td>7.404627</td>\n",
              "      <td>True</td>\n",
              "      <td>0.18</td>\n",
              "      <td>...</td>\n",
              "      <td>2.612279</td>\n",
              "      <td>2.297325</td>\n",
              "      <td>5.472961</td>\n",
              "      <td>1.480034</td>\n",
              "      <td>3.040066</td>\n",
              "      <td>1</td>\n",
              "      <td>3</td>\n",
              "      <td>2</td>\n",
              "      <td>43.0</td>\n",
              "      <td>0</td>\n",
              "    </tr>\n",
              "  </tbody>\n",
              "</table>\n",
              "<p>5 rows × 42 columns</p>\n",
              "</div>\n",
              "      <button class=\"colab-df-convert\" onclick=\"convertToInteractive('df-f93ae003-5690-476b-8017-690ae714a195')\"\n",
              "              title=\"Convert this dataframe to an interactive table.\"\n",
              "              style=\"display:none;\">\n",
              "        \n",
              "  <svg xmlns=\"http://www.w3.org/2000/svg\" height=\"24px\"viewBox=\"0 0 24 24\"\n",
              "       width=\"24px\">\n",
              "    <path d=\"M0 0h24v24H0V0z\" fill=\"none\"/>\n",
              "    <path d=\"M18.56 5.44l.94 2.06.94-2.06 2.06-.94-2.06-.94-.94-2.06-.94 2.06-2.06.94zm-11 1L8.5 8.5l.94-2.06 2.06-.94-2.06-.94L8.5 2.5l-.94 2.06-2.06.94zm10 10l.94 2.06.94-2.06 2.06-.94-2.06-.94-.94-2.06-.94 2.06-2.06.94z\"/><path d=\"M17.41 7.96l-1.37-1.37c-.4-.4-.92-.59-1.43-.59-.52 0-1.04.2-1.43.59L10.3 9.45l-7.72 7.72c-.78.78-.78 2.05 0 2.83L4 21.41c.39.39.9.59 1.41.59.51 0 1.02-.2 1.41-.59l7.78-7.78 2.81-2.81c.8-.78.8-2.07 0-2.86zM5.41 20L4 18.59l7.72-7.72 1.47 1.35L5.41 20z\"/>\n",
              "  </svg>\n",
              "      </button>\n",
              "      \n",
              "  <style>\n",
              "    .colab-df-container {\n",
              "      display:flex;\n",
              "      flex-wrap:wrap;\n",
              "      gap: 12px;\n",
              "    }\n",
              "\n",
              "    .colab-df-convert {\n",
              "      background-color: #E8F0FE;\n",
              "      border: none;\n",
              "      border-radius: 50%;\n",
              "      cursor: pointer;\n",
              "      display: none;\n",
              "      fill: #1967D2;\n",
              "      height: 32px;\n",
              "      padding: 0 0 0 0;\n",
              "      width: 32px;\n",
              "    }\n",
              "\n",
              "    .colab-df-convert:hover {\n",
              "      background-color: #E2EBFA;\n",
              "      box-shadow: 0px 1px 2px rgba(60, 64, 67, 0.3), 0px 1px 3px 1px rgba(60, 64, 67, 0.15);\n",
              "      fill: #174EA6;\n",
              "    }\n",
              "\n",
              "    [theme=dark] .colab-df-convert {\n",
              "      background-color: #3B4455;\n",
              "      fill: #D2E3FC;\n",
              "    }\n",
              "\n",
              "    [theme=dark] .colab-df-convert:hover {\n",
              "      background-color: #434B5C;\n",
              "      box-shadow: 0px 1px 3px 1px rgba(0, 0, 0, 0.15);\n",
              "      filter: drop-shadow(0px 1px 2px rgba(0, 0, 0, 0.3));\n",
              "      fill: #FFFFFF;\n",
              "    }\n",
              "  </style>\n",
              "\n",
              "      <script>\n",
              "        const buttonEl =\n",
              "          document.querySelector('#df-f93ae003-5690-476b-8017-690ae714a195 button.colab-df-convert');\n",
              "        buttonEl.style.display =\n",
              "          google.colab.kernel.accessAllowed ? 'block' : 'none';\n",
              "\n",
              "        async function convertToInteractive(key) {\n",
              "          const element = document.querySelector('#df-f93ae003-5690-476b-8017-690ae714a195');\n",
              "          const dataTable =\n",
              "            await google.colab.kernel.invokeFunction('convertToInteractive',\n",
              "                                                     [key], {});\n",
              "          if (!dataTable) return;\n",
              "\n",
              "          const docLinkHtml = 'Like what you see? Visit the ' +\n",
              "            '<a target=\"_blank\" href=https://colab.research.google.com/notebooks/data_table.ipynb>data table notebook</a>'\n",
              "            + ' to learn more about interactive tables.';\n",
              "          element.innerHTML = '';\n",
              "          dataTable['output_type'] = 'display_data';\n",
              "          await google.colab.output.renderOutput(dataTable, element);\n",
              "          const docLink = document.createElement('div');\n",
              "          docLink.innerHTML = docLinkHtml;\n",
              "          element.appendChild(docLink);\n",
              "        }\n",
              "      </script>\n",
              "    </div>\n",
              "  </div>\n",
              "  "
            ]
          },
          "metadata": {},
          "execution_count": 18
        }
      ],
      "source": [
        "df = pd.read_csv(\"/content/drive/MyDrive/nfl-big-data-bowl-2023/data/dataset.csv\", index_col=0)\n",
        "df.head()"
      ]
    },
    {
      "cell_type": "code",
      "source": [
        "# examine missingness, models will need balanced sequences\n",
        "df.info()"
      ],
      "metadata": {
        "colab": {
          "base_uri": "https://localhost:8080/"
        },
        "id": "oOD27h-Way_5",
        "outputId": "f14d46b7-7f7d-4c13-a633-015bb8ff4551"
      },
      "execution_count": 19,
      "outputs": [
        {
          "output_type": "stream",
          "name": "stdout",
          "text": [
            "<class 'pandas.core.frame.DataFrame'>\n",
            "Int64Index: 1077605 entries, 1 to 1077605\n",
            "Data columns (total 42 columns):\n",
            " #   Column                    Non-Null Count    Dtype  \n",
            "---  ------                    --------------    -----  \n",
            " 0   game_id                   1077605 non-null  int64  \n",
            " 1   play_id                   1077605 non-null  int64  \n",
            " 2   nfl_id                    1077605 non-null  int64  \n",
            " 3   speed                     1077605 non-null  float64\n",
            " 4   pff_sack                  1077605 non-null  int64  \n",
            " 5   x                         1077605 non-null  float64\n",
            " 6   y                         1077605 non-null  float64\n",
            " 7   dist_from_qb              1077605 non-null  float64\n",
            " 8   qb_in_tackle_box          1077333 non-null  object \n",
            " 9   x_blocker_1               1077605 non-null  float64\n",
            " 10  x_blocker_2               1077605 non-null  float64\n",
            " 11  x_blocker_3               1077605 non-null  float64\n",
            " 12  x_blocker_4               1077605 non-null  float64\n",
            " 13  x_blocker_5               1077605 non-null  float64\n",
            " 14  x_blocker_6               355497 non-null   float64\n",
            " 15  x_blocker_7               109554 non-null   float64\n",
            " 16  x_blocker_8               11584 non-null    float64\n",
            " 17  x_blocker_9               846 non-null      float64\n",
            " 18  y_blocker_1               1077605 non-null  float64\n",
            " 19  y_blocker_2               1077605 non-null  float64\n",
            " 20  y_blocker_3               1077605 non-null  float64\n",
            " 21  y_blocker_4               1077605 non-null  float64\n",
            " 22  y_blocker_5               1077605 non-null  float64\n",
            " 23  y_blocker_6               355497 non-null   float64\n",
            " 24  y_blocker_7               109554 non-null   float64\n",
            " 25  y_blocker_8               11584 non-null    float64\n",
            " 26  y_blocker_9               846 non-null      float64\n",
            " 27  speed_qb                  1077605 non-null  float64\n",
            " 28  x_qb                      1077605 non-null  float64\n",
            " 29  y_qb                      1077605 non-null  float64\n",
            " 30  x_ball                    1077605 non-null  float64\n",
            " 31  y_ball                    1077605 non-null  float64\n",
            " 32  receiver_sep_1            1077605 non-null  float64\n",
            " 33  receiver_sep_2            1076759 non-null  float64\n",
            " 34  receiver_sep_3            1066021 non-null  float64\n",
            " 35  receiver_sep_4            968051 non-null   float64\n",
            " 36  receiver_sep_5            722108 non-null   float64\n",
            " 37  quarter                   1077605 non-null  int64  \n",
            " 38  down                      1077605 non-null  int64  \n",
            " 39  yards_to_go               1077605 non-null  int64  \n",
            " 40  absolute_yardline_number  1077475 non-null  float64\n",
            " 41  score_delta               1077605 non-null  int64  \n",
            "dtypes: float64(33), int64(8), object(1)\n",
            "memory usage: 353.5+ MB\n"
          ]
        }
      ]
    },
    {
      "cell_type": "code",
      "execution_count": 20,
      "metadata": {
        "id": "v5mAgPj_XK_u"
      },
      "outputs": [],
      "source": [
        "def make_features(df: pd.DataFrame, group_by: list, feats: list, outcomes: list, naive = False):\n",
        "  X, y  = [], []\n",
        "  grouped_df = df.groupby(group_by)\n",
        "  for group_name, group_df in grouped_df:\n",
        "    if naive:\n",
        "      play_start = group_df[np.abs(group_df[\"x_qb\"] - group_df[\"x_ball\"]) < 1].head(1)\n",
        "      if len(play_start) == 1:\n",
        "        X.append(group_df[np.abs(group_df[\"x_qb\"] - group_df[\"x_ball\"]) < 1].head(1)[feats].to_numpy())\n",
        "        y.append(group_df[outcomes].values[0])\n",
        "    else:\n",
        "      X.append(group_df[feats].fillna(-99.).to_numpy())\n",
        "      y.append(group_df[outcomes].to_numpy()[0])\n",
        "\n",
        "  if naive:\n",
        "    X = np.concatenate(X)\n",
        "    indices = pd.isnull(X).any(axis=0)\n",
        "    X = np.delete(X, indices, axis=1)\n",
        "    y = np.array(y).flatten()\n",
        "  else:\n",
        "    X = tf.keras.utils.pad_sequences(X, dtype=\"float\", padding=\"pre\", value = -99)\n",
        "    y = tf.keras.utils.pad_sequences(y, dtype=\"float\", padding=\"pre\", value= -99)\n",
        "\n",
        "  return X, y"
      ]
    },
    {
      "cell_type": "code",
      "execution_count": 21,
      "metadata": {
        "id": "DXbgn_9uXK_v"
      },
      "outputs": [],
      "source": [
        "group_by = [\"game_id\", \"play_id\", \"nfl_id\"]\n",
        "outcomes = [\"pff_sack\"]       \n",
        "feats = [x for x in list(df.columns) if x not in group_by + outcomes]\n",
        "\n",
        "X_naive, y_naive = make_features(df, group_by, feats, outcomes, naive = True)\n",
        "X_net, y_net = make_features(df, group_by, feats, outcomes)\n",
        "\n",
        "# shuffle?\n",
        "X_train_naive, X_test_naive, y_train_naive, y_test_naive = train_test_split(X_naive, y_naive, test_size = 0.2, random_state = seed)\n",
        "X_train_net, X_test_net, y_train_net, y_test_net = train_test_split(X_net, y_net, test_size = 0.2, random_state = seed)\n",
        "\n",
        "weight_for_0 = (1 / sum(y_train_net==[0])) * (len(y_train_net) / 2.0)\n",
        "weight_for_1 = (1 / sum(y_train_net==[1])) * (len(y_train_net) / 2.0)\n",
        "\n",
        "class_weight = {0: weight_for_0, 1: weight_for_1}"
      ]
    },
    {
      "cell_type": "code",
      "source": [
        "del df, X_naive, y_naive, X_net, y_net # free up some mem"
      ],
      "metadata": {
        "id": "fEVUUkFz0t8W"
      },
      "execution_count": 23,
      "outputs": []
    },
    {
      "cell_type": "markdown",
      "source": [
        "# \"Naive\" Logistic Model"
      ],
      "metadata": {
        "id": "xFLw3CeFvYJv"
      }
    },
    {
      "cell_type": "code",
      "source": [
        "log_reg = LogisticRegression(class_weight = class_weight, max_iter = 1000)\n",
        "\n",
        "log_reg.fit(X_train_naive, y_train_naive)\n",
        "\n",
        "preds = log_reg.predict_proba(X_test_naive)[:,1]\n",
        "\n",
        "fpr, tpr, thresholds = metrics.roc_curve(y_test_naive, preds, pos_label=1)\n",
        "metrics.auc(fpr, tpr)"
      ],
      "metadata": {
        "colab": {
          "base_uri": "https://localhost:8080/"
        },
        "id": "qJbARXxAvVz4",
        "outputId": "ba916dc3-8f10-4134-d1d5-f04511c91fde"
      },
      "execution_count": 24,
      "outputs": [
        {
          "output_type": "execute_result",
          "data": {
            "text/plain": [
              "0.6194667260843731"
            ]
          },
          "metadata": {},
          "execution_count": 24
        }
      ]
    },
    {
      "cell_type": "markdown",
      "source": [
        "# LSTM Approach"
      ],
      "metadata": {
        "id": "nti1gLWph2gp"
      }
    },
    {
      "cell_type": "code",
      "source": [
        "tf.random.set_seed(seed)\n",
        "np.random.seed(seed)\n",
        "num_epochs = 50\n",
        "\n",
        "# create the model\n",
        "model = tf.keras.Sequential()\n",
        "model.add(tf.keras.layers.Masking(mask_value= -99.,\n",
        "                                  input_shape= X_train_net.shape[1:]))\n",
        "model.add(tf.keras.layers.LSTM(128, input_shape = X_train_net.shape[1:]))\n",
        "model.add(tf.keras.layers.Dense(y_train_net.shape[1], activation=\"sigmoid\"))\n",
        "\n",
        "# compile and fit the model\n",
        "model.compile(loss= \"binary_crossentropy\", optimizer=\"adam\", metrics = [tf.keras.metrics.AUC()])\n",
        "\n",
        "callbacks = [tf.keras.callbacks.EarlyStopping(patience=10, restore_best_weights=True)]\n",
        "\n",
        "model.fit(X_train_net, y_train_net, epochs = num_epochs, validation_split = 0.2, class_weight = class_weight, callbacks = callbacks)\n",
        "\n",
        "model.evaluate(X_test_net, y_test_net)"
      ],
      "metadata": {
        "id": "qcQVj0YNcu8I",
        "colab": {
          "base_uri": "https://localhost:8080/"
        },
        "outputId": "ca20007e-fae5-4f1c-a69f-e61275600477"
      },
      "execution_count": 25,
      "outputs": [
        {
          "output_type": "stream",
          "name": "stdout",
          "text": [
            "Epoch 1/50\n",
            "688/688 [==============================] - 275s 392ms/step - loss: 0.7321 - auc_2: 0.5061 - val_loss: 0.8525 - val_auc_2: 0.6682\n",
            "Epoch 2/50\n",
            "688/688 [==============================] - 277s 403ms/step - loss: 0.6652 - auc_2: 0.6173 - val_loss: 0.5755 - val_auc_2: 0.8040\n",
            "Epoch 3/50\n",
            "688/688 [==============================] - 269s 391ms/step - loss: 0.5168 - auc_2: 0.8912 - val_loss: 0.4809 - val_auc_2: 0.9427\n",
            "Epoch 4/50\n",
            "688/688 [==============================] - 272s 395ms/step - loss: 0.3380 - auc_2: 0.9527 - val_loss: 0.2137 - val_auc_2: 0.9614\n",
            "Epoch 5/50\n",
            "688/688 [==============================] - 264s 384ms/step - loss: 0.2272 - auc_2: 0.9706 - val_loss: 0.1420 - val_auc_2: 0.9586\n",
            "Epoch 6/50\n",
            "688/688 [==============================] - 267s 388ms/step - loss: 0.2416 - auc_2: 0.9668 - val_loss: 0.1579 - val_auc_2: 0.9641\n",
            "Epoch 7/50\n",
            "688/688 [==============================] - 266s 387ms/step - loss: 0.1903 - auc_2: 0.9755 - val_loss: 0.2838 - val_auc_2: 0.9589\n",
            "Epoch 8/50\n",
            "688/688 [==============================] - 266s 386ms/step - loss: 0.1810 - auc_2: 0.9772 - val_loss: 0.2069 - val_auc_2: 0.9633\n",
            "Epoch 9/50\n",
            "688/688 [==============================] - 269s 391ms/step - loss: 0.1773 - auc_2: 0.9769 - val_loss: 0.2682 - val_auc_2: 0.9614\n",
            "Epoch 10/50\n",
            "688/688 [==============================] - 270s 393ms/step - loss: 0.1917 - auc_2: 0.9746 - val_loss: 0.1424 - val_auc_2: 0.9655\n",
            "Epoch 11/50\n",
            "688/688 [==============================] - 268s 389ms/step - loss: 0.1882 - auc_2: 0.9724 - val_loss: 0.0823 - val_auc_2: 0.9569\n",
            "Epoch 12/50\n",
            "688/688 [==============================] - 268s 390ms/step - loss: 0.1982 - auc_2: 0.9679 - val_loss: 0.1802 - val_auc_2: 0.9605\n",
            "Epoch 13/50\n",
            "688/688 [==============================] - 267s 388ms/step - loss: 0.1725 - auc_2: 0.9741 - val_loss: 0.2709 - val_auc_2: 0.9601\n",
            "Epoch 14/50\n",
            "688/688 [==============================] - 265s 385ms/step - loss: 0.1775 - auc_2: 0.9749 - val_loss: 0.2516 - val_auc_2: 0.9641\n",
            "Epoch 15/50\n",
            "688/688 [==============================] - 267s 389ms/step - loss: 0.1837 - auc_2: 0.9753 - val_loss: 0.3781 - val_auc_2: 0.9619\n",
            "Epoch 16/50\n",
            "688/688 [==============================] - 266s 387ms/step - loss: 0.1771 - auc_2: 0.9743 - val_loss: 0.2348 - val_auc_2: 0.9641\n",
            "Epoch 17/50\n",
            "688/688 [==============================] - 266s 386ms/step - loss: 0.1651 - auc_2: 0.9768 - val_loss: 0.1832 - val_auc_2: 0.9669\n",
            "Epoch 18/50\n",
            "688/688 [==============================] - 266s 387ms/step - loss: 0.1703 - auc_2: 0.9781 - val_loss: 0.0950 - val_auc_2: 0.9664\n",
            "Epoch 19/50\n",
            "688/688 [==============================] - 266s 386ms/step - loss: 0.1751 - auc_2: 0.9749 - val_loss: 0.1913 - val_auc_2: 0.9705\n",
            "Epoch 20/50\n",
            "688/688 [==============================] - 270s 392ms/step - loss: 0.1695 - auc_2: 0.9757 - val_loss: 0.1055 - val_auc_2: 0.9712\n",
            "Epoch 21/50\n",
            "688/688 [==============================] - 266s 387ms/step - loss: 0.1796 - auc_2: 0.9762 - val_loss: 0.1429 - val_auc_2: 0.9601\n",
            "215/215 [==============================] - 28s 131ms/step - loss: 0.0701 - auc_2: 0.9398\n"
          ]
        },
        {
          "output_type": "execute_result",
          "data": {
            "text/plain": [
              "[0.07005374133586884, 0.9398061633110046]"
            ]
          },
          "metadata": {},
          "execution_count": 25
        }
      ]
    },
    {
      "cell_type": "markdown",
      "source": [
        "# Transformer Approach"
      ],
      "metadata": {
        "id": "7_EiKFYE9qgi"
      }
    },
    {
      "cell_type": "code",
      "source": [
        "def transformer_encoder(inputs, head_size, num_heads, ff_dim, dropout=0):\n",
        "    # Normalization and Attention\n",
        "    x = tf.keras.layers.LayerNormalization(epsilon=1e-6)(inputs)\n",
        "    x = tf.keras.layers.MultiHeadAttention(\n",
        "        key_dim=head_size, num_heads=num_heads, dropout=dropout\n",
        "    )(x, x)\n",
        "    x = tf.keras.layers.Dropout(dropout)(x)\n",
        "    res = x + inputs\n",
        "\n",
        "    # Feed Forward Part\n",
        "    x = tf.keras.layers.LayerNormalization(epsilon=1e-6)(res)\n",
        "    x = tf.keras.layers.Conv1D(filters=ff_dim, kernel_size=1, activation=\"relu\")(x)\n",
        "    x = tf.keras.layers.Dropout(dropout)(x)\n",
        "    x = tf.keras.layers.Conv1D(filters=inputs.shape[-1], kernel_size=1)(x)\n",
        "    return x + res"
      ],
      "metadata": {
        "id": "Zp39jl0OG6a8"
      },
      "execution_count": null,
      "outputs": []
    },
    {
      "cell_type": "code",
      "source": [
        "def build_model(\n",
        "    input_shape,\n",
        "    head_size,\n",
        "    num_heads,\n",
        "    ff_dim,\n",
        "    num_transformer_blocks,\n",
        "    mlp_units,\n",
        "    dropout=0,\n",
        "    mlp_dropout=0,\n",
        "):\n",
        "    inputs = tf.keras.Input(shape=input_shape)\n",
        "    x = inputs\n",
        "    x = tf.keras.layers.Masking(mask_value=-99.,input_shape= X.shape[1:])(x)\n",
        "    for _ in range(num_transformer_blocks):\n",
        "        x = transformer_encoder(x, head_size, num_heads, ff_dim, dropout)\n",
        "\n",
        "    x = tf.keras.layers.GlobalAveragePooling1D(data_format=\"channels_first\")(x)\n",
        "    # for dim in mlp_units:\n",
        "    #     x = tf.keras.layers.Dense(dim, activation=\"relu\")(x)\n",
        "    #     x = tf.keras.layers.Dropout(mlp_dropout)(x)\n",
        "    outputs = tf.keras.layers.Dense(y.shape[1], activation=\"sigmoid\")(x)\n",
        "    return tf.keras.Model(inputs, outputs)"
      ],
      "metadata": {
        "id": "k7O1ejtB9RpE"
      },
      "execution_count": null,
      "outputs": []
    },
    {
      "cell_type": "code",
      "source": [
        "input_shape = X_train.shape[1:]\n",
        "\n",
        "model = build_model(\n",
        "    input_shape,\n",
        "    head_size=256,\n",
        "    num_heads=4,\n",
        "    ff_dim=4,\n",
        "    num_transformer_blocks=1,\n",
        "    mlp_units=[64],\n",
        "    mlp_dropout=0.4,\n",
        "    dropout=0.25,\n",
        ")\n",
        "\n",
        "model.compile(\n",
        "    loss=\"binary_crossentropy\",\n",
        "    optimizer=tf.keras.optimizers.Adam(learning_rate=1e-4),\n",
        "    metrics = [tf.keras.metrics.AUC()]\n",
        ")\n",
        "#model.summary()\n",
        "\n",
        "callbacks = [tf.keras.callbacks.EarlyStopping(patience=10, \\\n",
        "    restore_best_weights=True)]\n",
        "\n",
        "model.fit(\n",
        "    X_train,\n",
        "    y_train,\n",
        "    validation_split=0.2,\n",
        "    epochs=5,\n",
        "    #batch_size=64,\n",
        "    callbacks=callbacks,\n",
        ")\n",
        "\n",
        "model.evaluate(X_test, y_test, verbose=1)"
      ],
      "metadata": {
        "colab": {
          "base_uri": "https://localhost:8080/"
        },
        "id": "BK3A9Ac79Zm-",
        "outputId": "81b28846-9f01-45fe-f2a0-ea5640034874"
      },
      "execution_count": null,
      "outputs": [
        {
          "output_type": "stream",
          "name": "stdout",
          "text": [
            "Epoch 1/5\n",
            "96/96 [==============================] - 118s 1s/step - loss: 0.3758 - auc_3: 0.4710 - val_loss: 0.3111 - val_auc_3: 0.5495\n",
            "Epoch 2/5\n",
            "96/96 [==============================] - 118s 1s/step - loss: 0.3226 - auc_3: 0.5349 - val_loss: 0.2826 - val_auc_3: 0.6572\n",
            "Epoch 3/5\n",
            "96/96 [==============================] - 118s 1s/step - loss: 0.3087 - auc_3: 0.5703 - val_loss: 0.2699 - val_auc_3: 0.7025\n",
            "Epoch 4/5\n",
            "96/96 [==============================] - 121s 1s/step - loss: 0.2947 - auc_3: 0.6199 - val_loss: 0.2664 - val_auc_3: 0.7155\n",
            "Epoch 5/5\n",
            "96/96 [==============================] - 111s 1s/step - loss: 0.2845 - auc_3: 0.6503 - val_loss: 0.2589 - val_auc_3: 0.7219\n",
            "30/30 [==============================] - 12s 413ms/step - loss: 0.2248 - auc_3: 0.6851\n"
          ]
        },
        {
          "output_type": "execute_result",
          "data": {
            "text/plain": [
              "[0.2248472422361374, 0.6851325035095215]"
            ]
          },
          "metadata": {},
          "execution_count": 44
        }
      ]
    },
    {
      "cell_type": "code",
      "source": [],
      "metadata": {
        "id": "YRjBrCEW-8VU"
      },
      "execution_count": null,
      "outputs": []
    }
  ],
  "metadata": {
    "kernelspec": {
      "display_name": "Python 3 (ipykernel)",
      "language": "python",
      "name": "python3"
    },
    "language_info": {
      "codemirror_mode": {
        "name": "ipython",
        "version": 3
      },
      "file_extension": ".py",
      "mimetype": "text/x-python",
      "name": "python",
      "nbconvert_exporter": "python",
      "pygments_lexer": "ipython3",
      "version": "3.9.2"
    },
    "vscode": {
      "interpreter": {
        "hash": "84233dc2148a4ba24349c930a847c50600752012508169725523fba31fb5cdf9"
      }
    },
    "colab": {
      "provenance": [],
      "include_colab_link": true
    }
  },
  "nbformat": 4,
  "nbformat_minor": 0
}