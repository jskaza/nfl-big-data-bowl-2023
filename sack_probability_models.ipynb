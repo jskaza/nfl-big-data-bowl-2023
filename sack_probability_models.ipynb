{
  "cells": [
    {
      "cell_type": "markdown",
      "metadata": {
        "colab_type": "text",
        "id": "view-in-github"
      },
      "source": [
        "<a href=\"https://colab.research.google.com/github/jskaza/nfl-big-data-bowl-2023/blob/master/sack_probability_models.ipynb\" target=\"_parent\"><img src=\"https://colab.research.google.com/assets/colab-badge.svg\" alt=\"Open In Colab\"/></a>"
      ]
    },
    {
      "attachments": {},
      "cell_type": "markdown",
      "metadata": {
        "id": "2Ze7qdhqi4Pk"
      },
      "source": [
        "# Using RePP to Predict Pass Rusher Impact as Plays Develop\n",
        "*RePP: **Re**current **P**ressure **P**robabilities*\n",
        "\n",
        "**Jon Skaza & Matt Guthrie**"
      ]
    },
    {
      "cell_type": "code",
      "execution_count": 24,
      "metadata": {
        "colab": {
          "base_uri": "https://localhost:8080/"
        },
        "id": "7tFSzTpcXK_m",
        "outputId": "429581d1-38e2-4805-ed06-f12f6bbbda21",
        "scrolled": true
      },
      "outputs": [],
      "source": [
        "import os\n",
        "import numpy as np\n",
        "import pandas as pd\n",
        "import tensorflow as tf\n",
        "from sklearn.linear_model import LogisticRegression\n",
        "from sklearn.metrics import roc_auc_score, roc_curve, RocCurveDisplay, precision_recall_curve, PrecisionRecallDisplay\n",
        "from sklearn.model_selection import train_test_split\n",
        "import matplotlib.pyplot as plt\n",
        "import random\n",
        "import pickle\n",
        "try:\n",
        "  from google.colab import drive\n",
        "  in_colab = True\n",
        "except:\n",
        "  in_colab = False\n",
        "seed = 314 # for reproducibility, used in various places\n",
        "np.random.seed(seed)\n",
        "random.seed(seed)"
      ]
    },
    {
      "attachments": {},
      "cell_type": "markdown",
      "metadata": {
        "id": "LWTFl3HYaciz"
      },
      "source": [
        "## Dataset Preprocessing"
      ]
    },
    {
      "cell_type": "code",
      "execution_count": 25,
      "metadata": {
        "colab": {
          "base_uri": "https://localhost:8080/",
          "height": 335
        },
        "id": "Ox-a-y6_XK_r",
        "outputId": "0a4150ab-2b1d-4839-c155-bab7abcd3b80",
        "scrolled": false
      },
      "outputs": [
        {
          "data": {
            "text/html": [
              "<div>\n",
              "<style scoped>\n",
              "    .dataframe tbody tr th:only-of-type {\n",
              "        vertical-align: middle;\n",
              "    }\n",
              "\n",
              "    .dataframe tbody tr th {\n",
              "        vertical-align: top;\n",
              "    }\n",
              "\n",
              "    .dataframe thead th {\n",
              "        text-align: right;\n",
              "    }\n",
              "</style>\n",
              "<table border=\"1\" class=\"dataframe\">\n",
              "  <thead>\n",
              "    <tr style=\"text-align: right;\">\n",
              "      <th></th>\n",
              "      <th>game_id</th>\n",
              "      <th>play_id</th>\n",
              "      <th>nfl_id</th>\n",
              "      <th>speed</th>\n",
              "      <th>pressure</th>\n",
              "      <th>x</th>\n",
              "      <th>y</th>\n",
              "      <th>dist_from_qb</th>\n",
              "      <th>qb_in_tackle_box</th>\n",
              "      <th>n_blockers</th>\n",
              "      <th>...</th>\n",
              "      <th>speed_qb</th>\n",
              "      <th>x_qb</th>\n",
              "      <th>y_qb</th>\n",
              "      <th>x_ball</th>\n",
              "      <th>y_ball</th>\n",
              "      <th>quarter</th>\n",
              "      <th>down</th>\n",
              "      <th>yards_to_go</th>\n",
              "      <th>absolute_yardline_number</th>\n",
              "      <th>score_delta</th>\n",
              "    </tr>\n",
              "  </thead>\n",
              "  <tbody>\n",
              "    <tr>\n",
              "      <th>1</th>\n",
              "      <td>2021090900</td>\n",
              "      <td>97</td>\n",
              "      <td>41263</td>\n",
              "      <td>0.96</td>\n",
              "      <td>1</td>\n",
              "      <td>1.74</td>\n",
              "      <td>-5.03</td>\n",
              "      <td>7.802083</td>\n",
              "      <td>1.0</td>\n",
              "      <td>5</td>\n",
              "      <td>...</td>\n",
              "      <td>0.35</td>\n",
              "      <td>-3.92</td>\n",
              "      <td>0.34</td>\n",
              "      <td>0.00</td>\n",
              "      <td>0.00</td>\n",
              "      <td>1</td>\n",
              "      <td>3</td>\n",
              "      <td>2</td>\n",
              "      <td>43.0</td>\n",
              "      <td>0</td>\n",
              "    </tr>\n",
              "    <tr>\n",
              "      <th>2</th>\n",
              "      <td>2021090900</td>\n",
              "      <td>97</td>\n",
              "      <td>41263</td>\n",
              "      <td>1.08</td>\n",
              "      <td>1</td>\n",
              "      <td>1.63</td>\n",
              "      <td>-5.01</td>\n",
              "      <td>7.766557</td>\n",
              "      <td>1.0</td>\n",
              "      <td>5</td>\n",
              "      <td>...</td>\n",
              "      <td>0.54</td>\n",
              "      <td>-4.00</td>\n",
              "      <td>0.34</td>\n",
              "      <td>-0.49</td>\n",
              "      <td>0.02</td>\n",
              "      <td>1</td>\n",
              "      <td>3</td>\n",
              "      <td>2</td>\n",
              "      <td>43.0</td>\n",
              "      <td>0</td>\n",
              "    </tr>\n",
              "    <tr>\n",
              "      <th>3</th>\n",
              "      <td>2021090900</td>\n",
              "      <td>97</td>\n",
              "      <td>41263</td>\n",
              "      <td>1.30</td>\n",
              "      <td>1</td>\n",
              "      <td>1.47</td>\n",
              "      <td>-4.99</td>\n",
              "      <td>7.695193</td>\n",
              "      <td>1.0</td>\n",
              "      <td>5</td>\n",
              "      <td>...</td>\n",
              "      <td>0.80</td>\n",
              "      <td>-4.09</td>\n",
              "      <td>0.33</td>\n",
              "      <td>-0.85</td>\n",
              "      <td>0.03</td>\n",
              "      <td>1</td>\n",
              "      <td>3</td>\n",
              "      <td>2</td>\n",
              "      <td>43.0</td>\n",
              "      <td>0</td>\n",
              "    </tr>\n",
              "    <tr>\n",
              "      <th>4</th>\n",
              "      <td>2021090900</td>\n",
              "      <td>97</td>\n",
              "      <td>41263</td>\n",
              "      <td>1.48</td>\n",
              "      <td>1</td>\n",
              "      <td>1.31</td>\n",
              "      <td>-4.94</td>\n",
              "      <td>7.603138</td>\n",
              "      <td>1.0</td>\n",
              "      <td>5</td>\n",
              "      <td>...</td>\n",
              "      <td>0.99</td>\n",
              "      <td>-4.18</td>\n",
              "      <td>0.32</td>\n",
              "      <td>-1.29</td>\n",
              "      <td>0.05</td>\n",
              "      <td>1</td>\n",
              "      <td>3</td>\n",
              "      <td>2</td>\n",
              "      <td>43.0</td>\n",
              "      <td>0</td>\n",
              "    </tr>\n",
              "    <tr>\n",
              "      <th>5</th>\n",
              "      <td>2021090900</td>\n",
              "      <td>97</td>\n",
              "      <td>41263</td>\n",
              "      <td>2.16</td>\n",
              "      <td>1</td>\n",
              "      <td>1.04</td>\n",
              "      <td>-4.83</td>\n",
              "      <td>7.404627</td>\n",
              "      <td>1.0</td>\n",
              "      <td>5</td>\n",
              "      <td>...</td>\n",
              "      <td>1.19</td>\n",
              "      <td>-4.29</td>\n",
              "      <td>0.31</td>\n",
              "      <td>-1.77</td>\n",
              "      <td>0.06</td>\n",
              "      <td>1</td>\n",
              "      <td>3</td>\n",
              "      <td>2</td>\n",
              "      <td>43.0</td>\n",
              "      <td>0</td>\n",
              "    </tr>\n",
              "  </tbody>\n",
              "</table>\n",
              "<p>5 rows × 30 columns</p>\n",
              "</div>"
            ],
            "text/plain": [
              "      game_id  play_id  nfl_id  speed  pressure     x     y  dist_from_qb  \\\n",
              "1  2021090900       97   41263   0.96         1  1.74 -5.03      7.802083   \n",
              "2  2021090900       97   41263   1.08         1  1.63 -5.01      7.766557   \n",
              "3  2021090900       97   41263   1.30         1  1.47 -4.99      7.695193   \n",
              "4  2021090900       97   41263   1.48         1  1.31 -4.94      7.603138   \n",
              "5  2021090900       97   41263   2.16         1  1.04 -4.83      7.404627   \n",
              "\n",
              "   qb_in_tackle_box  n_blockers  ...  speed_qb  x_qb  y_qb  x_ball  y_ball  \\\n",
              "1               1.0           5  ...      0.35 -3.92  0.34    0.00    0.00   \n",
              "2               1.0           5  ...      0.54 -4.00  0.34   -0.49    0.02   \n",
              "3               1.0           5  ...      0.80 -4.09  0.33   -0.85    0.03   \n",
              "4               1.0           5  ...      0.99 -4.18  0.32   -1.29    0.05   \n",
              "5               1.0           5  ...      1.19 -4.29  0.31   -1.77    0.06   \n",
              "\n",
              "   quarter  down  yards_to_go  absolute_yardline_number  score_delta  \n",
              "1        1     3            2                      43.0            0  \n",
              "2        1     3            2                      43.0            0  \n",
              "3        1     3            2                      43.0            0  \n",
              "4        1     3            2                      43.0            0  \n",
              "5        1     3            2                      43.0            0  \n",
              "\n",
              "[5 rows x 30 columns]"
            ]
          },
          "execution_count": 25,
          "metadata": {},
          "output_type": "execute_result"
        }
      ],
      "source": [
        "if in_colab:\n",
        "  drive.mount(\"/content/drive\")\n",
        "  path = \"/content/drive/MyDrive/nfl-big-data-bowl-2023\"\n",
        "else:\n",
        "  path = os.environ.get(\"BIG_DATA_BOWL\")\n",
        "\n",
        "df = pd.read_csv(f\"{path}/data/dataset.csv\", index_col=0)\n",
        "df.head()"
      ]
    },
    {
      "cell_type": "code",
      "execution_count": 26,
      "metadata": {
        "colab": {
          "base_uri": "https://localhost:8080/"
        },
        "id": "oOD27h-Way_5",
        "outputId": "f14d46b7-7f7d-4c13-a633-015bb8ff4551"
      },
      "outputs": [
        {
          "name": "stdout",
          "output_type": "stream",
          "text": [
            "<class 'pandas.core.frame.DataFrame'>\n",
            "Int64Index: 1077605 entries, 1 to 1077605\n",
            "Data columns (total 30 columns):\n",
            " #   Column                    Non-Null Count    Dtype  \n",
            "---  ------                    --------------    -----  \n",
            " 0   game_id                   1077605 non-null  int64  \n",
            " 1   play_id                   1077605 non-null  int64  \n",
            " 2   nfl_id                    1077605 non-null  int64  \n",
            " 3   speed                     1077605 non-null  float64\n",
            " 4   pressure                  1077605 non-null  int64  \n",
            " 5   x                         1077605 non-null  float64\n",
            " 6   y                         1077605 non-null  float64\n",
            " 7   dist_from_qb              1077605 non-null  float64\n",
            " 8   qb_in_tackle_box          1077333 non-null  float64\n",
            " 9   n_blockers                1077605 non-null  int64  \n",
            " 10  x_C                       1077605 non-null  float64\n",
            " 11  x_LT                      1077605 non-null  float64\n",
            " 12  x_LG                      1077605 non-null  float64\n",
            " 13  x_RG                      1077605 non-null  float64\n",
            " 14  x_RT                      1077333 non-null  float64\n",
            " 15  y_C                       1077605 non-null  float64\n",
            " 16  y_LT                      1077605 non-null  float64\n",
            " 17  y_LG                      1077605 non-null  float64\n",
            " 18  y_RG                      1077605 non-null  float64\n",
            " 19  y_RT                      1077333 non-null  float64\n",
            " 20  speed_qb                  1077605 non-null  float64\n",
            " 21  x_qb                      1077605 non-null  float64\n",
            " 22  y_qb                      1077605 non-null  float64\n",
            " 23  x_ball                    1077605 non-null  float64\n",
            " 24  y_ball                    1077605 non-null  float64\n",
            " 25  quarter                   1077605 non-null  int64  \n",
            " 26  down                      1077605 non-null  int64  \n",
            " 27  yards_to_go               1077605 non-null  int64  \n",
            " 28  absolute_yardline_number  1077475 non-null  float64\n",
            " 29  score_delta               1077605 non-null  int64  \n",
            "dtypes: float64(21), int64(9)\n",
            "memory usage: 254.9 MB\n"
          ]
        }
      ],
      "source": [
        "# examine missingness, models will need balanced sequences\n",
        "df.info()"
      ]
    },
    {
      "cell_type": "code",
      "execution_count": 27,
      "metadata": {},
      "outputs": [
        {
          "name": "stdout",
          "output_type": "stream",
          "text": [
            "<class 'pandas.core.frame.DataFrame'>\n",
            "Int64Index: 1077203 entries, 1 to 1077605\n",
            "Data columns (total 30 columns):\n",
            " #   Column                    Non-Null Count    Dtype  \n",
            "---  ------                    --------------    -----  \n",
            " 0   game_id                   1077203 non-null  int64  \n",
            " 1   play_id                   1077203 non-null  int64  \n",
            " 2   nfl_id                    1077203 non-null  int64  \n",
            " 3   speed                     1077203 non-null  float64\n",
            " 4   pressure                  1077203 non-null  int64  \n",
            " 5   x                         1077203 non-null  float64\n",
            " 6   y                         1077203 non-null  float64\n",
            " 7   dist_from_qb              1077203 non-null  float64\n",
            " 8   qb_in_tackle_box          1077203 non-null  float64\n",
            " 9   n_blockers                1077203 non-null  int64  \n",
            " 10  x_C                       1077203 non-null  float64\n",
            " 11  x_LT                      1077203 non-null  float64\n",
            " 12  x_LG                      1077203 non-null  float64\n",
            " 13  x_RG                      1077203 non-null  float64\n",
            " 14  x_RT                      1077203 non-null  float64\n",
            " 15  y_C                       1077203 non-null  float64\n",
            " 16  y_LT                      1077203 non-null  float64\n",
            " 17  y_LG                      1077203 non-null  float64\n",
            " 18  y_RG                      1077203 non-null  float64\n",
            " 19  y_RT                      1077203 non-null  float64\n",
            " 20  speed_qb                  1077203 non-null  float64\n",
            " 21  x_qb                      1077203 non-null  float64\n",
            " 22  y_qb                      1077203 non-null  float64\n",
            " 23  x_ball                    1077203 non-null  float64\n",
            " 24  y_ball                    1077203 non-null  float64\n",
            " 25  quarter                   1077203 non-null  int64  \n",
            " 26  down                      1077203 non-null  int64  \n",
            " 27  yards_to_go               1077203 non-null  int64  \n",
            " 28  absolute_yardline_number  1077203 non-null  float64\n",
            " 29  score_delta               1077203 non-null  int64  \n",
            "dtypes: float64(21), int64(9)\n",
            "memory usage: 254.8 MB\n"
          ]
        }
      ],
      "source": [
        "df.dropna(axis = 0, how = \"any\", inplace = True)\n",
        "df.info()"
      ]
    },
    {
      "cell_type": "code",
      "execution_count": 28,
      "metadata": {},
      "outputs": [],
      "source": [
        "def oversampler(df: pd.DataFrame, group_by: list, feats: list, outcome: str) -> pd.DataFrame:\n",
        "    grouped_df = df.copy().groupby(group_by)\n",
        "    group_labels = grouped_df.first()[outcome]\n",
        "    vals = group_labels.value_counts()\n",
        "    n_to_add = vals[0] - vals[1]\n",
        "    minority_lab = vals.index[1]\n",
        "    groups_to_sample = list(group_labels[group_labels == minority_lab].index)\n",
        "    choices = [random.choice(groups_to_sample) for _ in range(n_to_add)]\n",
        "    unique_key_counter = -1 # new \"keys\" will be negative so as not to duplicate groups which are all positive\n",
        "    samples = []\n",
        "    for i in choices:\n",
        "        to_add = grouped_df.get_group(i).copy()\n",
        "        for j in group_by:\n",
        "            to_add[j] = unique_key_counter\n",
        "        samples.append(to_add)\n",
        "        unique_key_counter += -1\n",
        "    return pd.concat([df] + samples, axis = 0)"
      ]
    },
    {
      "cell_type": "code",
      "execution_count": 19,
      "metadata": {
        "id": "v5mAgPj_XK_u"
      },
      "outputs": [],
      "source": [
        "def make_datasets(df: pd.DataFrame, group_by: list, feats: list, outcome: str, sequences: bool, \n",
        "samples: int, test_size: float, oversample = False):\n",
        "\n",
        "  if oversample:\n",
        "    df = oversampler(df, group_by, feats, outcome)\n",
        "\n",
        "  if sequences or samples > 0:\n",
        "    X, y  = [], []\n",
        "    grouped_df = df.groupby(group_by)\n",
        "    for _, group_df in grouped_df:\n",
        "      f = group_df[feats].to_numpy()\n",
        "      if samples > 0:\n",
        "        sub_seq_lens = np.random.randint(0, len(f), samples)\n",
        "        sub_seq = [f[:n] for n in sub_seq_lens]\n",
        "        X += sub_seq\n",
        "      else: # sequences but no sampling\n",
        "        X.append(group_df[feats].to_numpy())\n",
        "      if sequences:\n",
        "        if samples == 0:\n",
        "          y.append(group_df[[outcome]].to_numpy()[0])\n",
        "        else:\n",
        "          for s in range(samples):\n",
        "            y.append(group_df[[outcome]].to_numpy()[0])\n",
        "      else: # no sequences but multiple samples\n",
        "        y.append(np.repeat(group_df[outcome].values[0], sum(sub_seq_lens)))\n",
        "    if sequences:\n",
        "      X = tf.keras.utils.pad_sequences(X, dtype=\"float\", padding=\"pre\", value = -99)\n",
        "      y = np.stack(y)\n",
        "    else: # no sequences but multiple samples\n",
        "      X = np.concatenate(X)\n",
        "      y = np.concatenate(y).ravel()\n",
        "\n",
        "  else:\n",
        "      X = df[feats].to_numpy()\n",
        "      y = df[outcome].to_numpy()\n",
        "    \n",
        "  return train_test_split(X, y, test_size = test_size, random_state = seed) + [outcome]"
      ]
    },
    {
      "cell_type": "code",
      "execution_count": 20,
      "metadata": {},
      "outputs": [],
      "source": [
        "model_metrics = {}\n",
        "def add_metrics(model, outcome_name: str, model_name: str, X_test: np.ndarray, y_test: np.ndarray):\n",
        "    global model_metrics\n",
        "    model_metrics[outcome_name] = {}\n",
        "    y_pred = model.predict(X_test)\n",
        "    if type(model) == LogisticRegression:\n",
        "        y_score = model.decision_function(X_test)\n",
        "        fpr, tpr, _ = roc_curve(y_test, y_score, pos_label = 1)\n",
        "        roc = RocCurveDisplay(fpr = fpr, tpr = tpr)\n",
        "        prec, recall, _ = precision_recall_curve(y_test, y_score, pos_label= 1)\n",
        "        pr = PrecisionRecallDisplay(precision=prec, recall=recall)\n",
        "        auc = roc_auc_score(y_test, y_score)\n",
        "        model_metrics[outcome_name][model_name] = {\"auc\": auc, \"roc_curve\": roc, \"pr_curve\": pr}\n",
        "    else:\n",
        "        evaluation = model.evaluate(X_test, y_test)\n",
        "        auc = evaluation[1]\n",
        "        acc = evaluation[2]\n",
        "        model_metrics[outcome_name][model_name] = {\"auc\": auc, \"acc\": acc}\n",
        "    print(f\"Added metric for model {model_name} with outcome {outcome_name} to the model_metrics dictionary.\")\n",
        "    for k, v in model_metrics[outcome_name][model_name].items():\n",
        "        print(f\"{k}: {v}\")"
      ]
    },
    {
      "cell_type": "code",
      "execution_count": 21,
      "metadata": {},
      "outputs": [],
      "source": [
        "outcome = \"pressure\"\n",
        "group_by = [\"game_id\", \"play_id\", \"nfl_id\"]\n",
        "feats = [x for x in list(df.columns) if x not in group_by + [outcome]]"
      ]
    },
    {
      "attachments": {},
      "cell_type": "markdown",
      "metadata": {},
      "source": [
        "## ReSaP: **Re**current **Sa**ck **P**robabilities"
      ]
    },
    {
      "attachments": {},
      "cell_type": "markdown",
      "metadata": {
        "id": "xFLw3CeFvYJv"
      },
      "source": [
        "### \"Naive\" Logistic Model"
      ]
    },
    {
      "cell_type": "code",
      "execution_count": 22,
      "metadata": {
        "colab": {
          "base_uri": "https://localhost:8080/"
        },
        "id": "qJbARXxAvVz4",
        "outputId": "ba916dc3-8f10-4134-d1d5-f04511c91fde"
      },
      "outputs": [],
      "source": [
        "def model_logistic(data: list, max_iter: int, file: str):\n",
        "    mod = LogisticRegression(max_iter = max_iter)\n",
        "    mod.fit(data[0], data[2])\n",
        "    add_metrics(mod, data[4], \"logistic\", data[1], data[3])\n",
        "    pickle.dump(mod, open(file, \"wb\"))\n",
        "    return mod"
      ]
    },
    {
      "cell_type": "code",
      "execution_count": 23,
      "metadata": {},
      "outputs": [
        {
          "ename": "KeyboardInterrupt",
          "evalue": "",
          "output_type": "error",
          "traceback": [
            "\u001b[0;31m---------------------------------------------------------------------------\u001b[0m",
            "\u001b[0;31mKeyboardInterrupt\u001b[0m                         Traceback (most recent call last)",
            "Cell \u001b[0;32mIn[23], line 1\u001b[0m\n\u001b[0;32m----> 1\u001b[0m data \u001b[39m=\u001b[39m make_datasets(df, group_by, feats, outcome, sequences \u001b[39m=\u001b[39;49m \u001b[39mFalse\u001b[39;49;00m, samples \u001b[39m=\u001b[39;49m \u001b[39m3\u001b[39;49m, test_size \u001b[39m=\u001b[39;49m \u001b[39m0.2\u001b[39;49m, oversample \u001b[39m=\u001b[39;49m \u001b[39mTrue\u001b[39;49;00m)\n\u001b[1;32m      2\u001b[0m mod1 \u001b[39m=\u001b[39m model_logistic(data, \u001b[39m1000\u001b[39m, \u001b[39m\"\u001b[39m\u001b[39mmod1.sav\u001b[39m\u001b[39m\"\u001b[39m)\n",
            "Cell \u001b[0;32mIn[19], line 5\u001b[0m, in \u001b[0;36mmake_datasets\u001b[0;34m(df, group_by, feats, outcome, sequences, samples, test_size, oversample)\u001b[0m\n\u001b[1;32m      1\u001b[0m \u001b[39mdef\u001b[39;00m \u001b[39mmake_datasets\u001b[39m(df: pd\u001b[39m.\u001b[39mDataFrame, group_by: \u001b[39mlist\u001b[39m, feats: \u001b[39mlist\u001b[39m, outcome: \u001b[39mstr\u001b[39m, sequences: \u001b[39mbool\u001b[39m, \n\u001b[1;32m      2\u001b[0m samples: \u001b[39mint\u001b[39m, test_size: \u001b[39mfloat\u001b[39m, oversample \u001b[39m=\u001b[39m \u001b[39mFalse\u001b[39;00m):\n\u001b[1;32m      4\u001b[0m   \u001b[39mif\u001b[39;00m oversample:\n\u001b[0;32m----> 5\u001b[0m     df \u001b[39m=\u001b[39m oversampler(df, group_by, feats, outcome)\n\u001b[1;32m      7\u001b[0m   \u001b[39mif\u001b[39;00m sequences \u001b[39mor\u001b[39;00m samples \u001b[39m>\u001b[39m \u001b[39m0\u001b[39m:\n\u001b[1;32m      8\u001b[0m     X, y  \u001b[39m=\u001b[39m [], []\n",
            "Cell \u001b[0;32mIn[18], line 14\u001b[0m, in \u001b[0;36moversampler\u001b[0;34m(df, group_by, feats, outcome)\u001b[0m\n\u001b[1;32m     12\u001b[0m     \u001b[39mfor\u001b[39;00m j \u001b[39min\u001b[39;00m group_by:\n\u001b[1;32m     13\u001b[0m         to_add[j] \u001b[39m=\u001b[39m unique_key_counter\n\u001b[0;32m---> 14\u001b[0m     df \u001b[39m=\u001b[39m pd\u001b[39m.\u001b[39;49mconcat([df, to_add], axis \u001b[39m=\u001b[39;49m \u001b[39m0\u001b[39;49m)\n\u001b[1;32m     15\u001b[0m     unique_key_counter \u001b[39m+\u001b[39m\u001b[39m=\u001b[39m \u001b[39m-\u001b[39m\u001b[39m1\u001b[39m\n\u001b[1;32m     16\u001b[0m \u001b[39mreturn\u001b[39;00m df\n",
            "File \u001b[0;32m~/Documents/nfl-big-data-bowl-2023/.conda/lib/python3.10/site-packages/pandas/util/_decorators.py:331\u001b[0m, in \u001b[0;36mdeprecate_nonkeyword_arguments.<locals>.decorate.<locals>.wrapper\u001b[0;34m(*args, **kwargs)\u001b[0m\n\u001b[1;32m    325\u001b[0m \u001b[39mif\u001b[39;00m \u001b[39mlen\u001b[39m(args) \u001b[39m>\u001b[39m num_allow_args:\n\u001b[1;32m    326\u001b[0m     warnings\u001b[39m.\u001b[39mwarn(\n\u001b[1;32m    327\u001b[0m         msg\u001b[39m.\u001b[39mformat(arguments\u001b[39m=\u001b[39m_format_argument_list(allow_args)),\n\u001b[1;32m    328\u001b[0m         \u001b[39mFutureWarning\u001b[39;00m,\n\u001b[1;32m    329\u001b[0m         stacklevel\u001b[39m=\u001b[39mfind_stack_level(),\n\u001b[1;32m    330\u001b[0m     )\n\u001b[0;32m--> 331\u001b[0m \u001b[39mreturn\u001b[39;00m func(\u001b[39m*\u001b[39;49margs, \u001b[39m*\u001b[39;49m\u001b[39m*\u001b[39;49mkwargs)\n",
            "File \u001b[0;32m~/Documents/nfl-big-data-bowl-2023/.conda/lib/python3.10/site-packages/pandas/core/reshape/concat.py:381\u001b[0m, in \u001b[0;36mconcat\u001b[0;34m(objs, axis, join, ignore_index, keys, levels, names, verify_integrity, sort, copy)\u001b[0m\n\u001b[1;32m    159\u001b[0m \u001b[39m\"\"\"\u001b[39;00m\n\u001b[1;32m    160\u001b[0m \u001b[39mConcatenate pandas objects along a particular axis.\u001b[39;00m\n\u001b[1;32m    161\u001b[0m \n\u001b[0;32m   (...)\u001b[0m\n\u001b[1;32m    366\u001b[0m \u001b[39m1   3   4\u001b[39;00m\n\u001b[1;32m    367\u001b[0m \u001b[39m\"\"\"\u001b[39;00m\n\u001b[1;32m    368\u001b[0m op \u001b[39m=\u001b[39m _Concatenator(\n\u001b[1;32m    369\u001b[0m     objs,\n\u001b[1;32m    370\u001b[0m     axis\u001b[39m=\u001b[39maxis,\n\u001b[0;32m   (...)\u001b[0m\n\u001b[1;32m    378\u001b[0m     sort\u001b[39m=\u001b[39msort,\n\u001b[1;32m    379\u001b[0m )\n\u001b[0;32m--> 381\u001b[0m \u001b[39mreturn\u001b[39;00m op\u001b[39m.\u001b[39;49mget_result()\n",
            "File \u001b[0;32m~/Documents/nfl-big-data-bowl-2023/.conda/lib/python3.10/site-packages/pandas/core/reshape/concat.py:616\u001b[0m, in \u001b[0;36m_Concatenator.get_result\u001b[0;34m(self)\u001b[0m\n\u001b[1;32m    612\u001b[0m             indexers[ax] \u001b[39m=\u001b[39m obj_labels\u001b[39m.\u001b[39mget_indexer(new_labels)\n\u001b[1;32m    614\u001b[0m     mgrs_indexers\u001b[39m.\u001b[39mappend((obj\u001b[39m.\u001b[39m_mgr, indexers))\n\u001b[0;32m--> 616\u001b[0m new_data \u001b[39m=\u001b[39m concatenate_managers(\n\u001b[1;32m    617\u001b[0m     mgrs_indexers, \u001b[39mself\u001b[39;49m\u001b[39m.\u001b[39;49mnew_axes, concat_axis\u001b[39m=\u001b[39;49m\u001b[39mself\u001b[39;49m\u001b[39m.\u001b[39;49mbm_axis, copy\u001b[39m=\u001b[39;49m\u001b[39mself\u001b[39;49m\u001b[39m.\u001b[39;49mcopy\n\u001b[1;32m    618\u001b[0m )\n\u001b[1;32m    619\u001b[0m \u001b[39mif\u001b[39;00m \u001b[39mnot\u001b[39;00m \u001b[39mself\u001b[39m\u001b[39m.\u001b[39mcopy:\n\u001b[1;32m    620\u001b[0m     new_data\u001b[39m.\u001b[39m_consolidate_inplace()\n",
            "File \u001b[0;32m~/Documents/nfl-big-data-bowl-2023/.conda/lib/python3.10/site-packages/pandas/core/internals/concat.py:233\u001b[0m, in \u001b[0;36mconcatenate_managers\u001b[0;34m(mgrs_indexers, axes, concat_axis, copy)\u001b[0m\n\u001b[1;32m    231\u001b[0m     fastpath \u001b[39m=\u001b[39m blk\u001b[39m.\u001b[39mvalues\u001b[39m.\u001b[39mdtype \u001b[39m==\u001b[39m values\u001b[39m.\u001b[39mdtype\n\u001b[1;32m    232\u001b[0m \u001b[39melse\u001b[39;00m:\n\u001b[0;32m--> 233\u001b[0m     values \u001b[39m=\u001b[39m _concatenate_join_units(join_units, concat_axis, copy\u001b[39m=\u001b[39;49mcopy)\n\u001b[1;32m    234\u001b[0m     fastpath \u001b[39m=\u001b[39m \u001b[39mFalse\u001b[39;00m\n\u001b[1;32m    236\u001b[0m \u001b[39mif\u001b[39;00m fastpath:\n",
            "File \u001b[0;32m~/Documents/nfl-big-data-bowl-2023/.conda/lib/python3.10/site-packages/pandas/core/internals/concat.py:577\u001b[0m, in \u001b[0;36m_concatenate_join_units\u001b[0;34m(join_units, concat_axis, copy)\u001b[0m\n\u001b[1;32m    574\u001b[0m     concat_values \u001b[39m=\u001b[39m ensure_block_shape(concat_values, \u001b[39m2\u001b[39m)\n\u001b[1;32m    576\u001b[0m \u001b[39melse\u001b[39;00m:\n\u001b[0;32m--> 577\u001b[0m     concat_values \u001b[39m=\u001b[39m concat_compat(to_concat, axis\u001b[39m=\u001b[39;49mconcat_axis)\n\u001b[1;32m    579\u001b[0m \u001b[39mreturn\u001b[39;00m concat_values\n",
            "File \u001b[0;32m~/Documents/nfl-big-data-bowl-2023/.conda/lib/python3.10/site-packages/pandas/core/dtypes/concat.py:151\u001b[0m, in \u001b[0;36mconcat_compat\u001b[0;34m(to_concat, axis, ea_compat_axis)\u001b[0m\n\u001b[1;32m    148\u001b[0m             to_concat \u001b[39m=\u001b[39m [x\u001b[39m.\u001b[39mastype(\u001b[39m\"\u001b[39m\u001b[39mobject\u001b[39m\u001b[39m\"\u001b[39m) \u001b[39mfor\u001b[39;00m x \u001b[39min\u001b[39;00m to_concat]\n\u001b[1;32m    149\u001b[0m             kinds \u001b[39m=\u001b[39m {\u001b[39m\"\u001b[39m\u001b[39mo\u001b[39m\u001b[39m\"\u001b[39m}\n\u001b[0;32m--> 151\u001b[0m result \u001b[39m=\u001b[39m np\u001b[39m.\u001b[39;49mconcatenate(to_concat, axis\u001b[39m=\u001b[39;49maxis)\n\u001b[1;32m    152\u001b[0m \u001b[39mif\u001b[39;00m \u001b[39m\"\u001b[39m\u001b[39mb\u001b[39m\u001b[39m\"\u001b[39m \u001b[39min\u001b[39;00m kinds \u001b[39mand\u001b[39;00m result\u001b[39m.\u001b[39mdtype\u001b[39m.\u001b[39mkind \u001b[39min\u001b[39;00m [\u001b[39m\"\u001b[39m\u001b[39mi\u001b[39m\u001b[39m\"\u001b[39m, \u001b[39m\"\u001b[39m\u001b[39mu\u001b[39m\u001b[39m\"\u001b[39m, \u001b[39m\"\u001b[39m\u001b[39mf\u001b[39m\u001b[39m\"\u001b[39m]:\n\u001b[1;32m    153\u001b[0m     \u001b[39m# GH#39817\u001b[39;00m\n\u001b[1;32m    154\u001b[0m     warnings\u001b[39m.\u001b[39mwarn(\n\u001b[1;32m    155\u001b[0m         \u001b[39m\"\u001b[39m\u001b[39mBehavior when concatenating bool-dtype and numeric-dtype arrays is \u001b[39m\u001b[39m\"\u001b[39m\n\u001b[1;32m    156\u001b[0m         \u001b[39m\"\u001b[39m\u001b[39mdeprecated; in a future version these will cast to object dtype \u001b[39m\u001b[39m\"\u001b[39m\n\u001b[0;32m   (...)\u001b[0m\n\u001b[1;32m    160\u001b[0m         stacklevel\u001b[39m=\u001b[39mfind_stack_level(),\n\u001b[1;32m    161\u001b[0m     )\n",
            "File \u001b[0;32m<__array_function__ internals>:200\u001b[0m, in \u001b[0;36mconcatenate\u001b[0;34m(*args, **kwargs)\u001b[0m\n",
            "\u001b[0;31mKeyboardInterrupt\u001b[0m: "
          ]
        }
      ],
      "source": [
        "data = make_datasets(df, group_by, feats, outcome, sequences = False, samples = 3, test_size = 0.2, oversample = True)\n",
        "# mod1 = model_logistic(data, 1000, \"mod1.sav\")"
      ]
    },
    {
      "attachments": {},
      "cell_type": "markdown",
      "metadata": {
        "id": "nti1gLWph2gp"
      },
      "source": [
        "### LSTM"
      ]
    },
    {
      "cell_type": "code",
      "execution_count": null,
      "metadata": {},
      "outputs": [],
      "source": [
        "def model_lstm(data: list, units: int, num_epochs: int, val: float, folder: str):\n",
        "    tf.random.set_seed(seed)\n",
        "    np.random.seed(seed)\n",
        "    \n",
        "    mod = tf.keras.Sequential()\n",
        "    mod.add(tf.keras.layers.Masking(mask_value= -99., input_shape= data[0].shape[1:]))\n",
        "    mod.add(tf.keras.layers.LSTM(units, input_shape = data[0].shape[1:]))\n",
        "    mod.add(tf.keras.layers.Dense(data[2].shape[1], activation=\"sigmoid\"))\n",
        "\n",
        "    mod.compile(loss = \"binary_crossentropy\", optimizer=\"adam\",\n",
        "     metrics = [tf.keras.metrics.AUC(), tf.keras.metrics.BinaryAccuracy()])\n",
        "\n",
        "    # callbacks = [tf.keras.callbacks.EarlyStopping(patience = 5, restore_best_weights=True)]\n",
        "\n",
        "    mod.fit(data[0], data[2], epochs = num_epochs, validation_split = val)\n",
        "    mod.save(folder)\n",
        "    add_metrics(mod, data[4], \"lstm\", data[1], data[3])\n",
        "    return mod"
      ]
    },
    {
      "cell_type": "code",
      "execution_count": null,
      "metadata": {},
      "outputs": [],
      "source": [
        "data = make_datasets(df, group_by, feats, outcome, sequences = True, samples = 3, test_size = 0.2, oversample = True)\n",
        "mod2 = model_lstm(data, 64, 50, 0.1, \"mod2\")"
      ]
    },
    {
      "attachments": {},
      "cell_type": "markdown",
      "metadata": {
        "id": "7_EiKFYE9qgi"
      },
      "source": [
        "### LSTM + Transformer"
      ]
    },
    {
      "cell_type": "code",
      "execution_count": null,
      "metadata": {
        "id": "YRjBrCEW-8VU"
      },
      "outputs": [],
      "source": [
        "def transformer_encoder(inputs, head_size, num_heads, ff_dim, dropout=0):\n",
        "    # Normalization and Attention\n",
        "    x = tf.keras.layers.LayerNormalization(epsilon=1e-6)(inputs)\n",
        "    x = tf.keras.layers.MultiHeadAttention(key_dim=head_size, num_heads=num_heads, dropout=dropout)(x, x)\n",
        "    x = tf.keras.layers.Dropout(dropout)(x)\n",
        "    res = x + inputs\n",
        "\n",
        "    # Feed Forward Part\n",
        "    x = tf.keras.layers.LayerNormalization(epsilon=1e-6)(res)\n",
        "    x = tf.keras.layers.Conv1D(filters=ff_dim, kernel_size=1, activation=\"relu\")(x)\n",
        "    x = tf.keras.layers.Dropout(dropout)(x)\n",
        "    x = tf.keras.layers.Conv1D(filters=inputs.shape[-1], kernel_size=1)(x)\n",
        "    return x + res"
      ]
    },
    {
      "cell_type": "code",
      "execution_count": null,
      "metadata": {},
      "outputs": [],
      "source": [
        "def model_transformer(data: list, head_size: int, num_heads: int, ff_dim: int, num_transformer_blocks: int, mlp_units: list,\n",
        " mlp_dropout: float, dropout: float, lstm_units: int, num_epochs: int, val: float, folder: str):\n",
        "    inputs = tf.keras.Input(shape=data[0].shape[1:])\n",
        "    x = inputs\n",
        "    x = tf.keras.layers.Masking(mask_value = -99.,input_shape = data[0].shape[1:])(x)\n",
        "    x = tf.keras.layers.LSTM(lstm_units, input_shape = data[0].shape[1:], return_sequences = True)(x)\n",
        "\n",
        "    for _ in range(num_transformer_blocks):\n",
        "        x = transformer_encoder(x, head_size, num_heads, ff_dim, dropout)\n",
        "\n",
        "    x = tf.keras.layers.GlobalAveragePooling1D(data_format = \"channels_last\")(x)\n",
        "    x = tf.keras.layers.Dropout(0.1)(x)\n",
        "\n",
        "    for dim in mlp_units:\n",
        "        x = tf.keras.layers.Dense(dim, activation=\"relu\")(x)\n",
        "        x = tf.keras.layers.Dropout(mlp_dropout)(x)\n",
        "\n",
        "    outputs = tf.keras.layers.Dense(data[2].shape[1], activation = \"sigmoid\")(x)\n",
        "    mod = tf.keras.Model(inputs, outputs)\n",
        "\n",
        "    mod.compile(\n",
        "        loss = \"binary_crossentropy\",\n",
        "        optimizer = \"adam\",\n",
        "        metrics = [tf.keras.metrics.AUC(), tf.keras.metrics.BinaryAccuracy()]\n",
        "    )\n",
        "\n",
        "    # callbacks = [tf.keras.callbacks.EarlyStopping(min_delta=0.01, patience=3, restore_best_weights=True)]\n",
        "\n",
        "    mod.fit(data[0], data[2], epochs= num_epochs, validation_split = val)\n",
        "\n",
        "    mod.save(folder)\n",
        "    add_metrics(mod, data[4], \"lstm\", data[1], data[3])\n",
        "    return mod"
      ]
    },
    {
      "cell_type": "code",
      "execution_count": null,
      "metadata": {},
      "outputs": [],
      "source": [
        "mod3 = model_transformer(data, 128, 4, 4, 1, [128], 0.2, 0.25, 64, 50, 0.1, \"mod3\")"
      ]
    },
    {
      "cell_type": "code",
      "execution_count": null,
      "metadata": {},
      "outputs": [],
      "source": []
    }
  ],
  "metadata": {
    "colab": {
      "include_colab_link": true,
      "provenance": []
    },
    "kernelspec": {
      "display_name": "Python 3",
      "language": "python",
      "name": "python3"
    },
    "language_info": {
      "codemirror_mode": {
        "name": "ipython",
        "version": 3
      },
      "file_extension": ".py",
      "mimetype": "text/x-python",
      "name": "python",
      "nbconvert_exporter": "python",
      "pygments_lexer": "ipython3",
      "version": "3.10.8"
    },
    "vscode": {
      "interpreter": {
        "hash": "b9a60180a99fe344aad77925bd6d1e82a30f5f9b471f9484bc8285d8d7befe73"
      }
    }
  },
  "nbformat": 4,
  "nbformat_minor": 0
}
