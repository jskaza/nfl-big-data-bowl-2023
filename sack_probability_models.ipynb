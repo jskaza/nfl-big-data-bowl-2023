{
  "cells": [
    {
      "cell_type": "markdown",
      "metadata": {
        "colab_type": "text",
        "id": "view-in-github"
      },
      "source": [
        "<a href=\"https://colab.research.google.com/github/jskaza/nfl-big-data-bowl-2023/blob/master/sack_probability_models.ipynb\" target=\"_parent\"><img src=\"https://colab.research.google.com/assets/colab-badge.svg\" alt=\"Open In Colab\"/></a>"
      ]
    },
    {
      "attachments": {},
      "cell_type": "markdown",
      "metadata": {
        "id": "2Ze7qdhqi4Pk"
      },
      "source": [
        "# Using RePP to Predict Pass Rusher Impact as Plays Develop\n",
        "*RePP: **Re**current **P**ressure **P**robabilities*\n",
        "\n",
        "**Jon Skaza & Matt Guthrie**"
      ]
    },
    {
      "cell_type": "code",
      "execution_count": 11,
      "metadata": {
        "colab": {
          "base_uri": "https://localhost:8080/"
        },
        "id": "7tFSzTpcXK_m",
        "outputId": "429581d1-38e2-4805-ed06-f12f6bbbda21",
        "scrolled": true
      },
      "outputs": [],
      "source": [
        "import os\n",
        "import numpy as np\n",
        "import pandas as pd\n",
        "import tensorflow as tf\n",
        "from sklearn.linear_model import LogisticRegression\n",
        "from sklearn.metrics import roc_auc_score, roc_curve, RocCurveDisplay, precision_recall_curve, PrecisionRecallDisplay\n",
        "from sklearn.model_selection import train_test_split\n",
        "import matplotlib.pyplot as plt\n",
        "import random\n",
        "import pickle\n",
        "try:\n",
        "  from google.colab import drive\n",
        "  in_colab = True\n",
        "except:\n",
        "  in_colab = False\n",
        "seed = 314 # for reproducibility, used in various places\n",
        "np.random.seed(seed)\n",
        "random.seed(seed)"
      ]
    },
    {
      "attachments": {},
      "cell_type": "markdown",
      "metadata": {
        "id": "LWTFl3HYaciz"
      },
      "source": [
        "## Dataset Preprocessing"
      ]
    },
    {
      "cell_type": "code",
      "execution_count": 12,
      "metadata": {
        "colab": {
          "base_uri": "https://localhost:8080/",
          "height": 335
        },
        "id": "Ox-a-y6_XK_r",
        "outputId": "0a4150ab-2b1d-4839-c155-bab7abcd3b80",
        "scrolled": false
      },
      "outputs": [
        {
          "data": {
            "text/html": [
              "<div>\n",
              "<style scoped>\n",
              "    .dataframe tbody tr th:only-of-type {\n",
              "        vertical-align: middle;\n",
              "    }\n",
              "\n",
              "    .dataframe tbody tr th {\n",
              "        vertical-align: top;\n",
              "    }\n",
              "\n",
              "    .dataframe thead th {\n",
              "        text-align: right;\n",
              "    }\n",
              "</style>\n",
              "<table border=\"1\" class=\"dataframe\">\n",
              "  <thead>\n",
              "    <tr style=\"text-align: right;\">\n",
              "      <th></th>\n",
              "      <th>game_id</th>\n",
              "      <th>play_id</th>\n",
              "      <th>nfl_id</th>\n",
              "      <th>speed</th>\n",
              "      <th>pressure</th>\n",
              "      <th>x</th>\n",
              "      <th>y</th>\n",
              "      <th>dist_from_qb</th>\n",
              "      <th>qb_in_tackle_box</th>\n",
              "      <th>n_blockers</th>\n",
              "      <th>...</th>\n",
              "      <th>speed_qb</th>\n",
              "      <th>x_qb</th>\n",
              "      <th>y_qb</th>\n",
              "      <th>x_ball</th>\n",
              "      <th>y_ball</th>\n",
              "      <th>quarter</th>\n",
              "      <th>down</th>\n",
              "      <th>yards_to_go</th>\n",
              "      <th>absolute_yardline_number</th>\n",
              "      <th>score_delta</th>\n",
              "    </tr>\n",
              "  </thead>\n",
              "  <tbody>\n",
              "    <tr>\n",
              "      <th>1</th>\n",
              "      <td>2021090900</td>\n",
              "      <td>97</td>\n",
              "      <td>41263</td>\n",
              "      <td>0.96</td>\n",
              "      <td>1</td>\n",
              "      <td>1.74</td>\n",
              "      <td>-5.03</td>\n",
              "      <td>7.802083</td>\n",
              "      <td>1.0</td>\n",
              "      <td>5</td>\n",
              "      <td>...</td>\n",
              "      <td>0.35</td>\n",
              "      <td>-3.92</td>\n",
              "      <td>0.34</td>\n",
              "      <td>0.00</td>\n",
              "      <td>0.00</td>\n",
              "      <td>1</td>\n",
              "      <td>3</td>\n",
              "      <td>2</td>\n",
              "      <td>43.0</td>\n",
              "      <td>0</td>\n",
              "    </tr>\n",
              "    <tr>\n",
              "      <th>2</th>\n",
              "      <td>2021090900</td>\n",
              "      <td>97</td>\n",
              "      <td>41263</td>\n",
              "      <td>1.08</td>\n",
              "      <td>1</td>\n",
              "      <td>1.63</td>\n",
              "      <td>-5.01</td>\n",
              "      <td>7.766557</td>\n",
              "      <td>1.0</td>\n",
              "      <td>5</td>\n",
              "      <td>...</td>\n",
              "      <td>0.54</td>\n",
              "      <td>-4.00</td>\n",
              "      <td>0.34</td>\n",
              "      <td>-0.49</td>\n",
              "      <td>0.02</td>\n",
              "      <td>1</td>\n",
              "      <td>3</td>\n",
              "      <td>2</td>\n",
              "      <td>43.0</td>\n",
              "      <td>0</td>\n",
              "    </tr>\n",
              "    <tr>\n",
              "      <th>3</th>\n",
              "      <td>2021090900</td>\n",
              "      <td>97</td>\n",
              "      <td>41263</td>\n",
              "      <td>1.30</td>\n",
              "      <td>1</td>\n",
              "      <td>1.47</td>\n",
              "      <td>-4.99</td>\n",
              "      <td>7.695193</td>\n",
              "      <td>1.0</td>\n",
              "      <td>5</td>\n",
              "      <td>...</td>\n",
              "      <td>0.80</td>\n",
              "      <td>-4.09</td>\n",
              "      <td>0.33</td>\n",
              "      <td>-0.85</td>\n",
              "      <td>0.03</td>\n",
              "      <td>1</td>\n",
              "      <td>3</td>\n",
              "      <td>2</td>\n",
              "      <td>43.0</td>\n",
              "      <td>0</td>\n",
              "    </tr>\n",
              "    <tr>\n",
              "      <th>4</th>\n",
              "      <td>2021090900</td>\n",
              "      <td>97</td>\n",
              "      <td>41263</td>\n",
              "      <td>1.48</td>\n",
              "      <td>1</td>\n",
              "      <td>1.31</td>\n",
              "      <td>-4.94</td>\n",
              "      <td>7.603138</td>\n",
              "      <td>1.0</td>\n",
              "      <td>5</td>\n",
              "      <td>...</td>\n",
              "      <td>0.99</td>\n",
              "      <td>-4.18</td>\n",
              "      <td>0.32</td>\n",
              "      <td>-1.29</td>\n",
              "      <td>0.05</td>\n",
              "      <td>1</td>\n",
              "      <td>3</td>\n",
              "      <td>2</td>\n",
              "      <td>43.0</td>\n",
              "      <td>0</td>\n",
              "    </tr>\n",
              "    <tr>\n",
              "      <th>5</th>\n",
              "      <td>2021090900</td>\n",
              "      <td>97</td>\n",
              "      <td>41263</td>\n",
              "      <td>2.16</td>\n",
              "      <td>1</td>\n",
              "      <td>1.04</td>\n",
              "      <td>-4.83</td>\n",
              "      <td>7.404627</td>\n",
              "      <td>1.0</td>\n",
              "      <td>5</td>\n",
              "      <td>...</td>\n",
              "      <td>1.19</td>\n",
              "      <td>-4.29</td>\n",
              "      <td>0.31</td>\n",
              "      <td>-1.77</td>\n",
              "      <td>0.06</td>\n",
              "      <td>1</td>\n",
              "      <td>3</td>\n",
              "      <td>2</td>\n",
              "      <td>43.0</td>\n",
              "      <td>0</td>\n",
              "    </tr>\n",
              "  </tbody>\n",
              "</table>\n",
              "<p>5 rows × 30 columns</p>\n",
              "</div>"
            ],
            "text/plain": [
              "      game_id  play_id  nfl_id  speed  pressure     x     y  dist_from_qb  \\\n",
              "1  2021090900       97   41263   0.96         1  1.74 -5.03      7.802083   \n",
              "2  2021090900       97   41263   1.08         1  1.63 -5.01      7.766557   \n",
              "3  2021090900       97   41263   1.30         1  1.47 -4.99      7.695193   \n",
              "4  2021090900       97   41263   1.48         1  1.31 -4.94      7.603138   \n",
              "5  2021090900       97   41263   2.16         1  1.04 -4.83      7.404627   \n",
              "\n",
              "   qb_in_tackle_box  n_blockers  ...  speed_qb  x_qb  y_qb  x_ball  y_ball  \\\n",
              "1               1.0           5  ...      0.35 -3.92  0.34    0.00    0.00   \n",
              "2               1.0           5  ...      0.54 -4.00  0.34   -0.49    0.02   \n",
              "3               1.0           5  ...      0.80 -4.09  0.33   -0.85    0.03   \n",
              "4               1.0           5  ...      0.99 -4.18  0.32   -1.29    0.05   \n",
              "5               1.0           5  ...      1.19 -4.29  0.31   -1.77    0.06   \n",
              "\n",
              "   quarter  down  yards_to_go  absolute_yardline_number  score_delta  \n",
              "1        1     3            2                      43.0            0  \n",
              "2        1     3            2                      43.0            0  \n",
              "3        1     3            2                      43.0            0  \n",
              "4        1     3            2                      43.0            0  \n",
              "5        1     3            2                      43.0            0  \n",
              "\n",
              "[5 rows x 30 columns]"
            ]
          },
          "execution_count": 12,
          "metadata": {},
          "output_type": "execute_result"
        }
      ],
      "source": [
        "if in_colab:\n",
        "  drive.mount(\"/content/drive\")\n",
        "  path = \"/content/drive/MyDrive/nfl-big-data-bowl-2023\"\n",
        "else:\n",
        "  path = os.environ.get(\"BIG_DATA_BOWL\")\n",
        "\n",
        "df = pd.read_csv(f\"{path}/data/dataset.csv\", index_col=0).head(5000)\n",
        "df.head()"
      ]
    },
    {
      "cell_type": "code",
      "execution_count": 13,
      "metadata": {
        "colab": {
          "base_uri": "https://localhost:8080/"
        },
        "id": "oOD27h-Way_5",
        "outputId": "f14d46b7-7f7d-4c13-a633-015bb8ff4551"
      },
      "outputs": [
        {
          "name": "stdout",
          "output_type": "stream",
          "text": [
            "<class 'pandas.core.frame.DataFrame'>\n",
            "Int64Index: 5000 entries, 1 to 5000\n",
            "Data columns (total 30 columns):\n",
            " #   Column                    Non-Null Count  Dtype  \n",
            "---  ------                    --------------  -----  \n",
            " 0   game_id                   5000 non-null   int64  \n",
            " 1   play_id                   5000 non-null   int64  \n",
            " 2   nfl_id                    5000 non-null   int64  \n",
            " 3   speed                     5000 non-null   float64\n",
            " 4   pressure                  5000 non-null   int64  \n",
            " 5   x                         5000 non-null   float64\n",
            " 6   y                         5000 non-null   float64\n",
            " 7   dist_from_qb              5000 non-null   float64\n",
            " 8   qb_in_tackle_box          5000 non-null   float64\n",
            " 9   n_blockers                5000 non-null   int64  \n",
            " 10  x_C                       5000 non-null   float64\n",
            " 11  x_LT                      5000 non-null   float64\n",
            " 12  x_LG                      5000 non-null   float64\n",
            " 13  x_RG                      5000 non-null   float64\n",
            " 14  x_RT                      5000 non-null   float64\n",
            " 15  y_C                       5000 non-null   float64\n",
            " 16  y_LT                      5000 non-null   float64\n",
            " 17  y_LG                      5000 non-null   float64\n",
            " 18  y_RG                      5000 non-null   float64\n",
            " 19  y_RT                      5000 non-null   float64\n",
            " 20  speed_qb                  5000 non-null   float64\n",
            " 21  x_qb                      5000 non-null   float64\n",
            " 22  y_qb                      5000 non-null   float64\n",
            " 23  x_ball                    5000 non-null   float64\n",
            " 24  y_ball                    5000 non-null   float64\n",
            " 25  quarter                   5000 non-null   int64  \n",
            " 26  down                      5000 non-null   int64  \n",
            " 27  yards_to_go               5000 non-null   int64  \n",
            " 28  absolute_yardline_number  5000 non-null   float64\n",
            " 29  score_delta               5000 non-null   int64  \n",
            "dtypes: float64(21), int64(9)\n",
            "memory usage: 1.2 MB\n"
          ]
        }
      ],
      "source": [
        "# examine missingness, models will need balanced sequences\n",
        "df.info()"
      ]
    },
    {
      "cell_type": "code",
      "execution_count": 14,
      "metadata": {},
      "outputs": [
        {
          "name": "stdout",
          "output_type": "stream",
          "text": [
            "<class 'pandas.core.frame.DataFrame'>\n",
            "Int64Index: 5000 entries, 1 to 5000\n",
            "Data columns (total 30 columns):\n",
            " #   Column                    Non-Null Count  Dtype  \n",
            "---  ------                    --------------  -----  \n",
            " 0   game_id                   5000 non-null   int64  \n",
            " 1   play_id                   5000 non-null   int64  \n",
            " 2   nfl_id                    5000 non-null   int64  \n",
            " 3   speed                     5000 non-null   float64\n",
            " 4   pressure                  5000 non-null   int64  \n",
            " 5   x                         5000 non-null   float64\n",
            " 6   y                         5000 non-null   float64\n",
            " 7   dist_from_qb              5000 non-null   float64\n",
            " 8   qb_in_tackle_box          5000 non-null   float64\n",
            " 9   n_blockers                5000 non-null   int64  \n",
            " 10  x_C                       5000 non-null   float64\n",
            " 11  x_LT                      5000 non-null   float64\n",
            " 12  x_LG                      5000 non-null   float64\n",
            " 13  x_RG                      5000 non-null   float64\n",
            " 14  x_RT                      5000 non-null   float64\n",
            " 15  y_C                       5000 non-null   float64\n",
            " 16  y_LT                      5000 non-null   float64\n",
            " 17  y_LG                      5000 non-null   float64\n",
            " 18  y_RG                      5000 non-null   float64\n",
            " 19  y_RT                      5000 non-null   float64\n",
            " 20  speed_qb                  5000 non-null   float64\n",
            " 21  x_qb                      5000 non-null   float64\n",
            " 22  y_qb                      5000 non-null   float64\n",
            " 23  x_ball                    5000 non-null   float64\n",
            " 24  y_ball                    5000 non-null   float64\n",
            " 25  quarter                   5000 non-null   int64  \n",
            " 26  down                      5000 non-null   int64  \n",
            " 27  yards_to_go               5000 non-null   int64  \n",
            " 28  absolute_yardline_number  5000 non-null   float64\n",
            " 29  score_delta               5000 non-null   int64  \n",
            "dtypes: float64(21), int64(9)\n",
            "memory usage: 1.2 MB\n"
          ]
        }
      ],
      "source": [
        "df.dropna(axis = 0, how = \"any\", inplace = True)\n",
        "df.info()"
      ]
    },
    {
      "cell_type": "code",
      "execution_count": 15,
      "metadata": {},
      "outputs": [],
      "source": [
        "def oversampler(df: pd.DataFrame, group_by: list, feats: list, outcome: str) -> pd.DataFrame:\n",
        "    grouped_df = df.copy().groupby(group_by)\n",
        "    group_labels = grouped_df.first()[outcome]\n",
        "    vals = group_labels.value_counts()\n",
        "    n_to_add = vals[0] - vals[1]\n",
        "    minority_lab = vals.index[1]\n",
        "    groups_to_sample = list(group_labels[group_labels == minority_lab].index)\n",
        "    choices = [random.choice(groups_to_sample) for _ in range(n_to_add)]\n",
        "    unique_key_counter = -1 # new \"keys\" will be negative so as not to duplicate groups which are all positive\n",
        "    for i in choices:\n",
        "        to_add = grouped_df.get_group(i).copy()\n",
        "        for j in group_by:\n",
        "            to_add[j] = unique_key_counter\n",
        "        df = pd.concat([df, to_add], axis = 0)\n",
        "        unique_key_counter += -1\n",
        "    return df"
      ]
    },
    {
      "cell_type": "code",
      "execution_count": 16,
      "metadata": {
        "id": "v5mAgPj_XK_u"
      },
      "outputs": [],
      "source": [
        "def make_datasets(df: pd.DataFrame, group_by: list, feats: list, outcome: str, sequences: bool, \n",
        "samples: int, test_size: float, oversample = False):\n",
        "\n",
        "  if oversample:\n",
        "    df = oversampler(df, group_by, feats, outcome)\n",
        "\n",
        "  if sequences or samples > 0:\n",
        "    X, y  = [], []\n",
        "    grouped_df = df.groupby(group_by)\n",
        "    for _, group_df in grouped_df:\n",
        "      f = group_df[feats].to_numpy()\n",
        "      if samples > 0:\n",
        "        sub_seq_lens = np.random.randint(0, len(f), samples)\n",
        "        sub_seq = [f[:n] for n in sub_seq_lens]\n",
        "        X += sub_seq\n",
        "      else: # sequences but no sampling\n",
        "        X.append(group_df[feats].to_numpy())\n",
        "      if sequences:\n",
        "        if samples == 0:\n",
        "          y.append(group_df[[outcome]].to_numpy()[0])\n",
        "        else:\n",
        "          for s in range(samples):\n",
        "            y.append(group_df[[outcome]].to_numpy()[0])\n",
        "      else: # no sequences but multiple samples\n",
        "        y.append(np.repeat(group_df[outcome].values[0], sum(sub_seq_lens)))\n",
        "    if sequences:\n",
        "      X = tf.keras.utils.pad_sequences(X, dtype=\"float\", padding=\"pre\", value = -99)\n",
        "      y = np.stack(y)\n",
        "    else: # no sequences but multiple samples\n",
        "      X = np.concatenate(X)\n",
        "      y = np.concatenate(y).ravel()\n",
        "\n",
        "  else:\n",
        "      X = df[feats].to_numpy()\n",
        "      y = df[outcome].to_numpy()\n",
        "    \n",
        "  return train_test_split(X, y, test_size = test_size, random_state = seed) + [outcome]"
      ]
    },
    {
      "cell_type": "code",
      "execution_count": 17,
      "metadata": {},
      "outputs": [],
      "source": [
        "model_metrics = {}\n",
        "def add_metrics(model, outcome_name: str, model_name: str, X_test: np.ndarray, y_test: np.ndarray):\n",
        "    global model_metrics\n",
        "    model_metrics[outcome_name] = {}\n",
        "    y_pred = model.predict(X_test)\n",
        "    if type(model) == LogisticRegression:\n",
        "        y_score = model.decision_function(X_test)\n",
        "        fpr, tpr, _ = roc_curve(y_test, y_score, pos_label = 1)\n",
        "        roc = RocCurveDisplay(fpr = fpr, tpr = tpr)\n",
        "        prec, recall, _ = precision_recall_curve(y_test, y_score, pos_label= 1)\n",
        "        pr = PrecisionRecallDisplay(precision=prec, recall=recall)\n",
        "        auc = roc_auc_score(y_test, y_score)\n",
        "        model_metrics[outcome_name][model_name] = {\"auc\": auc, \"roc_curve\": roc, \"pr_curve\": pr}\n",
        "    else:\n",
        "        evaluation = model.evaluate(X_test, y_test)\n",
        "        auc = evaluation[1]\n",
        "        acc = evaluation[2]\n",
        "        model_metrics[outcome_name][model_name] = {\"auc\": auc, \"acc\": acc}\n",
        "    print(f\"Added metric for model {model_name} with outcome {outcome_name} to the model_metrics dictionary.\")\n",
        "    for k, v in model_metrics[outcome_name][model_name].items():\n",
        "        print(f\"{k}: {v}\")"
      ]
    },
    {
      "cell_type": "code",
      "execution_count": 18,
      "metadata": {},
      "outputs": [],
      "source": [
        "outcome = \"pressure\"\n",
        "group_by = [\"game_id\", \"play_id\", \"nfl_id\"]\n",
        "feats = [x for x in list(df.columns) if x not in group_by + [outcome]]"
      ]
    },
    {
      "attachments": {},
      "cell_type": "markdown",
      "metadata": {},
      "source": [
        "## ReSaP: **Re**current **Sa**ck **P**robabilities"
      ]
    },
    {
      "attachments": {},
      "cell_type": "markdown",
      "metadata": {
        "id": "xFLw3CeFvYJv"
      },
      "source": [
        "### \"Naive\" Logistic Model"
      ]
    },
    {
      "cell_type": "code",
      "execution_count": 19,
      "metadata": {
        "colab": {
          "base_uri": "https://localhost:8080/"
        },
        "id": "qJbARXxAvVz4",
        "outputId": "ba916dc3-8f10-4134-d1d5-f04511c91fde"
      },
      "outputs": [],
      "source": [
        "def model_logistic(data: list, max_iter: int, file: str):\n",
        "    mod = LogisticRegression(max_iter = max_iter)\n",
        "    mod.fit(data[0], data[2])\n",
        "    add_metrics(mod, data[4], \"logistic\", data[1], data[3])\n",
        "    pickle.dump(mod, open(file, \"wb\"))\n",
        "    return mod"
      ]
    },
    {
      "cell_type": "code",
      "execution_count": 20,
      "metadata": {},
      "outputs": [
        {
          "name": "stdout",
          "output_type": "stream",
          "text": [
            "Added metric for model logistic with outcome pressure to the model_metrics dictionary.\n",
            "auc: 0.9269791887697576\n",
            "roc_curve: <sklearn.metrics._plot.roc_curve.RocCurveDisplay object at 0x7fb48f7d59c0>\n",
            "pr_curve: <sklearn.metrics._plot.precision_recall_curve.PrecisionRecallDisplay object at 0x7fb48f7d61a0>\n"
          ]
        },
        {
          "name": "stderr",
          "output_type": "stream",
          "text": [
            "/Users/jskaza/Documents/nfl-big-data-bowl-2023/.conda/lib/python3.10/site-packages/sklearn/linear_model/_logistic.py:458: ConvergenceWarning: lbfgs failed to converge (status=1):\n",
            "STOP: TOTAL NO. of ITERATIONS REACHED LIMIT.\n",
            "\n",
            "Increase the number of iterations (max_iter) or scale the data as shown in:\n",
            "    https://scikit-learn.org/stable/modules/preprocessing.html\n",
            "Please also refer to the documentation for alternative solver options:\n",
            "    https://scikit-learn.org/stable/modules/linear_model.html#logistic-regression\n",
            "  n_iter_i = _check_optimize_result(\n"
          ]
        }
      ],
      "source": [
        "data = make_datasets(df, group_by, feats, outcome, sequences = False, samples = 3, test_size = 0.2, oversample = True)\n",
        "mod1 = model_logistic(data, 1000, \"mod1.sav\")"
      ]
    },
    {
      "attachments": {},
      "cell_type": "markdown",
      "metadata": {
        "id": "nti1gLWph2gp"
      },
      "source": [
        "### LSTM"
      ]
    },
    {
      "cell_type": "code",
      "execution_count": 21,
      "metadata": {},
      "outputs": [],
      "source": [
        "def model_lstm(data: list, units: int, num_epochs: int, val: float, folder: str):\n",
        "    tf.random.set_seed(seed)\n",
        "    np.random.seed(seed)\n",
        "    \n",
        "    mod = tf.keras.Sequential()\n",
        "    mod.add(tf.keras.layers.Masking(mask_value= -99., input_shape= data[0].shape[1:]))\n",
        "    mod.add(tf.keras.layers.LSTM(units, input_shape = data[0].shape[1:]))\n",
        "    mod.add(tf.keras.layers.Dense(data[2].shape[1], activation=\"sigmoid\"))\n",
        "\n",
        "    mod.compile(loss = \"binary_crossentropy\", optimizer=\"adam\",\n",
        "     metrics = [tf.keras.metrics.AUC(), tf.keras.metrics.BinaryAccuracy()])\n",
        "\n",
        "    # callbacks = [tf.keras.callbacks.EarlyStopping(patience = 5, restore_best_weights=True)]\n",
        "\n",
        "    mod.fit(data[0], data[2], epochs = num_epochs, validation_split = val)\n",
        "    mod.save(folder)\n",
        "    add_metrics(mod, data[4], \"lstm\", data[1], data[3])\n",
        "    return mod"
      ]
    },
    {
      "cell_type": "code",
      "execution_count": 22,
      "metadata": {},
      "outputs": [
        {
          "name": "stderr",
          "output_type": "stream",
          "text": [
            "2023-01-08 13:54:10.197430: I tensorflow/core/platform/cpu_feature_guard.cc:193] This TensorFlow binary is optimized with oneAPI Deep Neural Network Library (oneDNN) to use the following CPU instructions in performance-critical operations:  AVX2 FMA\n",
            "To enable them in other operations, rebuild TensorFlow with the appropriate compiler flags.\n"
          ]
        },
        {
          "name": "stdout",
          "output_type": "stream",
          "text": [
            "24/24 [==============================] - 8s 109ms/step - loss: 0.7549 - auc: 0.4171 - binary_accuracy: 0.5100 - val_loss: 0.7577 - val_auc: 0.4678 - val_binary_accuracy: 0.4643\n"
          ]
        },
        {
          "name": "stderr",
          "output_type": "stream",
          "text": [
            "WARNING:absl:Found untraced functions such as _update_step_xla, lstm_cell_layer_call_fn, lstm_cell_layer_call_and_return_conditional_losses while saving (showing 3 of 3). These functions will not be directly callable after loading.\n"
          ]
        },
        {
          "name": "stdout",
          "output_type": "stream",
          "text": [
            "INFO:tensorflow:Assets written to: mod2/assets\n"
          ]
        },
        {
          "name": "stderr",
          "output_type": "stream",
          "text": [
            "INFO:tensorflow:Assets written to: mod2/assets\n"
          ]
        },
        {
          "name": "stdout",
          "output_type": "stream",
          "text": [
            "7/7 [==============================] - 2s 10ms/step\n",
            "7/7 [==============================] - 0s 11ms/step - loss: 0.7483 - auc: 0.4405 - binary_accuracy: 0.4976\n",
            "Added metric for model lstm with outcome pressure to the model_metrics dictionary.\n",
            "auc: 0.4404653012752533\n",
            "acc: 0.49760764837265015\n"
          ]
        }
      ],
      "source": [
        "data = make_datasets(df, group_by, feats, outcome, sequences = True, samples = 3, test_size = 0.2, oversample = True)\n",
        "mod2 = model_lstm(data, 64, 50, 0.1, \"mod2\")"
      ]
    },
    {
      "attachments": {},
      "cell_type": "markdown",
      "metadata": {
        "id": "7_EiKFYE9qgi"
      },
      "source": [
        "### LSTM + Transformer"
      ]
    },
    {
      "cell_type": "code",
      "execution_count": 23,
      "metadata": {
        "id": "YRjBrCEW-8VU"
      },
      "outputs": [],
      "source": [
        "def transformer_encoder(inputs, head_size, num_heads, ff_dim, dropout=0):\n",
        "    # Normalization and Attention\n",
        "    x = tf.keras.layers.LayerNormalization(epsilon=1e-6)(inputs)\n",
        "    x = tf.keras.layers.MultiHeadAttention(key_dim=head_size, num_heads=num_heads, dropout=dropout)(x, x)\n",
        "    x = tf.keras.layers.Dropout(dropout)(x)\n",
        "    res = x + inputs\n",
        "\n",
        "    # Feed Forward Part\n",
        "    x = tf.keras.layers.LayerNormalization(epsilon=1e-6)(res)\n",
        "    x = tf.keras.layers.Conv1D(filters=ff_dim, kernel_size=1, activation=\"relu\")(x)\n",
        "    x = tf.keras.layers.Dropout(dropout)(x)\n",
        "    x = tf.keras.layers.Conv1D(filters=inputs.shape[-1], kernel_size=1)(x)\n",
        "    return x + res"
      ]
    },
    {
      "cell_type": "code",
      "execution_count": 24,
      "metadata": {},
      "outputs": [],
      "source": [
        "def model_transformer(data: list, head_size: int, num_heads: int, ff_dim: int, num_transformer_blocks: int, mlp_units: list,\n",
        " mlp_dropout: float, dropout: float, lstm_units: int, num_epochs: int, val: float, folder: str):\n",
        "    inputs = tf.keras.Input(shape=data[0].shape[1:])\n",
        "    x = inputs\n",
        "    x = tf.keras.layers.Masking(mask_value = -99.,input_shape = data[0].shape[1:])(x)\n",
        "    x = tf.keras.layers.LSTM(lstm_units, input_shape = data[0].shape[1:], return_sequences = True)(x)\n",
        "\n",
        "    for _ in range(num_transformer_blocks):\n",
        "        x = transformer_encoder(x, head_size, num_heads, ff_dim, dropout)\n",
        "\n",
        "    x = tf.keras.layers.GlobalAveragePooling1D(data_format = \"channels_last\")(x)\n",
        "    x = tf.keras.layers.Dropout(0.1)(x)\n",
        "\n",
        "    for dim in mlp_units:\n",
        "        x = tf.keras.layers.Dense(dim, activation=\"relu\")(x)\n",
        "        x = tf.keras.layers.Dropout(mlp_dropout)(x)\n",
        "\n",
        "    outputs = tf.keras.layers.Dense(data[2].shape[1], activation = \"sigmoid\")(x)\n",
        "    mod = tf.keras.Model(inputs, outputs)\n",
        "\n",
        "    mod.compile(\n",
        "        loss = \"binary_crossentropy\",\n",
        "        optimizer = \"adam\",\n",
        "        metrics = [tf.keras.metrics.AUC(), tf.keras.metrics.BinaryAccuracy()]\n",
        "    )\n",
        "\n",
        "    # callbacks = [tf.keras.callbacks.EarlyStopping(min_delta=0.01, patience=3, restore_best_weights=True)]\n",
        "\n",
        "    mod.fit(data[0], data[2], epochs= num_epochs, validation_split = val)\n",
        "\n",
        "    mod.save(folder)\n",
        "    add_metrics(mod, data[4], \"lstm\", data[1], data[3])\n",
        "    return mod"
      ]
    },
    {
      "cell_type": "code",
      "execution_count": 26,
      "metadata": {},
      "outputs": [
        {
          "name": "stdout",
          "output_type": "stream",
          "text": [
            "24/24 [==============================] - 13s 237ms/step - loss: 0.6954 - auc_1: 0.4707 - binary_accuracy: 0.4913 - val_loss: 0.6942 - val_auc_1: 0.3761 - val_binary_accuracy: 0.4048\n"
          ]
        },
        {
          "name": "stderr",
          "output_type": "stream",
          "text": [
            "WARNING:absl:Found untraced functions such as _jit_compiled_convolution_op, _jit_compiled_convolution_op, _update_step_xla, lstm_cell_1_layer_call_fn, lstm_cell_1_layer_call_and_return_conditional_losses while saving (showing 5 of 17). These functions will not be directly callable after loading.\n"
          ]
        },
        {
          "name": "stdout",
          "output_type": "stream",
          "text": [
            "INFO:tensorflow:Assets written to: mod3/assets\n"
          ]
        },
        {
          "name": "stderr",
          "output_type": "stream",
          "text": [
            "INFO:tensorflow:Assets written to: mod3/assets\n"
          ]
        },
        {
          "name": "stdout",
          "output_type": "stream",
          "text": [
            "7/7 [==============================] - 3s 33ms/step\n",
            "7/7 [==============================] - 0s 35ms/step - loss: 0.6931 - auc_1: 0.5185 - binary_accuracy: 0.5120\n",
            "Added metric for model lstm with outcome pressure to the model_metrics dictionary.\n",
            "auc: 0.5185015201568604\n",
            "acc: 0.5119616985321045\n"
          ]
        }
      ],
      "source": [
        "mod3 = model_transformer(data, 128, 4, 4, 1, [128], 0.2, 0.25, 64, 50, 0.1, \"mod3\")"
      ]
    },
    {
      "cell_type": "code",
      "execution_count": null,
      "metadata": {},
      "outputs": [],
      "source": []
    }
  ],
  "metadata": {
    "colab": {
      "include_colab_link": true,
      "provenance": []
    },
    "kernelspec": {
      "display_name": "Python 3",
      "language": "python",
      "name": "python3"
    },
    "language_info": {
      "codemirror_mode": {
        "name": "ipython",
        "version": 3
      },
      "file_extension": ".py",
      "mimetype": "text/x-python",
      "name": "python",
      "nbconvert_exporter": "python",
      "pygments_lexer": "ipython3",
      "version": "3.10.8"
    },
    "vscode": {
      "interpreter": {
        "hash": "84233dc2148a4ba24349c930a847c50600752012508169725523fba31fb5cdf9"
      }
    }
  },
  "nbformat": 4,
  "nbformat_minor": 0
}
