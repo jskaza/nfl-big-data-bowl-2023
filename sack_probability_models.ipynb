{
  "cells": [
    {
      "cell_type": "markdown",
      "metadata": {
        "colab_type": "text",
        "id": "view-in-github"
      },
      "source": [
        "<a href=\"https://colab.research.google.com/github/jskaza/nfl-big-data-bowl-2023/blob/master/sack_probability_models.ipynb\" target=\"_parent\"><img src=\"https://colab.research.google.com/assets/colab-badge.svg\" alt=\"Open In Colab\"/></a>"
      ]
    },
    {
      "attachments": {},
      "cell_type": "markdown",
      "metadata": {
        "id": "2Ze7qdhqi4Pk"
      },
      "source": [
        "# Using ReSaP and ReHaP to Predict Pass Rusher Impact as Plays Develop\n",
        "*ReSaP: **Re**current **Sa**ck **P**robabilities*\n",
        "\n",
        "*ReHaP: **Re**current **Ha**voc **P**robabilities*\n",
        "\n",
        "**Jon Skaza & Matt Guthrie**"
      ]
    },
    {
      "cell_type": "code",
      "execution_count": 324,
      "metadata": {
        "colab": {
          "base_uri": "https://localhost:8080/"
        },
        "id": "7tFSzTpcXK_m",
        "outputId": "429581d1-38e2-4805-ed06-f12f6bbbda21",
        "scrolled": true
      },
      "outputs": [],
      "source": [
        "import os\n",
        "import numpy as np\n",
        "import pandas as pd\n",
        "import tensorflow as tf\n",
        "from sklearn.linear_model import LogisticRegression\n",
        "from sklearn.metrics import roc_auc_score, roc_curve, RocCurveDisplay, precision_recall_curve, PrecisionRecallDisplay\n",
        "from sklearn.model_selection import train_test_split\n",
        "from imblearn.over_sampling import SMOTE\n",
        "import matplotlib.pyplot as plt\n",
        "try:\n",
        "  from google.colab import drive\n",
        "  in_colab = True\n",
        "except:\n",
        "  in_colab = False\n",
        "seed = 314 # for reproducibility, used in various places\n",
        "np.random.seed(seed)"
      ]
    },
    {
      "attachments": {},
      "cell_type": "markdown",
      "metadata": {
        "id": "LWTFl3HYaciz"
      },
      "source": [
        "## Dataset Preprocessing"
      ]
    },
    {
      "cell_type": "code",
      "execution_count": 125,
      "metadata": {
        "colab": {
          "base_uri": "https://localhost:8080/",
          "height": 335
        },
        "id": "Ox-a-y6_XK_r",
        "outputId": "0a4150ab-2b1d-4839-c155-bab7abcd3b80",
        "scrolled": false
      },
      "outputs": [
        {
          "data": {
            "text/html": [
              "<div>\n",
              "<style scoped>\n",
              "    .dataframe tbody tr th:only-of-type {\n",
              "        vertical-align: middle;\n",
              "    }\n",
              "\n",
              "    .dataframe tbody tr th {\n",
              "        vertical-align: top;\n",
              "    }\n",
              "\n",
              "    .dataframe thead th {\n",
              "        text-align: right;\n",
              "    }\n",
              "</style>\n",
              "<table border=\"1\" class=\"dataframe\">\n",
              "  <thead>\n",
              "    <tr style=\"text-align: right;\">\n",
              "      <th></th>\n",
              "      <th>game_id</th>\n",
              "      <th>play_id</th>\n",
              "      <th>nfl_id</th>\n",
              "      <th>speed</th>\n",
              "      <th>pff_sack</th>\n",
              "      <th>havoc</th>\n",
              "      <th>x</th>\n",
              "      <th>y</th>\n",
              "      <th>dist_from_qb</th>\n",
              "      <th>qb_in_tackle_box</th>\n",
              "      <th>...</th>\n",
              "      <th>speed_qb</th>\n",
              "      <th>x_qb</th>\n",
              "      <th>y_qb</th>\n",
              "      <th>x_ball</th>\n",
              "      <th>y_ball</th>\n",
              "      <th>quarter</th>\n",
              "      <th>down</th>\n",
              "      <th>yards_to_go</th>\n",
              "      <th>absolute_yardline_number</th>\n",
              "      <th>score_delta</th>\n",
              "    </tr>\n",
              "  </thead>\n",
              "  <tbody>\n",
              "    <tr>\n",
              "      <th>1</th>\n",
              "      <td>2021090900</td>\n",
              "      <td>97</td>\n",
              "      <td>41263</td>\n",
              "      <td>0.96</td>\n",
              "      <td>0</td>\n",
              "      <td>1</td>\n",
              "      <td>1.74</td>\n",
              "      <td>-5.03</td>\n",
              "      <td>7.802083</td>\n",
              "      <td>1.0</td>\n",
              "      <td>...</td>\n",
              "      <td>0.35</td>\n",
              "      <td>-3.92</td>\n",
              "      <td>0.34</td>\n",
              "      <td>0.00</td>\n",
              "      <td>0.00</td>\n",
              "      <td>1</td>\n",
              "      <td>3</td>\n",
              "      <td>2</td>\n",
              "      <td>43.0</td>\n",
              "      <td>0</td>\n",
              "    </tr>\n",
              "    <tr>\n",
              "      <th>2</th>\n",
              "      <td>2021090900</td>\n",
              "      <td>97</td>\n",
              "      <td>41263</td>\n",
              "      <td>1.08</td>\n",
              "      <td>0</td>\n",
              "      <td>1</td>\n",
              "      <td>1.63</td>\n",
              "      <td>-5.01</td>\n",
              "      <td>7.766557</td>\n",
              "      <td>1.0</td>\n",
              "      <td>...</td>\n",
              "      <td>0.54</td>\n",
              "      <td>-4.00</td>\n",
              "      <td>0.34</td>\n",
              "      <td>-0.49</td>\n",
              "      <td>0.02</td>\n",
              "      <td>1</td>\n",
              "      <td>3</td>\n",
              "      <td>2</td>\n",
              "      <td>43.0</td>\n",
              "      <td>0</td>\n",
              "    </tr>\n",
              "    <tr>\n",
              "      <th>3</th>\n",
              "      <td>2021090900</td>\n",
              "      <td>97</td>\n",
              "      <td>41263</td>\n",
              "      <td>1.30</td>\n",
              "      <td>0</td>\n",
              "      <td>1</td>\n",
              "      <td>1.47</td>\n",
              "      <td>-4.99</td>\n",
              "      <td>7.695193</td>\n",
              "      <td>1.0</td>\n",
              "      <td>...</td>\n",
              "      <td>0.80</td>\n",
              "      <td>-4.09</td>\n",
              "      <td>0.33</td>\n",
              "      <td>-0.85</td>\n",
              "      <td>0.03</td>\n",
              "      <td>1</td>\n",
              "      <td>3</td>\n",
              "      <td>2</td>\n",
              "      <td>43.0</td>\n",
              "      <td>0</td>\n",
              "    </tr>\n",
              "    <tr>\n",
              "      <th>4</th>\n",
              "      <td>2021090900</td>\n",
              "      <td>97</td>\n",
              "      <td>41263</td>\n",
              "      <td>1.48</td>\n",
              "      <td>0</td>\n",
              "      <td>1</td>\n",
              "      <td>1.31</td>\n",
              "      <td>-4.94</td>\n",
              "      <td>7.603138</td>\n",
              "      <td>1.0</td>\n",
              "      <td>...</td>\n",
              "      <td>0.99</td>\n",
              "      <td>-4.18</td>\n",
              "      <td>0.32</td>\n",
              "      <td>-1.29</td>\n",
              "      <td>0.05</td>\n",
              "      <td>1</td>\n",
              "      <td>3</td>\n",
              "      <td>2</td>\n",
              "      <td>43.0</td>\n",
              "      <td>0</td>\n",
              "    </tr>\n",
              "    <tr>\n",
              "      <th>5</th>\n",
              "      <td>2021090900</td>\n",
              "      <td>97</td>\n",
              "      <td>41263</td>\n",
              "      <td>2.16</td>\n",
              "      <td>0</td>\n",
              "      <td>1</td>\n",
              "      <td>1.04</td>\n",
              "      <td>-4.83</td>\n",
              "      <td>7.404627</td>\n",
              "      <td>1.0</td>\n",
              "      <td>...</td>\n",
              "      <td>1.19</td>\n",
              "      <td>-4.29</td>\n",
              "      <td>0.31</td>\n",
              "      <td>-1.77</td>\n",
              "      <td>0.06</td>\n",
              "      <td>1</td>\n",
              "      <td>3</td>\n",
              "      <td>2</td>\n",
              "      <td>43.0</td>\n",
              "      <td>0</td>\n",
              "    </tr>\n",
              "  </tbody>\n",
              "</table>\n",
              "<p>5 rows × 31 columns</p>\n",
              "</div>"
            ],
            "text/plain": [
              "      game_id  play_id  nfl_id  speed  pff_sack  havoc     x     y  \\\n",
              "1  2021090900       97   41263   0.96         0      1  1.74 -5.03   \n",
              "2  2021090900       97   41263   1.08         0      1  1.63 -5.01   \n",
              "3  2021090900       97   41263   1.30         0      1  1.47 -4.99   \n",
              "4  2021090900       97   41263   1.48         0      1  1.31 -4.94   \n",
              "5  2021090900       97   41263   2.16         0      1  1.04 -4.83   \n",
              "\n",
              "   dist_from_qb  qb_in_tackle_box  ...  speed_qb  x_qb  y_qb  x_ball  y_ball  \\\n",
              "1      7.802083               1.0  ...      0.35 -3.92  0.34    0.00    0.00   \n",
              "2      7.766557               1.0  ...      0.54 -4.00  0.34   -0.49    0.02   \n",
              "3      7.695193               1.0  ...      0.80 -4.09  0.33   -0.85    0.03   \n",
              "4      7.603138               1.0  ...      0.99 -4.18  0.32   -1.29    0.05   \n",
              "5      7.404627               1.0  ...      1.19 -4.29  0.31   -1.77    0.06   \n",
              "\n",
              "   quarter  down  yards_to_go  absolute_yardline_number  score_delta  \n",
              "1        1     3            2                      43.0            0  \n",
              "2        1     3            2                      43.0            0  \n",
              "3        1     3            2                      43.0            0  \n",
              "4        1     3            2                      43.0            0  \n",
              "5        1     3            2                      43.0            0  \n",
              "\n",
              "[5 rows x 31 columns]"
            ]
          },
          "execution_count": 125,
          "metadata": {},
          "output_type": "execute_result"
        }
      ],
      "source": [
        "if in_colab:\n",
        "  drive.mount(\"/content/drive\")\n",
        "  path = \"/content/drive/MyDrive/nfl-big-data-bowl-2023\"\n",
        "else:\n",
        "  path = os.environ.get(\"BIG_DATA_BOWL\")\n",
        "\n",
        "df = pd.read_csv(f\"{path}/data/dataset.csv\", index_col=0).head(20000)\n",
        "df.head()"
      ]
    },
    {
      "cell_type": "code",
      "execution_count": 126,
      "metadata": {
        "colab": {
          "base_uri": "https://localhost:8080/"
        },
        "id": "oOD27h-Way_5",
        "outputId": "f14d46b7-7f7d-4c13-a633-015bb8ff4551"
      },
      "outputs": [
        {
          "name": "stdout",
          "output_type": "stream",
          "text": [
            "<class 'pandas.core.frame.DataFrame'>\n",
            "Int64Index: 20000 entries, 1 to 20000\n",
            "Data columns (total 31 columns):\n",
            " #   Column                    Non-Null Count  Dtype  \n",
            "---  ------                    --------------  -----  \n",
            " 0   game_id                   20000 non-null  int64  \n",
            " 1   play_id                   20000 non-null  int64  \n",
            " 2   nfl_id                    20000 non-null  int64  \n",
            " 3   speed                     20000 non-null  float64\n",
            " 4   pff_sack                  20000 non-null  int64  \n",
            " 5   havoc                     20000 non-null  int64  \n",
            " 6   x                         20000 non-null  float64\n",
            " 7   y                         20000 non-null  float64\n",
            " 8   dist_from_qb              20000 non-null  float64\n",
            " 9   qb_in_tackle_box          20000 non-null  float64\n",
            " 10  n_blockers                20000 non-null  int64  \n",
            " 11  x_C                       20000 non-null  float64\n",
            " 12  x_LT                      20000 non-null  float64\n",
            " 13  x_LG                      20000 non-null  float64\n",
            " 14  x_RG                      20000 non-null  float64\n",
            " 15  x_RT                      20000 non-null  float64\n",
            " 16  y_C                       20000 non-null  float64\n",
            " 17  y_LT                      20000 non-null  float64\n",
            " 18  y_LG                      20000 non-null  float64\n",
            " 19  y_RG                      20000 non-null  float64\n",
            " 20  y_RT                      20000 non-null  float64\n",
            " 21  speed_qb                  20000 non-null  float64\n",
            " 22  x_qb                      20000 non-null  float64\n",
            " 23  y_qb                      20000 non-null  float64\n",
            " 24  x_ball                    20000 non-null  float64\n",
            " 25  y_ball                    20000 non-null  float64\n",
            " 26  quarter                   20000 non-null  int64  \n",
            " 27  down                      20000 non-null  int64  \n",
            " 28  yards_to_go               20000 non-null  int64  \n",
            " 29  absolute_yardline_number  20000 non-null  float64\n",
            " 30  score_delta               20000 non-null  int64  \n",
            "dtypes: float64(21), int64(10)\n",
            "memory usage: 4.9 MB\n"
          ]
        }
      ],
      "source": [
        "# examine missingness, models will need balanced sequences\n",
        "df.info()"
      ]
    },
    {
      "cell_type": "code",
      "execution_count": 325,
      "metadata": {
        "id": "v5mAgPj_XK_u"
      },
      "outputs": [],
      "source": [
        "def make_datasets(df: pd.DataFrame, group_by: list, feats: list, outcome: str, sequences: bool, samples: int, test_size: float, smote = False):\n",
        "  if sequences or samples > 0:\n",
        "    X, y  = [], []\n",
        "    grouped_df = df.groupby(group_by)\n",
        "    for _, group_df in grouped_df:\n",
        "      f = group_df[feats].to_numpy()\n",
        "      if samples > 0:\n",
        "        sub_seq_lens = np.random.randint(0, len(f), samples)\n",
        "        sub_seq = [f[:n] for n in sub_seq_lens]\n",
        "        X += sub_seq\n",
        "      else: # sequences but no sampling\n",
        "        X.append(group_df[feats].to_numpy())\n",
        "      if sequences:\n",
        "        if samples == 0:\n",
        "          y.append(group_df[[outcome]].to_numpy()[0])\n",
        "        else:\n",
        "          for s in range(samples):\n",
        "            y.append(group_df[[outcome]].to_numpy()[0])\n",
        "      else: # no sequences but multiple samples\n",
        "        y.append(np.repeat(group_df[outcome].values[0], sum(sub_seq_lens)))\n",
        "    if sequences:\n",
        "      X = tf.keras.utils.pad_sequences(X, dtype=\"float\", padding=\"pre\", value = -99)\n",
        "      y = np.stack(y)\n",
        "    else: # no sequences but multiple samples\n",
        "      X = np.concatenate(X)\n",
        "      y = np.concatenate(y).ravel()\n",
        "  else:\n",
        "      X = df[feats].to_numpy()\n",
        "      y = df[outcome].to_numpy()\n",
        "\n",
        "  if smote:\n",
        "    sm = SMOTE(random_state = seed)\n",
        "    X, y = sm.fit_resample(X, y) \n",
        "  return train_test_split(X, y, test_size = test_size, random_state = seed) + [outcome]"
      ]
    },
    {
      "cell_type": "code",
      "execution_count": 326,
      "metadata": {},
      "outputs": [],
      "source": [
        "model_metrics = {}\n",
        "def add_metrics(model, outcome_name: str, model_name: str, X_test: np.ndarray, y_test: np.ndarray):\n",
        "    global model_metrics\n",
        "    model_metrics[outcome_name] = {}\n",
        "    y_pred = model.predict(X_test)\n",
        "    if type(model) == LogisticRegression:\n",
        "        y_score = model.decision_function(X_test)\n",
        "        fpr, tpr, _ = roc_curve(y_test, y_score, pos_label = 1)\n",
        "        roc = RocCurveDisplay(fpr = fpr, tpr = tpr)\n",
        "        prec, recall, _ = precision_recall_curve(y_test, y_score, pos_label= 1)\n",
        "        pr = PrecisionRecallDisplay(precision=prec, recall=recall)\n",
        "        auc = roc_auc_score(y_test, y_score)\n",
        "        model_metrics[outcome_name][model_name] = {\"auc\": auc, \"roc_curve\": roc, \"pr_curve\": pr}\n",
        "    else:\n",
        "        evaluation = model.evaluate(X_test, y_test)\n",
        "        auc = evaluation[1]\n",
        "        acc = evaluation[2]\n",
        "        model_metrics[outcome_name][model_name] = {\"auc\": auc, \"acc\": acc}\n",
        "    print(f\"Added metric for model {model_name} with outcome {outcome_name} to the model_metrics dictionary.\")\n",
        "    print(model_metrics)"
      ]
    },
    {
      "attachments": {},
      "cell_type": "markdown",
      "metadata": {},
      "source": [
        "## ReSaP: **Re**current **Sa**ck **P**robabilities"
      ]
    },
    {
      "attachments": {},
      "cell_type": "markdown",
      "metadata": {
        "id": "xFLw3CeFvYJv"
      },
      "source": [
        "### \"Naive\" Logistic Model"
      ]
    },
    {
      "cell_type": "code",
      "execution_count": 327,
      "metadata": {
        "colab": {
          "base_uri": "https://localhost:8080/"
        },
        "id": "qJbARXxAvVz4",
        "outputId": "ba916dc3-8f10-4134-d1d5-f04511c91fde"
      },
      "outputs": [],
      "source": [
        "def model_logistic(data: list, max_iter: int):\n",
        "    mod = LogisticRegression(max_iter = max_iter)\n",
        "    mod.fit(data[0], data[2])\n",
        "    add_metrics(mod, data[4], \"logistic\", data[1], data[3])"
      ]
    },
    {
      "cell_type": "code",
      "execution_count": 330,
      "metadata": {},
      "outputs": [
        {
          "data": {
            "text/plain": [
              "(28444, 26)"
            ]
          },
          "execution_count": 330,
          "metadata": {},
          "output_type": "execute_result"
        }
      ],
      "source": [
        "outcome = \"havoc\"\n",
        "group_by = [\"game_id\", \"play_id\", \"nfl_id\"]\n",
        "feats = [x for x in list(df.columns) if x not in group_by + [\"havoc\",\"pff_sack\"]]\n",
        "\n",
        "data = make_datasets(df, group_by, feats, outcome, sequences = False, samples = 0, test_size = 0.2, smote = True)\n",
        "\n",
        "model_logistic(data, 1000)"
      ]
    },
    {
      "cell_type": "code",
      "execution_count": null,
      "metadata": {},
      "outputs": [],
      "source": [
        "outcome = \"havoc\"\n",
        "group_by = [\"game_id\", \"play_id\", \"nfl_id\"]\n",
        "feats = [x for x in list(df.columns) if x not in group_by + [\"havoc\",\"pff_sack\"]]\n",
        "\n",
        "data = make_datasets(df, group_by, feats, outcome, sequences = False, samples = 10, test_size = 0.2, smote = True)\n",
        "model_logistic(data, 1000)"
      ]
    },
    {
      "attachments": {},
      "cell_type": "markdown",
      "metadata": {
        "id": "nti1gLWph2gp"
      },
      "source": [
        "### LSTM"
      ]
    },
    {
      "cell_type": "code",
      "execution_count": 322,
      "metadata": {},
      "outputs": [],
      "source": [
        "def model_lstm(data: list, channels: int, num_epochs: int, val: float):\n",
        "    tf.random.set_seed(seed)\n",
        "    np.random.seed(seed)\n",
        "    \n",
        "    mod = tf.keras.Sequential()\n",
        "    mod.add(tf.keras.layers.Masking(mask_value= -99., input_shape= data[0].shape[1:]))\n",
        "    mod.add(tf.keras.layers.LSTM(channels, input_shape = data[0].shape[1:]))\n",
        "    mod.add(tf.keras.layers.Dense(data[2].shape[1], activation=\"sigmoid\"))\n",
        "\n",
        "    mod.compile(loss = \"binary_crossentropy\", optimizer=\"adam\",\n",
        "     metrics = [tf.keras.metrics.AUC(), tf.keras.metrics.BinaryAccuracy()])\n",
        "\n",
        "    # callbacks = [tf.keras.callbacks.EarlyStopping(patience = 5, restore_best_weights=True)]\n",
        "\n",
        "    mod.fit(data[0], data[2], epochs = num_epochs, validation_split = val)\n",
        "    add_metrics(mod, data[4], \"lstm\", data[1], data[3])"
      ]
    },
    {
      "cell_type": "code",
      "execution_count": 323,
      "metadata": {},
      "outputs": [
        {
          "name": "stdout",
          "output_type": "stream",
          "text": [
            "Epoch 1/20\n",
            "31/31 [==============================] - 10s 125ms/step - loss: 0.3689 - auc_4: 0.5292 - binary_accuracy: 0.9005 - val_loss: 0.3685 - val_auc_4: 0.6093 - val_binary_accuracy: 0.8796\n",
            "Epoch 2/20\n",
            "31/31 [==============================] - 2s 65ms/step - loss: 0.3165 - auc_4: 0.6421 - binary_accuracy: 0.9047 - val_loss: 0.3407 - val_auc_4: 0.7555 - val_binary_accuracy: 0.8796\n",
            "Epoch 3/20\n",
            "31/31 [==============================] - 2s 64ms/step - loss: 0.3047 - auc_4: 0.6899 - binary_accuracy: 0.9047 - val_loss: 0.3206 - val_auc_4: 0.7543 - val_binary_accuracy: 0.8796\n",
            "Epoch 4/20\n",
            "31/31 [==============================] - 2s 64ms/step - loss: 0.2945 - auc_4: 0.7219 - binary_accuracy: 0.9088 - val_loss: 0.3295 - val_auc_4: 0.7466 - val_binary_accuracy: 0.8796\n",
            "Epoch 5/20\n",
            "31/31 [==============================] - 2s 66ms/step - loss: 0.2892 - auc_4: 0.7334 - binary_accuracy: 0.9098 - val_loss: 0.3225 - val_auc_4: 0.7822 - val_binary_accuracy: 0.8796\n",
            "Epoch 6/20\n",
            "31/31 [==============================] - 2s 67ms/step - loss: 0.2832 - auc_4: 0.7485 - binary_accuracy: 0.9088 - val_loss: 0.3050 - val_auc_4: 0.7891 - val_binary_accuracy: 0.8796\n",
            "Epoch 7/20\n",
            "31/31 [==============================] - 2s 74ms/step - loss: 0.2780 - auc_4: 0.7685 - binary_accuracy: 0.9119 - val_loss: 0.3028 - val_auc_4: 0.7866 - val_binary_accuracy: 0.8796\n",
            "Epoch 8/20\n",
            "31/31 [==============================] - 2s 75ms/step - loss: 0.2703 - auc_4: 0.7860 - binary_accuracy: 0.9130 - val_loss: 0.3079 - val_auc_4: 0.7834 - val_binary_accuracy: 0.8889\n",
            "Epoch 9/20\n",
            "31/31 [==============================] - 2s 75ms/step - loss: 0.2669 - auc_4: 0.7889 - binary_accuracy: 0.9161 - val_loss: 0.3047 - val_auc_4: 0.7931 - val_binary_accuracy: 0.8889\n",
            "Epoch 10/20\n",
            "31/31 [==============================] - 2s 76ms/step - loss: 0.2604 - auc_4: 0.8086 - binary_accuracy: 0.9150 - val_loss: 0.3114 - val_auc_4: 0.7947 - val_binary_accuracy: 0.8889\n",
            "Epoch 11/20\n",
            "31/31 [==============================] - 2s 75ms/step - loss: 0.2566 - auc_4: 0.8101 - binary_accuracy: 0.9171 - val_loss: 0.2973 - val_auc_4: 0.7907 - val_binary_accuracy: 0.8796\n",
            "Epoch 12/20\n",
            "31/31 [==============================] - 2s 71ms/step - loss: 0.2552 - auc_4: 0.8184 - binary_accuracy: 0.9181 - val_loss: 0.2888 - val_auc_4: 0.8194 - val_binary_accuracy: 0.8796\n",
            "Epoch 13/20\n",
            "31/31 [==============================] - 2s 73ms/step - loss: 0.2546 - auc_4: 0.8141 - binary_accuracy: 0.9140 - val_loss: 0.3082 - val_auc_4: 0.7830 - val_binary_accuracy: 0.8796\n",
            "Epoch 14/20\n",
            "31/31 [==============================] - 3s 83ms/step - loss: 0.2475 - auc_4: 0.8249 - binary_accuracy: 0.9161 - val_loss: 0.3191 - val_auc_4: 0.7874 - val_binary_accuracy: 0.8889\n",
            "Epoch 15/20\n",
            "31/31 [==============================] - 3s 83ms/step - loss: 0.2491 - auc_4: 0.8236 - binary_accuracy: 0.9161 - val_loss: 0.2857 - val_auc_4: 0.8470 - val_binary_accuracy: 0.8889\n",
            "Epoch 16/20\n",
            "31/31 [==============================] - 2s 76ms/step - loss: 0.2387 - auc_4: 0.8413 - binary_accuracy: 0.9223 - val_loss: 0.3080 - val_auc_4: 0.7939 - val_binary_accuracy: 0.8889\n",
            "Epoch 17/20\n",
            "31/31 [==============================] - 2s 75ms/step - loss: 0.2388 - auc_4: 0.8461 - binary_accuracy: 0.9181 - val_loss: 0.2797 - val_auc_4: 0.8462 - val_binary_accuracy: 0.8889\n",
            "Epoch 18/20\n",
            "31/31 [==============================] - 2s 70ms/step - loss: 0.2296 - auc_4: 0.8520 - binary_accuracy: 0.9285 - val_loss: 0.2869 - val_auc_4: 0.8198 - val_binary_accuracy: 0.8889\n",
            "Epoch 19/20\n",
            "31/31 [==============================] - 2s 67ms/step - loss: 0.2260 - auc_4: 0.8614 - binary_accuracy: 0.9254 - val_loss: 0.2525 - val_auc_4: 0.8737 - val_binary_accuracy: 0.8981\n",
            "Epoch 20/20\n",
            "31/31 [==============================] - 2s 76ms/step - loss: 0.2238 - auc_4: 0.8591 - binary_accuracy: 0.9264 - val_loss: 0.2788 - val_auc_4: 0.8259 - val_binary_accuracy: 0.8704\n",
            "9/9 [==============================] - 2s 16ms/step\n",
            "9/9 [==============================] - 0s 17ms/step - loss: 0.3322 - auc_4: 0.7215 - binary_accuracy: 0.8996\n",
            "Added metric for model lstm with outcome havoc to the model_metrics dictionary.\n",
            "{'havoc': {'lstm': {'auc': 0.7214783430099487, 'acc': 0.8996282815933228}}}\n"
          ]
        }
      ],
      "source": [
        "outcome = \"havoc\"\n",
        "group_by = [\"game_id\", \"play_id\", \"nfl_id\"]\n",
        "feats = [x for x in list(df.columns) if x not in group_by + [\"havoc\",\"pff_sack\"]]\n",
        "\n",
        "data = make_datasets(df, group_by, feats, outcome, sequences = True, samples = 0, test_size = 0.2, smote = True)\n",
        "model_lstm(data, 64, 50, 0.1)"
      ]
    },
    {
      "cell_type": "code",
      "execution_count": null,
      "metadata": {},
      "outputs": [],
      "source": [
        "outcome = \"havoc\"\n",
        "group_by = [\"game_id\", \"play_id\", \"nfl_id\"]\n",
        "feats = [x for x in list(df.columns) if x not in group_by + [\"havoc\",\"pff_sack\"]]\n",
        "\n",
        "data = make_datasets(df, group_by, feats, outcome, sequences = True, samples = 10, test_size = 0.2, smote = True)\n",
        "model_lstm(data, 64, 50, 0.1)"
      ]
    },
    {
      "cell_type": "code",
      "execution_count": 24,
      "metadata": {},
      "outputs": [
        {
          "data": {
            "text/plain": [
              "{'pff_sack': {'lstm': {'auc': 0.14070352911949158, 'acc': 0.9950000047683716}},\n",
              " 'havoc': {'lstm': {'auc': 0.44570034742355347, 'acc': 0.3050000071525574}}}"
            ]
          },
          "execution_count": 24,
          "metadata": {},
          "output_type": "execute_result"
        }
      ],
      "source": [
        "# roc curve\n",
        "# accuracy: predict no sack\n",
        "# logistic \n",
        "# lstm\n",
        "# break test into chunks\n",
        "model_metrics"
      ]
    },
    {
      "attachments": {},
      "cell_type": "markdown",
      "metadata": {
        "id": "7_EiKFYE9qgi"
      },
      "source": [
        "### Transformer"
      ]
    },
    {
      "cell_type": "code",
      "execution_count": 25,
      "metadata": {
        "id": "YRjBrCEW-8VU"
      },
      "outputs": [],
      "source": [
        "def transformer_encoder(inputs, head_size, num_heads, ff_dim, dropout=0):\n",
        "    # Normalization and Attention\n",
        "    x = tf.keras.layers.LayerNormalization(epsilon=1e-6)(inputs)\n",
        "    x = tf.keras.layers.MultiHeadAttention(key_dim=head_size, num_heads=num_heads, dropout=dropout)(x, x)\n",
        "    x = tf.keras.layers.Dropout(dropout)(x)\n",
        "    res = x + inputs\n",
        "\n",
        "    # Feed Forward Part\n",
        "    x = tf.keras.layers.LayerNormalization(epsilon=1e-6)(res)\n",
        "    x = tf.keras.layers.Conv1D(filters=ff_dim, kernel_size=1, activation=\"relu\")(x)\n",
        "    x = tf.keras.layers.Dropout(dropout)(x)\n",
        "    x = tf.keras.layers.Conv1D(filters=inputs.shape[-1], kernel_size=1)(x)\n",
        "    return x + res"
      ]
    },
    {
      "cell_type": "code",
      "execution_count": 26,
      "metadata": {},
      "outputs": [],
      "source": [
        "def build_model(\n",
        "    input_shape,\n",
        "    head_size,\n",
        "    num_heads,\n",
        "    ff_dim,\n",
        "    num_transformer_blocks,\n",
        "    mlp_units,\n",
        "    lstm_units,\n",
        "    dropout=0,\n",
        "    mlp_dropout=0,\n",
        "):\n",
        "    inputs = tf.keras.Input(shape=input_shape)\n",
        "    x = inputs\n",
        "    x = tf.keras.layers.Masking(mask_value=-99.,input_shape= input_shape)(x)\n",
        "    x = tf.keras.layers.LSTM(lstm_units, input_shape = input_shape, return_sequences=True)(x)\n",
        "\n",
        "    for _ in range(num_transformer_blocks):\n",
        "        x = transformer_encoder(x, head_size, num_heads, ff_dim, dropout)\n",
        "\n",
        "    x = tf.keras.layers.GlobalAveragePooling1D(data_format=\"channels_last\")(x)\n",
        "    x = tf.keras.layers.Dropout(0.1)(x)\n",
        "    \n",
        "    for dim in mlp_units:\n",
        "        x = tf.keras.layers.Dense(dim, activation=\"relu\")(x)\n",
        "        x = tf.keras.layers.Dropout(mlp_dropout)(x)\n",
        "    \n",
        "    outputs = tf.keras.layers.Dense(y.shape[1], activation=\"sigmoid\")(x)\n",
        "    return tf.keras.Model(inputs, outputs)"
      ]
    },
    {
      "cell_type": "code",
      "execution_count": 27,
      "metadata": {},
      "outputs": [],
      "source": [
        "outcomes = [\"pff_sack\", \"havoc\"]\n",
        "datasets = {}\n",
        "for o in outcomes:\n",
        "    group_by = [\"game_id\", \"play_id\", \"nfl_id\"]\n",
        "    outcome = [o]\n",
        "    feats = [x for x in list(df.columns) if x not in group_by + outcomes]\n",
        "\n",
        "    X, y = make_features(df, group_by, feats, outcome)\n",
        "\n",
        "    X_train, X_test, y_train, y_test = train_test_split(X, y, test_size = 0.2, random_state = seed)\n",
        "\n",
        "    weight_0 = (1 / sum(y_train == [0])) * (len(y_train) / 2.0)\n",
        "    weight_1 = (1 / sum(y_train == [1])) * (len(y_train) / 2.0)\n",
        "    class_weight = {0: weight_0, 1: weight_1}\n",
        "\n",
        "    num_epochs = 1\n",
        "    val = 0.2 \n",
        "\n",
        "    datasets[o] = {\"X_train\": X_train, \"X_test\": X_test,\n",
        "    \"y_train\": y_train, \"y_test\": y_test, \"class_weight\": class_weight,\n",
        "    \"num_epochs\": num_epochs, \"val\": val}"
      ]
    },
    {
      "cell_type": "code",
      "execution_count": null,
      "metadata": {},
      "outputs": [
        {
          "ename": "",
          "evalue": "",
          "output_type": "error",
          "traceback": [
            "\u001b[1;31mnotebook controller is DISPOSED. \n",
            "\u001b[1;31mView Jupyter <a href='command:jupyter.viewOutput'>log</a> for further details."
          ]
        },
        {
          "ename": "",
          "evalue": "",
          "output_type": "error",
          "traceback": [
            "\u001b[1;31mnotebook controller is DISPOSED. \n",
            "\u001b[1;31mView Jupyter <a href='command:jupyter.viewOutput'>log</a> for further details."
          ]
        }
      ],
      "source": [
        "for k, v in datasets.items():\n",
        "    input_shape = v[\"X_train\"].shape[1:]\n",
        "\n",
        "    model = build_model(\n",
        "        input_shape,\n",
        "        head_size=128,\n",
        "        num_heads=4,\n",
        "        ff_dim=4,\n",
        "        num_transformer_blocks=1,\n",
        "        mlp_units=[128],\n",
        "        mlp_dropout=0.2,\n",
        "        dropout=0.25,\n",
        "        lstm_units=32\n",
        "    )\n",
        "\n",
        "    model.compile(\n",
        "        loss=\"binary_crossentropy\",\n",
        "        optimizer=\"adam\",\n",
        "        #optimizer=keras.optimizers.Adam(learning_rate=1e-4),\n",
        "        metrics = [tf.keras.metrics.AUC()]\n",
        "    )\n",
        "    #model.summary()\n",
        "\n",
        "    callbacks = [tf.keras.callbacks.EarlyStopping(min_delta=0.01, patience=3, restore_best_weights=True)]\n",
        "\n",
        "    model.fit(\n",
        "        v[\"X_train\"],\n",
        "        v[\"y_train\"],\n",
        "        validation_split=v[\"val\"],\n",
        "        epochs=v[\"num_epochs\"],\n",
        "        #batch_size=64,\n",
        "        callbacks=callbacks,\n",
        "        class_weight = v[\"class_weight\"]\n",
        "    )\n",
        "\n",
        "    model.evaluate(v[\"X_test\"], v[\"y_test\"], verbose=1)"
      ]
    },
    {
      "cell_type": "code",
      "execution_count": null,
      "metadata": {},
      "outputs": [
        {
          "ename": "",
          "evalue": "",
          "output_type": "error",
          "traceback": [
            "\u001b[1;31mnotebook controller is DISPOSED. \n",
            "\u001b[1;31mView Jupyter <a href='command:jupyter.viewOutput'>log</a> for further details."
          ]
        },
        {
          "ename": "",
          "evalue": "",
          "output_type": "error",
          "traceback": [
            "\u001b[1;31mnotebook controller is DISPOSED. \n",
            "\u001b[1;31mView Jupyter <a href='command:jupyter.viewOutput'>log</a> for further details."
          ]
        }
      ],
      "source": []
    }
  ],
  "metadata": {
    "colab": {
      "include_colab_link": true,
      "provenance": []
    },
    "kernelspec": {
      "display_name": "Python 3",
      "language": "python",
      "name": "python3"
    },
    "language_info": {
      "codemirror_mode": {
        "name": "ipython",
        "version": 3
      },
      "file_extension": ".py",
      "mimetype": "text/x-python",
      "name": "python",
      "nbconvert_exporter": "python",
      "pygments_lexer": "ipython3",
      "version": "3.10.8"
    },
    "vscode": {
      "interpreter": {
        "hash": "b9a60180a99fe344aad77925bd6d1e82a30f5f9b471f9484bc8285d8d7befe73"
      }
    }
  },
  "nbformat": 4,
  "nbformat_minor": 0
}
