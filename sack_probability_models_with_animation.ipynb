{
  "cells": [
    {
      "cell_type": "markdown",
      "metadata": {
        "id": "2Ze7qdhqi4Pk"
      },
      "source": [
        "# Using RePP to Predict Pass Rusher Impact as Plays Develop\n",
        "*RePP: **Re**current **P**ressure **P**robabilities*\n",
        "\n",
        "**Jon Skaza & Matt Guthrie**"
      ]
    },
    {
      "cell_type": "code",
      "execution_count": 1,
      "metadata": {
        "id": "7tFSzTpcXK_m",
        "scrolled": true
      },
      "outputs": [],
      "source": [
        "import os\n",
        "import numpy as np\n",
        "import pandas as pd\n",
        "import tensorflow as tf\n",
        "from sklearn.linear_model import LogisticRegression\n",
        "from sklearn.metrics import roc_auc_score, roc_curve, RocCurveDisplay, precision_recall_curve, PrecisionRecallDisplay\n",
        "from sklearn.model_selection import train_test_split\n",
        "from imblearn.over_sampling import RandomOverSampler\n",
        "import matplotlib.pyplot as plt\n",
        "try:\n",
        "  from google.colab import drive\n",
        "  in_colab = True\n",
        "except:\n",
        "  in_colab = False\n",
        "seed = 314 # for reproducibility, used in various places\n",
        "np.random.seed(seed)"
      ]
    },
    {
      "cell_type": "markdown",
      "metadata": {
        "id": "LWTFl3HYaciz"
      },
      "source": [
        "## Dataset Preprocessing"
      ]
    },
    {
      "cell_type": "code",
      "execution_count": 2,
      "metadata": {
        "colab": {
          "base_uri": "https://localhost:8080/",
          "height": 317
        },
        "id": "Ox-a-y6_XK_r",
        "outputId": "d57dfbee-4d4a-4336-ebbf-710f7ce1d987",
        "scrolled": false
      },
      "outputs": [
        {
          "output_type": "stream",
          "name": "stdout",
          "text": [
            "Mounted at /content/drive\n"
          ]
        },
        {
          "output_type": "execute_result",
          "data": {
            "text/plain": [
              "      game_id  play_id  nfl_id  speed  pressure     x     y  dist_from_qb  \\\n",
              "1  2021090900       97   41263   0.96         1  1.74 -5.03      7.802083   \n",
              "2  2021090900       97   41263   1.08         1  1.63 -5.01      7.766557   \n",
              "3  2021090900       97   41263   1.30         1  1.47 -4.99      7.695193   \n",
              "4  2021090900       97   41263   1.48         1  1.31 -4.94      7.603138   \n",
              "5  2021090900       97   41263   2.16         1  1.04 -4.83      7.404627   \n",
              "\n",
              "   qb_in_tackle_box  n_blockers  ...  speed_qb  x_qb  y_qb  x_ball  y_ball  \\\n",
              "1               1.0           5  ...      0.35 -3.92  0.34    0.00    0.00   \n",
              "2               1.0           5  ...      0.54 -4.00  0.34   -0.49    0.02   \n",
              "3               1.0           5  ...      0.80 -4.09  0.33   -0.85    0.03   \n",
              "4               1.0           5  ...      0.99 -4.18  0.32   -1.29    0.05   \n",
              "5               1.0           5  ...      1.19 -4.29  0.31   -1.77    0.06   \n",
              "\n",
              "   quarter  down  yards_to_go  absolute_yardline_number  score_delta  \n",
              "1        1     3            2                      43.0            0  \n",
              "2        1     3            2                      43.0            0  \n",
              "3        1     3            2                      43.0            0  \n",
              "4        1     3            2                      43.0            0  \n",
              "5        1     3            2                      43.0            0  \n",
              "\n",
              "[5 rows x 30 columns]"
            ],
            "text/html": [
              "\n",
              "  <div id=\"df-1059fa43-5e57-4aae-b47c-2d03a57933b3\">\n",
              "    <div class=\"colab-df-container\">\n",
              "      <div>\n",
              "<style scoped>\n",
              "    .dataframe tbody tr th:only-of-type {\n",
              "        vertical-align: middle;\n",
              "    }\n",
              "\n",
              "    .dataframe tbody tr th {\n",
              "        vertical-align: top;\n",
              "    }\n",
              "\n",
              "    .dataframe thead th {\n",
              "        text-align: right;\n",
              "    }\n",
              "</style>\n",
              "<table border=\"1\" class=\"dataframe\">\n",
              "  <thead>\n",
              "    <tr style=\"text-align: right;\">\n",
              "      <th></th>\n",
              "      <th>game_id</th>\n",
              "      <th>play_id</th>\n",
              "      <th>nfl_id</th>\n",
              "      <th>speed</th>\n",
              "      <th>pressure</th>\n",
              "      <th>x</th>\n",
              "      <th>y</th>\n",
              "      <th>dist_from_qb</th>\n",
              "      <th>qb_in_tackle_box</th>\n",
              "      <th>n_blockers</th>\n",
              "      <th>...</th>\n",
              "      <th>speed_qb</th>\n",
              "      <th>x_qb</th>\n",
              "      <th>y_qb</th>\n",
              "      <th>x_ball</th>\n",
              "      <th>y_ball</th>\n",
              "      <th>quarter</th>\n",
              "      <th>down</th>\n",
              "      <th>yards_to_go</th>\n",
              "      <th>absolute_yardline_number</th>\n",
              "      <th>score_delta</th>\n",
              "    </tr>\n",
              "  </thead>\n",
              "  <tbody>\n",
              "    <tr>\n",
              "      <th>1</th>\n",
              "      <td>2021090900</td>\n",
              "      <td>97</td>\n",
              "      <td>41263</td>\n",
              "      <td>0.96</td>\n",
              "      <td>1</td>\n",
              "      <td>1.74</td>\n",
              "      <td>-5.03</td>\n",
              "      <td>7.802083</td>\n",
              "      <td>1.0</td>\n",
              "      <td>5</td>\n",
              "      <td>...</td>\n",
              "      <td>0.35</td>\n",
              "      <td>-3.92</td>\n",
              "      <td>0.34</td>\n",
              "      <td>0.00</td>\n",
              "      <td>0.00</td>\n",
              "      <td>1</td>\n",
              "      <td>3</td>\n",
              "      <td>2</td>\n",
              "      <td>43.0</td>\n",
              "      <td>0</td>\n",
              "    </tr>\n",
              "    <tr>\n",
              "      <th>2</th>\n",
              "      <td>2021090900</td>\n",
              "      <td>97</td>\n",
              "      <td>41263</td>\n",
              "      <td>1.08</td>\n",
              "      <td>1</td>\n",
              "      <td>1.63</td>\n",
              "      <td>-5.01</td>\n",
              "      <td>7.766557</td>\n",
              "      <td>1.0</td>\n",
              "      <td>5</td>\n",
              "      <td>...</td>\n",
              "      <td>0.54</td>\n",
              "      <td>-4.00</td>\n",
              "      <td>0.34</td>\n",
              "      <td>-0.49</td>\n",
              "      <td>0.02</td>\n",
              "      <td>1</td>\n",
              "      <td>3</td>\n",
              "      <td>2</td>\n",
              "      <td>43.0</td>\n",
              "      <td>0</td>\n",
              "    </tr>\n",
              "    <tr>\n",
              "      <th>3</th>\n",
              "      <td>2021090900</td>\n",
              "      <td>97</td>\n",
              "      <td>41263</td>\n",
              "      <td>1.30</td>\n",
              "      <td>1</td>\n",
              "      <td>1.47</td>\n",
              "      <td>-4.99</td>\n",
              "      <td>7.695193</td>\n",
              "      <td>1.0</td>\n",
              "      <td>5</td>\n",
              "      <td>...</td>\n",
              "      <td>0.80</td>\n",
              "      <td>-4.09</td>\n",
              "      <td>0.33</td>\n",
              "      <td>-0.85</td>\n",
              "      <td>0.03</td>\n",
              "      <td>1</td>\n",
              "      <td>3</td>\n",
              "      <td>2</td>\n",
              "      <td>43.0</td>\n",
              "      <td>0</td>\n",
              "    </tr>\n",
              "    <tr>\n",
              "      <th>4</th>\n",
              "      <td>2021090900</td>\n",
              "      <td>97</td>\n",
              "      <td>41263</td>\n",
              "      <td>1.48</td>\n",
              "      <td>1</td>\n",
              "      <td>1.31</td>\n",
              "      <td>-4.94</td>\n",
              "      <td>7.603138</td>\n",
              "      <td>1.0</td>\n",
              "      <td>5</td>\n",
              "      <td>...</td>\n",
              "      <td>0.99</td>\n",
              "      <td>-4.18</td>\n",
              "      <td>0.32</td>\n",
              "      <td>-1.29</td>\n",
              "      <td>0.05</td>\n",
              "      <td>1</td>\n",
              "      <td>3</td>\n",
              "      <td>2</td>\n",
              "      <td>43.0</td>\n",
              "      <td>0</td>\n",
              "    </tr>\n",
              "    <tr>\n",
              "      <th>5</th>\n",
              "      <td>2021090900</td>\n",
              "      <td>97</td>\n",
              "      <td>41263</td>\n",
              "      <td>2.16</td>\n",
              "      <td>1</td>\n",
              "      <td>1.04</td>\n",
              "      <td>-4.83</td>\n",
              "      <td>7.404627</td>\n",
              "      <td>1.0</td>\n",
              "      <td>5</td>\n",
              "      <td>...</td>\n",
              "      <td>1.19</td>\n",
              "      <td>-4.29</td>\n",
              "      <td>0.31</td>\n",
              "      <td>-1.77</td>\n",
              "      <td>0.06</td>\n",
              "      <td>1</td>\n",
              "      <td>3</td>\n",
              "      <td>2</td>\n",
              "      <td>43.0</td>\n",
              "      <td>0</td>\n",
              "    </tr>\n",
              "  </tbody>\n",
              "</table>\n",
              "<p>5 rows × 30 columns</p>\n",
              "</div>\n",
              "      <button class=\"colab-df-convert\" onclick=\"convertToInteractive('df-1059fa43-5e57-4aae-b47c-2d03a57933b3')\"\n",
              "              title=\"Convert this dataframe to an interactive table.\"\n",
              "              style=\"display:none;\">\n",
              "        \n",
              "  <svg xmlns=\"http://www.w3.org/2000/svg\" height=\"24px\"viewBox=\"0 0 24 24\"\n",
              "       width=\"24px\">\n",
              "    <path d=\"M0 0h24v24H0V0z\" fill=\"none\"/>\n",
              "    <path d=\"M18.56 5.44l.94 2.06.94-2.06 2.06-.94-2.06-.94-.94-2.06-.94 2.06-2.06.94zm-11 1L8.5 8.5l.94-2.06 2.06-.94-2.06-.94L8.5 2.5l-.94 2.06-2.06.94zm10 10l.94 2.06.94-2.06 2.06-.94-2.06-.94-.94-2.06-.94 2.06-2.06.94z\"/><path d=\"M17.41 7.96l-1.37-1.37c-.4-.4-.92-.59-1.43-.59-.52 0-1.04.2-1.43.59L10.3 9.45l-7.72 7.72c-.78.78-.78 2.05 0 2.83L4 21.41c.39.39.9.59 1.41.59.51 0 1.02-.2 1.41-.59l7.78-7.78 2.81-2.81c.8-.78.8-2.07 0-2.86zM5.41 20L4 18.59l7.72-7.72 1.47 1.35L5.41 20z\"/>\n",
              "  </svg>\n",
              "      </button>\n",
              "      \n",
              "  <style>\n",
              "    .colab-df-container {\n",
              "      display:flex;\n",
              "      flex-wrap:wrap;\n",
              "      gap: 12px;\n",
              "    }\n",
              "\n",
              "    .colab-df-convert {\n",
              "      background-color: #E8F0FE;\n",
              "      border: none;\n",
              "      border-radius: 50%;\n",
              "      cursor: pointer;\n",
              "      display: none;\n",
              "      fill: #1967D2;\n",
              "      height: 32px;\n",
              "      padding: 0 0 0 0;\n",
              "      width: 32px;\n",
              "    }\n",
              "\n",
              "    .colab-df-convert:hover {\n",
              "      background-color: #E2EBFA;\n",
              "      box-shadow: 0px 1px 2px rgba(60, 64, 67, 0.3), 0px 1px 3px 1px rgba(60, 64, 67, 0.15);\n",
              "      fill: #174EA6;\n",
              "    }\n",
              "\n",
              "    [theme=dark] .colab-df-convert {\n",
              "      background-color: #3B4455;\n",
              "      fill: #D2E3FC;\n",
              "    }\n",
              "\n",
              "    [theme=dark] .colab-df-convert:hover {\n",
              "      background-color: #434B5C;\n",
              "      box-shadow: 0px 1px 3px 1px rgba(0, 0, 0, 0.15);\n",
              "      filter: drop-shadow(0px 1px 2px rgba(0, 0, 0, 0.3));\n",
              "      fill: #FFFFFF;\n",
              "    }\n",
              "  </style>\n",
              "\n",
              "      <script>\n",
              "        const buttonEl =\n",
              "          document.querySelector('#df-1059fa43-5e57-4aae-b47c-2d03a57933b3 button.colab-df-convert');\n",
              "        buttonEl.style.display =\n",
              "          google.colab.kernel.accessAllowed ? 'block' : 'none';\n",
              "\n",
              "        async function convertToInteractive(key) {\n",
              "          const element = document.querySelector('#df-1059fa43-5e57-4aae-b47c-2d03a57933b3');\n",
              "          const dataTable =\n",
              "            await google.colab.kernel.invokeFunction('convertToInteractive',\n",
              "                                                     [key], {});\n",
              "          if (!dataTable) return;\n",
              "\n",
              "          const docLinkHtml = 'Like what you see? Visit the ' +\n",
              "            '<a target=\"_blank\" href=https://colab.research.google.com/notebooks/data_table.ipynb>data table notebook</a>'\n",
              "            + ' to learn more about interactive tables.';\n",
              "          element.innerHTML = '';\n",
              "          dataTable['output_type'] = 'display_data';\n",
              "          await google.colab.output.renderOutput(dataTable, element);\n",
              "          const docLink = document.createElement('div');\n",
              "          docLink.innerHTML = docLinkHtml;\n",
              "          element.appendChild(docLink);\n",
              "        }\n",
              "      </script>\n",
              "    </div>\n",
              "  </div>\n",
              "  "
            ]
          },
          "metadata": {},
          "execution_count": 2
        }
      ],
      "source": [
        "if in_colab:\n",
        "  drive.mount(\"/content/drive\")\n",
        "  path = \"/content/drive/MyDrive/nfl-big-data-bowl-2023\"\n",
        "else:\n",
        "  path = os.environ.get(\"BIG_DATA_BOWL\")\n",
        "\n",
        "df = pd.read_csv(f\"{path}/data/dataset.csv\", index_col=0)\n",
        "df.head()"
      ]
    },
    {
      "cell_type": "code",
      "execution_count": 3,
      "metadata": {
        "colab": {
          "base_uri": "https://localhost:8080/"
        },
        "id": "oOD27h-Way_5",
        "outputId": "9920f029-88e6-4558-aae3-4aa11807e832"
      },
      "outputs": [
        {
          "output_type": "stream",
          "name": "stdout",
          "text": [
            "<class 'pandas.core.frame.DataFrame'>\n",
            "Int64Index: 1077605 entries, 1 to 1077605\n",
            "Data columns (total 30 columns):\n",
            " #   Column                    Non-Null Count    Dtype  \n",
            "---  ------                    --------------    -----  \n",
            " 0   game_id                   1077605 non-null  int64  \n",
            " 1   play_id                   1077605 non-null  int64  \n",
            " 2   nfl_id                    1077605 non-null  int64  \n",
            " 3   speed                     1077605 non-null  float64\n",
            " 4   pressure                  1077605 non-null  int64  \n",
            " 5   x                         1077605 non-null  float64\n",
            " 6   y                         1077605 non-null  float64\n",
            " 7   dist_from_qb              1077605 non-null  float64\n",
            " 8   qb_in_tackle_box          1077333 non-null  float64\n",
            " 9   n_blockers                1077605 non-null  int64  \n",
            " 10  x_C                       1077605 non-null  float64\n",
            " 11  x_LT                      1077605 non-null  float64\n",
            " 12  x_LG                      1077605 non-null  float64\n",
            " 13  x_RG                      1077605 non-null  float64\n",
            " 14  x_RT                      1077333 non-null  float64\n",
            " 15  y_C                       1077605 non-null  float64\n",
            " 16  y_LT                      1077605 non-null  float64\n",
            " 17  y_LG                      1077605 non-null  float64\n",
            " 18  y_RG                      1077605 non-null  float64\n",
            " 19  y_RT                      1077333 non-null  float64\n",
            " 20  speed_qb                  1077605 non-null  float64\n",
            " 21  x_qb                      1077605 non-null  float64\n",
            " 22  y_qb                      1077605 non-null  float64\n",
            " 23  x_ball                    1077605 non-null  float64\n",
            " 24  y_ball                    1077605 non-null  float64\n",
            " 25  quarter                   1077605 non-null  int64  \n",
            " 26  down                      1077605 non-null  int64  \n",
            " 27  yards_to_go               1077605 non-null  int64  \n",
            " 28  absolute_yardline_number  1077475 non-null  float64\n",
            " 29  score_delta               1077605 non-null  int64  \n",
            "dtypes: float64(21), int64(9)\n",
            "memory usage: 254.9 MB\n"
          ]
        }
      ],
      "source": [
        "# examine missingness, models will need balanced sequences\n",
        "df.info()"
      ]
    },
    {
      "cell_type": "code",
      "execution_count": 4,
      "metadata": {
        "colab": {
          "base_uri": "https://localhost:8080/"
        },
        "id": "X1MdRyUX5g_q",
        "outputId": "152c52fc-5d83-4614-a7af-861703c5c484"
      },
      "outputs": [
        {
          "output_type": "stream",
          "name": "stdout",
          "text": [
            "<class 'pandas.core.frame.DataFrame'>\n",
            "Int64Index: 1077203 entries, 1 to 1077605\n",
            "Data columns (total 30 columns):\n",
            " #   Column                    Non-Null Count    Dtype  \n",
            "---  ------                    --------------    -----  \n",
            " 0   game_id                   1077203 non-null  int64  \n",
            " 1   play_id                   1077203 non-null  int64  \n",
            " 2   nfl_id                    1077203 non-null  int64  \n",
            " 3   speed                     1077203 non-null  float64\n",
            " 4   pressure                  1077203 non-null  int64  \n",
            " 5   x                         1077203 non-null  float64\n",
            " 6   y                         1077203 non-null  float64\n",
            " 7   dist_from_qb              1077203 non-null  float64\n",
            " 8   qb_in_tackle_box          1077203 non-null  float64\n",
            " 9   n_blockers                1077203 non-null  int64  \n",
            " 10  x_C                       1077203 non-null  float64\n",
            " 11  x_LT                      1077203 non-null  float64\n",
            " 12  x_LG                      1077203 non-null  float64\n",
            " 13  x_RG                      1077203 non-null  float64\n",
            " 14  x_RT                      1077203 non-null  float64\n",
            " 15  y_C                       1077203 non-null  float64\n",
            " 16  y_LT                      1077203 non-null  float64\n",
            " 17  y_LG                      1077203 non-null  float64\n",
            " 18  y_RG                      1077203 non-null  float64\n",
            " 19  y_RT                      1077203 non-null  float64\n",
            " 20  speed_qb                  1077203 non-null  float64\n",
            " 21  x_qb                      1077203 non-null  float64\n",
            " 22  y_qb                      1077203 non-null  float64\n",
            " 23  x_ball                    1077203 non-null  float64\n",
            " 24  y_ball                    1077203 non-null  float64\n",
            " 25  quarter                   1077203 non-null  int64  \n",
            " 26  down                      1077203 non-null  int64  \n",
            " 27  yards_to_go               1077203 non-null  int64  \n",
            " 28  absolute_yardline_number  1077203 non-null  float64\n",
            " 29  score_delta               1077203 non-null  int64  \n",
            "dtypes: float64(21), int64(9)\n",
            "memory usage: 254.8 MB\n"
          ]
        }
      ],
      "source": [
        "df.dropna(axis = 0, how = \"any\", inplace = True)\n",
        "df.info()"
      ]
    },
    {
      "cell_type": "code",
      "execution_count": 9,
      "metadata": {
        "id": "v5mAgPj_XK_u"
      },
      "outputs": [],
      "source": [
        "def make_datasets(df: pd.DataFrame, group_by: list, feats: list, outcome: str, sequences: bool, \n",
        "samples: int, test_size: float, oversample = False):\n",
        "\n",
        "  if oversample:\n",
        "    ros = RandomOverSampler(random_state = seed)\n",
        "    X = df[feats + group_by].to_numpy()\n",
        "    y = df[outcome].to_numpy()\n",
        "    X, y = ros.fit_resample(X, y) \n",
        "    y = y.reshape(y.shape[0], 1)\n",
        "    df = pd.DataFrame(np.append(X, y, axis = 1),  columns = feats + group_by + [outcome])\n",
        "\n",
        "  if sequences or samples > 0:\n",
        "    X, y  = [], []\n",
        "    grouped_df = df.groupby(group_by)\n",
        "    for _, group_df in grouped_df:\n",
        "      f = group_df[feats].to_numpy()\n",
        "      if samples > 0:\n",
        "        sub_seq_lens = np.random.randint(0, len(f), samples)\n",
        "        sub_seq = [f[:n] for n in sub_seq_lens]\n",
        "        X += sub_seq\n",
        "      else: # sequences but no sampling\n",
        "        X.append(group_df[feats].to_numpy())\n",
        "      if sequences:\n",
        "        if samples == 0:\n",
        "          y.append(group_df[[outcome]].to_numpy()[0])\n",
        "        else:\n",
        "          for s in range(samples):\n",
        "            y.append(group_df[[outcome]].to_numpy()[0])\n",
        "      else: # no sequences but multiple samples\n",
        "        y.append(np.repeat(group_df[outcome].values[0], sum(sub_seq_lens)))\n",
        "    if sequences:\n",
        "      X = tf.keras.utils.pad_sequences(X, dtype=\"float\", padding=\"pre\", value = -99)\n",
        "      y = np.stack(y)\n",
        "    else: # no sequences but multiple samples\n",
        "      X = np.concatenate(X)\n",
        "      y = np.concatenate(y).ravel()\n",
        "\n",
        "  else:\n",
        "      X = df[feats].to_numpy()\n",
        "      y = df[outcome].to_numpy()\n",
        "    \n",
        "  return train_test_split(X, y, test_size = test_size, random_state = seed) + [outcome]"
      ]
    },
    {
      "cell_type": "code",
      "execution_count": 5,
      "metadata": {
        "id": "B0CzZJnw5g_t"
      },
      "outputs": [],
      "source": [
        "model_metrics = {}\n",
        "def add_metrics(model, outcome_name: str, model_name: str, X_test: np.ndarray, y_test: np.ndarray):\n",
        "    global model_metrics\n",
        "    model_metrics[outcome_name] = {}\n",
        "    y_pred = model.predict(X_test)\n",
        "    if type(model) == LogisticRegression:\n",
        "        y_score = model.decision_function(X_test)\n",
        "        fpr, tpr, _ = roc_curve(y_test, y_score, pos_label = 1)\n",
        "        roc = RocCurveDisplay(fpr = fpr, tpr = tpr)\n",
        "        prec, recall, _ = precision_recall_curve(y_test, y_score, pos_label= 1)\n",
        "        pr = PrecisionRecallDisplay(precision=prec, recall=recall)\n",
        "        auc = roc_auc_score(y_test, y_score)\n",
        "        model_metrics[outcome_name][model_name] = {\"auc\": auc, \"roc_curve\": roc, \"pr_curve\": pr}\n",
        "    else:\n",
        "        evaluation = model.evaluate(X_test, y_test)\n",
        "        auc = evaluation[1]\n",
        "        acc = evaluation[2]\n",
        "        model_metrics[outcome_name][model_name] = {\"auc\": auc, \"acc\": acc}\n",
        "    print(f\"Added metric for model {model_name} with outcome {outcome_name} to the model_metrics dictionary.\")\n",
        "    for k, v in model_metrics[outcome_name][model_name].items():\n",
        "        print(f\"{k}: {v}\")"
      ]
    },
    {
      "cell_type": "code",
      "execution_count": 6,
      "metadata": {
        "id": "_PqOhi_m5g_u"
      },
      "outputs": [],
      "source": [
        "outcome = \"pressure\"\n",
        "group_by = [\"game_id\", \"play_id\", \"nfl_id\"]\n",
        "feats = [x for x in list(df.columns) if x not in group_by + [outcome]]"
      ]
    },
    {
      "cell_type": "markdown",
      "metadata": {
        "id": "w8DI20Ue5g_v"
      },
      "source": [
        "## ReSaP: **Re**current **Sa**ck **P**robabilities"
      ]
    },
    {
      "cell_type": "markdown",
      "metadata": {
        "id": "xFLw3CeFvYJv"
      },
      "source": [
        "### \"Naive\" Logistic Model"
      ]
    },
    {
      "cell_type": "code",
      "execution_count": 7,
      "metadata": {
        "id": "qJbARXxAvVz4"
      },
      "outputs": [],
      "source": [
        "def model_logistic(data: list, max_iter: int):\n",
        "    mod = LogisticRegression(max_iter = max_iter)\n",
        "    mod.fit(data[0], data[2])\n",
        "    add_metrics(mod, data[4], \"logistic\", data[1], data[3])\n",
        "    return mod"
      ]
    },
    {
      "cell_type": "code",
      "execution_count": 10,
      "metadata": {
        "colab": {
          "base_uri": "https://localhost:8080/"
        },
        "id": "iegwCy795g_w",
        "outputId": "a37e98a4-f6f7-453f-c0e6-685c7912b477"
      },
      "outputs": [
        {
          "output_type": "stream",
          "name": "stdout",
          "text": [
            "Added metric for model logistic with outcome pressure to the model_metrics dictionary.\n",
            "auc: 0.706911237074195\n",
            "roc_curve: <sklearn.metrics._plot.roc_curve.RocCurveDisplay object at 0x7fd157b16130>\n",
            "pr_curve: <sklearn.metrics._plot.precision_recall_curve.PrecisionRecallDisplay object at 0x7fd1569cf640>\n"
          ]
        },
        {
          "output_type": "execute_result",
          "data": {
            "text/plain": [
              "LogisticRegression(max_iter=1000)"
            ]
          },
          "metadata": {},
          "execution_count": 10
        }
      ],
      "source": [
        "data = make_datasets(df, group_by, feats, outcome, sequences = False, samples = 0, test_size = 0.2, oversample = True)\n",
        "model_logistic(data, 1000)"
      ]
    },
    {
      "cell_type": "code",
      "execution_count": 11,
      "metadata": {
        "colab": {
          "base_uri": "https://localhost:8080/"
        },
        "id": "FA7iTbrg5g_x",
        "outputId": "c7c43b3b-0813-4fb4-91fe-cdf91b9f670c"
      },
      "outputs": [
        {
          "output_type": "stream",
          "name": "stdout",
          "text": [
            "Added metric for model logistic with outcome pressure to the model_metrics dictionary.\n",
            "auc: 0.7553722134066272\n",
            "roc_curve: <sklearn.metrics._plot.roc_curve.RocCurveDisplay object at 0x7fd1cb501fd0>\n",
            "pr_curve: <sklearn.metrics._plot.precision_recall_curve.PrecisionRecallDisplay object at 0x7fd160412220>\n"
          ]
        }
      ],
      "source": [
        "data = make_datasets(df, group_by, feats, outcome, sequences = False, samples = 3, test_size = 0.2, oversample = True)\n",
        "log_model = model_logistic(data, 1000)"
      ]
    },
    {
      "cell_type": "markdown",
      "source": [
        "### Probability Overlay animation"
      ],
      "metadata": {
        "id": "0GJrP2FpMl3X"
      }
    },
    {
      "cell_type": "code",
      "source": [
        "def make_probs(df, model, full_sequences, game_id, play_id, nfl_id):\n",
        "  X, y  = [], []\n",
        "  grouped_df = df[(df[\"game_id\"]==game_id) & (df[\"play_id\"]==play_id) & (df[\"nfl_id\"]==nfl_id)].groupby(group_by)\n",
        "  for _, group_df in grouped_df:\n",
        "    f = group_df[feats].to_numpy()\n",
        "    if full_sequences:\n",
        "      sub_seq = [f[:n] for n in range(len(f))]\n",
        "      X += sub_seq\n",
        "    else:\n",
        "      X = group_df[feats].to_numpy()\n",
        "\n",
        "  return f, model.predict_proba(X)[:,1]\n",
        "\n",
        "watt_rush , watt_probs = make_probs(df, log_model, False, 2021103103, 1984, 44842)\n",
        "watt_rush"
      ],
      "metadata": {
        "id": "xyx8scpS80cS",
        "colab": {
          "base_uri": "https://localhost:8080/"
        },
        "outputId": "f9abf877-f5bf-4724-ab3b-723a357ecd13"
      },
      "execution_count": 42,
      "outputs": [
        {
          "output_type": "execute_result",
          "data": {
            "text/plain": [
              "array([[ 0.58,  1.08, -6.1 , ..., 10.  , 38.  ,  0.  ],\n",
              "       [ 0.8 ,  0.99, -6.09, ..., 10.  , 38.  ,  0.  ],\n",
              "       [ 1.16,  0.88, -6.08, ..., 10.  , 38.  ,  0.  ],\n",
              "       ...,\n",
              "       [ 0.31, -4.66,  1.46, ..., 10.  , 38.  ,  0.  ],\n",
              "       [ 0.32, -4.63,  1.44, ..., 10.  , 38.  ,  0.  ],\n",
              "       [ 0.44, -4.62,  1.41, ..., 10.  , 38.  ,  0.  ]])"
            ]
          },
          "metadata": {},
          "execution_count": 42
        }
      ]
    },
    {
      "cell_type": "code",
      "source": [
        "import matplotlib.pyplot as plt\n",
        "import matplotlib.animation as animation\n",
        "!pip install ffmpeg\n",
        "import ffmpeg\n",
        "\n",
        "plt.ioff()\n",
        "\n",
        "# rush comparison animation \n",
        "fig, ax = plt.subplots()\n",
        "ax.set_xlim(-7.5,7.5)\n",
        "ax.set_ylim(-10,10)\n",
        "ax.set_facecolor('g')\n",
        "\n",
        "\n",
        "\n",
        "line, = ax.plot([],[], 'orange')\n",
        "#line2, = ax.plot([],[], 'cyan')\n",
        "los, = ax.plot([],[], 'w', lw=2)\n",
        "\n",
        "\n",
        "def animate(i):\n",
        "    los.set_data([-10, 10], [0, 0])\n",
        "    \n",
        "    line.set_xdata(watt_rush[:i+1,1])\n",
        "    line.set_ydata(watt_rush[:i+1,2])\n",
        "    \n",
        "\n",
        "        \n",
        "ani = animation.FuncAnimation(fig, animate, frames=len(watt_rush))\n",
        "\n",
        "ani.save('rush_compare.mp4',fps=10, writer = 'ffmpeg')\n",
        "plt.close(fig)"
      ],
      "metadata": {
        "colab": {
          "base_uri": "https://localhost:8080/"
        },
        "id": "XnqlM5D7MjLS",
        "outputId": "b1c314a9-0e16-4811-f5f7-2805ca0f786a"
      },
      "execution_count": 45,
      "outputs": [
        {
          "output_type": "stream",
          "name": "stdout",
          "text": [
            "Looking in indexes: https://pypi.org/simple, https://us-python.pkg.dev/colab-wheels/public/simple/\n",
            "Requirement already satisfied: ffmpeg in /usr/local/lib/python3.8/dist-packages (1.4)\n"
          ]
        }
      ]
    },
    {
      "cell_type": "code",
      "source": [
        "from IPython.display import Image\n",
        "Image('rush_compare.mp4')"
      ],
      "metadata": {
        "colab": {
          "base_uri": "https://localhost:8080/",
          "height": 305
        },
        "id": "oiXyxxNRMkBJ",
        "outputId": "533b9ff2-bcd1-46ab-871f-9ed02dc84515"
      },
      "execution_count": 40,
      "outputs": [
        {
          "output_type": "error",
          "ename": "ValueError",
          "evalue": "ignored",
          "traceback": [
            "\u001b[0;31m---------------------------------------------------------------------------\u001b[0m",
            "\u001b[0;31mValueError\u001b[0m                                Traceback (most recent call last)",
            "\u001b[0;32m<ipython-input-40-3120c9d90ba0>\u001b[0m in \u001b[0;36m<module>\u001b[0;34m\u001b[0m\n\u001b[1;32m      1\u001b[0m \u001b[0;32mfrom\u001b[0m \u001b[0mIPython\u001b[0m\u001b[0;34m.\u001b[0m\u001b[0mdisplay\u001b[0m \u001b[0;32mimport\u001b[0m \u001b[0mImage\u001b[0m\u001b[0;34m\u001b[0m\u001b[0;34m\u001b[0m\u001b[0m\n\u001b[0;32m----> 2\u001b[0;31m \u001b[0mImage\u001b[0m\u001b[0;34m(\u001b[0m\u001b[0;34m'rush_compare.mp4'\u001b[0m\u001b[0;34m)\u001b[0m\u001b[0;34m\u001b[0m\u001b[0;34m\u001b[0m\u001b[0m\n\u001b[0m",
            "\u001b[0;32m/usr/local/lib/python3.8/dist-packages/IPython/core/display.py\u001b[0m in \u001b[0;36m__init__\u001b[0;34m(self, data, url, filename, format, embed, width, height, retina, unconfined, metadata)\u001b[0m\n\u001b[1;32m   1193\u001b[0m \u001b[0;34m\u001b[0m\u001b[0m\n\u001b[1;32m   1194\u001b[0m         \u001b[0;32mif\u001b[0m \u001b[0mself\u001b[0m\u001b[0;34m.\u001b[0m\u001b[0membed\u001b[0m \u001b[0;32mand\u001b[0m \u001b[0mself\u001b[0m\u001b[0;34m.\u001b[0m\u001b[0mformat\u001b[0m \u001b[0;32mnot\u001b[0m \u001b[0;32min\u001b[0m \u001b[0mself\u001b[0m\u001b[0;34m.\u001b[0m\u001b[0m_ACCEPTABLE_EMBEDDINGS\u001b[0m\u001b[0;34m:\u001b[0m\u001b[0;34m\u001b[0m\u001b[0;34m\u001b[0m\u001b[0m\n\u001b[0;32m-> 1195\u001b[0;31m             \u001b[0;32mraise\u001b[0m \u001b[0mValueError\u001b[0m\u001b[0;34m(\u001b[0m\u001b[0;34m\"Cannot embed the '%s' image format\"\u001b[0m \u001b[0;34m%\u001b[0m \u001b[0;34m(\u001b[0m\u001b[0mself\u001b[0m\u001b[0;34m.\u001b[0m\u001b[0mformat\u001b[0m\u001b[0;34m)\u001b[0m\u001b[0;34m)\u001b[0m\u001b[0;34m\u001b[0m\u001b[0;34m\u001b[0m\u001b[0m\n\u001b[0m\u001b[1;32m   1196\u001b[0m         \u001b[0;32mif\u001b[0m \u001b[0mself\u001b[0m\u001b[0;34m.\u001b[0m\u001b[0membed\u001b[0m\u001b[0;34m:\u001b[0m\u001b[0;34m\u001b[0m\u001b[0;34m\u001b[0m\u001b[0m\n\u001b[1;32m   1197\u001b[0m             \u001b[0mself\u001b[0m\u001b[0;34m.\u001b[0m\u001b[0m_mimetype\u001b[0m \u001b[0;34m=\u001b[0m \u001b[0mself\u001b[0m\u001b[0;34m.\u001b[0m\u001b[0m_MIMETYPES\u001b[0m\u001b[0;34m.\u001b[0m\u001b[0mget\u001b[0m\u001b[0;34m(\u001b[0m\u001b[0mself\u001b[0m\u001b[0;34m.\u001b[0m\u001b[0mformat\u001b[0m\u001b[0;34m)\u001b[0m\u001b[0;34m\u001b[0m\u001b[0;34m\u001b[0m\u001b[0m\n",
            "\u001b[0;31mValueError\u001b[0m: Cannot embed the 'mp4' image format"
          ]
        }
      ]
    },
    {
      "cell_type": "markdown",
      "metadata": {
        "id": "nti1gLWph2gp"
      },
      "source": [
        "### LSTM"
      ]
    },
    {
      "cell_type": "code",
      "execution_count": null,
      "metadata": {
        "id": "BoNQq5wg5g_x"
      },
      "outputs": [],
      "source": [
        "def model_lstm(data: list, channels: int, num_epochs: int, val: float, folder: str):\n",
        "    tf.random.set_seed(seed)\n",
        "    np.random.seed(seed)\n",
        "    \n",
        "    mod = tf.keras.Sequential()\n",
        "    mod.add(tf.keras.layers.Masking(mask_value= -99., input_shape= data[0].shape[1:]))\n",
        "    mod.add(tf.keras.layers.LSTM(channels, input_shape = data[0].shape[1:]))\n",
        "    mod.add(tf.keras.layers.Dense(data[2].shape[1], activation=\"sigmoid\"))\n",
        "\n",
        "    mod.compile(loss = \"binary_crossentropy\", optimizer=\"adam\",\n",
        "     metrics = [tf.keras.metrics.AUC(), tf.keras.metrics.BinaryAccuracy()])\n",
        "\n",
        "    # callbacks = [tf.keras.callbacks.EarlyStopping(patience = 5, restore_best_weights=True)]\n",
        "\n",
        "    mod.fit(data[0], data[2], epochs = num_epochs, validation_split = val)\n",
        "    mod.save(folder)\n",
        "    add_metrics(mod, data[4], \"lstm\", data[1], data[3])"
      ]
    },
    {
      "cell_type": "code",
      "execution_count": null,
      "metadata": {
        "id": "fGrDXR7b5g_y",
        "outputId": "e21e1ce6-659a-4f7c-e69a-4f07c43aa55d"
      },
      "outputs": [
        {
          "name": "stdout",
          "output_type": "stream",
          "text": [
            "773/773 [==============================] - 331s 421ms/step - loss: 0.3979 - auc_13: 0.6016 - binary_accuracy: 0.8482 - val_loss: 0.2687 - val_auc_13: 0.8760 - val_binary_accuracy: 0.8952\n"
          ]
        },
        {
          "name": "stderr",
          "output_type": "stream",
          "text": [
            "WARNING:absl:Found untraced functions such as _update_step_xla, lstm_cell_14_layer_call_fn, lstm_cell_14_layer_call_and_return_conditional_losses while saving (showing 3 of 3). These functions will not be directly callable after loading.\n"
          ]
        },
        {
          "name": "stdout",
          "output_type": "stream",
          "text": [
            "INFO:tensorflow:Assets written to: full_seq/assets\n"
          ]
        },
        {
          "name": "stderr",
          "output_type": "stream",
          "text": [
            "INFO:tensorflow:Assets written to: full_seq/assets\n"
          ]
        },
        {
          "name": "stdout",
          "output_type": "stream",
          "text": [
            "215/215 [==============================] - 19s 80ms/step\n",
            "215/215 [==============================] - 18s 86ms/step - loss: 0.2796 - auc_13: 0.8706 - binary_accuracy: 0.8892\n",
            "Added metric for model lstm with outcome pressure to the model_metrics dictionary.\n",
            "auc: 0.8706457614898682\n",
            "acc: 0.889212429523468\n"
          ]
        }
      ],
      "source": [
        "data = make_datasets(df, group_by, feats, outcome, sequences = True, samples = 0, test_size = 0.2, oversample = True)\n",
        "model_lstm(data, 64, 20, 0.1, \"full_seq\")"
      ]
    },
    {
      "cell_type": "code",
      "execution_count": null,
      "metadata": {
        "id": "y_OpqeW75g_y"
      },
      "outputs": [],
      "source": [
        "data = make_datasets(df, group_by, feats, outcome, sequences = True, samples = 3, test_size = 0.2, oversample = True)\n",
        "model_lstm(data, 64, 50, 0.1, \"sub_seq\")"
      ]
    },
    {
      "cell_type": "code",
      "execution_count": null,
      "metadata": {
        "id": "mDf8lkyY5g_y"
      },
      "outputs": [],
      "source": [
        "# train on full sequences\n",
        "# test on subsequences\n",
        "# X_train, _, y_train, _, _ = make_datasets(df, group_by, feats, outcome, sequences = True, samples = 0, test_size = 0.2, oversample = True)\n",
        "# _, X_test, _, y_test, _ = make_datasets(df, group_by, feats, outcome, sequences = True, samples = 5, test_size = 0.2, oversample = True)\n",
        "# data = [X_train, tf.keras.utils.pad_sequences(X_test, dtype=\"float\", padding=\"pre\", value = -99, maxlen = 193), X_test, y_train, y_test, \"sensitivity\"]\n",
        "# model_lstm(data, 128, 50, 0.1)"
      ]
    },
    {
      "cell_type": "markdown",
      "metadata": {
        "id": "7_EiKFYE9qgi"
      },
      "source": [
        "### Transformer"
      ]
    },
    {
      "cell_type": "code",
      "execution_count": null,
      "metadata": {
        "id": "YRjBrCEW-8VU"
      },
      "outputs": [],
      "source": [
        "# def transformer_encoder(inputs, head_size, num_heads, ff_dim, dropout=0):\n",
        "#     # Normalization and Attention\n",
        "#     x = tf.keras.layers.LayerNormalization(epsilon=1e-6)(inputs)\n",
        "#     x = tf.keras.layers.MultiHeadAttention(key_dim=head_size, num_heads=num_heads, dropout=dropout)(x, x)\n",
        "#     x = tf.keras.layers.Dropout(dropout)(x)\n",
        "#     res = x + inputs\n",
        "\n",
        "#     # Feed Forward Part\n",
        "#     x = tf.keras.layers.LayerNormalization(epsilon=1e-6)(res)\n",
        "#     x = tf.keras.layers.Conv1D(filters=ff_dim, kernel_size=1, activation=\"relu\")(x)\n",
        "#     x = tf.keras.layers.Dropout(dropout)(x)\n",
        "#     x = tf.keras.layers.Conv1D(filters=inputs.shape[-1], kernel_size=1)(x)\n",
        "#     return x + res"
      ]
    },
    {
      "cell_type": "code",
      "execution_count": null,
      "metadata": {
        "id": "PUmqUehS5g_z"
      },
      "outputs": [],
      "source": [
        "# def build_model(\n",
        "#     input_shape,\n",
        "#     head_size,\n",
        "#     num_heads,\n",
        "#     ff_dim,\n",
        "#     num_transformer_blocks,\n",
        "#     mlp_units,\n",
        "#     lstm_units,\n",
        "#     dropout=0,\n",
        "#     mlp_dropout=0,\n",
        "# ):\n",
        "#     inputs = tf.keras.Input(shape=input_shape)\n",
        "#     x = inputs\n",
        "#     x = tf.keras.layers.Masking(mask_value=-99.,input_shape= input_shape)(x)\n",
        "#     x = tf.keras.layers.LSTM(lstm_units, input_shape = input_shape, return_sequences=True)(x)\n",
        "\n",
        "#     for _ in range(num_transformer_blocks):\n",
        "#         x = transformer_encoder(x, head_size, num_heads, ff_dim, dropout)\n",
        "\n",
        "#     x = tf.keras.layers.GlobalAveragePooling1D(data_format=\"channels_last\")(x)\n",
        "#     x = tf.keras.layers.Dropout(0.1)(x)\n",
        "    \n",
        "#     for dim in mlp_units:\n",
        "#         x = tf.keras.layers.Dense(dim, activation=\"relu\")(x)\n",
        "#         x = tf.keras.layers.Dropout(mlp_dropout)(x)\n",
        "    \n",
        "#     outputs = tf.keras.layers.Dense(y.shape[1], activation=\"sigmoid\")(x)\n",
        "#     return tf.keras.Model(inputs, outputs)"
      ]
    },
    {
      "cell_type": "code",
      "execution_count": null,
      "metadata": {
        "id": "QlRH9juZ5g_0"
      },
      "outputs": [],
      "source": [
        "# outcomes = [\"pff_sack\", \"havoc\"]\n",
        "# datasets = {}\n",
        "# for o in outcomes:\n",
        "#     group_by = [\"game_id\", \"play_id\", \"nfl_id\"]\n",
        "#     outcome = [o]\n",
        "#     feats = [x for x in list(df.columns) if x not in group_by + outcomes]\n",
        "\n",
        "#     X, y = make_features(df, group_by, feats, outcome)\n",
        "\n",
        "#     X_train, X_test, y_train, y_test = train_test_split(X, y, test_size = 0.2, random_state = seed)\n",
        "\n",
        "#     weight_0 = (1 / sum(y_train == [0])) * (len(y_train) / 2.0)\n",
        "#     weight_1 = (1 / sum(y_train == [1])) * (len(y_train) / 2.0)\n",
        "#     class_weight = {0: weight_0, 1: weight_1}\n",
        "\n",
        "#     num_epochs = 1\n",
        "#     val = 0.2 \n",
        "\n",
        "#     datasets[o] = {\"X_train\": X_train, \"X_test\": X_test,\n",
        "#     \"y_train\": y_train, \"y_test\": y_test, \"class_weight\": class_weight,\n",
        "#     \"num_epochs\": num_epochs, \"val\": val}"
      ]
    },
    {
      "cell_type": "code",
      "execution_count": null,
      "metadata": {
        "id": "oPMZSoN05g_0"
      },
      "outputs": [],
      "source": [
        "# for k, v in datasets.items():\n",
        "#     input_shape = v[\"X_train\"].shape[1:]\n",
        "\n",
        "#     model = build_model(\n",
        "#         input_shape,\n",
        "#         head_size=128,\n",
        "#         num_heads=4,\n",
        "#         ff_dim=4,\n",
        "#         num_transformer_blocks=1,\n",
        "#         mlp_units=[128],\n",
        "#         mlp_dropout=0.2,\n",
        "#         dropout=0.25,\n",
        "#         lstm_units=32\n",
        "#     )\n",
        "\n",
        "#     model.compile(\n",
        "#         loss=\"binary_crossentropy\",\n",
        "#         optimizer=\"adam\",\n",
        "#         #optimizer=keras.optimizers.Adam(learning_rate=1e-4),\n",
        "#         metrics = [tf.keras.metrics.AUC()]\n",
        "#     )\n",
        "#     #model.summary()\n",
        "\n",
        "#     callbacks = [tf.keras.callbacks.EarlyStopping(min_delta=0.01, patience=3, restore_best_weights=True)]\n",
        "\n",
        "#     model.fit(\n",
        "#         v[\"X_train\"],\n",
        "#         v[\"y_train\"],\n",
        "#         validation_split=v[\"val\"],\n",
        "#         epochs=v[\"num_epochs\"],\n",
        "#         #batch_size=64,\n",
        "#         callbacks=callbacks,\n",
        "#         class_weight = v[\"class_weight\"]\n",
        "#     )\n",
        "\n",
        "#     model.evaluate(v[\"X_test\"], v[\"y_test\"], verbose=1)"
      ]
    },
    {
      "cell_type": "code",
      "execution_count": null,
      "metadata": {
        "id": "-4bi64w85g_0"
      },
      "outputs": [],
      "source": []
    }
  ],
  "metadata": {
    "colab": {
      "provenance": []
    },
    "kernelspec": {
      "display_name": "Python 3",
      "language": "python",
      "name": "python3"
    },
    "language_info": {
      "codemirror_mode": {
        "name": "ipython",
        "version": 3
      },
      "file_extension": ".py",
      "mimetype": "text/x-python",
      "name": "python",
      "nbconvert_exporter": "python",
      "pygments_lexer": "ipython3",
      "version": "3.10.8"
    },
    "vscode": {
      "interpreter": {
        "hash": "b9a60180a99fe344aad77925bd6d1e82a30f5f9b471f9484bc8285d8d7befe73"
      }
    }
  },
  "nbformat": 4,
  "nbformat_minor": 0
}