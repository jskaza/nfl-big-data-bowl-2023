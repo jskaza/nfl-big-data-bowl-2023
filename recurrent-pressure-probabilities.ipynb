{
 "cells": [
  {
   "cell_type": "markdown",
   "id": "339297ae",
   "metadata": {
    "papermill": {
     "duration": 0.003995,
     "end_time": "2023-01-10T01:03:00.307234",
     "exception": false,
     "start_time": "2023-01-10T01:03:00.303239",
     "status": "completed"
    },
    "tags": []
   },
   "source": [
    "# **Re**current **P**ressure **P**robabilities (RePP) to Predict Pass Rusher Impact as Plays Develop\n",
    "\n",
    "**Jon Skaza & Matt Guthrie**\n",
    "\n",
    "*Metric Track*"
   ]
  },
  {
   "cell_type": "markdown",
   "id": "72eac4e5",
   "metadata": {
    "papermill": {
     "duration": 0.002763,
     "end_time": "2023-01-10T01:03:00.312917",
     "exception": false,
     "start_time": "2023-01-10T01:03:00.310154",
     "status": "completed"
    },
    "tags": []
   },
   "source": [
    "> A quarterback has never completed a pass when he was flat on his back…Great pass coverage is a direct result of a great pass rush, and a great pass rush is simply a relentless desire to get to the QB      \n",
    "\n",
    "<b>\\- Buddy Ryan<sup>1</sup></b>"
   ]
  },
  {
   "cell_type": "markdown",
   "id": "611974de",
   "metadata": {
    "papermill": {
     "duration": 0.002599,
     "end_time": "2023-01-10T01:03:00.318236",
     "exception": false,
     "start_time": "2023-01-10T01:03:00.315637",
     "status": "completed"
    },
    "tags": []
   },
   "source": [
    "# Introduction\n",
    "\n",
    "Aside from Quarterbacks (QB), elite pass rushers–Defensive Ends (DE), Outside Linebackers (OLB), or, simply, Edge Rushers (EDGE)—are arguably the most coveted talents in the NFL. In fact, in each of the last 9 NFL Drafts, the #1 overall pick has either been a QB (6) or a DE (3). If we instead consider the top 2 overall picks during the same timespan, the breakdown is QB (10) DE (6), LT (1), and RB (1)$.^2$ Simply put, NFL teams place a large amount of stock in finding and evaluating pass rush talent.\n",
    "\n",
    "In this project, we introduce an analytical framework, which we coin *Recurrent Pressure Probabilities (RePP)* that we hope can provide more depth to the often-cited count statistics *Sacks (SK)*, *QB Knockdowns (QBKD)*, *QB Hurries (HRRY)*, or when considered jointly, *Pressures (PRSS)*. Specifically, we aim to provide two novel contributions through our approach:\n",
    "\n",
    "1. \"Near real-time” probabilities of getting a *PRSS* for each rusher throughout the course of a play\n",
    "\n",
    "2. Identifying large “probability accelerating moments”—moments during a player’s pass rush that led to a significant increase in the probability of obtaining a *PRSS*"
   ]
  },
  {
   "cell_type": "markdown",
   "id": "7eaf5373",
   "metadata": {
    "id": "cGT8uZEelE-s",
    "papermill": {
     "duration": 0.002596,
     "end_time": "2023-01-10T01:03:00.323495",
     "exception": false,
     "start_time": "2023-01-10T01:03:00.320899",
     "status": "completed"
    },
    "tags": []
   },
   "source": [
    "# Methods\n",
    "\n",
    "Our motivating factor was to leverage the inherently sequential nature of the *Next Gen Stats* player tracking data to learn behaviors with predictive power with respect to *PRSS*$.^3$ We present a long short-term memory (LSTM) artificial neural network (ANN) designed to process and learn from sequences of data via feedback connections${.^4}$ To illustrate the power of leveraging the sequences, we compare the sequential approach to a “naive” logistic regression model that does not account for temporal relations in the data.\n",
    "\n",
    "### Data\n",
    "\n",
    "Using the player tracking data, *Pro Football Focus* scouting data, and general NFL game information, we create a feature matrix, $X$, with dimensionality $R \\times T \\times P$, where $R$ represents the number of pass rushes in the dataset at the *player-level*, $T$ represents the number of frames observed in the longest play in the data, and $P$ corresponds to the number of predictors$.^5$ Some predictors vary frame-to-frame (e.g., the pass rusher's $x$ and $y$), while others remain constant throughout the course of the play (e.g., $Quarter$). The outcome, $y$, is a boolean vector indicating a *PRSS* on the pass rush for player $i$ on passing play $s$ in game $g$.\n",
    "\n",
    "$$\n",
    "y = \n",
    "\\begin{bmatrix}\n",
    "y_{1,1,1} \\\\\n",
    "y_{1,1,2} \\\\\n",
    "y_{g,s,i} \\\\\n",
    "\\vdots\n",
    "\\end{bmatrix}\n",
    "\\quad\n",
    "X = \n",
    "\\begin{bmatrix}\n",
    "\\begin{bmatrix}\n",
    "x_{1,1,1} & ... & x_{1,1,P} \\\\\n",
    "& \\vdots & \\\\\n",
    "x_{1,T,1} & ... & x_{1,T,P} \\\\\n",
    "\\end{bmatrix} \\\\\n",
    "\\vdots\\\\\n",
    "\\begin{bmatrix}\n",
    "x_{R,1,1} & ... & x_{R,1,P} \\\\\n",
    "& \\vdots & \\\\\n",
    "x_{R,T,1} & ... & x_{R,T,P} \\\\\n",
    "\\end{bmatrix} \\\\\n",
    "\\end{bmatrix}\n",
    "$$\n",
    "\n",
    "Further, we implement two sampling methods on $X$ and $y$. First, we oversample cases of $PRSS = 1$ to create a balanced dataset. Second, we augment the dataset with random sub-sequences from each play. This reflects both objectives described in the introduction; to provide probabilities of a play's outcome at different stages of a play, we want the model to observe partial plays during training.\n",
    "\n",
    "The table below summarizes the *frame-level* features included for each unique individual pass rush.\n",
    "\n",
    "Feature Category|Features|\n",
    "--------|-----------\n",
    "Coordinates | Pass Rusher, LT, LG, C, RG, RT, QB, Ball\n",
    "Situational | Quarter, Down, Yards to Go, Absolute Yard Line, Score Difference\n",
    "Speed | Pass Rusher, QB \n",
    "Derived | Pass Rusher Dist from QB, QB in Tackle Box, # Blockers \n",
    "\n",
    "\n",
    "### \"Naive\" Logistic Regression Classifier\n",
    "\n",
    "As mentioned above, we train a logistic regression as a baseline comparison model that does not account for temporality. We thus remove a dimension from $X$. $X_{logistic}$ becomes $R \\times (T*P)$. Furthermore, the $y$ vector becomes length $T*R$.\n",
    "\n",
    "### LSTM Classifier\n",
    "\n",
    "In the ANN, we used a masking layer followed by a long short-term memory (LSTM) layer and a dense sigmoid output layer. The masking layer was included to handle missing data, namely time steps in plays containing a frame count $< T$. The input shape for the model was $T \\times P$, where $T$ is the number of time steps and $P$ is the number of features. The LSTM layer had 64 units. The model was compiled using the binary cross-entropy loss function and the Adam optimizer.\n",
    "\n",
    "To improve the generalizability of our model, we used early stopping with a patience of 5 epochs and a minimum delta of 0.005 on the validation AUC. If the validation AUC did not improve by at least 0.005 after 5 epochs, training was stopped and the best weights were restored. The model was trained for a maximum of 150 epochs on the input data $X$ and labels $y$, with a validation split of 0.1.\n",
    "\n",
    "The masking layer is used to mask values from time steps in plays with a frame count $< T$.\n",
    "\n",
    "As mentioned, the LSTM layer is useful for processing sequential data, as it is able to retain information about past events and use it to inform processing of subsequent events. The LSTM layer in our model has 64 units and an input shape of $T \\times P$.\n",
    "\n",
    "The final layer is a dense, fully-connected layer with 1 unit and a sigmoid activation function. The sigmoid activation function maps the output to a value between 0 and 1, which can be interpreted as a probability.\n",
    "\n",
    "The model was trained on 80% of the dataset using the Adam optimization algorithm. The remaining 20% was used as a holdout set.\n",
    "\n",
    "![model_diagram.png](https://github.com/jskaza/nfl-big-data-bowl-2023/blob/master/images/model_diagram.png?raw=true)"
   ]
  },
  {
   "cell_type": "markdown",
   "id": "45070243",
   "metadata": {
    "papermill": {
     "duration": 0.002549,
     "end_time": "2023-01-10T01:03:00.328714",
     "exception": false,
     "start_time": "2023-01-10T01:03:00.326165",
     "status": "completed"
    },
    "tags": []
   },
   "source": [
    "# Results\n",
    "\n",
    "As expected, the LSTM classifier, which is able to learn from intra-play sequences of player and ball movement, considerably outperforms the \"naive\" logistic regression model. We can see this by comparing ROC curves and their corresponding AUCs.\n",
    "\n",
    "\n",
    "![roc.png](https://github.com/jskaza/nfl-big-data-bowl-2023/blob/master/images/roc.png?raw=true)"
   ]
  },
  {
   "cell_type": "markdown",
   "id": "1b2ff131",
   "metadata": {
    "id": "OAFcQm9omMVs",
    "papermill": {
     "duration": 0.002523,
     "end_time": "2023-01-10T01:03:00.333950",
     "exception": false,
     "start_time": "2023-01-10T01:03:00.331427",
     "status": "completed"
    },
    "tags": []
   },
   "source": [
    "# Example Usage\n",
    "\n",
    "We can use the trained LSTM network to output and visualize the pressure probabilities, which we refer to as *RePP*, on select plays. Here, we hand-select two T.J. Watt sacks from his historic 2021 season.\n",
    "\n",
    "The first sack comes in OT against the Seahawks, a game in which the Steelers won 23-20. On this particular pass rush, we see nothing too fancy from Watt. He simply beats the RT with speed. Accordingly, we see no sudden jumps in probability of getting a QB pressure. Instead, the curve rises steadily as he runs by the blocker and homes in on the QB.\n",
    "\n"
   ]
  },
  {
   "cell_type": "markdown",
   "id": "4d1d48d9",
   "metadata": {
    "papermill": {
     "duration": 0.00255,
     "end_time": "2023-01-10T01:03:00.339123",
     "exception": false,
     "start_time": "2023-01-10T01:03:00.336573",
     "status": "completed"
    },
    "tags": []
   },
   "source": [
    "![watt_sack_4396_w_overlay.gif](https://github.com/jskaza/nfl-big-data-bowl-2023/blob/master/images/watt_sack_4396_w_overlay.gif?raw=true)\n",
    "\n",
    "![rush_4396.gif](https://github.com/jskaza/nfl-big-data-bowl-2023/blob/master/images/rush_4396.gif?raw=true)"
   ]
  },
  {
   "cell_type": "markdown",
   "id": "a6f33955",
   "metadata": {
    "papermill": {
     "duration": 0.0026,
     "end_time": "2023-01-10T01:03:00.344325",
     "exception": false,
     "start_time": "2023-01-10T01:03:00.341725",
     "status": "completed"
    },
    "tags": []
   },
   "source": [
    "\n",
    "\n"
   ]
  },
  {
   "cell_type": "markdown",
   "id": "3ca568c7",
   "metadata": {
    "papermill": {
     "duration": 0.002668,
     "end_time": "2023-01-10T01:03:00.349688",
     "exception": false,
     "start_time": "2023-01-10T01:03:00.347020",
     "status": "completed"
    },
    "tags": []
   },
   "source": [
    "The second example is a bit more interesting. It is another sack, this time against the Browns. Watt employs a slick spin move to evade the RT. Prior to the move, the model suggests relatively low pressure probability. Up until that point, we see a RT doing his job, standing in between Watt and the QB. Since QB pressures don't happen terribly often and the play protection looks typical, we assign low probabilities. Then, Watt completes his spin move, creating a direct line to the QB. This is what we would consider a \"probability accelerating moment\", i.e., a large jump in pressure probability in a small amount of time."
   ]
  },
  {
   "cell_type": "markdown",
   "id": "110fcb4d",
   "metadata": {
    "papermill": {
     "duration": 0.002531,
     "end_time": "2023-01-10T01:03:00.354869",
     "exception": false,
     "start_time": "2023-01-10T01:03:00.352338",
     "status": "completed"
    },
    "tags": []
   },
   "source": [
    "![watt_sack_1984_w_overlay.gif](https://github.com/jskaza/nfl-big-data-bowl-2023/blob/master/images/watt_sack_1984_w_overlay.gif?raw=true)\n",
    "\n",
    "![rush_1984.gif](https://github.com/jskaza/nfl-big-data-bowl-2023/blob/master/images/rush_1984.gif?raw=true)"
   ]
  },
  {
   "cell_type": "markdown",
   "id": "d51ba0a0",
   "metadata": {
    "id": "xZq9sWjMqOxl",
    "papermill": {
     "duration": 0.002576,
     "end_time": "2023-01-10T01:03:00.360067",
     "exception": false,
     "start_time": "2023-01-10T01:03:00.357491",
     "status": "completed"
    },
    "tags": []
   },
   "source": [
    "# Discussion\n",
    "\n",
    "As demonstrated throughout, we see practical usage for the *RePP* framework. The two use cases that we proposed are predicting pressures in \"near real-time\" and discovering \"probability accelerating moments\". One could imagine watching a broadcast that has a slow-motion replay of a sack with pressure probability overlayed on top of each frame. Teams could leverage the framework to identify pass rushers with sneaky moves, as identified via large jumps in the probability function, that contribute to high *PRSS* rates. We believe that more work could be done to strategically identify such moves using the framework. We imagine it would be useful to analyze rates of change in the recurrent probability sequences. There could be other use cases for this framework, whether for different pass rush outcomes or even other aspects of the game.\n",
    "\n",
    "We believe that there are several other directions that could be taken to improve upon the *RePP* framework. For one, as with many highly parameterized ANNs, there is room for additional tuning. There may be gains in model performance from this alone. Something else that could be interesting would be incorporating credibility ranges into the model's predictions. Another avenue would be to learn player-specific behaviors. The model presented is designed to learn league-wide pass rush behavior. However, each player has his own pass rush tendencies. The LSTM framework can be extended to accommodate this${.^6}$ Finally, one could adapt the idea of predicting play outcomes to different model architectures designed to learn from sequential data, such as Transformers or Google's Temporal Fusion Transformers (TFT)$.^{7,8}$\n"
   ]
  },
  {
   "cell_type": "markdown",
   "id": "3f2cba77",
   "metadata": {
    "id": "eo0bUeHRe7nv",
    "papermill": {
     "duration": 0.002595,
     "end_time": "2023-01-10T01:03:00.365341",
     "exception": false,
     "start_time": "2023-01-10T01:03:00.362746",
     "status": "completed"
    },
    "tags": []
   },
   "source": [
    "## Appendix\n",
    "\n",
    "[1] https://profootballtalk.nbcsports.com/2016/06/29/buddy-ryans-philosophy-quarterbacks-must-be-punished/\n",
    "\n",
    "[2] https://www.pro-football-reference.com/draft/\n",
    "\n",
    "[3] https://nextgenstats.nfl.com/\n",
    "\n",
    "[4] https://direct.mit.edu/neco/article-abstract/9/8/1735/6109/Long-Short-Term-Memory?redirectedFrom=fulltext\n",
    "\n",
    "[5] https://www.pff.com/\n",
    "\n",
    "[6] https://arxiv.org/abs/2008.07870\n",
    "\n",
    "[7] https://arxiv.org/abs/1706.03762\n",
    "\n",
    "[8] https://www.sciencedirect.com/science/article/pii/S0169207021000637\n",
    "\n",
    "\n",
    "\n",
    "**Code is available on [GitHub](https://github.com/jskaza/nfl-big-data-bowl-2023)**"
   ]
  }
 ],
 "metadata": {
  "kernelspec": {
   "display_name": "R",
   "language": "R",
   "name": "ir"
  },
  "language_info": {
   "codemirror_mode": "r",
   "file_extension": ".r",
   "mimetype": "text/x-r-source",
   "name": "R",
   "pygments_lexer": "r",
   "version": "4.0.5"
  },
  "papermill": {
   "default_parameters": {},
   "duration": 4.430782,
   "end_time": "2023-01-10T01:03:00.490397",
   "environment_variables": {},
   "exception": null,
   "input_path": "__notebook__.ipynb",
   "output_path": "__notebook__.ipynb",
   "parameters": {},
   "start_time": "2023-01-10T01:02:56.059615",
   "version": "2.4.0"
  }
 },
 "nbformat": 4,
 "nbformat_minor": 5
}
